{
 "cells": [
  {
   "cell_type": "markdown",
   "id": "10e417b3-b5a7-4109-b12c-ff5d2e2e4fbf",
   "metadata": {},
   "source": [
    "<h1 style=\"font-size:2em\">Projet 6 - Classifiez automatiquement des biens de consommation</h1>\n"
   ]
  },
  {
   "cell_type": "markdown",
   "id": "bf05c0b9-4937-49f2-a250-5741ea167d87",
   "metadata": {
    "tags": []
   },
   "source": [
    "# Objectifs"
   ]
  },
  {
   "cell_type": "markdown",
   "id": "72d47b8d-054b-4be8-ae18-305d012d7511",
   "metadata": {
    "tags": []
   },
   "source": [
    "# Imports et configs"
   ]
  },
  {
   "cell_type": "code",
   "execution_count": 1,
   "id": "f8d75f5a-3768-4b2f-a0af-18724dc44707",
   "metadata": {},
   "outputs": [],
   "source": [
    "import pandas as pd \n",
    "pd.set_option('display.max_columns', None)"
   ]
  },
  {
   "cell_type": "code",
   "execution_count": 2,
   "id": "cd0626fd-e945-48e9-915d-965a6d273748",
   "metadata": {},
   "outputs": [],
   "source": [
    "df = pd.read_csv('df_t.csv')"
   ]
  },
  {
   "cell_type": "code",
   "execution_count": 3,
   "id": "a00cbdc1-71aa-4c64-a6da-5da682e9a624",
   "metadata": {},
   "outputs": [
    {
     "data": {
      "text/html": [
       "<div>\n",
       "<style scoped>\n",
       "    .dataframe tbody tr th:only-of-type {\n",
       "        vertical-align: middle;\n",
       "    }\n",
       "\n",
       "    .dataframe tbody tr th {\n",
       "        vertical-align: top;\n",
       "    }\n",
       "\n",
       "    .dataframe thead th {\n",
       "        text-align: right;\n",
       "    }\n",
       "</style>\n",
       "<table border=\"1\" class=\"dataframe\">\n",
       "  <thead>\n",
       "    <tr style=\"text-align: right;\">\n",
       "      <th></th>\n",
       "      <th>uniq_id</th>\n",
       "      <th>crawl_timestamp</th>\n",
       "      <th>product_url</th>\n",
       "      <th>product_name</th>\n",
       "      <th>product_category_tree</th>\n",
       "      <th>pid</th>\n",
       "      <th>retail_price</th>\n",
       "      <th>discounted_price</th>\n",
       "      <th>image</th>\n",
       "      <th>is_FK_Advantage_product</th>\n",
       "      <th>description</th>\n",
       "      <th>product_rating</th>\n",
       "      <th>overall_rating</th>\n",
       "      <th>brand</th>\n",
       "      <th>product_specifications</th>\n",
       "      <th>category</th>\n",
       "      <th>_lon_desc</th>\n",
       "      <th>cleaned_description</th>\n",
       "      <th>stop_removed_description</th>\n",
       "      <th>tokenized</th>\n",
       "      <th>lemmatized</th>\n",
       "      <th>lemmatize_joined</th>\n",
       "      <th>Nombre de mots après nettoyage</th>\n",
       "    </tr>\n",
       "  </thead>\n",
       "  <tbody>\n",
       "    <tr>\n",
       "      <th>0</th>\n",
       "      <td>55b85ea15a1536d46b7190ad6fff8ce7</td>\n",
       "      <td>2016-04-30 03:22:56 +0000</td>\n",
       "      <td>http://www.flipkart.com/elegance-polyester-mul...</td>\n",
       "      <td>Elegance Polyester Multicolor Abstract Eyelet ...</td>\n",
       "      <td>[\"Home Furnishing &gt;&gt; Curtains &amp; Accessories &gt;&gt;...</td>\n",
       "      <td>CRNEG7BKMFFYHQ8Z</td>\n",
       "      <td>1899.0</td>\n",
       "      <td>899.0</td>\n",
       "      <td>55b85ea15a1536d46b7190ad6fff8ce7.jpg</td>\n",
       "      <td>False</td>\n",
       "      <td>Key Features of Elegance Polyester Multicolor ...</td>\n",
       "      <td>No rating available</td>\n",
       "      <td>No rating available</td>\n",
       "      <td>Elegance</td>\n",
       "      <td>{\"product_specification\"=&gt;[{\"key\"=&gt;\"Brand\", \"v...</td>\n",
       "      <td>Home Furnishing</td>\n",
       "      <td>1420</td>\n",
       "      <td>features elegance polyester multicolor abstrac...</td>\n",
       "      <td>features elegance polyester multicolor abstrac...</td>\n",
       "      <td>['features', 'elegance', 'polyester', 'multico...</td>\n",
       "      <td>['feature', 'elegance', 'polyester', 'multicol...</td>\n",
       "      <td>feature elegance polyester multicolor abstract...</td>\n",
       "      <td>141</td>\n",
       "    </tr>\n",
       "    <tr>\n",
       "      <th>1</th>\n",
       "      <td>7b72c92c2f6c40268628ec5f14c6d590</td>\n",
       "      <td>2016-04-30 03:22:56 +0000</td>\n",
       "      <td>http://www.flipkart.com/sathiyas-cotton-bath-t...</td>\n",
       "      <td>Sathiyas Cotton Bath Towel</td>\n",
       "      <td>[\"Baby Care &gt;&gt; Baby Bath &amp; Skin &gt;&gt; Baby Bath T...</td>\n",
       "      <td>BTWEGFZHGBXPHZUH</td>\n",
       "      <td>600.0</td>\n",
       "      <td>449.0</td>\n",
       "      <td>7b72c92c2f6c40268628ec5f14c6d590.jpg</td>\n",
       "      <td>False</td>\n",
       "      <td>Specifications of Sathiyas Cotton Bath Towel (...</td>\n",
       "      <td>No rating available</td>\n",
       "      <td>No rating available</td>\n",
       "      <td>Sathiyas</td>\n",
       "      <td>{\"product_specification\"=&gt;[{\"key\"=&gt;\"Machine Wa...</td>\n",
       "      <td>Baby Care</td>\n",
       "      <td>444</td>\n",
       "      <td>specifications sathiyas cotton bath towel bath...</td>\n",
       "      <td>specifications sathiyas cotton bath towel bath...</td>\n",
       "      <td>['specifications', 'sathiyas', 'cotton', 'bath...</td>\n",
       "      <td>['specifications', 'sathiyas', 'cotton', 'bath...</td>\n",
       "      <td>specifications sathiyas cotton bath towel bath...</td>\n",
       "      <td>55</td>\n",
       "    </tr>\n",
       "    <tr>\n",
       "      <th>2</th>\n",
       "      <td>64d5d4a258243731dc7bbb1eef49ad74</td>\n",
       "      <td>2016-04-30 03:22:56 +0000</td>\n",
       "      <td>http://www.flipkart.com/eurospa-cotton-terry-f...</td>\n",
       "      <td>Eurospa Cotton Terry Face Towel Set</td>\n",
       "      <td>[\"Baby Care &gt;&gt; Baby Bath &amp; Skin &gt;&gt; Baby Bath T...</td>\n",
       "      <td>BTWEG6SHXTDB2A2Y</td>\n",
       "      <td>NaN</td>\n",
       "      <td>NaN</td>\n",
       "      <td>64d5d4a258243731dc7bbb1eef49ad74.jpg</td>\n",
       "      <td>False</td>\n",
       "      <td>Key Features of Eurospa Cotton Terry Face Towe...</td>\n",
       "      <td>No rating available</td>\n",
       "      <td>No rating available</td>\n",
       "      <td>Eurospa</td>\n",
       "      <td>{\"product_specification\"=&gt;[{\"key\"=&gt;\"Material\",...</td>\n",
       "      <td>Baby Care</td>\n",
       "      <td>1258</td>\n",
       "      <td>features eurospa cotton terry face towel size ...</td>\n",
       "      <td>features eurospa cotton terry face towel size ...</td>\n",
       "      <td>['features', 'eurospa', 'cotton', 'terry', 'fa...</td>\n",
       "      <td>['feature', 'eurospa', 'cotton', 'terry', 'fac...</td>\n",
       "      <td>feature eurospa cotton terry face towel size s...</td>\n",
       "      <td>131</td>\n",
       "    </tr>\n",
       "    <tr>\n",
       "      <th>3</th>\n",
       "      <td>d4684dcdc759dd9cdf41504698d737d8</td>\n",
       "      <td>2016-06-20 08:49:52 +0000</td>\n",
       "      <td>http://www.flipkart.com/santosh-royal-fashion-...</td>\n",
       "      <td>SANTOSH ROYAL FASHION Cotton Printed King size...</td>\n",
       "      <td>[\"Home Furnishing &gt;&gt; Bed Linen &gt;&gt; Bedsheets &gt;&gt;...</td>\n",
       "      <td>BDSEJT9UQWHDUBH4</td>\n",
       "      <td>2699.0</td>\n",
       "      <td>1299.0</td>\n",
       "      <td>d4684dcdc759dd9cdf41504698d737d8.jpg</td>\n",
       "      <td>False</td>\n",
       "      <td>Key Features of SANTOSH ROYAL FASHION Cotton P...</td>\n",
       "      <td>No rating available</td>\n",
       "      <td>No rating available</td>\n",
       "      <td>SANTOSH ROYAL FASHION</td>\n",
       "      <td>{\"product_specification\"=&gt;[{\"key\"=&gt;\"Brand\", \"v...</td>\n",
       "      <td>Home Furnishing</td>\n",
       "      <td>858</td>\n",
       "      <td>features santosh royal fashion cotton printed ...</td>\n",
       "      <td>features santosh royal fashion cotton printed ...</td>\n",
       "      <td>['features', 'santosh', 'royal', 'fashion', 'c...</td>\n",
       "      <td>['feature', 'santosh', 'royal', 'fashion', 'co...</td>\n",
       "      <td>feature santosh royal fashion cotton print kin...</td>\n",
       "      <td>102</td>\n",
       "    </tr>\n",
       "    <tr>\n",
       "      <th>4</th>\n",
       "      <td>6325b6870c54cd47be6ebfbffa620ec7</td>\n",
       "      <td>2016-06-20 08:49:52 +0000</td>\n",
       "      <td>http://www.flipkart.com/jaipur-print-cotton-fl...</td>\n",
       "      <td>Jaipur Print Cotton Floral King sized Double B...</td>\n",
       "      <td>[\"Home Furnishing &gt;&gt; Bed Linen &gt;&gt; Bedsheets &gt;&gt;...</td>\n",
       "      <td>BDSEJTHNGWVGWWQU</td>\n",
       "      <td>2599.0</td>\n",
       "      <td>698.0</td>\n",
       "      <td>6325b6870c54cd47be6ebfbffa620ec7.jpg</td>\n",
       "      <td>False</td>\n",
       "      <td>Key Features of Jaipur Print Cotton Floral Kin...</td>\n",
       "      <td>No rating available</td>\n",
       "      <td>No rating available</td>\n",
       "      <td>Jaipur Print</td>\n",
       "      <td>{\"product_specification\"=&gt;[{\"key\"=&gt;\"Machine Wa...</td>\n",
       "      <td>Home Furnishing</td>\n",
       "      <td>1197</td>\n",
       "      <td>features jaipur print cotton floral king sized...</td>\n",
       "      <td>features jaipur print cotton floral king sized...</td>\n",
       "      <td>['features', 'jaipur', 'print', 'cotton', 'flo...</td>\n",
       "      <td>['feature', 'jaipur', 'print', 'cotton', 'flor...</td>\n",
       "      <td>feature jaipur print cotton floral king size d...</td>\n",
       "      <td>134</td>\n",
       "    </tr>\n",
       "  </tbody>\n",
       "</table>\n",
       "</div>"
      ],
      "text/plain": [
       "                            uniq_id            crawl_timestamp  \\\n",
       "0  55b85ea15a1536d46b7190ad6fff8ce7  2016-04-30 03:22:56 +0000   \n",
       "1  7b72c92c2f6c40268628ec5f14c6d590  2016-04-30 03:22:56 +0000   \n",
       "2  64d5d4a258243731dc7bbb1eef49ad74  2016-04-30 03:22:56 +0000   \n",
       "3  d4684dcdc759dd9cdf41504698d737d8  2016-06-20 08:49:52 +0000   \n",
       "4  6325b6870c54cd47be6ebfbffa620ec7  2016-06-20 08:49:52 +0000   \n",
       "\n",
       "                                         product_url  \\\n",
       "0  http://www.flipkart.com/elegance-polyester-mul...   \n",
       "1  http://www.flipkart.com/sathiyas-cotton-bath-t...   \n",
       "2  http://www.flipkart.com/eurospa-cotton-terry-f...   \n",
       "3  http://www.flipkart.com/santosh-royal-fashion-...   \n",
       "4  http://www.flipkart.com/jaipur-print-cotton-fl...   \n",
       "\n",
       "                                        product_name  \\\n",
       "0  Elegance Polyester Multicolor Abstract Eyelet ...   \n",
       "1                         Sathiyas Cotton Bath Towel   \n",
       "2                Eurospa Cotton Terry Face Towel Set   \n",
       "3  SANTOSH ROYAL FASHION Cotton Printed King size...   \n",
       "4  Jaipur Print Cotton Floral King sized Double B...   \n",
       "\n",
       "                               product_category_tree               pid  \\\n",
       "0  [\"Home Furnishing >> Curtains & Accessories >>...  CRNEG7BKMFFYHQ8Z   \n",
       "1  [\"Baby Care >> Baby Bath & Skin >> Baby Bath T...  BTWEGFZHGBXPHZUH   \n",
       "2  [\"Baby Care >> Baby Bath & Skin >> Baby Bath T...  BTWEG6SHXTDB2A2Y   \n",
       "3  [\"Home Furnishing >> Bed Linen >> Bedsheets >>...  BDSEJT9UQWHDUBH4   \n",
       "4  [\"Home Furnishing >> Bed Linen >> Bedsheets >>...  BDSEJTHNGWVGWWQU   \n",
       "\n",
       "   retail_price  discounted_price                                 image  \\\n",
       "0        1899.0             899.0  55b85ea15a1536d46b7190ad6fff8ce7.jpg   \n",
       "1         600.0             449.0  7b72c92c2f6c40268628ec5f14c6d590.jpg   \n",
       "2           NaN               NaN  64d5d4a258243731dc7bbb1eef49ad74.jpg   \n",
       "3        2699.0            1299.0  d4684dcdc759dd9cdf41504698d737d8.jpg   \n",
       "4        2599.0             698.0  6325b6870c54cd47be6ebfbffa620ec7.jpg   \n",
       "\n",
       "   is_FK_Advantage_product                                        description  \\\n",
       "0                    False  Key Features of Elegance Polyester Multicolor ...   \n",
       "1                    False  Specifications of Sathiyas Cotton Bath Towel (...   \n",
       "2                    False  Key Features of Eurospa Cotton Terry Face Towe...   \n",
       "3                    False  Key Features of SANTOSH ROYAL FASHION Cotton P...   \n",
       "4                    False  Key Features of Jaipur Print Cotton Floral Kin...   \n",
       "\n",
       "        product_rating       overall_rating                  brand  \\\n",
       "0  No rating available  No rating available               Elegance   \n",
       "1  No rating available  No rating available               Sathiyas   \n",
       "2  No rating available  No rating available                Eurospa   \n",
       "3  No rating available  No rating available  SANTOSH ROYAL FASHION   \n",
       "4  No rating available  No rating available           Jaipur Print   \n",
       "\n",
       "                              product_specifications         category  \\\n",
       "0  {\"product_specification\"=>[{\"key\"=>\"Brand\", \"v...  Home Furnishing   \n",
       "1  {\"product_specification\"=>[{\"key\"=>\"Machine Wa...        Baby Care   \n",
       "2  {\"product_specification\"=>[{\"key\"=>\"Material\",...        Baby Care   \n",
       "3  {\"product_specification\"=>[{\"key\"=>\"Brand\", \"v...  Home Furnishing   \n",
       "4  {\"product_specification\"=>[{\"key\"=>\"Machine Wa...  Home Furnishing   \n",
       "\n",
       "   _lon_desc                                cleaned_description  \\\n",
       "0       1420  features elegance polyester multicolor abstrac...   \n",
       "1        444  specifications sathiyas cotton bath towel bath...   \n",
       "2       1258  features eurospa cotton terry face towel size ...   \n",
       "3        858  features santosh royal fashion cotton printed ...   \n",
       "4       1197  features jaipur print cotton floral king sized...   \n",
       "\n",
       "                            stop_removed_description  \\\n",
       "0  features elegance polyester multicolor abstrac...   \n",
       "1  specifications sathiyas cotton bath towel bath...   \n",
       "2  features eurospa cotton terry face towel size ...   \n",
       "3  features santosh royal fashion cotton printed ...   \n",
       "4  features jaipur print cotton floral king sized...   \n",
       "\n",
       "                                           tokenized  \\\n",
       "0  ['features', 'elegance', 'polyester', 'multico...   \n",
       "1  ['specifications', 'sathiyas', 'cotton', 'bath...   \n",
       "2  ['features', 'eurospa', 'cotton', 'terry', 'fa...   \n",
       "3  ['features', 'santosh', 'royal', 'fashion', 'c...   \n",
       "4  ['features', 'jaipur', 'print', 'cotton', 'flo...   \n",
       "\n",
       "                                          lemmatized  \\\n",
       "0  ['feature', 'elegance', 'polyester', 'multicol...   \n",
       "1  ['specifications', 'sathiyas', 'cotton', 'bath...   \n",
       "2  ['feature', 'eurospa', 'cotton', 'terry', 'fac...   \n",
       "3  ['feature', 'santosh', 'royal', 'fashion', 'co...   \n",
       "4  ['feature', 'jaipur', 'print', 'cotton', 'flor...   \n",
       "\n",
       "                                    lemmatize_joined  \\\n",
       "0  feature elegance polyester multicolor abstract...   \n",
       "1  specifications sathiyas cotton bath towel bath...   \n",
       "2  feature eurospa cotton terry face towel size s...   \n",
       "3  feature santosh royal fashion cotton print kin...   \n",
       "4  feature jaipur print cotton floral king size d...   \n",
       "\n",
       "   Nombre de mots après nettoyage  \n",
       "0                             141  \n",
       "1                              55  \n",
       "2                             131  \n",
       "3                             102  \n",
       "4                             134  "
      ]
     },
     "execution_count": 3,
     "metadata": {},
     "output_type": "execute_result"
    }
   ],
   "source": [
    "df.head()"
   ]
  },
  {
   "cell_type": "markdown",
   "id": "2d5a938f-978b-4a06-a4bd-e86ca61d7724",
   "metadata": {},
   "source": [
    "# Définir la stratégie d’élaboration d’un modèle d'apprentissage profond, concevoir ou ré-utiliser des modèles pré-entraînés (transfer learning) et entraîner des modèles afin de réaliser une analyse prédictive."
   ]
  },
  {
   "cell_type": "markdown",
   "id": "40b994ad-d92a-4d37-8aa5-170f1110bf64",
   "metadata": {},
   "source": [
    "## CE1 Vous avez défini votre stratégie d’élaboration d’un modèle pour répondre à un besoin métier (par exemple : choix de conception d’un modèle ré-utilisation de modèles pré-entraînés."
   ]
  },
  {
   "cell_type": "markdown",
   "id": "8067662a-0147-44d9-957b-15329d3f88cd",
   "metadata": {},
   "source": [
    "- **Préparation des données:** Séparation des données en ensembles d'entraînement, de validation et de test.\n",
    "    - **Train:** Permet d'entrainer le modèle\n",
    "    - **Validation:** Permet de trouver les bonnes valeurs des hypermaramètres\n",
    "    - **Test:** Permet de vérifier que le modèle est robuste avec de nouvelles données\n",
    "- **Elaboration d'un modèle:** Utilisation d'un modèle pré-entrainé"
   ]
  },
  {
   "cell_type": "markdown",
   "id": "415c690b-4d89-4915-baeb-4be60cc12eb7",
   "metadata": {},
   "source": [
    "## CE2 Vous avez identifié la ou les cibles. "
   ]
  },
  {
   "cell_type": "markdown",
   "id": "13d7c3b7-eb79-4ed4-874f-a2dc3e32b333",
   "metadata": {},
   "source": [
    "Les cibles sont les 7 labels présents dans df['category_lvl_1']"
   ]
  },
  {
   "cell_type": "code",
   "execution_count": 4,
   "id": "113378b9-54eb-420e-ba80-08152cc7a945",
   "metadata": {},
   "outputs": [
    {
     "data": {
      "text/plain": [
       "category\n",
       "Home Furnishing               150\n",
       "Baby Care                     150\n",
       "Watches                       150\n",
       "Home Decor & Festive Needs    150\n",
       "Kitchen & Dining              150\n",
       "Beauty and Personal Care      150\n",
       "Computers                     150\n",
       "Name: count, dtype: int64"
      ]
     },
     "execution_count": 4,
     "metadata": {},
     "output_type": "execute_result"
    }
   ],
   "source": [
    "# Check the distribution of the categories in 'category_lvl_1'\n",
    "category_distribution = df['category'].value_counts()\n",
    "\n",
    "category_distribution"
   ]
  },
  {
   "cell_type": "markdown",
   "id": "c2bbc372-7092-4231-967f-a02544e1bf9f",
   "metadata": {},
   "source": [
    "La distribution des catégories est parfaitement équilibrée, ce qui est idéal pour la formation de modèles d'apprentissage machine."
   ]
  },
  {
   "cell_type": "markdown",
   "id": "8aaf008b-24a1-4f04-a773-ddceea9930a5",
   "metadata": {},
   "source": [
    "### Création de X"
   ]
  },
  {
   "cell_type": "code",
   "execution_count": 5,
   "id": "4255cc19-825a-48df-a71a-3c8c2c8bfb89",
   "metadata": {},
   "outputs": [
    {
     "name": "stdout",
     "output_type": "stream",
     "text": [
      "(1050, 224, 224, 3)\n"
     ]
    }
   ],
   "source": [
    "import os\n",
    "import numpy as np\n",
    "\n",
    "from tensorflow.keras.preprocessing.image import load_img, img_to_array\n",
    "from tensorflow.keras.applications.vgg16 import preprocess_input\n",
    "from tensorflow.keras.utils import to_categorical\n",
    "from PIL import Image\n",
    "\n",
    "# Augmenter la limite par défaut (ici, par exemple, fixée à une valeur très élevée)\n",
    "Image.MAX_IMAGE_PIXELS = None \n",
    "\n",
    "def image_prep_fct(df):\n",
    "    # Définir le chemin d'accès relatif aux images\n",
    "    base_image_path = \"Images\"\n",
    "\n",
    "    prepared_images = []\n",
    "    for image_name in df['image']:\n",
    "        # Construire le chemin complet de l'image\n",
    "        image_path = os.path.join(base_image_path, image_name)\n",
    "\n",
    "        # Charger, traiter et prétraiter l'image\n",
    "        img = load_img(image_path, target_size=(224, 224))\n",
    "        img = img_to_array(img)\n",
    "        img = img.reshape((img.shape[0], img.shape[1], img.shape[2]))\n",
    "        img = preprocess_input(img)\n",
    "        prepared_images.append(img)\n",
    "\n",
    "    prepared_images_np = np.array(prepared_images)\n",
    "    return prepared_images_np\n",
    "    \n",
    "images_np = image_prep_fct(df)\n",
    "X = images_np\n",
    "print(X.shape)"
   ]
  },
  {
   "cell_type": "code",
   "execution_count": 6,
   "id": "d878fecd",
   "metadata": {},
   "outputs": [
    {
     "data": {
      "text/plain": [
       "array([[[[  88.061     ,   87.221     ,   82.32      ],\n",
       "         [  87.061     ,   86.221     ,   81.32      ],\n",
       "         [  89.061     ,   85.221     ,   81.32      ],\n",
       "         ...,\n",
       "         [  53.060997  ,   49.221     ,   51.32      ],\n",
       "         [  54.060997  ,   50.221     ,   52.32      ],\n",
       "         [  53.060997  ,   49.221     ,   51.32      ]],\n",
       "\n",
       "        [[  99.061     ,   91.221     ,   83.32      ],\n",
       "         [  97.061     ,   89.221     ,   83.32      ],\n",
       "         [  98.061     ,   90.221     ,   84.32      ],\n",
       "         ...,\n",
       "         [  56.060997  ,   52.221     ,   54.32      ],\n",
       "         [  54.060997  ,   50.221     ,   52.32      ],\n",
       "         [  55.060997  ,   51.221     ,   53.32      ]],\n",
       "\n",
       "        [[  99.061     ,   90.221     ,   84.32      ],\n",
       "         [ 103.061     ,   92.221     ,   86.32      ],\n",
       "         [ 103.061     ,   92.221     ,   86.32      ],\n",
       "         ...,\n",
       "         [  55.060997  ,   51.221     ,   53.32      ],\n",
       "         [  56.060997  ,   52.221     ,   54.32      ],\n",
       "         [  53.060997  ,   49.221     ,   51.32      ]],\n",
       "\n",
       "        ...,\n",
       "\n",
       "        [[  25.060997  ,   37.221     ,   62.32      ],\n",
       "         [  21.060997  ,   36.221     ,   60.32      ],\n",
       "         [  26.060997  ,   38.221     ,   65.32      ],\n",
       "         ...,\n",
       "         [ -31.939003  ,  -92.779     ,  -51.68      ],\n",
       "         [ -30.939003  ,  -87.779     ,  -47.68      ],\n",
       "         [ -17.939003  ,  -71.779     ,  -40.68      ]],\n",
       "\n",
       "        [[  36.060997  ,   50.221     ,   77.32      ],\n",
       "         [  39.060997  ,   53.221     ,   80.32      ],\n",
       "         [  38.060997  ,   51.221     ,   81.32      ],\n",
       "         ...,\n",
       "         [ -31.939003  ,  -85.779     ,  -54.68      ],\n",
       "         [ -35.939003  ,  -89.779     ,  -58.68      ],\n",
       "         [ -41.939003  ,  -95.779     ,  -64.68      ]],\n",
       "\n",
       "        [[  34.060997  ,   58.221     ,   85.32      ],\n",
       "         [  34.060997  ,   57.221     ,   86.32      ],\n",
       "         [  37.060997  ,   58.221     ,   87.32      ],\n",
       "         ...,\n",
       "         [ -54.939003  , -108.779     ,  -78.68      ],\n",
       "         [ -51.939003  , -105.779     ,  -74.68      ],\n",
       "         [ -33.939003  ,  -87.779     ,  -56.68      ]]],\n",
       "\n",
       "\n",
       "       [[[ 151.061     ,  138.22101   ,  131.32      ],\n",
       "         [ 151.061     ,  138.22101   ,  131.32      ],\n",
       "         [ 151.061     ,  138.22101   ,  131.32      ],\n",
       "         ...,\n",
       "         [ 151.061     ,  138.22101   ,  131.32      ],\n",
       "         [ 151.061     ,  138.22101   ,  131.32      ],\n",
       "         [ 151.061     ,  138.22101   ,  131.32      ]],\n",
       "\n",
       "        [[ 151.061     ,  138.22101   ,  131.32      ],\n",
       "         [ 151.061     ,  138.22101   ,  131.32      ],\n",
       "         [ 151.061     ,  138.22101   ,  131.32      ],\n",
       "         ...,\n",
       "         [ 151.061     ,  138.22101   ,  131.32      ],\n",
       "         [ 151.061     ,  138.22101   ,  131.32      ],\n",
       "         [ 151.061     ,  138.22101   ,  131.32      ]],\n",
       "\n",
       "        [[ 151.061     ,  138.22101   ,  131.32      ],\n",
       "         [ 151.061     ,  138.22101   ,  131.32      ],\n",
       "         [ 151.061     ,  138.22101   ,  131.32      ],\n",
       "         ...,\n",
       "         [ 151.061     ,  138.22101   ,  131.32      ],\n",
       "         [ 151.061     ,  138.22101   ,  131.32      ],\n",
       "         [ 151.061     ,  138.22101   ,  131.32      ]],\n",
       "\n",
       "        ...,\n",
       "\n",
       "        [[ 151.061     ,  138.22101   ,  131.32      ],\n",
       "         [ 151.061     ,  138.22101   ,  131.32      ],\n",
       "         [ 151.061     ,  138.22101   ,  131.32      ],\n",
       "         ...,\n",
       "         [ 151.061     ,  138.22101   ,  131.32      ],\n",
       "         [ 151.061     ,  138.22101   ,  131.32      ],\n",
       "         [ 151.061     ,  138.22101   ,  131.32      ]],\n",
       "\n",
       "        [[ 151.061     ,  138.22101   ,  131.32      ],\n",
       "         [ 151.061     ,  138.22101   ,  131.32      ],\n",
       "         [ 151.061     ,  138.22101   ,  131.32      ],\n",
       "         ...,\n",
       "         [ 151.061     ,  138.22101   ,  131.32      ],\n",
       "         [ 151.061     ,  138.22101   ,  131.32      ],\n",
       "         [ 151.061     ,  138.22101   ,  131.32      ]],\n",
       "\n",
       "        [[ 151.061     ,  138.22101   ,  131.32      ],\n",
       "         [ 151.061     ,  138.22101   ,  131.32      ],\n",
       "         [ 151.061     ,  138.22101   ,  131.32      ],\n",
       "         ...,\n",
       "         [ 151.061     ,  138.22101   ,  131.32      ],\n",
       "         [ 151.061     ,  138.22101   ,  131.32      ],\n",
       "         [ 151.061     ,  138.22101   ,  131.32      ]]],\n",
       "\n",
       "\n",
       "       [[[ 151.061     ,  138.22101   ,  131.32      ],\n",
       "         [ 151.061     ,  138.22101   ,  131.32      ],\n",
       "         [ 151.061     ,  138.22101   ,  131.32      ],\n",
       "         ...,\n",
       "         [ 151.061     ,  138.22101   ,  131.32      ],\n",
       "         [ 151.061     ,  138.22101   ,  131.32      ],\n",
       "         [ 151.061     ,  138.22101   ,  131.32      ]],\n",
       "\n",
       "        [[ 151.061     ,  138.22101   ,  131.32      ],\n",
       "         [ 151.061     ,  138.22101   ,  131.32      ],\n",
       "         [ 151.061     ,  138.22101   ,  131.32      ],\n",
       "         ...,\n",
       "         [ 151.061     ,  138.22101   ,  131.32      ],\n",
       "         [ 151.061     ,  138.22101   ,  131.32      ],\n",
       "         [ 151.061     ,  138.22101   ,  131.32      ]],\n",
       "\n",
       "        [[ 151.061     ,  138.22101   ,  131.32      ],\n",
       "         [ 151.061     ,  138.22101   ,  131.32      ],\n",
       "         [ 151.061     ,  138.22101   ,  131.32      ],\n",
       "         ...,\n",
       "         [ 151.061     ,  138.22101   ,  131.32      ],\n",
       "         [ 151.061     ,  138.22101   ,  131.32      ],\n",
       "         [ 151.061     ,  138.22101   ,  131.32      ]],\n",
       "\n",
       "        ...,\n",
       "\n",
       "        [[ 151.061     ,  138.22101   ,  131.32      ],\n",
       "         [ 151.061     ,  138.22101   ,  131.32      ],\n",
       "         [ 151.061     ,  138.22101   ,  131.32      ],\n",
       "         ...,\n",
       "         [ 151.061     ,  138.22101   ,  131.32      ],\n",
       "         [ 151.061     ,  138.22101   ,  131.32      ],\n",
       "         [ 151.061     ,  138.22101   ,  131.32      ]],\n",
       "\n",
       "        [[ 151.061     ,  138.22101   ,  131.32      ],\n",
       "         [ 151.061     ,  138.22101   ,  131.32      ],\n",
       "         [ 151.061     ,  138.22101   ,  131.32      ],\n",
       "         ...,\n",
       "         [ 151.061     ,  138.22101   ,  131.32      ],\n",
       "         [ 151.061     ,  138.22101   ,  131.32      ],\n",
       "         [ 151.061     ,  138.22101   ,  131.32      ]],\n",
       "\n",
       "        [[ 151.061     ,  138.22101   ,  131.32      ],\n",
       "         [ 151.061     ,  138.22101   ,  131.32      ],\n",
       "         [ 151.061     ,  138.22101   ,  131.32      ],\n",
       "         ...,\n",
       "         [ 151.061     ,  138.22101   ,  131.32      ],\n",
       "         [ 151.061     ,  138.22101   ,  131.32      ],\n",
       "         [ 151.061     ,  138.22101   ,  131.32      ]]],\n",
       "\n",
       "\n",
       "       ...,\n",
       "\n",
       "\n",
       "       [[[ 151.061     ,  138.22101   ,  131.32      ],\n",
       "         [ 151.061     ,  138.22101   ,  131.32      ],\n",
       "         [ 151.061     ,  138.22101   ,  131.32      ],\n",
       "         ...,\n",
       "         [ 151.061     ,  138.22101   ,  131.32      ],\n",
       "         [ 151.061     ,  138.22101   ,  131.32      ],\n",
       "         [ 151.061     ,  138.22101   ,  131.32      ]],\n",
       "\n",
       "        [[ 151.061     ,  138.22101   ,  131.32      ],\n",
       "         [ 151.061     ,  138.22101   ,  131.32      ],\n",
       "         [ 151.061     ,  138.22101   ,  131.32      ],\n",
       "         ...,\n",
       "         [ 151.061     ,  138.22101   ,  131.32      ],\n",
       "         [ 151.061     ,  138.22101   ,  131.32      ],\n",
       "         [ 151.061     ,  138.22101   ,  131.32      ]],\n",
       "\n",
       "        [[ 151.061     ,  138.22101   ,  131.32      ],\n",
       "         [ 151.061     ,  138.22101   ,  131.32      ],\n",
       "         [ 151.061     ,  138.22101   ,  131.32      ],\n",
       "         ...,\n",
       "         [ 151.061     ,  138.22101   ,  131.32      ],\n",
       "         [ 151.061     ,  138.22101   ,  131.32      ],\n",
       "         [ 151.061     ,  138.22101   ,  131.32      ]],\n",
       "\n",
       "        ...,\n",
       "\n",
       "        [[  16.060997  ,   36.221     ,   62.32      ],\n",
       "         [  16.060997  ,   37.221     ,   60.32      ],\n",
       "         [  17.060997  ,   36.221     ,   58.32      ],\n",
       "         ...,\n",
       "         [  10.060997  ,   45.221     ,   72.32      ],\n",
       "         [  11.060997  ,   43.221     ,   74.32      ],\n",
       "         [  12.060997  ,   44.221     ,   75.32      ]],\n",
       "\n",
       "        [[  47.060997  ,   65.221     ,   79.32      ],\n",
       "         [  49.060997  ,   66.221     ,   78.32      ],\n",
       "         [  53.060997  ,   67.221     ,   80.32      ],\n",
       "         ...,\n",
       "         [  27.060997  ,   54.221     ,   82.32      ],\n",
       "         [  24.060997  ,   53.221     ,   81.32      ],\n",
       "         [  29.060997  ,   56.221     ,   84.32      ]],\n",
       "\n",
       "        [[  87.061     ,   92.221     ,  102.32      ],\n",
       "         [  91.061     ,   94.221     ,  104.32      ],\n",
       "         [  97.061     ,   97.221     ,  106.32      ],\n",
       "         ...,\n",
       "         [  45.060997  ,   67.221     ,   94.32      ],\n",
       "         [  46.060997  ,   68.221     ,   94.32      ],\n",
       "         [  47.060997  ,   70.221     ,   93.32      ]]],\n",
       "\n",
       "\n",
       "       [[[ -49.939003  ,  -64.779     ,  -71.68      ],\n",
       "         [ -44.939003  ,  -59.779     ,  -66.68      ],\n",
       "         [ -46.939003  ,  -61.779     ,  -68.68      ],\n",
       "         ...,\n",
       "         [ -33.939003  ,  -46.779     ,  -53.68      ],\n",
       "         [ -30.939003  ,  -43.779     ,  -50.68      ],\n",
       "         [ -27.939003  ,  -42.779     ,  -49.68      ]],\n",
       "\n",
       "        [[ -47.939003  ,  -62.779     ,  -69.68      ],\n",
       "         [ -54.939003  ,  -69.779     ,  -76.68      ],\n",
       "         [ -45.939003  ,  -60.779     ,  -67.68      ],\n",
       "         ...,\n",
       "         [ -34.939003  ,  -47.779     ,  -54.68      ],\n",
       "         [ -31.939003  ,  -44.779     ,  -51.68      ],\n",
       "         [ -30.939003  ,  -43.779     ,  -50.68      ]],\n",
       "\n",
       "        [[ -47.939003  ,  -62.779     ,  -69.68      ],\n",
       "         [ -43.939003  ,  -58.779     ,  -65.68      ],\n",
       "         [ -42.939003  ,  -57.779     ,  -64.68      ],\n",
       "         ...,\n",
       "         [ -33.939003  ,  -46.779     ,  -53.68      ],\n",
       "         [ -38.939003  ,  -51.779     ,  -58.68      ],\n",
       "         [ -36.939003  ,  -49.779     ,  -56.68      ]],\n",
       "\n",
       "        ...,\n",
       "\n",
       "        [[ -73.939     ,  -87.779     ,   -2.6800003 ],\n",
       "         [ -72.939     ,  -86.779     ,   -1.6800003 ],\n",
       "         [ -71.939     ,  -85.779     ,   -0.6800003 ],\n",
       "         ...,\n",
       "         [ -49.939003  ,  -57.779     ,   34.32      ],\n",
       "         [ -44.939003  ,  -52.779     ,   39.32      ],\n",
       "         [ -44.939003  ,  -54.779     ,   42.32      ]],\n",
       "\n",
       "        [[ -76.939     ,  -93.779     ,    2.3199997 ],\n",
       "         [ -76.939     ,  -93.779     ,    2.3199997 ],\n",
       "         [ -73.939     ,  -90.779     ,    5.3199997 ],\n",
       "         ...,\n",
       "         [-103.939     , -113.779     ,  -25.68      ],\n",
       "         [-103.939     , -112.779     ,  -24.68      ],\n",
       "         [-103.939     , -110.779     ,  -24.68      ]],\n",
       "\n",
       "        [[ -44.939003  ,  -60.779     ,   41.32      ],\n",
       "         [ -46.939003  ,  -62.779     ,   39.32      ],\n",
       "         [ -45.939003  ,  -61.779     ,   40.32      ],\n",
       "         ...,\n",
       "         [ -14.939003  ,  -25.779     ,   75.32      ],\n",
       "         [ -20.939003  ,  -31.779     ,   69.32      ],\n",
       "         [ -12.939003  ,  -23.779     ,   77.32      ]]],\n",
       "\n",
       "\n",
       "       [[[ 125.061     ,  104.221     ,  114.32      ],\n",
       "         [ 125.061     ,  104.221     ,  114.32      ],\n",
       "         [ 125.061     ,  104.221     ,  114.32      ],\n",
       "         ...,\n",
       "         [ 125.061     ,  104.221     ,  114.32      ],\n",
       "         [ 125.061     ,  104.221     ,  114.32      ],\n",
       "         [ 125.061     ,  104.221     ,  114.32      ]],\n",
       "\n",
       "        [[ 125.061     ,  104.221     ,  114.32      ],\n",
       "         [ 125.061     ,  104.221     ,  114.32      ],\n",
       "         [ 125.061     ,  104.221     ,  114.32      ],\n",
       "         ...,\n",
       "         [ 125.061     ,  104.221     ,  114.32      ],\n",
       "         [ 125.061     ,  104.221     ,  114.32      ],\n",
       "         [ 125.061     ,  104.221     ,  114.32      ]],\n",
       "\n",
       "        [[ 125.061     ,  104.221     ,  114.32      ],\n",
       "         [ 125.061     ,  104.221     ,  114.32      ],\n",
       "         [ 125.061     ,  104.221     ,  114.32      ],\n",
       "         ...,\n",
       "         [ 125.061     ,  104.221     ,  114.32      ],\n",
       "         [ 125.061     ,  104.221     ,  114.32      ],\n",
       "         [ 125.061     ,  104.221     ,  114.32      ]],\n",
       "\n",
       "        ...,\n",
       "\n",
       "        [[  50.060997  ,   56.221     ,   64.32      ],\n",
       "         [  -5.939003  ,   -1.7789993 ,   17.32      ],\n",
       "         [ -12.939003  ,   -4.7789993 ,    9.32      ],\n",
       "         ...,\n",
       "         [ 125.061     ,  104.221     ,  114.32      ],\n",
       "         [ 125.061     ,  104.221     ,  114.32      ],\n",
       "         [ 125.061     ,  104.221     ,  114.32      ]],\n",
       "\n",
       "        [[  48.060997  ,   52.221     ,   58.32      ],\n",
       "         [  -5.939003  ,    0.22100067,   20.32      ],\n",
       "         [ -11.939003  ,   -0.7789993 ,   20.32      ],\n",
       "         ...,\n",
       "         [ 125.061     ,  104.221     ,  114.32      ],\n",
       "         [ 125.061     ,  104.221     ,  114.32      ],\n",
       "         [ 125.061     ,  104.221     ,  114.32      ]],\n",
       "\n",
       "        [[  47.060997  ,   55.221     ,   63.32      ],\n",
       "         [  -8.939003  ,   -1.7789993 ,   16.32      ],\n",
       "         [ -14.939003  ,   -6.7789993 ,   13.32      ],\n",
       "         ...,\n",
       "         [ 125.061     ,  104.221     ,  114.32      ],\n",
       "         [ 125.061     ,  104.221     ,  114.32      ],\n",
       "         [ 125.061     ,  104.221     ,  114.32      ]]]], dtype=float32)"
      ]
     },
     "execution_count": 6,
     "metadata": {},
     "output_type": "execute_result"
    }
   ],
   "source": [
    "images_np"
   ]
  },
  {
   "cell_type": "markdown",
   "id": "7883207d-1d66-4a17-b26a-3e3601bdca15",
   "metadata": {},
   "source": [
    "### Création de Y"
   ]
  },
  {
   "cell_type": "code",
   "execution_count": 8,
   "id": "63738445-4b91-4282-bebd-c4ed31cead33",
   "metadata": {},
   "outputs": [
    {
     "name": "stdout",
     "output_type": "stream",
     "text": [
      "(1050, 7)\n"
     ]
    }
   ],
   "source": [
    "from sklearn.preprocessing import LabelEncoder\n",
    "\n",
    "# Initialisation du LabelEncoder\n",
    "label_encoder = LabelEncoder()\n",
    "\n",
    "# Convertir les labels texte en labels numériques\n",
    "y_encoded = label_encoder.fit_transform(df['category'])\n",
    "\n",
    "# Conversion des labels numériques en one-hot encoding\n",
    "y = to_categorical(y_encoded)\n",
    "\n",
    "print(y.shape)"
   ]
  },
  {
   "cell_type": "markdown",
   "id": "5bae8493-204a-4ac1-9a01-c726c4c99f13",
   "metadata": {},
   "source": [
    "## CE3 Vous avez réalisé la séparation du jeu de données en jeu d’entraînement, jeu de validation et jeu de test. "
   ]
  },
  {
   "cell_type": "markdown",
   "id": "a6ee1a75-b6fa-4c68-8f7f-464646b01c8f",
   "metadata": {},
   "source": [
    "- 70% pour l'entraînement\n",
    "- 15% pour la validation\n",
    "- 15% pour le test"
   ]
  },
  {
   "cell_type": "code",
   "execution_count": 9,
   "id": "da066fc3-896b-4768-8c87-2547f9d5126c",
   "metadata": {},
   "outputs": [],
   "source": [
    "from sklearn.model_selection import train_test_split\n",
    "\n",
    "X_temp, X_train, y_temp, y_train = train_test_split(X, y, test_size=0.7, random_state=42, stratify=y)\n",
    "X_val, X_test, y_val, y_test = train_test_split(X_temp, y_temp, test_size=0.5, random_state=42, stratify=y_temp)"
   ]
  },
  {
   "cell_type": "code",
   "execution_count": 10,
   "id": "56e8e828-6172-444a-abc9-3161463f49ca",
   "metadata": {},
   "outputs": [
    {
     "name": "stdout",
     "output_type": "stream",
     "text": [
      "La forme de X_train est : (735, 224, 224, 3)\n",
      "La forme de X_val est : (157, 224, 224, 3)\n",
      "La forme de X_test est : (157, 224, 224, 3)\n"
     ]
    }
   ],
   "source": [
    "print(\"La forme de X_train est :\", X_train.shape)\n",
    "print(\"La forme de X_val est :\", X_val.shape)\n",
    "print(\"La forme de X_test est :\", X_val.shape)"
   ]
  },
  {
   "cell_type": "markdown",
   "id": "98acd413-0958-4287-a6eb-8e7b7269cda2",
   "metadata": {},
   "source": [
    "## CE4 Vous vous êtes assurés qu'il n’y a pas de fuite d’information entre les deux jeux de données (entraînement, validation et test). "
   ]
  },
  {
   "cell_type": "markdown",
   "id": "3bd406de-20c8-4614-8292-2353ba316944",
   "metadata": {},
   "source": [
    "On a utilisé la stratification lors de la séparation. Cela garantit que la distribution des catégories est maintenue uniformément dans tous les sous-ensembles"
   ]
  },
  {
   "cell_type": "markdown",
   "id": "39a9fcd7-4bc5-40fb-a1b9-844b7077882b",
   "metadata": {},
   "source": [
    "## CE5 Vous avez testé plusieurs modèles d’apprentissage profond (par exemple à l’aide de la librairie Tensorflow / Keras) en partant du plus simple vers les plus complexes. "
   ]
  },
  {
   "cell_type": "markdown",
   "id": "97d5f329-b527-43a4-a201-4350f23347de",
   "metadata": {},
   "source": [
    "### Modèle simple (Perceptron multicouche entièrement connecté)"
   ]
  },
  {
   "cell_type": "markdown",
   "id": "58d0bf71-1c6f-489f-b445-a71ecbd07456",
   "metadata": {},
   "source": [
    "**Pile linéaire de couches.**"
   ]
  },
  {
   "cell_type": "raw",
   "id": "6967180f-0692-4386-a9b3-b073b7fe2fd8",
   "metadata": {},
   "source": [
    "model_mlp = Sequential()"
   ]
  },
  {
   "cell_type": "markdown",
   "id": "d10e83a4-9362-4822-9259-3e7e9b5441be",
   "metadata": {},
   "source": [
    "**1ère couche de mise à plat (Flatten):** \n",
    "- Convertit les images 2D de forme (224, 224, 3) en un vecteur 1D"
   ]
  },
  {
   "cell_type": "raw",
   "id": "f03e6d1b-85fe-458e-b735-74d67bb2cbb5",
   "metadata": {},
   "source": [
    "model_mlp.add(Flatten(input_shape=(224, 224, 3)))"
   ]
  },
  {
   "cell_type": "markdown",
   "id": "321f9b03-d5f0-4d22-ac8d-745cd1e6bc5c",
   "metadata": {},
   "source": [
    "**Deux couches denses (ou entièrement connectées):**\n",
    "- La première a 128 neurones et utilise la fonction d'activation ReLU.\n",
    "- La deuxième a 64 neurones avec la même fonction d'activation."
   ]
  },
  {
   "cell_type": "raw",
   "id": "7cc698ab-1a53-4a64-9079-1f29656646c1",
   "metadata": {},
   "source": [
    "model_mlp.add(Dense(128, activation='relu'))\n",
    "model_mlp.add(Dense(64, activation='relu'))"
   ]
  },
  {
   "cell_type": "markdown",
   "id": "ab074104-b39e-4c80-b1a3-d12533867c00",
   "metadata": {},
   "source": [
    "**La dernière couche est également une couche dense:**\n",
    "- 7 neurones -> 7 classes pour lesquelles le modèle est censé prédire. \n",
    "- La fonction d'activation softmax est utilisée pour convertir les sorties en probabilités pour chaque classe."
   ]
  },
  {
   "cell_type": "raw",
   "id": "d455654f-959f-4d71-bc6b-d435d8e2a5be",
   "metadata": {},
   "source": [
    "model_mlp.add(Dense(7, activation='softmax'))"
   ]
  },
  {
   "cell_type": "code",
   "execution_count": 11,
   "id": "2b90f78d-ff4e-47fa-aa21-0476efd949f3",
   "metadata": {},
   "outputs": [
    {
     "name": "stdout",
     "output_type": "stream",
     "text": [
      "Model: \"sequential\"\n",
      "_________________________________________________________________\n",
      " Layer (type)                Output Shape              Param #   \n",
      "=================================================================\n",
      " flatten (Flatten)           (None, 150528)            0         \n",
      "                                                                 \n",
      " dense (Dense)               (None, 128)               19267712  \n",
      "                                                                 \n",
      " dense_1 (Dense)             (None, 64)                8256      \n",
      "                                                                 \n",
      " dense_2 (Dense)             (None, 7)                 455       \n",
      "                                                                 \n",
      "=================================================================\n",
      "Total params: 19,276,423\n",
      "Trainable params: 19,276,423\n",
      "Non-trainable params: 0\n",
      "_________________________________________________________________\n",
      "Epoch 1/15\n",
      "23/23 [==============================] - 10s 400ms/step - loss: 9066.4961 - accuracy: 0.1878 - val_loss: 3987.4099 - val_accuracy: 0.2293\n",
      "Epoch 2/15\n",
      "23/23 [==============================] - 8s 350ms/step - loss: 3125.0010 - accuracy: 0.2952 - val_loss: 2880.4900 - val_accuracy: 0.3121\n",
      "Epoch 3/15\n",
      "23/23 [==============================] - 9s 390ms/step - loss: 3284.5884 - accuracy: 0.3388 - val_loss: 2267.3135 - val_accuracy: 0.3376\n",
      "Epoch 4/15\n",
      "23/23 [==============================] - 8s 339ms/step - loss: 2111.0293 - accuracy: 0.3769 - val_loss: 2182.5330 - val_accuracy: 0.3185\n",
      "Epoch 5/15\n",
      "23/23 [==============================] - 8s 358ms/step - loss: 1740.3163 - accuracy: 0.4068 - val_loss: 921.8470 - val_accuracy: 0.4140\n",
      "Epoch 6/15\n",
      "23/23 [==============================] - 9s 393ms/step - loss: 502.7167 - accuracy: 0.4286 - val_loss: 652.1376 - val_accuracy: 0.2866\n",
      "Epoch 7/15\n",
      "23/23 [==============================] - 9s 391ms/step - loss: 271.8594 - accuracy: 0.3878 - val_loss: 1442.6473 - val_accuracy: 0.3248\n",
      "Epoch 8/15\n",
      "23/23 [==============================] - 8s 365ms/step - loss: 539.8203 - accuracy: 0.3415 - val_loss: 791.6569 - val_accuracy: 0.2229\n",
      "Epoch 9/15\n",
      "23/23 [==============================] - 9s 408ms/step - loss: 54.7419 - accuracy: 0.3293 - val_loss: 534.8019 - val_accuracy: 0.2611\n",
      "Epoch 10/15\n",
      "23/23 [==============================] - 9s 405ms/step - loss: 27.8657 - accuracy: 0.3374 - val_loss: 478.7363 - val_accuracy: 0.2293\n",
      "Epoch 11/15\n",
      "23/23 [==============================] - 8s 370ms/step - loss: 46.5038 - accuracy: 0.2857 - val_loss: 738.5982 - val_accuracy: 0.1975\n",
      "Epoch 12/15\n",
      "23/23 [==============================] - 9s 376ms/step - loss: 34.9614 - accuracy: 0.2966 - val_loss: 549.0609 - val_accuracy: 0.2357\n",
      "Epoch 13/15\n",
      "23/23 [==============================] - 8s 352ms/step - loss: 54.5152 - accuracy: 0.3224 - val_loss: 399.7906 - val_accuracy: 0.2293\n",
      "Epoch 14/15\n",
      "23/23 [==============================] - 9s 410ms/step - loss: 98.3948 - accuracy: 0.3048 - val_loss: 685.3652 - val_accuracy: 0.2229\n",
      "Epoch 15/15\n",
      "23/23 [==============================] - 9s 390ms/step - loss: 49.2022 - accuracy: 0.3184 - val_loss: 1169.1919 - val_accuracy: 0.2102\n",
      "\n",
      "Temps écoulé pour l'entraînement: 132.35 secondes\n",
      "5/5 [==============================] - 0s 61ms/step - loss: 1056.9744 - accuracy: 0.2152\n",
      "\n",
      "Score du test : test_loss = 1056.9744, test_accuracy = 0.2152\n"
     ]
    }
   ],
   "source": [
    "import time\n",
    "from tensorflow.keras.models import Sequential\n",
    "from tensorflow.keras.layers import Dense, Flatten\n",
    "from tensorflow.keras.callbacks import EarlyStopping\n",
    "\n",
    "model_mlp = Sequential()\n",
    "model_mlp.add(Flatten(input_shape=(224, 224, 3))) # Convertir les images 2D en vecteur 1D\n",
    "model_mlp.add(Dense(128, activation='relu'))\n",
    "model_mlp.add(Dense(64, activation='relu'))\n",
    "model_mlp.add(Dense(7, activation='softmax')) # 7 classes, donc 7 neurones en sortie\n",
    "\n",
    "model_mlp.compile(optimizer='rmsprop', loss='categorical_crossentropy', metrics=['accuracy'])\n",
    "\n",
    "model_mlp.summary()\n",
    "\n",
    "# Initialisation de l'arrêt anticipé\n",
    "early_stopping = EarlyStopping(monitor='val_loss', patience=5, verbose=1, restore_best_weights=True)\n",
    "\n",
    "# Enregistrement du temps de début\n",
    "start_time = time.time()\n",
    "\n",
    "pred = model_mlp.fit(X_train, y_train, epochs=15, validation_data=(X_val, y_val), callbacks=[early_stopping])\n",
    "\n",
    "# Enregistrement du temps de fin\n",
    "end_time = time.time()\n",
    "\n",
    "# Calculer et afficher le temps écoulé\n",
    "elapsed_time = end_time - start_time\n",
    "print(\"\")\n",
    "print(f\"Temps écoulé pour l'entraînement: {elapsed_time:.2f} secondes\")\n",
    "\n",
    "# Évaluation du modèle sur l'ensemble de test\n",
    "test_loss, test_accuracy = model_mlp.evaluate(X_test, y_test)\n",
    "print(\"\")\n",
    "print(f\"Score du test : test_loss = {test_loss:.4f}, test_accuracy = {test_accuracy:.4f}\")"
   ]
  },
  {
   "cell_type": "markdown",
   "id": "b7e4db19-d23f-438e-8782-090b6fb69b70",
   "metadata": {},
   "source": [
    "### Modèle de complexité médium (CNN = Réseau neuronal convolutif)"
   ]
  },
  {
   "cell_type": "markdown",
   "id": "c26715b8-0d86-4dba-98b8-dee8f37f8160",
   "metadata": {},
   "source": [
    "**Ajout des couches convolutives:**\n",
    "- Responsables de l'extraction des caractéristiques (motifs locaux) des images\n",
    "- 32 filtres, chacun de taille (3x3)\n",
    "- Activation 'relu' (rectified linear unit) -> Ajoute de la non-linéarité"
   ]
  },
  {
   "cell_type": "raw",
   "id": "9f6827ec-eaf5-45a3-aa5d-55b275c6ee75",
   "metadata": {},
   "source": [
    "model_cnn.add(Conv2D(32, (3, 3), activation='relu', input_shape=(224, 224, 3)))"
   ]
  },
  {
   "cell_type": "markdown",
   "id": "a7413afa-8b4f-405e-bb87-d45dd54d0abe",
   "metadata": {},
   "source": [
    "**Couches de pooling:**\n",
    "- Réduit les dimensions spatiales (largeur, hauteur) de l'entrée.\n",
    "- Pooling max (2x2) -> ce qui divise par deux les dimensions en largeur et en hauteur."
   ]
  },
  {
   "cell_type": "raw",
   "id": "29d39fae-12ff-42e3-bcfa-25006d3b12d7",
   "metadata": {},
   "source": [
    "model_cnn.add(MaxPooling2D((2, 2)))"
   ]
  },
  {
   "cell_type": "markdown",
   "id": "12b7e7b8-3207-4842-912f-be6affacde5f",
   "metadata": {},
   "source": [
    "**Applatissement de l'information:**\n",
    "- Transforme l'ensemble en un environnement 1D"
   ]
  },
  {
   "cell_type": "raw",
   "id": "9116acba-7091-47c9-8ed1-eb693fce411a",
   "metadata": {},
   "source": [
    "model_cnn.add(Flatten())"
   ]
  },
  {
   "cell_type": "markdown",
   "id": "828e917f-06b1-4cc0-9843-af7e5cd02662",
   "metadata": {},
   "source": [
    "**Couches connectés (Dense):**\n",
    "- 128 -> 7 neurones\n",
    "- Couche ReLu"
   ]
  },
  {
   "cell_type": "raw",
   "id": "c0aa250e-5af7-4c4d-bf77-73152303b344",
   "metadata": {},
   "source": [
    "model_cnn.add(Dense(128, activation='relu'))\n",
    "model_cnn.add(Dense(7, activation='softmax'))"
   ]
  },
  {
   "cell_type": "code",
   "execution_count": 77,
   "id": "f824babc-bb34-4627-a4d2-cb123bffc35f",
   "metadata": {},
   "outputs": [
    {
     "name": "stdout",
     "output_type": "stream",
     "text": [
      "Model: \"sequential_11\"\n",
      "_________________________________________________________________\n",
      " Layer (type)                Output Shape              Param #   \n",
      "=================================================================\n",
      " conv2d_9 (Conv2D)           (None, 222, 222, 32)      896       \n",
      "                                                                 \n",
      " max_pooling2d_9 (MaxPooling  (None, 111, 111, 32)     0         \n",
      " 2D)                                                             \n",
      "                                                                 \n",
      " conv2d_10 (Conv2D)          (None, 109, 109, 64)      18496     \n",
      "                                                                 \n",
      " max_pooling2d_10 (MaxPoolin  (None, 54, 54, 64)       0         \n",
      " g2D)                                                            \n",
      "                                                                 \n",
      " conv2d_11 (Conv2D)          (None, 52, 52, 128)       73856     \n",
      "                                                                 \n",
      " max_pooling2d_11 (MaxPoolin  (None, 26, 26, 128)      0         \n",
      " g2D)                                                            \n",
      "                                                                 \n",
      " flatten_11 (Flatten)        (None, 86528)             0         \n",
      "                                                                 \n",
      " dense_38 (Dense)            (None, 128)               11075712  \n",
      "                                                                 \n",
      " dense_39 (Dense)            (None, 7)                 903       \n",
      "                                                                 \n",
      "=================================================================\n",
      "Total params: 11,169,863\n",
      "Trainable params: 11,169,863\n",
      "Non-trainable params: 0\n",
      "_________________________________________________________________\n",
      "Epoch 1/50\n",
      "23/23 [==============================] - 19s 789ms/step - loss: 172.3483 - accuracy: 0.1456 - val_loss: 2.0195 - val_accuracy: 0.2548\n",
      "Epoch 2/50\n",
      "23/23 [==============================] - 18s 784ms/step - loss: 2.1118 - accuracy: 0.3551 - val_loss: 2.1188 - val_accuracy: 0.3248\n",
      "Epoch 3/50\n",
      "23/23 [==============================] - 18s 794ms/step - loss: 2.1833 - accuracy: 0.3878 - val_loss: 1.8407 - val_accuracy: 0.3057\n",
      "Epoch 4/50\n",
      "23/23 [==============================] - 18s 774ms/step - loss: 6.5328 - accuracy: 0.4150 - val_loss: 1.6920 - val_accuracy: 0.3439\n",
      "Epoch 5/50\n",
      "23/23 [==============================] - 18s 783ms/step - loss: 5.3877 - accuracy: 0.6381 - val_loss: 1.8968 - val_accuracy: 0.4076\n",
      "Epoch 6/50\n",
      "23/23 [==============================] - 19s 810ms/step - loss: 5.0225 - accuracy: 0.6122 - val_loss: 2.1456 - val_accuracy: 0.3885\n",
      "Epoch 7/50\n",
      "23/23 [==============================] - 18s 785ms/step - loss: 0.7616 - accuracy: 0.8163 - val_loss: 2.9550 - val_accuracy: 0.4331\n",
      "Epoch 8/50\n",
      "23/23 [==============================] - 18s 772ms/step - loss: 20.1472 - accuracy: 0.7252 - val_loss: 2.6520 - val_accuracy: 0.3312\n",
      "Epoch 9/50\n",
      "23/23 [==============================] - ETA: 0s - loss: 6.1346 - accuracy: 0.6639Restoring model weights from the end of the best epoch: 4.\n",
      "23/23 [==============================] - 18s 770ms/step - loss: 6.1346 - accuracy: 0.6639 - val_loss: 9.9070 - val_accuracy: 0.3567\n",
      "Epoch 9: early stopping\n",
      "\n",
      "Temps écoulé pour l'entraînement: 162.67 secondes\n",
      "5/5 [==============================] - 1s 150ms/step - loss: 1.9006 - accuracy: 0.3418\n",
      "\n",
      "Score du test : test_loss = 1.9006, test_accuracy = 0.3418\n"
     ]
    }
   ],
   "source": [
    "from tensorflow.keras.models import Sequential\n",
    "from tensorflow.keras.layers import Conv2D, MaxPooling2D, Flatten, Dense\n",
    "from tensorflow.keras.callbacks import EarlyStopping\n",
    "import time\n",
    "\n",
    "with tf.device('/gpu:0'):\n",
    "    # Création du modèle CNN\n",
    "    model_cnn = Sequential()\n",
    "\n",
    "    # Ajout des couches convolutives\n",
    "    model_cnn.add(Conv2D(32, (3, 3), activation='relu', input_shape=(224, 224, 3)))\n",
    "    model_cnn.add(MaxPooling2D((2, 2)))\n",
    "\n",
    "    model_cnn.add(Conv2D(64, (3, 3), activation='relu'))\n",
    "    model_cnn.add(MaxPooling2D((2, 2)))\n",
    "\n",
    "    model_cnn.add(Conv2D(128, (3, 3), activation='relu'))\n",
    "    model_cnn.add(MaxPooling2D((2, 2)))\n",
    "\n",
    "    # Ajout des couches entièrement connectées\n",
    "    model_cnn.add(Flatten())\n",
    "    model_cnn.add(Dense(128, activation='relu'))\n",
    "    model_cnn.add(Dense(7, activation='softmax')) # 7 classes, donc 7 neurones en sortie\n",
    "\n",
    "    # Compilation du modèle\n",
    "    model_cnn.compile(optimizer='rmsprop', loss='categorical_crossentropy', metrics=['accuracy'])\n",
    "    model_cnn.summary()\n",
    "\n",
    "    # Initialisation de l'arrêt anticipé\n",
    "    early_stopping = EarlyStopping(monitor='val_loss', patience=5, verbose=1, restore_best_weights=True)\n",
    "\n",
    "    # Enregistrement du temps de début\n",
    "    start_time = time.time()\n",
    "\n",
    "    model_cnn.fit(X_train, y_train, epochs=50, validation_data=(X_val, y_val), callbacks=[early_stopping])\n",
    "\n",
    "    # Enregistrement du temps de fin\n",
    "    end_time = time.time()\n",
    "\n",
    "    # Calculer et afficher le temps écoulé\n",
    "    elapsed_time = end_time - start_time\n",
    "    print(\"\")\n",
    "    print(f\"Temps écoulé pour l'entraînement: {elapsed_time:.2f} secondes\")\n",
    "\n",
    "    # Évaluation du modèle sur l'ensemble de test\n",
    "    test_loss, test_accuracy = model_cnn.evaluate(X_test, y_test)\n",
    "    print(\"\")\n",
    "    print(f\"Score du test : test_loss = {test_loss:.4f}, test_accuracy = {test_accuracy:.4f}\")"
   ]
  },
  {
   "cell_type": "markdown",
   "id": "0d0bed3d-cc22-4e6a-bf78-c4956595cdf9",
   "metadata": {},
   "source": [
    "### Modèle de forte complexité "
   ]
  },
  {
   "cell_type": "markdown",
   "id": "ba14356a-615d-44de-9dd2-765fce09886f",
   "metadata": {},
   "source": [
    "On va utiliser le VGG16 (pré-entrainé)"
   ]
  },
  {
   "cell_type": "markdown",
   "id": "e00c77b0-d39c-40b6-9942-1fd22d1b450d",
   "metadata": {},
   "source": [
    "## CE6 Vous avez mis en oeuvre des modèles à partir de modèles pré-entraînés (technique de Transfer Learning) "
   ]
  },
  {
   "cell_type": "markdown",
   "id": "2aa24b5f-25fb-4a5e-ad60-75bd97f8a68d",
   "metadata": {},
   "source": [
    "**Importation d'un modèle préentrainé:**\n",
    "- On importe le modèle VGG16 qui est un modèle de réseau de neurones convolutif pré-entraîné sur la base de données ImageNet. \n",
    "- On ne prend pas les couches fully connected du haut (include_top=False) car on veut ajouter nos propres couches pour la classification.\n",
    "- Le modèle attend des images de taille 224x224 avec 3 canaux (RGB)."
   ]
  },
  {
   "cell_type": "raw",
   "id": "710ba4a1-d5ed-471c-a341-1580f94f3ce6",
   "metadata": {},
   "source": [
    "model0 = VGG16(include_top=False, weights=\"imagenet\", input_shape=(224, 224, 3))"
   ]
  },
  {
   "cell_type": "markdown",
   "id": "17d2bf13-341d-4c66-bdba-d123cb95f4aa",
   "metadata": {},
   "source": [
    "**Rendre les couches non entraînables:**\n",
    "- Lors de la phase d'entraînement, les poids de ces couches ne seront pas mis à jour\n",
    "- Ceci est typique du **transfert learning**\n",
    "    - L'idée est de capitaliser sur les caractéristiques apprises par le modèle sur une autre tâche et de ne pas perturber ces caractéristiques."
   ]
  },
  {
   "cell_type": "raw",
   "id": "81b37387-7f32-4f9d-8297-42a52a31a219",
   "metadata": {},
   "source": [
    "for layer in model0.layers:\n",
    "    layer.trainable = False"
   ]
  },
  {
   "cell_type": "markdown",
   "id": "872b05e6-c714-4737-b09f-dec6975aaf87",
   "metadata": {},
   "source": [
    "**Ajout de nouvelles couches:**\n",
    "- **GlobalAveragePooling2D():** Couche de mise en commun globale pour réduire la dimensionnalité de l'entrée.\n",
    "- **Dense(256, activation='relu'):** Couche dense (ou fully connected) avec 256 neurones et une fonction d'activation ReLU.\n",
    "- **Dropout(0.5):** Couche d'abandon pour éviter le surapprentissage. Elle désactive aléatoirement 50% des neurones lors de l'entraînement.\n",
    "- **Dense(7, activation='softmax'):** La dernière couche dense avec 7 neurones (7 classes à prédire) et une activation softmax pour obtenir des probabilités de classification."
   ]
  },
  {
   "cell_type": "markdown",
   "id": "1e65fa9c-37ba-4f6e-ad21-656cb5f858dc",
   "metadata": {},
   "source": [
    "**Choix de l'optimisation:**\n",
    "- **categorical_crossentropy:** Fonction de perte couramment utilisée pour les problèmes de classification multiclasse. \n",
    "    - Utilisée lorsque les étiquettes sont one-hot encoded \n",
    "- **optimizer='rmsprop':** Variante du gradient descent, spécialement conçue pour éviter certains de ses problèmes, comme la convergence lente dans certains cas"
   ]
  },
  {
   "cell_type": "code",
   "execution_count": 28,
   "id": "149be423-3c97-4046-a1a4-4639e1ef151e",
   "metadata": {},
   "outputs": [],
   "source": [
    "def create_model_fct() :\n",
    "    # Récupération modèle pré-entraîné\n",
    "    model0 = VGG16(include_top=False, weights=\"imagenet\", input_shape=(224, 224, 3))\n",
    "\n",
    "    # Layer non entraînables = on garde les poids du modèle pré-entraîné\n",
    "    for layer in model0.layers:\n",
    "        layer.trainable = False\n",
    "\n",
    "    # Récupérer la sortie de ce réseau\n",
    "    x = model0.output\n",
    "    # Compléter le modèle\n",
    "    x = GlobalAveragePooling2D()(x)\n",
    "    x = Dense(256, activation='relu')(x)\n",
    "    x = Dropout(0.5)(x)\n",
    "    predictions = Dense(7, activation='softmax')(x)\n",
    "\n",
    "    # Définir le nouveau modèle\n",
    "    model = Model(inputs=model0.input, outputs=predictions)\n",
    "    # compilation du modèle \n",
    "    model.compile(loss=\"categorical_crossentropy\", optimizer='rmsprop', metrics=[\"accuracy\"])\n",
    "\n",
    "    print(model.summary())\n",
    "    \n",
    "    return model"
   ]
  },
  {
   "cell_type": "markdown",
   "id": "af8db4d4-8dac-4a02-ad75-63e384aa089a",
   "metadata": {},
   "source": [
    "# Évaluer la performance des modèles d’apprentissage profond selon différents critères (scores, temps d'entraînement, etc.) afin de choisir le modèle le plus performant pour la problématique métier."
   ]
  },
  {
   "cell_type": "markdown",
   "id": "be72ee4c-0083-4058-b7ab-31cd80389e39",
   "metadata": {},
   "source": [
    "## CE1 Vous avez choisi une métrique adaptée à la problématique métier, et sert à évaluer la performance des modèles "
   ]
  },
  {
   "cell_type": "markdown",
   "id": "72f3e703-601c-4a19-85e9-d57bbd9944cb",
   "metadata": {},
   "source": [
    "**Métrique -> val_accuracy:**"
   ]
  },
  {
   "cell_type": "markdown",
   "id": "4b49b027-fed7-4b94-b0c1-f7077c9ca2ce",
   "metadata": {},
   "source": [
    "## CE2 Vous avez explicité le choix de la métrique d’évaluation "
   ]
  },
  {
   "cell_type": "markdown",
   "id": "877e84f6-c1d3-44d3-b324-5a74202d198c",
   "metadata": {},
   "source": [
    "**accuracy:**\n",
    "- Mesure la proportion de prédictions correctes par rapport à l'ensemble total des prédictions\n",
    "- Très bien adaptée lorsqu'on a une distribution parfaitement équilibrée des catégories\n",
    "- **Fonction de perte -> \"categorical_crossentropy\"!** \n",
    "    - Mesure l'écart entre les probabilités prédites et les vraies étiquettes\n",
    "    - Bien adaptée aux tâches de classification multiclasse comme la nôtre.\n",
    "    - Offre une indication précise des performances du modèle pendant la phase d'entraînement\n",
    "\n",
    "**val_:**\n",
    "- Car on souhaite à ce que le modèle soit aussi performant sur de nouvelles données"
   ]
  },
  {
   "cell_type": "markdown",
   "id": "a07fc8eb-621e-41e5-bd0d-21ac8f3fefd0",
   "metadata": {},
   "source": [
    "## CE3 Vous avez évalué la performance d’un modèle de référence et sert de comparaison pour évaluer la performance des modèles plus complexes "
   ]
  },
  {
   "cell_type": "markdown",
   "id": "bf538f89-0957-4d28-9ec3-4ce644f516e0",
   "metadata": {},
   "source": [
    "**Modèle simple (Perceptron multicouche entièrement connecté):**\n",
    "- Nb_Epochs = 6\n",
    "- test_loss = 2072.2900\n",
    "- test_accuracy = 0.3544\n",
    "- temps = 21.11 secondes\n",
    "\n",
    "**Modèle de complexité médium (CNN = Réseau neuronal convolutif):**\n",
    "- Nb_Epochs = 9\n",
    "- test_loss = 1.9006\n",
    "- test_accuracy: 0.3418\n",
    "- temps = 162.67 secondes"
   ]
  },
  {
   "cell_type": "markdown",
   "id": "f0f86410-7729-4705-937a-1f4e20dfca48",
   "metadata": {},
   "source": [
    "## CE4 Vous avez calculé, hormis la métrique choisie, au moins un autre indicateur pour comparer les modèles (par exemple : le temps nécessaire pour l’entraînement du modèle) "
   ]
  },
  {
   "cell_type": "markdown",
   "id": "1d603ae2-4fb8-42cb-a312-db9642b6888e",
   "metadata": {},
   "source": [
    "Voir CE3."
   ]
  },
  {
   "cell_type": "markdown",
   "id": "4c3d058a-8e17-48e6-9da6-3c54609647a7",
   "metadata": {},
   "source": [
    "## CE5 Vous avez optimisé au moins un des hyperparamètres du modèle choisi (par exemple : le choix de la fonction Loss, le Batch Size, le nombre d'Epochs) "
   ]
  },
  {
   "cell_type": "markdown",
   "id": "d40c67d0-b093-4091-86ca-dd093d8a1bd6",
   "metadata": {},
   "source": [
    "J'ai décidé d'optimiser le nombre d'Epochs (hyperparamètres)"
   ]
  },
  {
   "cell_type": "markdown",
   "id": "680f7d1f-a4ca-46ac-aa49-c99fc4abd86b",
   "metadata": {},
   "source": [
    "### 1# EarlyStopping = val_accuracy"
   ]
  },
  {
   "cell_type": "code",
   "execution_count": 66,
   "id": "ff20c9d5-62db-402e-a28f-853757894044",
   "metadata": {},
   "outputs": [
    {
     "name": "stdout",
     "output_type": "stream",
     "text": [
      "Model: \"model_2\"\n",
      "_________________________________________________________________\n",
      " Layer (type)                Output Shape              Param #   \n",
      "=================================================================\n",
      " input_4 (InputLayer)        [(None, 224, 224, 3)]     0         \n",
      "                                                                 \n",
      " block1_conv1 (Conv2D)       (None, 224, 224, 64)      1792      \n",
      "                                                                 \n",
      " block1_conv2 (Conv2D)       (None, 224, 224, 64)      36928     \n",
      "                                                                 \n",
      " block1_pool (MaxPooling2D)  (None, 112, 112, 64)      0         \n",
      "                                                                 \n",
      " block2_conv1 (Conv2D)       (None, 112, 112, 128)     73856     \n",
      "                                                                 \n",
      " block2_conv2 (Conv2D)       (None, 112, 112, 128)     147584    \n",
      "                                                                 \n",
      " block2_pool (MaxPooling2D)  (None, 56, 56, 128)       0         \n",
      "                                                                 \n",
      " block3_conv1 (Conv2D)       (None, 56, 56, 256)       295168    \n",
      "                                                                 \n",
      " block3_conv2 (Conv2D)       (None, 56, 56, 256)       590080    \n",
      "                                                                 \n",
      " block3_conv3 (Conv2D)       (None, 56, 56, 256)       590080    \n",
      "                                                                 \n",
      " block3_pool (MaxPooling2D)  (None, 28, 28, 256)       0         \n",
      "                                                                 \n",
      " block4_conv1 (Conv2D)       (None, 28, 28, 512)       1180160   \n",
      "                                                                 \n",
      " block4_conv2 (Conv2D)       (None, 28, 28, 512)       2359808   \n",
      "                                                                 \n",
      " block4_conv3 (Conv2D)       (None, 28, 28, 512)       2359808   \n",
      "                                                                 \n",
      " block4_pool (MaxPooling2D)  (None, 14, 14, 512)       0         \n",
      "                                                                 \n",
      " block5_conv1 (Conv2D)       (None, 14, 14, 512)       2359808   \n",
      "                                                                 \n",
      " block5_conv2 (Conv2D)       (None, 14, 14, 512)       2359808   \n",
      "                                                                 \n",
      " block5_conv3 (Conv2D)       (None, 14, 14, 512)       2359808   \n",
      "                                                                 \n",
      " block5_pool (MaxPooling2D)  (None, 7, 7, 512)         0         \n",
      "                                                                 \n",
      " global_average_pooling2d_2   (None, 512)              0         \n",
      " (GlobalAveragePooling2D)                                        \n",
      "                                                                 \n",
      " dense_31 (Dense)            (None, 256)               131328    \n",
      "                                                                 \n",
      " dropout_2 (Dropout)         (None, 256)               0         \n",
      "                                                                 \n",
      " dense_32 (Dense)            (None, 7)                 1799      \n",
      "                                                                 \n",
      "=================================================================\n",
      "Total params: 14,847,815\n",
      "Trainable params: 133,127\n",
      "Non-trainable params: 14,714,688\n",
      "_________________________________________________________________\n",
      "None\n"
     ]
    }
   ],
   "source": [
    "import tensorflow as tf\n",
    "from tensorflow.keras.applications.vgg16 import VGG16\n",
    "from tensorflow.keras.models import Model\n",
    "from tensorflow.keras.layers import GlobalAveragePooling2D, Dense, Dropout\n",
    "from tensorflow.keras.callbacks import ModelCheckpoint, EarlyStopping\n",
    "\n",
    "# Création du modèle\n",
    "with tf.device('/gpu:0'): \n",
    "    model1 = create_model_fct()\n",
    "\n",
    "# Création du callback\n",
    "model1_save_path1 = \"./model1_best_weights.h5\"\n",
    "checkpoint = ModelCheckpoint(model1_save_path1, monitor='val_accuracy', verbose=1, save_best_only=True, mode='max')\n",
    "es = EarlyStopping(monitor='val_accuracy', mode='max', verbose=1, patience=5)\n",
    "callbacks_list = [checkpoint, es]"
   ]
  },
  {
   "cell_type": "code",
   "execution_count": 67,
   "id": "796569ad-23ff-4fd7-a52e-a2850e9cd9b0",
   "metadata": {},
   "outputs": [
    {
     "name": "stdout",
     "output_type": "stream",
     "text": [
      "Epoch 1/50\n",
      "12/12 [==============================] - ETA: 0s - loss: 5.6198 - accuracy: 0.4531 \n",
      "Epoch 1: val_accuracy improved from -inf to 0.73885, saving model to .\\model1_best_weights.h5\n",
      "12/12 [==============================] - 149s 13s/step - loss: 5.6198 - accuracy: 0.4531 - val_loss: 1.5625 - val_accuracy: 0.7389\n",
      "Epoch 2/50\n",
      "12/12 [==============================] - ETA: 0s - loss: 2.0427 - accuracy: 0.6966\n",
      "Epoch 2: val_accuracy improved from 0.73885 to 0.78981, saving model to .\\model1_best_weights.h5\n",
      "12/12 [==============================] - 128s 11s/step - loss: 2.0427 - accuracy: 0.6966 - val_loss: 0.9416 - val_accuracy: 0.7898\n",
      "Epoch 3/50\n",
      "12/12 [==============================] - ETA: 0s - loss: 1.1926 - accuracy: 0.7578\n",
      "Epoch 3: val_accuracy improved from 0.78981 to 0.84713, saving model to .\\model1_best_weights.h5\n",
      "12/12 [==============================] - 129s 11s/step - loss: 1.1926 - accuracy: 0.7578 - val_loss: 0.6846 - val_accuracy: 0.8471\n",
      "Epoch 4/50\n",
      "12/12 [==============================] - ETA: 0s - loss: 0.9298 - accuracy: 0.8163\n",
      "Epoch 4: val_accuracy did not improve from 0.84713\n",
      "12/12 [==============================] - 126s 11s/step - loss: 0.9298 - accuracy: 0.8163 - val_loss: 0.7944 - val_accuracy: 0.8344\n",
      "Epoch 5/50\n",
      "12/12 [==============================] - ETA: 0s - loss: 0.6497 - accuracy: 0.8558\n",
      "Epoch 5: val_accuracy did not improve from 0.84713\n",
      "12/12 [==============================] - 126s 11s/step - loss: 0.6497 - accuracy: 0.8558 - val_loss: 0.6589 - val_accuracy: 0.8344\n",
      "Epoch 6/50\n",
      "12/12 [==============================] - ETA: 0s - loss: 0.6156 - accuracy: 0.8544\n",
      "Epoch 6: val_accuracy improved from 0.84713 to 0.85350, saving model to .\\model1_best_weights.h5\n",
      "12/12 [==============================] - 126s 11s/step - loss: 0.6156 - accuracy: 0.8544 - val_loss: 0.6061 - val_accuracy: 0.8535\n",
      "Epoch 7/50\n",
      "12/12 [==============================] - ETA: 0s - loss: 0.4805 - accuracy: 0.8694\n",
      "Epoch 7: val_accuracy did not improve from 0.85350\n",
      "12/12 [==============================] - 126s 11s/step - loss: 0.4805 - accuracy: 0.8694 - val_loss: 0.6364 - val_accuracy: 0.8280\n",
      "Epoch 8/50\n",
      "12/12 [==============================] - ETA: 0s - loss: 0.3619 - accuracy: 0.8980\n",
      "Epoch 8: val_accuracy did not improve from 0.85350\n",
      "12/12 [==============================] - 127s 11s/step - loss: 0.3619 - accuracy: 0.8980 - val_loss: 0.5610 - val_accuracy: 0.8535\n",
      "Epoch 9/50\n",
      "12/12 [==============================] - ETA: 0s - loss: 0.2531 - accuracy: 0.9252\n",
      "Epoch 9: val_accuracy improved from 0.85350 to 0.87898, saving model to .\\model1_best_weights.h5\n",
      "12/12 [==============================] - 125s 11s/step - loss: 0.2531 - accuracy: 0.9252 - val_loss: 0.6370 - val_accuracy: 0.8790\n",
      "Epoch 10/50\n",
      "12/12 [==============================] - ETA: 0s - loss: 0.2016 - accuracy: 0.9388\n",
      "Epoch 10: val_accuracy did not improve from 0.87898\n",
      "12/12 [==============================] - 126s 11s/step - loss: 0.2016 - accuracy: 0.9388 - val_loss: 0.6870 - val_accuracy: 0.8471\n",
      "Epoch 11/50\n",
      "12/12 [==============================] - ETA: 0s - loss: 0.2309 - accuracy: 0.9238\n",
      "Epoch 11: val_accuracy did not improve from 0.87898\n",
      "12/12 [==============================] - 128s 11s/step - loss: 0.2309 - accuracy: 0.9238 - val_loss: 0.6449 - val_accuracy: 0.8599\n",
      "Epoch 12/50\n",
      "12/12 [==============================] - ETA: 0s - loss: 0.1338 - accuracy: 0.9605\n",
      "Epoch 12: val_accuracy did not improve from 0.87898\n",
      "12/12 [==============================] - 129s 11s/step - loss: 0.1338 - accuracy: 0.9605 - val_loss: 0.6786 - val_accuracy: 0.8726\n",
      "Epoch 13/50\n",
      "12/12 [==============================] - ETA: 0s - loss: 0.1604 - accuracy: 0.9456\n",
      "Epoch 13: val_accuracy did not improve from 0.87898\n",
      "12/12 [==============================] - 128s 11s/step - loss: 0.1604 - accuracy: 0.9456 - val_loss: 0.7806 - val_accuracy: 0.8280\n",
      "Epoch 14/50\n",
      "12/12 [==============================] - ETA: 0s - loss: 0.1376 - accuracy: 0.9524\n",
      "Epoch 14: val_accuracy did not improve from 0.87898\n",
      "12/12 [==============================] - 129s 11s/step - loss: 0.1376 - accuracy: 0.9524 - val_loss: 0.7246 - val_accuracy: 0.8471\n",
      "Epoch 14: early stopping\n",
      "Le temps d'entraînement est de: 1802.88 secondes.\n"
     ]
    }
   ],
   "source": [
    "import time\n",
    "\n",
    "# Enregistrez l'heure de début\n",
    "start_time = time.time()\n",
    "\n",
    "# Entraîner sur les données d'entraînement (X_train, y_train)\n",
    "with tf.device('/gpu:0'): \n",
    "    history1 = model1.fit(X_train, y_train, epochs=50, batch_size=64, \n",
    "                       callbacks=callbacks_list, validation_data=(X_val, y_val), verbose=1)\n",
    "\n",
    "# Enregistrez l'heure de fin\n",
    "end_time = time.time()\n",
    "\n",
    "# Calculez et affichez la durée\n",
    "duration = end_time - start_time\n",
    "print(f\"Le temps d'entraînement est de: {duration:.2f} secondes.\")\n"
   ]
  },
  {
   "cell_type": "code",
   "execution_count": 68,
   "id": "fab4b1e2-78f7-4e90-963a-410a778d6e28",
   "metadata": {},
   "outputs": [
    {
     "data": {
      "image/png": "[encoded data removed]",
      "text/plain": [
       "<Figure size 1000x500 with 2 Axes>"
      ]
     },
     "metadata": {},
     "output_type": "display_data"
    }
   ],
   "source": [
    "from plot_keras_history import show_history, plot_history\n",
    "import matplotlib.pyplot as plt\n",
    "\n",
    "show_history(history1)\n",
    "plot_history(history1, path=\"standard.png\")\n",
    "plt.close()"
   ]
  },
  {
   "cell_type": "code",
   "execution_count": 69,
   "id": "348c41e6-7dcb-4116-891c-c5934b157dab",
   "metadata": {},
   "outputs": [
    {
     "name": "stdout",
     "output_type": "stream",
     "text": [
      "Validation Accuracy :  0.8790\n",
      "Test Accuracy       :  0.7595\n"
     ]
    }
   ],
   "source": [
    "# Score de l'epoch optimal\n",
    "\n",
    "model1.load_weights(model1_save_path1)\n",
    "\n",
    "loss, accuracy = model1.evaluate(X_val, y_val, verbose=False)\n",
    "print(\"Validation Accuracy :  {:.4f}\".format(accuracy))\n",
    "\n",
    "loss, accuracy = model1.evaluate(X_test, y_test, verbose=False)\n",
    "print(\"Test Accuracy       :  {:.4f}\".format(accuracy))"
   ]
  },
  {
   "cell_type": "markdown",
   "id": "ec9151a4-44c9-444f-86e7-2c9d20defb0d",
   "metadata": {},
   "source": [
    "On a une grande baisse de score lorsqu'on teste notre modèle sur un nouveau dataset (Test)"
   ]
  },
  {
   "cell_type": "markdown",
   "id": "39b72f0b-92b3-4dc7-b7c4-f0e6921d88ac",
   "metadata": {},
   "source": [
    "### 2# EarlyStopping = val_loss"
   ]
  },
  {
   "cell_type": "code",
   "execution_count": 70,
   "id": "95ef1853-48ea-4fd1-94c2-ff84e0a5e714",
   "metadata": {},
   "outputs": [
    {
     "name": "stdout",
     "output_type": "stream",
     "text": [
      "Model: \"model_3\"\n",
      "_________________________________________________________________\n",
      " Layer (type)                Output Shape              Param #   \n",
      "=================================================================\n",
      " input_5 (InputLayer)        [(None, 224, 224, 3)]     0         \n",
      "                                                                 \n",
      " block1_conv1 (Conv2D)       (None, 224, 224, 64)      1792      \n",
      "                                                                 \n",
      " block1_conv2 (Conv2D)       (None, 224, 224, 64)      36928     \n",
      "                                                                 \n",
      " block1_pool (MaxPooling2D)  (None, 112, 112, 64)      0         \n",
      "                                                                 \n",
      " block2_conv1 (Conv2D)       (None, 112, 112, 128)     73856     \n",
      "                                                                 \n",
      " block2_conv2 (Conv2D)       (None, 112, 112, 128)     147584    \n",
      "                                                                 \n",
      " block2_pool (MaxPooling2D)  (None, 56, 56, 128)       0         \n",
      "                                                                 \n",
      " block3_conv1 (Conv2D)       (None, 56, 56, 256)       295168    \n",
      "                                                                 \n",
      " block3_conv2 (Conv2D)       (None, 56, 56, 256)       590080    \n",
      "                                                                 \n",
      " block3_conv3 (Conv2D)       (None, 56, 56, 256)       590080    \n",
      "                                                                 \n",
      " block3_pool (MaxPooling2D)  (None, 28, 28, 256)       0         \n",
      "                                                                 \n",
      " block4_conv1 (Conv2D)       (None, 28, 28, 512)       1180160   \n",
      "                                                                 \n",
      " block4_conv2 (Conv2D)       (None, 28, 28, 512)       2359808   \n",
      "                                                                 \n",
      " block4_conv3 (Conv2D)       (None, 28, 28, 512)       2359808   \n",
      "                                                                 \n",
      " block4_pool (MaxPooling2D)  (None, 14, 14, 512)       0         \n",
      "                                                                 \n",
      " block5_conv1 (Conv2D)       (None, 14, 14, 512)       2359808   \n",
      "                                                                 \n",
      " block5_conv2 (Conv2D)       (None, 14, 14, 512)       2359808   \n",
      "                                                                 \n",
      " block5_conv3 (Conv2D)       (None, 14, 14, 512)       2359808   \n",
      "                                                                 \n",
      " block5_pool (MaxPooling2D)  (None, 7, 7, 512)         0         \n",
      "                                                                 \n",
      " global_average_pooling2d_3   (None, 512)              0         \n",
      " (GlobalAveragePooling2D)                                        \n",
      "                                                                 \n",
      " dense_33 (Dense)            (None, 256)               131328    \n",
      "                                                                 \n",
      " dropout_3 (Dropout)         (None, 256)               0         \n",
      "                                                                 \n",
      " dense_34 (Dense)            (None, 7)                 1799      \n",
      "                                                                 \n",
      "=================================================================\n",
      "Total params: 14,847,815\n",
      "Trainable params: 133,127\n",
      "Non-trainable params: 14,714,688\n",
      "_________________________________________________________________\n",
      "None\n"
     ]
    }
   ],
   "source": [
    "import tensorflow as tf\n",
    "from tensorflow.keras.applications.vgg16 import VGG16\n",
    "from tensorflow.keras.models import Model\n",
    "from tensorflow.keras.layers import GlobalAveragePooling2D, Dense, Dropout\n",
    "from tensorflow.keras.callbacks import ModelCheckpoint, EarlyStopping\n",
    "\n",
    "# Création du modèle\n",
    "with tf.device('/gpu:0'): \n",
    "    model1 = create_model_fct()\n",
    "\n",
    "# Création du callback\n",
    "model1_save_path1 = \"./model1_best_weights.h5\"\n",
    "checkpoint = ModelCheckpoint(model1_save_path1, monitor='val_loss', verbose=1, save_best_only=True, mode='min')\n",
    "es = EarlyStopping(monitor='val_loss', mode='min', verbose=1, patience=5)\n",
    "callbacks_list = [checkpoint, es]"
   ]
  },
  {
   "cell_type": "code",
   "execution_count": 71,
   "id": "363fe61d-6f1c-47c8-a48e-9d55f002f90c",
   "metadata": {},
   "outputs": [
    {
     "name": "stdout",
     "output_type": "stream",
     "text": [
      "Epoch 1/50\n",
      "12/12 [==============================] - ETA: 0s - loss: 5.1224 - accuracy: 0.4626\n",
      "Epoch 1: val_loss improved from inf to 1.07481, saving model to .\\model1_best_weights.h5\n",
      "12/12 [==============================] - 117s 10s/step - loss: 5.1224 - accuracy: 0.4626 - val_loss: 1.0748 - val_accuracy: 0.7898\n",
      "Epoch 2/50\n",
      "12/12 [==============================] - ETA: 0s - loss: 1.8626 - accuracy: 0.6898\n",
      "Epoch 2: val_loss improved from 1.07481 to 0.95370, saving model to .\\model1_best_weights.h5\n",
      "12/12 [==============================] - 115s 10s/step - loss: 1.8626 - accuracy: 0.6898 - val_loss: 0.9537 - val_accuracy: 0.7962\n",
      "Epoch 3/50\n",
      "12/12 [==============================] - ETA: 0s - loss: 1.2219 - accuracy: 0.7497\n",
      "Epoch 3: val_loss improved from 0.95370 to 0.89262, saving model to .\\model1_best_weights.h5\n",
      "12/12 [==============================] - 115s 10s/step - loss: 1.2219 - accuracy: 0.7497 - val_loss: 0.8926 - val_accuracy: 0.8153\n",
      "Epoch 4/50\n",
      "12/12 [==============================] - ETA: 0s - loss: 0.7615 - accuracy: 0.8109\n",
      "Epoch 4: val_loss improved from 0.89262 to 0.77335, saving model to .\\model1_best_weights.h5\n",
      "12/12 [==============================] - 115s 10s/step - loss: 0.7615 - accuracy: 0.8109 - val_loss: 0.7733 - val_accuracy: 0.8344\n",
      "Epoch 5/50\n",
      "12/12 [==============================] - ETA: 0s - loss: 0.7269 - accuracy: 0.8122\n",
      "Epoch 5: val_loss improved from 0.77335 to 0.71585, saving model to .\\model1_best_weights.h5\n",
      "12/12 [==============================] - 115s 10s/step - loss: 0.7269 - accuracy: 0.8122 - val_loss: 0.7159 - val_accuracy: 0.8344\n",
      "Epoch 6/50\n",
      "12/12 [==============================] - ETA: 0s - loss: 0.4560 - accuracy: 0.8599\n",
      "Epoch 6: val_loss did not improve from 0.71585\n",
      "12/12 [==============================] - 116s 10s/step - loss: 0.4560 - accuracy: 0.8599 - val_loss: 0.7805 - val_accuracy: 0.8408\n",
      "Epoch 7/50\n",
      "12/12 [==============================] - ETA: 0s - loss: 0.4298 - accuracy: 0.8980\n",
      "Epoch 7: val_loss did not improve from 0.71585\n",
      "12/12 [==============================] - 116s 10s/step - loss: 0.4298 - accuracy: 0.8980 - val_loss: 0.7358 - val_accuracy: 0.8280\n",
      "Epoch 8/50\n",
      "12/12 [==============================] - ETA: 0s - loss: 0.3393 - accuracy: 0.8912\n",
      "Epoch 8: val_loss did not improve from 0.71585\n",
      "12/12 [==============================] - 115s 10s/step - loss: 0.3393 - accuracy: 0.8912 - val_loss: 0.7634 - val_accuracy: 0.8344\n",
      "Epoch 9/50\n",
      "12/12 [==============================] - ETA: 0s - loss: 0.2026 - accuracy: 0.9320\n",
      "Epoch 9: val_loss did not improve from 0.71585\n",
      "12/12 [==============================] - 115s 10s/step - loss: 0.2026 - accuracy: 0.9320 - val_loss: 0.7202 - val_accuracy: 0.8599\n",
      "Epoch 10/50\n",
      "12/12 [==============================] - ETA: 0s - loss: 0.1915 - accuracy: 0.9320\n",
      "Epoch 10: val_loss improved from 0.71585 to 0.70273, saving model to .\\model1_best_weights.h5\n",
      "12/12 [==============================] - 115s 10s/step - loss: 0.1915 - accuracy: 0.9320 - val_loss: 0.7027 - val_accuracy: 0.8217\n",
      "Epoch 11/50\n",
      "12/12 [==============================] - ETA: 0s - loss: 0.2035 - accuracy: 0.9320\n",
      "Epoch 11: val_loss did not improve from 0.70273\n",
      "12/12 [==============================] - 114s 10s/step - loss: 0.2035 - accuracy: 0.9320 - val_loss: 0.7863 - val_accuracy: 0.8280\n",
      "Epoch 12/50\n",
      "12/12 [==============================] - ETA: 0s - loss: 0.1166 - accuracy: 0.9551\n",
      "Epoch 12: val_loss did not improve from 0.70273\n",
      "12/12 [==============================] - 114s 10s/step - loss: 0.1166 - accuracy: 0.9551 - val_loss: 0.7413 - val_accuracy: 0.8535\n",
      "Epoch 13/50\n",
      "12/12 [==============================] - ETA: 0s - loss: 0.1522 - accuracy: 0.9497\n",
      "Epoch 13: val_loss did not improve from 0.70273\n",
      "12/12 [==============================] - 113s 10s/step - loss: 0.1522 - accuracy: 0.9497 - val_loss: 0.7354 - val_accuracy: 0.8344\n",
      "Epoch 14/50\n",
      "12/12 [==============================] - ETA: 0s - loss: 0.0813 - accuracy: 0.9673\n",
      "Epoch 14: val_loss did not improve from 0.70273\n",
      "12/12 [==============================] - 114s 10s/step - loss: 0.0813 - accuracy: 0.9673 - val_loss: 0.8381 - val_accuracy: 0.8599\n",
      "Epoch 15/50\n",
      "12/12 [==============================] - ETA: 0s - loss: 0.0915 - accuracy: 0.9769\n",
      "Epoch 15: val_loss did not improve from 0.70273\n",
      "12/12 [==============================] - 114s 10s/step - loss: 0.0915 - accuracy: 0.9769 - val_loss: 0.8512 - val_accuracy: 0.8471\n",
      "Epoch 15: early stopping\n",
      "Le temps d'entraînement est de: 1722.07 secondes.\n"
     ]
    }
   ],
   "source": [
    "import time\n",
    "\n",
    "# Enregistrez l'heure de début\n",
    "start_time = time.time()\n",
    "\n",
    "# Entraîner sur les données d'entraînement (X_train, y_train)\n",
    "with tf.device('/gpu:0'): \n",
    "    history1 = model1.fit(X_train, y_train, epochs=50, batch_size=64, \n",
    "                       callbacks=callbacks_list, validation_data=(X_val, y_val), verbose=1)\n",
    "\n",
    "# Enregistrez l'heure de fin\n",
    "end_time = time.time()\n",
    "\n",
    "# Calculez et affichez la durée\n",
    "duration = end_time - start_time\n",
    "print(f\"Le temps d'entraînement est de: {duration:.2f} secondes.\")"
   ]
  },
  {
   "cell_type": "code",
   "execution_count": 72,
   "id": "6dc47ec1-47cf-42c4-a424-6766ecc4e121",
   "metadata": {},
   "outputs": [
    {
     "data": {
      "image/png": "[encoded data removed]",
      "text/plain": [
       "<Figure size 1000x500 with 2 Axes>"
      ]
     },
     "metadata": {},
     "output_type": "display_data"
    }
   ],
   "source": [
    "from plot_keras_history import show_history, plot_history\n",
    "import matplotlib.pyplot as plt\n",
    "\n",
    "show_history(history1)\n",
    "plot_history(history1, path=\"standard.png\")\n",
    "plt.close()"
   ]
  },
  {
   "cell_type": "code",
   "execution_count": 74,
   "id": "8ea75aba-d8e5-4b9d-8671-8fb4b62ae263",
   "metadata": {},
   "outputs": [
    {
     "name": "stdout",
     "output_type": "stream",
     "text": [
      "Validation Loss     :  0.7027\n",
      "Validation Accuracy :  0.8217\n",
      "\n",
      "Test Loss           :  1.3350\n",
      "Test Accuracy       :  0.8165\n"
     ]
    }
   ],
   "source": [
    "# Score de l'epoch optimal\n",
    "\n",
    "model1.load_weights(model1_save_path1)\n",
    "\n",
    "loss, accuracy = model1.evaluate(X_val, y_val, verbose=False)\n",
    "print(\"Validation Loss     :  {:.4f}\".format(loss))\n",
    "print(\"Validation Accuracy :  {:.4f}\".format(accuracy))\n",
    "\n",
    "print(\"\")\n",
    "\n",
    "loss, accuracy = model1.evaluate(X_test, y_test, verbose=False)\n",
    "print(\"Test Loss           :  {:.4f}\".format(loss))\n",
    "print(\"Test Accuracy       :  {:.4f}\".format(accuracy))\n"
   ]
  },
  {
   "cell_type": "markdown",
   "id": "8f3ab290-db73-4dce-bc4b-742064a96c02",
   "metadata": {},
   "source": [
    "La qualité n'a pas énormément baissé lorsqu'on a testé ce modèle sur un nouveau dataset (Test)"
   ]
  },
  {
   "cell_type": "markdown",
   "id": "7108633c-65b3-45c4-bed0-f138e1950ad1",
   "metadata": {},
   "source": [
    "### Conclusion:"
   ]
  },
  {
   "cell_type": "markdown",
   "id": "c3bb2cf5-b644-4f58-ba1b-3af40c33c8a2",
   "metadata": {},
   "source": [
    "Il vaut mieux utiliser le val_loss pour le Early Stopping"
   ]
  },
  {
   "cell_type": "markdown",
   "id": "068b10ef-074a-4b7d-bd02-ca0adae214ca",
   "metadata": {},
   "source": [
    "**Modèle de forte complexité:**\n",
    "- Nb_Epochs = 15\n",
    "- test_loss = 1.335\n",
    "- test_accuracy = 0.8165\n",
    "- temps = 1722.07 secondes"
   ]
  },
  {
   "cell_type": "markdown",
   "id": "c5729a70-e917-495c-b1af-635807b1d38c",
   "metadata": {},
   "source": [
    "## CE6 Vous avez présenté une synthèse comparative des différents modèles, par exemple sous forme de tableau. "
   ]
  },
  {
   "cell_type": "code",
   "execution_count": 3,
   "id": "e7df4577-063a-4aa6-9cc4-01bf3df552c0",
   "metadata": {},
   "outputs": [
    {
     "data": {
      "text/html": [
       "<style type=\"text/css\">\n",
       "#T_78974_row0_col0, #T_78974_row0_col3, #T_78974_row2_col1, #T_78974_row2_col2 {\n",
       "  background-color: green;\n",
       "}\n",
       "</style>\n",
       "<table id=\"T_78974\">\n",
       "  <thead>\n",
       "    <tr>\n",
       "      <th class=\"blank level0\" >&nbsp;</th>\n",
       "      <th id=\"T_78974_level0_col0\" class=\"col_heading level0 col0\" >Nb_Epochs</th>\n",
       "      <th id=\"T_78974_level0_col1\" class=\"col_heading level0 col1\" >test_loss</th>\n",
       "      <th id=\"T_78974_level0_col2\" class=\"col_heading level0 col2\" >test_accuracy</th>\n",
       "      <th id=\"T_78974_level0_col3\" class=\"col_heading level0 col3\" >temps (s)</th>\n",
       "    </tr>\n",
       "    <tr>\n",
       "      <th class=\"index_name level0\" >Modèle</th>\n",
       "      <th class=\"blank col0\" >&nbsp;</th>\n",
       "      <th class=\"blank col1\" >&nbsp;</th>\n",
       "      <th class=\"blank col2\" >&nbsp;</th>\n",
       "      <th class=\"blank col3\" >&nbsp;</th>\n",
       "    </tr>\n",
       "  </thead>\n",
       "  <tbody>\n",
       "    <tr>\n",
       "      <th id=\"T_78974_level0_row0\" class=\"row_heading level0 row0\" >Perceptron multicouche</th>\n",
       "      <td id=\"T_78974_row0_col0\" class=\"data row0 col0\" >6</td>\n",
       "      <td id=\"T_78974_row0_col1\" class=\"data row0 col1\" >2072.290000</td>\n",
       "      <td id=\"T_78974_row0_col2\" class=\"data row0 col2\" >0.354400</td>\n",
       "      <td id=\"T_78974_row0_col3\" class=\"data row0 col3\" >21.110000</td>\n",
       "    </tr>\n",
       "    <tr>\n",
       "      <th id=\"T_78974_level0_row1\" class=\"row_heading level0 row1\" >Modèle simple CNN</th>\n",
       "      <td id=\"T_78974_row1_col0\" class=\"data row1 col0\" >9</td>\n",
       "      <td id=\"T_78974_row1_col1\" class=\"data row1 col1\" >1.900600</td>\n",
       "      <td id=\"T_78974_row1_col2\" class=\"data row1 col2\" >0.341800</td>\n",
       "      <td id=\"T_78974_row1_col3\" class=\"data row1 col3\" >162.670000</td>\n",
       "    </tr>\n",
       "    <tr>\n",
       "      <th id=\"T_78974_level0_row2\" class=\"row_heading level0 row2\" >VGG16 + Transfer Learning</th>\n",
       "      <td id=\"T_78974_row2_col0\" class=\"data row2 col0\" >15</td>\n",
       "      <td id=\"T_78974_row2_col1\" class=\"data row2 col1\" >1.335000</td>\n",
       "      <td id=\"T_78974_row2_col2\" class=\"data row2 col2\" >0.816500</td>\n",
       "      <td id=\"T_78974_row2_col3\" class=\"data row2 col3\" >1722.070000</td>\n",
       "    </tr>\n",
       "  </tbody>\n",
       "</table>\n"
      ],
      "text/plain": [
       "<pandas.io.formats.style.Styler at 0x20825730580>"
      ]
     },
     "execution_count": 3,
     "metadata": {},
     "output_type": "execute_result"
    }
   ],
   "source": [
    "import pandas as pd\n",
    "\n",
    "data = {\n",
    "    \"Modèle\": [\"Perceptron multicouche\", \"Modèle simple CNN\", \"VGG16 + Transfer Learning\"],\n",
    "    \"Nb_Epochs\": [6, 9, 15],\n",
    "    \"test_loss\": [2072.2900, 1.9006, 1.335],\n",
    "    \"test_accuracy\": [0.3544, 0.3418, 0.8165],\n",
    "    \"temps (s)\": [21.11, 162.67, 1722.07]\n",
    "}\n",
    "\n",
    "df = pd.DataFrame(data)\n",
    "df.set_index('Modèle', inplace=True)\n",
    "\n",
    "def highlight_cells(col):\n",
    "    # Dictionnaire pour mapper les colonnes aux fonctions appropriées\n",
    "    mappers = {\n",
    "        'Nb_Epochs': min,\n",
    "        'test_loss': min,\n",
    "        'test_accuracy': max,\n",
    "        'temps (s)': min\n",
    "    }\n",
    "    \n",
    "    if col.name in mappers:\n",
    "        criteria = mappers[col.name](col)\n",
    "        return ['background-color: green' if v == criteria else '' for v in col]\n",
    "    return [''] * len(col)\n",
    "\n",
    "styled_df = df.style.apply(highlight_cells)\n",
    "styled_df\n"
   ]
  },
  {
   "cell_type": "code",
   "execution_count": null,
   "id": "cf3be404-a25c-4f62-a830-452e760daf55",
   "metadata": {},
   "outputs": [],
   "source": []
  }
 ],
 "metadata": {
  "celltoolbar": "Format de la Cellule Texte Brut",
  "kernelspec": {
   "display_name": "Python 3 (ipykernel)",
   "language": "python",
   "name": "python3"
  },
  "language_info": {
   "codemirror_mode": {
    "name": "ipython",
    "version": 3
   },
   "file_extension": ".py",
   "mimetype": "text/x-python",
   "name": "python",
   "nbconvert_exporter": "python",
   "pygments_lexer": "ipython3",
   "version": "3.11.5"
  },
  "vscode": {
   "interpreter": {
    "hash": "66168a667a11ac16aca0d0d9742c8419f93457ff66115bf85239ea370d417636"
   }
  }
 },
 "nbformat": 4,
 "nbformat_minor": 5
}
