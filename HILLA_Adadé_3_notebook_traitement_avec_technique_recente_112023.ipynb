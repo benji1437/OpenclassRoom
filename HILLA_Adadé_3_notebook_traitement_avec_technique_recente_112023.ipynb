{
 "cells": [
  {
   "cell_type": "code",
   "execution_count": 15,
   "id": "6de1689e",
   "metadata": {},
   "outputs": [],
   "source": [
    "import numpy as np\n",
    "import pandas as pd\n",
    "from tensorflow.keras.preprocessing.image import load_img, img_to_array\n",
    "from tensorflow.keras.applications.vgg16 import preprocess_input\n",
    "from tensorflow.keras.utils import to_categorical\n",
    "from PIL import Image\n",
    "import os\n",
    "from sklearn.preprocessing import LabelEncoder\n",
    "from sklearn.model_selection import train_test_split\n",
    "from tensorflow.keras.models import Sequential\n",
    "from tensorflow.keras.layers import Conv2D, MaxPooling2D, Flatten, Dense\n",
    "from tensorflow.keras.callbacks import EarlyStopping\n",
    "import time\n",
    "import tensorflow as tf\n",
    "from tensorflow.keras.applications.vgg16 import VGG16\n",
    "from tensorflow.keras.models import Model\n",
    "from tensorflow.keras.layers import GlobalAveragePooling2D, Dense, Dropout\n",
    "from tensorflow.keras.callbacks import ModelCheckpoint, EarlyStopping\n",
    "from tensorflow.keras.layers import Rescaling, RandomFlip, RandomRotation, RandomZoom\n"
   ]
  },
  {
   "cell_type": "code",
   "execution_count": 16,
   "id": "b80be23d",
   "metadata": {},
   "outputs": [],
   "source": [
    "df = pd.read_csv('df_t.csv')"
   ]
  },
  {
   "cell_type": "code",
   "execution_count": 17,
   "id": "4cea430b",
   "metadata": {},
   "outputs": [
    {
     "data": {
      "text/plain": [
       "(315, 23)"
      ]
     },
     "execution_count": 17,
     "metadata": {},
     "output_type": "execute_result"
    }
   ],
   "source": [
    "df_samp= df.sample(frac=0.3)\n",
    "df_samp.shape"
   ]
  },
  {
   "cell_type": "code",
   "execution_count": 20,
   "id": "2e30dd86",
   "metadata": {},
   "outputs": [
    {
     "name": "stdout",
     "output_type": "stream",
     "text": [
      "(315, 224, 224, 3)\n"
     ]
    }
   ],
   "source": [
    "# Augmenter la limite par défaut (ici, par exemple, fixée à une valeur très élevée)\n",
    "Image.MAX_IMAGE_PIXELS = None \n",
    "\n",
    "def image_prep_fct(df):\n",
    "    # Définir le chemin d'accès relatif aux images\n",
    "    base_image_path = \"Images/\"\n",
    "\n",
    "    prepared_images = []\n",
    "    for image_name in df_samp['image']:\n",
    "        # Construire le chemin complet de l'image\n",
    "        image_path = os.path.join(base_image_path, image_name)\n",
    "\n",
    "        # Charger, traiter et prétraiter l'image\n",
    "        img = load_img(image_path, target_size=(224, 224))\n",
    "        img = img_to_array(img)\n",
    "        img = img.reshape((img.shape[0], img.shape[1], img.shape[2]))\n",
    "        img = preprocess_input(img)\n",
    "        prepared_images.append(img)\n",
    "\n",
    "    prepared_images_np = np.array(prepared_images)\n",
    "    return prepared_images_np\n",
    "    \n",
    "images_np = image_prep_fct(df_samp)\n",
    "X = images_np\n",
    "print(X.shape)"
   ]
  },
  {
   "cell_type": "code",
   "execution_count": 21,
   "id": "6230d7b4",
   "metadata": {},
   "outputs": [
    {
     "name": "stdout",
     "output_type": "stream",
     "text": [
      "(315, 7)\n"
     ]
    }
   ],
   "source": [
    "# Initialisation du LabelEncoder\n",
    "label_encoder = LabelEncoder()\n",
    "\n",
    "# Convertir les labels texte en labels numériques\n",
    "y_encoded = label_encoder.fit_transform(df_samp['category'])\n",
    "\n",
    "# Conversion des labels numériques en one-hot encoding\n",
    "y = to_categorical(y_encoded)\n",
    "\n",
    "print(y.shape)"
   ]
  },
  {
   "cell_type": "code",
   "execution_count": 22,
   "id": "63e18826",
   "metadata": {},
   "outputs": [],
   "source": [
    "X_temp, X_train, y_temp, y_train = train_test_split(X, y, test_size=0.7, random_state=42, stratify=y)\n",
    "X_val, X_test, y_val, y_test = train_test_split(X_temp, y_temp, test_size=0.5, random_state=42, stratify=y_temp)"
   ]
  },
  {
   "cell_type": "code",
   "execution_count": 23,
   "id": "89686949",
   "metadata": {},
   "outputs": [
    {
     "data": {
      "text/plain": [
       "((221, 224, 224, 3), (47, 224, 224, 3), (47, 224, 224, 3))"
      ]
     },
     "execution_count": 23,
     "metadata": {},
     "output_type": "execute_result"
    }
   ],
   "source": [
    "X_train.shape, X_val.shape, X_test.shape"
   ]
  },
  {
   "cell_type": "code",
   "execution_count": 24,
   "id": "e673574f",
   "metadata": {},
   "outputs": [],
   "source": [
    "def create_model_fct() :\n",
    "    # Data augmentation\n",
    "    data_augmentation = Sequential([\n",
    "        RandomFlip(\"horizontal\", input_shape=(224, 224, 3)),\n",
    "        RandomRotation(0.1),\n",
    "        RandomZoom(0.1),\n",
    "        # Rescaling(1./127.5, offset=-1.0)\n",
    "      ])\n",
    "    \n",
    "    # Récupération modèle pré-entraîné\n",
    "    model_base = VGG16(include_top=False, weights=\"imagenet\", input_shape=(224, 224, 3))\n",
    "    for layer in model_base.layers:\n",
    "        layer.trainable = False\n",
    "\n",
    "    # Définition du nouveau modèle\n",
    "    model = Sequential([\n",
    "                data_augmentation,\n",
    "                Rescaling(1./127.5, offset=-1),\n",
    "                model_base,\n",
    "                GlobalAveragePooling2D(),\n",
    "                Dense(256, activation='relu'),\n",
    "                Dropout(0.5),\n",
    "                Dense(7, activation='softmax')\n",
    "                ])\n",
    "\n",
    "    # compilation du modèle \n",
    "    model.compile(loss=\"categorical_crossentropy\", optimizer='rmsprop', metrics=[\"accuracy\"])\n",
    "\n",
    "    print(model.summary())\n",
    "    \n",
    "    return model"
   ]
  },
  {
   "cell_type": "code",
   "execution_count": 26,
   "id": "1e5ebe8a",
   "metadata": {},
   "outputs": [
    {
     "name": "stdout",
     "output_type": "stream",
     "text": [
      "Model: \"sequential_1\"\n",
      "_________________________________________________________________\n",
      " Layer (type)                Output Shape              Param #   \n",
      "=================================================================\n",
      " sequential (Sequential)     (None, 224, 224, 3)       0         \n",
      "                                                                 \n",
      " rescaling (Rescaling)       (None, 224, 224, 3)       0         \n",
      "                                                                 \n",
      " vgg16 (Functional)          (None, 7, 7, 512)         14714688  \n",
      "                                                                 \n",
      " global_average_pooling2d (G  (None, 512)              0         \n",
      " lobalAveragePooling2D)                                          \n",
      "                                                                 \n",
      " dense (Dense)               (None, 256)               131328    \n",
      "                                                                 \n",
      " dropout (Dropout)           (None, 256)               0         \n",
      "                                                                 \n",
      " dense_1 (Dense)             (None, 7)                 1799      \n",
      "                                                                 \n",
      "=================================================================\n",
      "Total params: 14,847,815\n",
      "Trainable params: 133,127\n",
      "Non-trainable params: 14,714,688\n",
      "_________________________________________________________________\n",
      "None\n"
     ]
    }
   ],
   "source": [
    "# Création du modèle\n",
    "with tf.device('/gpu:0'): \n",
    "    model1 = create_model_fct()\n",
    "\n",
    "# Création du callback\n",
    "model1_save_path1 = \"./model1_best_weights.h5\"\n",
    "checkpoint = ModelCheckpoint(model1_save_path1, monitor='val_loss', verbose=1, save_best_only=True, mode='min')\n",
    "es = EarlyStopping(monitor='val_loss', mode='min', verbose=1, patience=5)\n",
    "callbacks_list = [checkpoint, es]"
   ]
  },
  {
   "cell_type": "code",
   "execution_count": 27,
   "id": "75cfda6a",
   "metadata": {},
   "outputs": [
    {
     "name": "stdout",
     "output_type": "stream",
     "text": [
      "Epoch 1/20\n",
      "4/4 [==============================] - ETA: 0s - loss: 1.9496 - accuracy: 0.2036  \n",
      "Epoch 1: val_loss improved from inf to 1.58736, saving model to .\\model1_best_weights.h5\n",
      "4/4 [==============================] - 307s 75s/step - loss: 1.9496 - accuracy: 0.2036 - val_loss: 1.5874 - val_accuracy: 0.6383\n",
      "Epoch 2/20\n",
      "4/4 [==============================] - ETA: 0s - loss: 1.6957 - accuracy: 0.3575  \n",
      "Epoch 2: val_loss improved from 1.58736 to 1.37358, saving model to .\\model1_best_weights.h5\n",
      "4/4 [==============================] - 305s 80s/step - loss: 1.6957 - accuracy: 0.3575 - val_loss: 1.3736 - val_accuracy: 0.6809\n",
      "Epoch 3/20\n",
      "4/4 [==============================] - ETA: 0s - loss: 1.4713 - accuracy: 0.5385  \n",
      "Epoch 3: val_loss improved from 1.37358 to 1.24437, saving model to .\\model1_best_weights.h5\n",
      "4/4 [==============================] - 424s 113s/step - loss: 1.4713 - accuracy: 0.5385 - val_loss: 1.2444 - val_accuracy: 0.7447\n",
      "Epoch 4/20\n",
      "4/4 [==============================] - ETA: 0s - loss: 1.3642 - accuracy: 0.5611  \n",
      "Epoch 4: val_loss improved from 1.24437 to 1.15307, saving model to .\\model1_best_weights.h5\n",
      "4/4 [==============================] - 362s 86s/step - loss: 1.3642 - accuracy: 0.5611 - val_loss: 1.1531 - val_accuracy: 0.6809\n",
      "Epoch 5/20\n",
      "4/4 [==============================] - ETA: 0s - loss: 1.1900 - accuracy: 0.6335  \n",
      "Epoch 5: val_loss improved from 1.15307 to 1.04123, saving model to .\\model1_best_weights.h5\n",
      "4/4 [==============================] - 342s 80s/step - loss: 1.1900 - accuracy: 0.6335 - val_loss: 1.0412 - val_accuracy: 0.7872\n",
      "Epoch 6/20\n",
      "4/4 [==============================] - ETA: 0s - loss: 1.1658 - accuracy: 0.6742  \n",
      "Epoch 6: val_loss improved from 1.04123 to 0.97273, saving model to .\\model1_best_weights.h5\n",
      "4/4 [==============================] - 314s 80s/step - loss: 1.1658 - accuracy: 0.6742 - val_loss: 0.9727 - val_accuracy: 0.7447\n",
      "Epoch 7/20\n",
      "4/4 [==============================] - ETA: 0s - loss: 1.0633 - accuracy: 0.6968  \n",
      "Epoch 7: val_loss improved from 0.97273 to 0.90218, saving model to .\\model1_best_weights.h5\n",
      "4/4 [==============================] - 370s 94s/step - loss: 1.0633 - accuracy: 0.6968 - val_loss: 0.9022 - val_accuracy: 0.8298\n",
      "Epoch 8/20\n",
      "4/4 [==============================] - ETA: 0s - loss: 1.0271 - accuracy: 0.7240  \n",
      "Epoch 8: val_loss improved from 0.90218 to 0.86297, saving model to .\\model1_best_weights.h5\n",
      "4/4 [==============================] - 335s 84s/step - loss: 1.0271 - accuracy: 0.7240 - val_loss: 0.8630 - val_accuracy: 0.8085\n",
      "Epoch 9/20\n",
      "4/4 [==============================] - ETA: 0s - loss: 0.9497 - accuracy: 0.7195  \n",
      "Epoch 9: val_loss improved from 0.86297 to 0.81793, saving model to .\\model1_best_weights.h5\n",
      "4/4 [==============================] - 340s 86s/step - loss: 0.9497 - accuracy: 0.7195 - val_loss: 0.8179 - val_accuracy: 0.7660\n",
      "Epoch 10/20\n",
      "4/4 [==============================] - ETA: 0s - loss: 0.9157 - accuracy: 0.7421  \n",
      "Epoch 10: val_loss improved from 0.81793 to 0.81045, saving model to .\\model1_best_weights.h5\n",
      "4/4 [==============================] - 368s 91s/step - loss: 0.9157 - accuracy: 0.7421 - val_loss: 0.8105 - val_accuracy: 0.8511\n",
      "Epoch 11/20\n",
      "4/4 [==============================] - ETA: 0s - loss: 0.8770 - accuracy: 0.7602  \n",
      "Epoch 11: val_loss improved from 0.81045 to 0.78293, saving model to .\\model1_best_weights.h5\n",
      "4/4 [==============================] - 379s 92s/step - loss: 0.8770 - accuracy: 0.7602 - val_loss: 0.7829 - val_accuracy: 0.8085\n",
      "Epoch 12/20\n",
      "4/4 [==============================] - ETA: 0s - loss: 0.8595 - accuracy: 0.7647  \n",
      "Epoch 12: val_loss improved from 0.78293 to 0.71818, saving model to .\\model1_best_weights.h5\n",
      "4/4 [==============================] - 353s 82s/step - loss: 0.8595 - accuracy: 0.7647 - val_loss: 0.7182 - val_accuracy: 0.7872\n",
      "Epoch 13/20\n",
      "4/4 [==============================] - ETA: 0s - loss: 0.7984 - accuracy: 0.7828  \n",
      "Epoch 13: val_loss improved from 0.71818 to 0.68037, saving model to .\\model1_best_weights.h5\n",
      "4/4 [==============================] - 350s 85s/step - loss: 0.7984 - accuracy: 0.7828 - val_loss: 0.6804 - val_accuracy: 0.8085\n",
      "Epoch 14/20\n",
      "4/4 [==============================] - ETA: 0s - loss: 0.7286 - accuracy: 0.7919  \n",
      "Epoch 14: val_loss improved from 0.68037 to 0.66829, saving model to .\\model1_best_weights.h5\n",
      "4/4 [==============================] - 274s 67s/step - loss: 0.7286 - accuracy: 0.7919 - val_loss: 0.6683 - val_accuracy: 0.7872\n",
      "Epoch 15/20\n",
      "4/4 [==============================] - ETA: 0s - loss: 0.7313 - accuracy: 0.7828  \n",
      "Epoch 15: val_loss improved from 0.66829 to 0.61547, saving model to .\\model1_best_weights.h5\n",
      "4/4 [==============================] - 267s 68s/step - loss: 0.7313 - accuracy: 0.7828 - val_loss: 0.6155 - val_accuracy: 0.8511\n",
      "Epoch 16/20\n",
      "4/4 [==============================] - ETA: 0s - loss: 0.7196 - accuracy: 0.7873  \n",
      "Epoch 16: val_loss did not improve from 0.61547\n",
      "4/4 [==============================] - 267s 67s/step - loss: 0.7196 - accuracy: 0.7873 - val_loss: 0.6457 - val_accuracy: 0.7872\n",
      "Epoch 17/20\n",
      "4/4 [==============================] - ETA: 0s - loss: 0.6862 - accuracy: 0.8100  \n",
      "Epoch 17: val_loss improved from 0.61547 to 0.61160, saving model to .\\model1_best_weights.h5\n",
      "4/4 [==============================] - 266s 67s/step - loss: 0.6862 - accuracy: 0.8100 - val_loss: 0.6116 - val_accuracy: 0.8511\n",
      "Epoch 18/20\n",
      "4/4 [==============================] - ETA: 0s - loss: 0.6233 - accuracy: 0.8281  \n",
      "Epoch 18: val_loss improved from 0.61160 to 0.55553, saving model to .\\model1_best_weights.h5\n",
      "4/4 [==============================] - 265s 67s/step - loss: 0.6233 - accuracy: 0.8281 - val_loss: 0.5555 - val_accuracy: 0.8511\n",
      "Epoch 19/20\n",
      "4/4 [==============================] - ETA: 0s - loss: 0.6152 - accuracy: 0.8416  \n",
      "Epoch 19: val_loss did not improve from 0.55553\n",
      "4/4 [==============================] - 271s 69s/step - loss: 0.6152 - accuracy: 0.8416 - val_loss: 0.5653 - val_accuracy: 0.8085\n",
      "Epoch 20/20\n",
      "4/4 [==============================] - ETA: 0s - loss: 0.6184 - accuracy: 0.8054  \n",
      "Epoch 20: val_loss did not improve from 0.55553\n",
      "4/4 [==============================] - 266s 67s/step - loss: 0.6184 - accuracy: 0.8054 - val_loss: 0.5790 - val_accuracy: 0.7872\n",
      "Le temps d'entraînement est de: 6425.73 secondes.\n"
     ]
    }
   ],
   "source": [
    "# Enregistrez l'heure de début\n",
    "start_time = time.time()\n",
    "\n",
    "# Entraîner sur les données d'entraînement (X_train, y_train)\n",
    "with tf.device('/gpu:0'): \n",
    "    history1 = model1.fit(X_train, y_train, epochs=20, batch_size=64, \n",
    "                       callbacks=callbacks_list, validation_data=(X_val, y_val), verbose=1)\n",
    "\n",
    "# Enregistrez l'heure de fin\n",
    "end_time = time.time()\n",
    "\n",
    "# Calculez et affichez la durée\n",
    "duration = end_time - start_time\n",
    "print(f\"Le temps d'entraînement est de: {duration:.2f} secondes.\")"
   ]
  },
  {
   "cell_type": "code",
   "execution_count": 28,
   "id": "383c354c",
   "metadata": {},
   "outputs": [
    {
     "data": {
      "image/png": "[encoded data removed]",
      "text/plain": [
       "<Figure size 1000x500 with 2 Axes>"
      ]
     },
     "metadata": {},
     "output_type": "display_data"
    }
   ],
   "source": [
    "from plot_keras_history import show_history, plot_history\n",
    "import matplotlib.pyplot as plt\n",
    "\n",
    "show_history(history1)\n",
    "plot_history(history1, path=\"standard.png\")\n",
    "plt.close()"
   ]
  },
  {
   "cell_type": "code",
   "execution_count": 29,
   "id": "3a538d07",
   "metadata": {},
   "outputs": [
    {
     "name": "stdout",
     "output_type": "stream",
     "text": [
      "Validation Loss     :  0.5555\n",
      "Validation Accuracy :  0.8511\n",
      "\n",
      "Test Loss           :  1.2635\n",
      "Test Accuracy       :  0.5957\n"
     ]
    }
   ],
   "source": [
    "# Score de l'epoch optimal\n",
    "\n",
    "model1.load_weights(model1_save_path1)\n",
    "\n",
    "loss, accuracy = model1.evaluate(X_val, y_val, verbose=False)\n",
    "print(\"Validation Loss     :  {:.4f}\".format(loss))\n",
    "print(\"Validation Accuracy :  {:.4f}\".format(accuracy))\n",
    "\n",
    "print(\"\")\n",
    "\n",
    "loss, accuracy = model1.evaluate(X_test, y_test, verbose=False)\n",
    "print(\"Test Loss           :  {:.4f}\".format(loss))\n",
    "print(\"Test Accuracy       :  {:.4f}\".format(accuracy))"
   ]
  },
  {
   "cell_type": "code",
   "execution_count": 30,
   "id": "5c1db0f1",
   "metadata": {},
   "outputs": [
    {
     "data": {
      "text/html": [
       "<style type=\"text/css\">\n",
       "#T_9a4e9_row0_col0, #T_9a4e9_row0_col3, #T_9a4e9_row2_col2, #T_9a4e9_row3_col1 {\n",
       "  background-color: green;\n",
       "}\n",
       "</style>\n",
       "<table id=\"T_9a4e9\">\n",
       "  <thead>\n",
       "    <tr>\n",
       "      <th class=\"blank level0\" >&nbsp;</th>\n",
       "      <th id=\"T_9a4e9_level0_col0\" class=\"col_heading level0 col0\" >Nb_Epochs</th>\n",
       "      <th id=\"T_9a4e9_level0_col1\" class=\"col_heading level0 col1\" >test_loss</th>\n",
       "      <th id=\"T_9a4e9_level0_col2\" class=\"col_heading level0 col2\" >test_accuracy</th>\n",
       "      <th id=\"T_9a4e9_level0_col3\" class=\"col_heading level0 col3\" >temps (s)</th>\n",
       "    </tr>\n",
       "    <tr>\n",
       "      <th class=\"index_name level0\" >Modèle</th>\n",
       "      <th class=\"blank col0\" >&nbsp;</th>\n",
       "      <th class=\"blank col1\" >&nbsp;</th>\n",
       "      <th class=\"blank col2\" >&nbsp;</th>\n",
       "      <th class=\"blank col3\" >&nbsp;</th>\n",
       "    </tr>\n",
       "  </thead>\n",
       "  <tbody>\n",
       "    <tr>\n",
       "      <th id=\"T_9a4e9_level0_row0\" class=\"row_heading level0 row0\" >Perceptron multicouche</th>\n",
       "      <td id=\"T_9a4e9_row0_col0\" class=\"data row0 col0\" >6</td>\n",
       "      <td id=\"T_9a4e9_row0_col1\" class=\"data row0 col1\" >2072.290000</td>\n",
       "      <td id=\"T_9a4e9_row0_col2\" class=\"data row0 col2\" >0.354400</td>\n",
       "      <td id=\"T_9a4e9_row0_col3\" class=\"data row0 col3\" >21.110000</td>\n",
       "    </tr>\n",
       "    <tr>\n",
       "      <th id=\"T_9a4e9_level0_row1\" class=\"row_heading level0 row1\" >Modèle simple CNN</th>\n",
       "      <td id=\"T_9a4e9_row1_col0\" class=\"data row1 col0\" >9</td>\n",
       "      <td id=\"T_9a4e9_row1_col1\" class=\"data row1 col1\" >1.900600</td>\n",
       "      <td id=\"T_9a4e9_row1_col2\" class=\"data row1 col2\" >0.341800</td>\n",
       "      <td id=\"T_9a4e9_row1_col3\" class=\"data row1 col3\" >162.670000</td>\n",
       "    </tr>\n",
       "    <tr>\n",
       "      <th id=\"T_9a4e9_level0_row2\" class=\"row_heading level0 row2\" >VGG16 + Transfer Learning</th>\n",
       "      <td id=\"T_9a4e9_row2_col0\" class=\"data row2 col0\" >15</td>\n",
       "      <td id=\"T_9a4e9_row2_col1\" class=\"data row2 col1\" >1.335000</td>\n",
       "      <td id=\"T_9a4e9_row2_col2\" class=\"data row2 col2\" >0.816500</td>\n",
       "      <td id=\"T_9a4e9_row2_col3\" class=\"data row2 col3\" >1722.070000</td>\n",
       "    </tr>\n",
       "    <tr>\n",
       "      <th id=\"T_9a4e9_level0_row3\" class=\"row_heading level0 row3\" >VGG16 + Transfer Learning + DATA AUGMENTATION</th>\n",
       "      <td id=\"T_9a4e9_row3_col0\" class=\"data row3 col0\" >20</td>\n",
       "      <td id=\"T_9a4e9_row3_col1\" class=\"data row3 col1\" >0.720000</td>\n",
       "      <td id=\"T_9a4e9_row3_col2\" class=\"data row3 col2\" >0.772200</td>\n",
       "      <td id=\"T_9a4e9_row3_col3\" class=\"data row3 col3\" >368.700000</td>\n",
       "    </tr>\n",
       "  </tbody>\n",
       "</table>\n"
      ],
      "text/plain": [
       "<pandas.io.formats.style.Styler at 0x23bb80fd090>"
      ]
     },
     "execution_count": 30,
     "metadata": {},
     "output_type": "execute_result"
    }
   ],
   "source": [
    "df_rec = {\n",
    "    \"Modèle\": [\"Perceptron multicouche\", \"Modèle simple CNN\", \"VGG16 + Transfer Learning\", \"VGG16 + Transfer Learning + DATA AUGMENTATION\"],\n",
    "    \"Nb_Epochs\": [6, 9, 15, 20],\n",
    "    \"test_loss\": [2072.2900, 1.9006, 1.335, 0.7200],\n",
    "    \"test_accuracy\": [0.3544, 0.3418, 0.8165, 0.7722],\n",
    "    \"temps (s)\": [21.11, 162.67, 1722.07, 368.70]\n",
    "}\n",
    "\n",
    "df = pd.DataFrame(df_rec)\n",
    "df.set_index('Modèle', inplace=True)\n",
    "\n",
    "def highlight_cells(col):\n",
    "    # Dictionnaire pour mapper les colonnes aux fonctions appropriées\n",
    "    mappers = {\n",
    "        'Nb_Epochs': min,\n",
    "        'test_loss': min,\n",
    "        'test_accuracy': max,\n",
    "        'temps (s)': min\n",
    "    }\n",
    "    \n",
    "    if col.name in mappers:\n",
    "        criteria = mappers[col.name](col)\n",
    "        return ['background-color: green' if v == criteria else '' for v in col]\n",
    "    return [''] * len(col)\n",
    "\n",
    "styled_df = df.style.apply(highlight_cells)\n",
    "styled_df\n"
   ]
  },
  {
   "cell_type": "code",
   "execution_count": null,
   "id": "08915c14",
   "metadata": {},
   "outputs": [],
   "source": []
  }
 ],
 "metadata": {
  "kernelspec": {
   "display_name": "Python 3 (ipykernel)",
   "language": "python",
   "name": "python3"
  },
  "language_info": {
   "codemirror_mode": {
    "name": "ipython",
    "version": 3
   },
   "file_extension": ".py",
   "mimetype": "text/x-python",
   "name": "python",
   "nbconvert_exporter": "python",
   "pygments_lexer": "ipython3",
   "version": "3.11.5"
  }
 },
 "nbformat": 4,
 "nbformat_minor": 5
}
