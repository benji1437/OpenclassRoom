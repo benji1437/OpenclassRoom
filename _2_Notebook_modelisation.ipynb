{
 "cells": [
  {
   "cell_type": "code",
   "execution_count": 1,
   "id": "8aaa572c",
   "metadata": {},
   "outputs": [],
   "source": [
    "import numpy as np\n",
    "import pandas as pd \n",
    "import matplotlib.pyplot as plt\n",
    "import seaborn as sns\n",
    "from sklearn import model_selection\n",
    "from sklearn.model_selection import train_test_split\n",
    "from sklearn import preprocessing\n",
    "from sklearn.preprocessing import StandardScaler\n",
    "from sklearn.metrics import accuracy_score\n",
    "from imblearn.over_sampling import SMOTE\n",
    "from sklearn.metrics import classification_report\n",
    "from sklearn.model_selection import cross_val_score\n",
    "from sklearn.metrics import roc_auc_score\n",
    "from sklearn.model_selection import StratifiedKFold\n",
    "from sklearn.model_selection import cross_validate\n",
    "from sklearn.model_selection import GridSearchCV\n",
    "from imblearn.pipeline import Pipeline\n",
    "from sklearn import set_config\n",
    "from sklearn.svm import SVC"
   ]
  },
  {
   "cell_type": "markdown",
   "id": "8479e188",
   "metadata": {},
   "source": [
    "## Importation des données"
   ]
  },
  {
   "cell_type": "code",
   "execution_count": 2,
   "id": "eca31517",
   "metadata": {},
   "outputs": [],
   "source": [
    "data = pd.read_csv('df1.csv')"
   ]
  },
  {
   "cell_type": "code",
   "execution_count": 3,
   "id": "f2ea6923",
   "metadata": {},
   "outputs": [],
   "source": [
    "data = data.replace((np.inf, -np.inf, np.nan), 0).reset_index(drop=True)\n",
    "X = data.drop('TARGET', axis = 1)\n",
    "y = data['TARGET'] "
   ]
  },
  {
   "cell_type": "markdown",
   "id": "7a64267e",
   "metadata": {},
   "source": [
    "## 1- DummyRegressor"
   ]
  },
  {
   "cell_type": "code",
   "execution_count": 4,
   "id": "ba3030eb",
   "metadata": {},
   "outputs": [
    {
     "name": "stdout",
     "output_type": "stream",
     "text": [
      "[Pipeline] ................ (step 1 of 3) Processing sm, total=   0.3s\n",
      "[Pipeline] ............... (step 2 of 3) Processing std, total=   0.1s\n",
      "[Pipeline] ............... (step 3 of 3) Processing dum, total=   0.0s\n"
     ]
    }
   ],
   "source": [
    "from sklearn.dummy import DummyRegressor\n",
    "set_config(display=\"diagram\")  \n",
    "# Le fractionnement des données\n",
    "X_train, X_test, y_train, y_test = train_test_split(X, y, test_size = 0.2)\n",
    "\n",
    "model = DummyRegressor()\n",
    "param_grid = {'strategy' : ['mean', 'median']}\n",
    "\n",
    "kfold = StratifiedKFold(n_splits=10, shuffle=True, random_state=42)\n",
    "\n",
    "# les étapes du pipeline :\n",
    "pipe = Pipeline([(\"sm\", SMOTE()), (\"std\", StandardScaler()),  (\"dum\", DummyRegressor())], verbose = True)\n",
    "pipe.fit(X_train, y_train)\n",
    "CV_gr = GridSearchCV(model, param_grid, n_jobs=-1, cv=kfold)\n",
    "result = CV_gr.fit(X_train, y_train)"
   ]
  },
  {
   "cell_type": "code",
   "execution_count": 5,
   "id": "26c062e1",
   "metadata": {},
   "outputs": [
    {
     "data": {
      "text/plain": [
       "-7.351111562403645e-06"
      ]
     },
     "execution_count": 5,
     "metadata": {},
     "output_type": "execute_result"
    }
   ],
   "source": [
    "result.best_score_"
   ]
  },
  {
   "cell_type": "code",
   "execution_count": 6,
   "id": "cd28f8df",
   "metadata": {},
   "outputs": [
    {
     "data": {
      "text/plain": [
       "{'strategy': 'mean'}"
      ]
     },
     "execution_count": 6,
     "metadata": {},
     "output_type": "execute_result"
    }
   ],
   "source": [
    "bestParam = result.best_params_\n",
    "bestParam"
   ]
  },
  {
   "cell_type": "markdown",
   "id": "55cdb78b",
   "metadata": {},
   "source": [
    "## 2- KNeighborsClassifier"
   ]
  },
  {
   "cell_type": "code",
   "execution_count": 7,
   "id": "b465ca08",
   "metadata": {},
   "outputs": [
    {
     "name": "stdout",
     "output_type": "stream",
     "text": [
      "[Pipeline] ................ (step 1 of 3) Processing sm, total=   0.3s\n",
      "[Pipeline] ............... (step 2 of 3) Processing std, total=   0.1s\n",
      "[Pipeline] ............... (step 3 of 3) Processing knb, total=   0.0s\n"
     ]
    },
    {
     "data": {
      "text/html": [
       "<style>#sk-d7427767-6b08-41b0-92ac-45b3942840fb {color: black;background-color: white;}#sk-d7427767-6b08-41b0-92ac-45b3942840fb pre{padding: 0;}#sk-d7427767-6b08-41b0-92ac-45b3942840fb div.sk-toggleable {background-color: white;}#sk-d7427767-6b08-41b0-92ac-45b3942840fb label.sk-toggleable__label {cursor: pointer;display: block;width: 100%;margin-bottom: 0;padding: 0.3em;box-sizing: border-box;text-align: center;}#sk-d7427767-6b08-41b0-92ac-45b3942840fb label.sk-toggleable__label-arrow:before {content: \"▸\";float: left;margin-right: 0.25em;color: #696969;}#sk-d7427767-6b08-41b0-92ac-45b3942840fb label.sk-toggleable__label-arrow:hover:before {color: black;}#sk-d7427767-6b08-41b0-92ac-45b3942840fb div.sk-estimator:hover label.sk-toggleable__label-arrow:before {color: black;}#sk-d7427767-6b08-41b0-92ac-45b3942840fb div.sk-toggleable__content {max-height: 0;max-width: 0;overflow: hidden;text-align: left;background-color: #f0f8ff;}#sk-d7427767-6b08-41b0-92ac-45b3942840fb div.sk-toggleable__content pre {margin: 0.2em;color: black;border-radius: 0.25em;background-color: #f0f8ff;}#sk-d7427767-6b08-41b0-92ac-45b3942840fb input.sk-toggleable__control:checked~div.sk-toggleable__content {max-height: 200px;max-width: 100%;overflow: auto;}#sk-d7427767-6b08-41b0-92ac-45b3942840fb input.sk-toggleable__control:checked~label.sk-toggleable__label-arrow:before {content: \"▾\";}#sk-d7427767-6b08-41b0-92ac-45b3942840fb div.sk-estimator input.sk-toggleable__control:checked~label.sk-toggleable__label {background-color: #d4ebff;}#sk-d7427767-6b08-41b0-92ac-45b3942840fb div.sk-label input.sk-toggleable__control:checked~label.sk-toggleable__label {background-color: #d4ebff;}#sk-d7427767-6b08-41b0-92ac-45b3942840fb input.sk-hidden--visually {border: 0;clip: rect(1px 1px 1px 1px);clip: rect(1px, 1px, 1px, 1px);height: 1px;margin: -1px;overflow: hidden;padding: 0;position: absolute;width: 1px;}#sk-d7427767-6b08-41b0-92ac-45b3942840fb div.sk-estimator {font-family: monospace;background-color: #f0f8ff;border: 1px dotted black;border-radius: 0.25em;box-sizing: border-box;margin-bottom: 0.5em;}#sk-d7427767-6b08-41b0-92ac-45b3942840fb div.sk-estimator:hover {background-color: #d4ebff;}#sk-d7427767-6b08-41b0-92ac-45b3942840fb div.sk-parallel-item::after {content: \"\";width: 100%;border-bottom: 1px solid gray;flex-grow: 1;}#sk-d7427767-6b08-41b0-92ac-45b3942840fb div.sk-label:hover label.sk-toggleable__label {background-color: #d4ebff;}#sk-d7427767-6b08-41b0-92ac-45b3942840fb div.sk-serial::before {content: \"\";position: absolute;border-left: 1px solid gray;box-sizing: border-box;top: 2em;bottom: 0;left: 50%;}#sk-d7427767-6b08-41b0-92ac-45b3942840fb div.sk-serial {display: flex;flex-direction: column;align-items: center;background-color: white;padding-right: 0.2em;padding-left: 0.2em;}#sk-d7427767-6b08-41b0-92ac-45b3942840fb div.sk-item {z-index: 1;}#sk-d7427767-6b08-41b0-92ac-45b3942840fb div.sk-parallel {display: flex;align-items: stretch;justify-content: center;background-color: white;}#sk-d7427767-6b08-41b0-92ac-45b3942840fb div.sk-parallel::before {content: \"\";position: absolute;border-left: 1px solid gray;box-sizing: border-box;top: 2em;bottom: 0;left: 50%;}#sk-d7427767-6b08-41b0-92ac-45b3942840fb div.sk-parallel-item {display: flex;flex-direction: column;position: relative;background-color: white;}#sk-d7427767-6b08-41b0-92ac-45b3942840fb div.sk-parallel-item:first-child::after {align-self: flex-end;width: 50%;}#sk-d7427767-6b08-41b0-92ac-45b3942840fb div.sk-parallel-item:last-child::after {align-self: flex-start;width: 50%;}#sk-d7427767-6b08-41b0-92ac-45b3942840fb div.sk-parallel-item:only-child::after {width: 0;}#sk-d7427767-6b08-41b0-92ac-45b3942840fb div.sk-dashed-wrapped {border: 1px dashed gray;margin: 0 0.4em 0.5em 0.4em;box-sizing: border-box;padding-bottom: 0.4em;background-color: white;position: relative;}#sk-d7427767-6b08-41b0-92ac-45b3942840fb div.sk-label label {font-family: monospace;font-weight: bold;background-color: white;display: inline-block;line-height: 1.2em;}#sk-d7427767-6b08-41b0-92ac-45b3942840fb div.sk-label-container {position: relative;z-index: 2;text-align: center;}#sk-d7427767-6b08-41b0-92ac-45b3942840fb div.sk-container {/* jupyter's `normalize.less` sets `[hidden] { display: none; }` but bootstrap.min.css set `[hidden] { display: none !important; }` so we also need the `!important` here to be able to override the default hidden behavior on the sphinx rendered scikit-learn.org. See: https://github.com/scikit-learn/scikit-learn/issues/21755 */display: inline-block !important;position: relative;}#sk-d7427767-6b08-41b0-92ac-45b3942840fb div.sk-text-repr-fallback {display: none;}</style><div id=\"sk-d7427767-6b08-41b0-92ac-45b3942840fb\" class=\"sk-top-container\"><div class=\"sk-text-repr-fallback\"><pre>Pipeline(steps=[(&#x27;sm&#x27;, SMOTE()), (&#x27;std&#x27;, StandardScaler()),\n",
       "                (&#x27;knb&#x27;, KNeighborsClassifier())],\n",
       "         verbose=True)</pre><b>Please rerun this cell to show the HTML repr or trust the notebook.</b></div><div class=\"sk-container\" hidden><div class=\"sk-item sk-dashed-wrapped\"><div class=\"sk-label-container\"><div class=\"sk-label sk-toggleable\"><input class=\"sk-toggleable__control sk-hidden--visually\" id=\"92405416-8c74-4238-b264-93f8cd4c5bb0\" type=\"checkbox\" ><label for=\"92405416-8c74-4238-b264-93f8cd4c5bb0\" class=\"sk-toggleable__label sk-toggleable__label-arrow\">Pipeline</label><div class=\"sk-toggleable__content\"><pre>Pipeline(steps=[(&#x27;sm&#x27;, SMOTE()), (&#x27;std&#x27;, StandardScaler()),\n",
       "                (&#x27;knb&#x27;, KNeighborsClassifier())],\n",
       "         verbose=True)</pre></div></div></div><div class=\"sk-serial\"><div class=\"sk-item\"><div class=\"sk-estimator sk-toggleable\"><input class=\"sk-toggleable__control sk-hidden--visually\" id=\"0a80ac05-ed03-4cff-9d2c-321bd0038d4d\" type=\"checkbox\" ><label for=\"0a80ac05-ed03-4cff-9d2c-321bd0038d4d\" class=\"sk-toggleable__label sk-toggleable__label-arrow\">SMOTE</label><div class=\"sk-toggleable__content\"><pre>SMOTE()</pre></div></div></div><div class=\"sk-item\"><div class=\"sk-estimator sk-toggleable\"><input class=\"sk-toggleable__control sk-hidden--visually\" id=\"4179d85b-d2b4-4efd-86a7-97f9c286d7f8\" type=\"checkbox\" ><label for=\"4179d85b-d2b4-4efd-86a7-97f9c286d7f8\" class=\"sk-toggleable__label sk-toggleable__label-arrow\">StandardScaler</label><div class=\"sk-toggleable__content\"><pre>StandardScaler()</pre></div></div></div><div class=\"sk-item\"><div class=\"sk-estimator sk-toggleable\"><input class=\"sk-toggleable__control sk-hidden--visually\" id=\"1d8d2c8e-9321-488c-a529-8d883fdfb8ce\" type=\"checkbox\" ><label for=\"1d8d2c8e-9321-488c-a529-8d883fdfb8ce\" class=\"sk-toggleable__label sk-toggleable__label-arrow\">KNeighborsClassifier</label><div class=\"sk-toggleable__content\"><pre>KNeighborsClassifier()</pre></div></div></div></div></div></div></div>"
      ],
      "text/plain": [
       "Pipeline(steps=[('sm', SMOTE()), ('std', StandardScaler()),\n",
       "                ('knb', KNeighborsClassifier())],\n",
       "         verbose=True)"
      ]
     },
     "execution_count": 7,
     "metadata": {},
     "output_type": "execute_result"
    }
   ],
   "source": [
    "from sklearn.neighbors import KNeighborsClassifier\n",
    "\n",
    "X = data.drop('TARGET', axis = 1)\n",
    "y = data['TARGET']\n",
    "\n",
    "X_train, X_test, y_train, y_test = train_test_split(X, y, test_size = 0.3)\n",
    "\n",
    "model = KNeighborsClassifier()\n",
    "param_grid = {'n_neighbors': range(1,35),\n",
    "             'weights': ['uniform', 'distance']} \n",
    "\n",
    "kfold = StratifiedKFold(n_splits=10, shuffle=True, random_state=42)\n",
    "\n",
    "# les étapes du pipeline :\n",
    "pipe = Pipeline([(\"sm\", SMOTE()), ('std', StandardScaler()),  (\"knb\", KNeighborsClassifier())], verbose = True)\n",
    "pipe.fit(X_train, y_train)"
   ]
  },
  {
   "cell_type": "code",
   "execution_count": 8,
   "id": "b8237ed6",
   "metadata": {},
   "outputs": [],
   "source": [
    "CV_gr = GridSearchCV(model, param_grid, n_jobs=-1, cv=kfold, refit=True, scoring='accuracy', return_train_score=False)\n",
    "result = CV_gr.fit(X_train, y_train)"
   ]
  },
  {
   "cell_type": "code",
   "execution_count": 9,
   "id": "06885d8d",
   "metadata": {},
   "outputs": [
    {
     "data": {
      "text/plain": [
       "0.917608899128807"
      ]
     },
     "execution_count": 9,
     "metadata": {},
     "output_type": "execute_result"
    }
   ],
   "source": [
    "result.best_score_"
   ]
  },
  {
   "cell_type": "code",
   "execution_count": 10,
   "id": "3cd387b4",
   "metadata": {},
   "outputs": [
    {
     "data": {
      "text/plain": [
       "{'n_neighbors': 10, 'weights': 'uniform'}"
      ]
     },
     "execution_count": 10,
     "metadata": {},
     "output_type": "execute_result"
    }
   ],
   "source": [
    "bestParam = result.best_params_\n",
    "bestParam"
   ]
  },
  {
   "cell_type": "markdown",
   "id": "2cef8351",
   "metadata": {},
   "source": [
    "## 3- XGBoots Classifier"
   ]
  },
  {
   "cell_type": "code",
   "execution_count": 9,
   "id": "c4872ff5",
   "metadata": {},
   "outputs": [
    {
     "name": "stdout",
     "output_type": "stream",
     "text": [
      "[Pipeline] ................ (step 1 of 3) Processing sm, total=   0.3s\n",
      "[Pipeline] ............... (step 2 of 3) Processing std, total=   0.1s\n",
      "[Pipeline] ............... (step 3 of 3) Processing xgb, total=  12.1s\n"
     ]
    },
    {
     "data": {
      "text/html": [
       "<style>#sk-5261e3c2-37e1-49cf-8f98-788ffa32a671 {color: black;background-color: white;}#sk-5261e3c2-37e1-49cf-8f98-788ffa32a671 pre{padding: 0;}#sk-5261e3c2-37e1-49cf-8f98-788ffa32a671 div.sk-toggleable {background-color: white;}#sk-5261e3c2-37e1-49cf-8f98-788ffa32a671 label.sk-toggleable__label {cursor: pointer;display: block;width: 100%;margin-bottom: 0;padding: 0.3em;box-sizing: border-box;text-align: center;}#sk-5261e3c2-37e1-49cf-8f98-788ffa32a671 label.sk-toggleable__label-arrow:before {content: \"▸\";float: left;margin-right: 0.25em;color: #696969;}#sk-5261e3c2-37e1-49cf-8f98-788ffa32a671 label.sk-toggleable__label-arrow:hover:before {color: black;}#sk-5261e3c2-37e1-49cf-8f98-788ffa32a671 div.sk-estimator:hover label.sk-toggleable__label-arrow:before {color: black;}#sk-5261e3c2-37e1-49cf-8f98-788ffa32a671 div.sk-toggleable__content {max-height: 0;max-width: 0;overflow: hidden;text-align: left;background-color: #f0f8ff;}#sk-5261e3c2-37e1-49cf-8f98-788ffa32a671 div.sk-toggleable__content pre {margin: 0.2em;color: black;border-radius: 0.25em;background-color: #f0f8ff;}#sk-5261e3c2-37e1-49cf-8f98-788ffa32a671 input.sk-toggleable__control:checked~div.sk-toggleable__content {max-height: 200px;max-width: 100%;overflow: auto;}#sk-5261e3c2-37e1-49cf-8f98-788ffa32a671 input.sk-toggleable__control:checked~label.sk-toggleable__label-arrow:before {content: \"▾\";}#sk-5261e3c2-37e1-49cf-8f98-788ffa32a671 div.sk-estimator input.sk-toggleable__control:checked~label.sk-toggleable__label {background-color: #d4ebff;}#sk-5261e3c2-37e1-49cf-8f98-788ffa32a671 div.sk-label input.sk-toggleable__control:checked~label.sk-toggleable__label {background-color: #d4ebff;}#sk-5261e3c2-37e1-49cf-8f98-788ffa32a671 input.sk-hidden--visually {border: 0;clip: rect(1px 1px 1px 1px);clip: rect(1px, 1px, 1px, 1px);height: 1px;margin: -1px;overflow: hidden;padding: 0;position: absolute;width: 1px;}#sk-5261e3c2-37e1-49cf-8f98-788ffa32a671 div.sk-estimator {font-family: monospace;background-color: #f0f8ff;border: 1px dotted black;border-radius: 0.25em;box-sizing: border-box;margin-bottom: 0.5em;}#sk-5261e3c2-37e1-49cf-8f98-788ffa32a671 div.sk-estimator:hover {background-color: #d4ebff;}#sk-5261e3c2-37e1-49cf-8f98-788ffa32a671 div.sk-parallel-item::after {content: \"\";width: 100%;border-bottom: 1px solid gray;flex-grow: 1;}#sk-5261e3c2-37e1-49cf-8f98-788ffa32a671 div.sk-label:hover label.sk-toggleable__label {background-color: #d4ebff;}#sk-5261e3c2-37e1-49cf-8f98-788ffa32a671 div.sk-serial::before {content: \"\";position: absolute;border-left: 1px solid gray;box-sizing: border-box;top: 2em;bottom: 0;left: 50%;}#sk-5261e3c2-37e1-49cf-8f98-788ffa32a671 div.sk-serial {display: flex;flex-direction: column;align-items: center;background-color: white;padding-right: 0.2em;padding-left: 0.2em;}#sk-5261e3c2-37e1-49cf-8f98-788ffa32a671 div.sk-item {z-index: 1;}#sk-5261e3c2-37e1-49cf-8f98-788ffa32a671 div.sk-parallel {display: flex;align-items: stretch;justify-content: center;background-color: white;}#sk-5261e3c2-37e1-49cf-8f98-788ffa32a671 div.sk-parallel::before {content: \"\";position: absolute;border-left: 1px solid gray;box-sizing: border-box;top: 2em;bottom: 0;left: 50%;}#sk-5261e3c2-37e1-49cf-8f98-788ffa32a671 div.sk-parallel-item {display: flex;flex-direction: column;position: relative;background-color: white;}#sk-5261e3c2-37e1-49cf-8f98-788ffa32a671 div.sk-parallel-item:first-child::after {align-self: flex-end;width: 50%;}#sk-5261e3c2-37e1-49cf-8f98-788ffa32a671 div.sk-parallel-item:last-child::after {align-self: flex-start;width: 50%;}#sk-5261e3c2-37e1-49cf-8f98-788ffa32a671 div.sk-parallel-item:only-child::after {width: 0;}#sk-5261e3c2-37e1-49cf-8f98-788ffa32a671 div.sk-dashed-wrapped {border: 1px dashed gray;margin: 0 0.4em 0.5em 0.4em;box-sizing: border-box;padding-bottom: 0.4em;background-color: white;position: relative;}#sk-5261e3c2-37e1-49cf-8f98-788ffa32a671 div.sk-label label {font-family: monospace;font-weight: bold;background-color: white;display: inline-block;line-height: 1.2em;}#sk-5261e3c2-37e1-49cf-8f98-788ffa32a671 div.sk-label-container {position: relative;z-index: 2;text-align: center;}#sk-5261e3c2-37e1-49cf-8f98-788ffa32a671 div.sk-container {/* jupyter's `normalize.less` sets `[hidden] { display: none; }` but bootstrap.min.css set `[hidden] { display: none !important; }` so we also need the `!important` here to be able to override the default hidden behavior on the sphinx rendered scikit-learn.org. See: https://github.com/scikit-learn/scikit-learn/issues/21755 */display: inline-block !important;position: relative;}#sk-5261e3c2-37e1-49cf-8f98-788ffa32a671 div.sk-text-repr-fallback {display: none;}</style><div id=\"sk-5261e3c2-37e1-49cf-8f98-788ffa32a671\" class=\"sk-top-container\"><div class=\"sk-text-repr-fallback\"><pre>Pipeline(steps=[(&#x27;sm&#x27;, SMOTE()), (&#x27;std&#x27;, StandardScaler()),\n",
       "                (&#x27;xgb&#x27;,\n",
       "                 XGBClassifier(base_score=None, booster=None, callbacks=None,\n",
       "                               colsample_bylevel=None, colsample_bynode=None,\n",
       "                               colsample_bytree=None,\n",
       "                               early_stopping_rounds=None,\n",
       "                               enable_categorical=False, eval_metric=None,\n",
       "                               feature_types=None, gamma=None, gpu_id=None,\n",
       "                               grow_policy=None, importance_type=None,\n",
       "                               interaction_constraints=None, learning_rate=None,\n",
       "                               max_bin=None, max_cat_threshold=None,\n",
       "                               max_cat_to_onehot=None, max_delta_step=None,\n",
       "                               max_depth=None, max_leaves=None,\n",
       "                               min_child_weight=None, missing=nan,\n",
       "                               monotone_constraints=None, n_estimators=100,\n",
       "                               n_jobs=None, num_parallel_tree=None,\n",
       "                               predictor=None, random_state=None, ...))],\n",
       "         verbose=True)</pre><b>Please rerun this cell to show the HTML repr or trust the notebook.</b></div><div class=\"sk-container\" hidden><div class=\"sk-item sk-dashed-wrapped\"><div class=\"sk-label-container\"><div class=\"sk-label sk-toggleable\"><input class=\"sk-toggleable__control sk-hidden--visually\" id=\"0a2279a9-fa32-4518-b098-4305c5504bc3\" type=\"checkbox\" ><label for=\"0a2279a9-fa32-4518-b098-4305c5504bc3\" class=\"sk-toggleable__label sk-toggleable__label-arrow\">Pipeline</label><div class=\"sk-toggleable__content\"><pre>Pipeline(steps=[(&#x27;sm&#x27;, SMOTE()), (&#x27;std&#x27;, StandardScaler()),\n",
       "                (&#x27;xgb&#x27;,\n",
       "                 XGBClassifier(base_score=None, booster=None, callbacks=None,\n",
       "                               colsample_bylevel=None, colsample_bynode=None,\n",
       "                               colsample_bytree=None,\n",
       "                               early_stopping_rounds=None,\n",
       "                               enable_categorical=False, eval_metric=None,\n",
       "                               feature_types=None, gamma=None, gpu_id=None,\n",
       "                               grow_policy=None, importance_type=None,\n",
       "                               interaction_constraints=None, learning_rate=None,\n",
       "                               max_bin=None, max_cat_threshold=None,\n",
       "                               max_cat_to_onehot=None, max_delta_step=None,\n",
       "                               max_depth=None, max_leaves=None,\n",
       "                               min_child_weight=None, missing=nan,\n",
       "                               monotone_constraints=None, n_estimators=100,\n",
       "                               n_jobs=None, num_parallel_tree=None,\n",
       "                               predictor=None, random_state=None, ...))],\n",
       "         verbose=True)</pre></div></div></div><div class=\"sk-serial\"><div class=\"sk-item\"><div class=\"sk-estimator sk-toggleable\"><input class=\"sk-toggleable__control sk-hidden--visually\" id=\"be436c33-7292-477e-b70e-35f109775b05\" type=\"checkbox\" ><label for=\"be436c33-7292-477e-b70e-35f109775b05\" class=\"sk-toggleable__label sk-toggleable__label-arrow\">SMOTE</label><div class=\"sk-toggleable__content\"><pre>SMOTE()</pre></div></div></div><div class=\"sk-item\"><div class=\"sk-estimator sk-toggleable\"><input class=\"sk-toggleable__control sk-hidden--visually\" id=\"e4b324e3-2d27-45dd-8139-93e9bba89180\" type=\"checkbox\" ><label for=\"e4b324e3-2d27-45dd-8139-93e9bba89180\" class=\"sk-toggleable__label sk-toggleable__label-arrow\">StandardScaler</label><div class=\"sk-toggleable__content\"><pre>StandardScaler()</pre></div></div></div><div class=\"sk-item\"><div class=\"sk-estimator sk-toggleable\"><input class=\"sk-toggleable__control sk-hidden--visually\" id=\"72bff73a-5298-4c65-9b1e-83c95ef9e430\" type=\"checkbox\" ><label for=\"72bff73a-5298-4c65-9b1e-83c95ef9e430\" class=\"sk-toggleable__label sk-toggleable__label-arrow\">XGBClassifier</label><div class=\"sk-toggleable__content\"><pre>XGBClassifier(base_score=None, booster=None, callbacks=None,\n",
       "              colsample_bylevel=None, colsample_bynode=None,\n",
       "              colsample_bytree=None, early_stopping_rounds=None,\n",
       "              enable_categorical=False, eval_metric=None, feature_types=None,\n",
       "              gamma=None, gpu_id=None, grow_policy=None, importance_type=None,\n",
       "              interaction_constraints=None, learning_rate=None, max_bin=None,\n",
       "              max_cat_threshold=None, max_cat_to_onehot=None,\n",
       "              max_delta_step=None, max_depth=None, max_leaves=None,\n",
       "              min_child_weight=None, missing=nan, monotone_constraints=None,\n",
       "              n_estimators=100, n_jobs=None, num_parallel_tree=None,\n",
       "              predictor=None, random_state=None, ...)</pre></div></div></div></div></div></div></div>"
      ],
      "text/plain": [
       "Pipeline(steps=[('sm', SMOTE()), ('std', StandardScaler()),\n",
       "                ('xgb',\n",
       "                 XGBClassifier(base_score=None, booster=None, callbacks=None,\n",
       "                               colsample_bylevel=None, colsample_bynode=None,\n",
       "                               colsample_bytree=None,\n",
       "                               early_stopping_rounds=None,\n",
       "                               enable_categorical=False, eval_metric=None,\n",
       "                               feature_types=None, gamma=None, gpu_id=None,\n",
       "                               grow_policy=None, importance_type=None,\n",
       "                               interaction_constraints=None, learning_rate=None,\n",
       "                               max_bin=None, max_cat_threshold=None,\n",
       "                               max_cat_to_onehot=None, max_delta_step=None,\n",
       "                               max_depth=None, max_leaves=None,\n",
       "                               min_child_weight=None, missing=nan,\n",
       "                               monotone_constraints=None, n_estimators=100,\n",
       "                               n_jobs=None, num_parallel_tree=None,\n",
       "                               predictor=None, random_state=None, ...))],\n",
       "         verbose=True)"
      ]
     },
     "execution_count": 9,
     "metadata": {},
     "output_type": "execute_result"
    }
   ],
   "source": [
    "from sklearn.metrics import fbeta_score, make_scorer\n",
    "from xgboost import XGBClassifier\n",
    "import xgboost\n",
    "\n",
    "X = data.drop('TARGET', axis = 1)\n",
    "y = data['TARGET']\n",
    "\n",
    "X_train, X_test, y_train, y_test = train_test_split(X, y, test_size = 0.25)\n",
    "\n",
    "model = XGBClassifier()\n",
    "param_grid = {'nthread':[2], # lors de l'utilisation de l'hyperthread, xgboost peut devenir plus lent\n",
    "              'objective':['binary:logistic'],\n",
    "              'n_estimators': [600,800],\n",
    "              'learning_rate': [0.01, 0.02],\n",
    "              'gamma': [2, 5],             \n",
    "              'max_depth': [ 4] }\n",
    "\n",
    "kfold = StratifiedKFold(n_splits=5, shuffle=True, random_state=42)\n",
    "\n",
    "# les étapes du pipeline :\n",
    "pipe = Pipeline([(\"sm\", SMOTE()), (\"std\", StandardScaler()),  (\"xgb\", XGBClassifier())], verbose = True)\n",
    "pipe.fit(X_train, y_train)"
   ]
  },
  {
   "cell_type": "code",
   "execution_count": 10,
   "id": "beaa3c9b",
   "metadata": {},
   "outputs": [
    {
     "name": "stdout",
     "output_type": "stream",
     "text": [
      "Fitting 5 folds for each of 8 candidates, totalling 40 fits\n"
     ]
    }
   ],
   "source": [
    "CV_gr = GridSearchCV(model, param_grid, n_jobs=-1, refit=True, cv=kfold,  verbose=1)\n",
    "result = CV_gr.fit(X_train, y_train)"
   ]
  },
  {
   "cell_type": "code",
   "execution_count": 11,
   "id": "fb01ffa8",
   "metadata": {},
   "outputs": [
    {
     "data": {
      "text/plain": [
       "0.9181843734195997"
      ]
     },
     "execution_count": 11,
     "metadata": {},
     "output_type": "execute_result"
    }
   ],
   "source": [
    "result.best_score_"
   ]
  },
  {
   "cell_type": "code",
   "execution_count": 12,
   "id": "966deaca",
   "metadata": {},
   "outputs": [
    {
     "data": {
      "text/plain": [
       "{'gamma': 2,\n",
       " 'learning_rate': 0.02,\n",
       " 'max_depth': 4,\n",
       " 'n_estimators': 800,\n",
       " 'nthread': 2,\n",
       " 'objective': 'binary:logistic'}"
      ]
     },
     "execution_count": 12,
     "metadata": {},
     "output_type": "execute_result"
    }
   ],
   "source": [
    "bestParam = result.best_params_\n",
    "bestParam "
   ]
  },
  {
   "cell_type": "markdown",
   "id": "35fa7aa4",
   "metadata": {},
   "source": [
    " ## 4- Forêt aléatoire"
   ]
  },
  {
   "cell_type": "code",
   "execution_count": 11,
   "id": "a8c3f688",
   "metadata": {},
   "outputs": [
    {
     "name": "stdout",
     "output_type": "stream",
     "text": [
      "[Pipeline] ................ (step 1 of 3) Processing sm, total=   0.3s\n",
      "[Pipeline] ............... (step 2 of 3) Processing std, total=   0.1s\n",
      "[Pipeline] .............. (step 3 of 3) Processing clas, total=   4.5s\n"
     ]
    },
    {
     "data": {
      "text/html": [
       "<style>#sk-244a8af8-fbc1-40f9-b887-e2cfbfb7e581 {color: black;background-color: white;}#sk-244a8af8-fbc1-40f9-b887-e2cfbfb7e581 pre{padding: 0;}#sk-244a8af8-fbc1-40f9-b887-e2cfbfb7e581 div.sk-toggleable {background-color: white;}#sk-244a8af8-fbc1-40f9-b887-e2cfbfb7e581 label.sk-toggleable__label {cursor: pointer;display: block;width: 100%;margin-bottom: 0;padding: 0.3em;box-sizing: border-box;text-align: center;}#sk-244a8af8-fbc1-40f9-b887-e2cfbfb7e581 label.sk-toggleable__label-arrow:before {content: \"▸\";float: left;margin-right: 0.25em;color: #696969;}#sk-244a8af8-fbc1-40f9-b887-e2cfbfb7e581 label.sk-toggleable__label-arrow:hover:before {color: black;}#sk-244a8af8-fbc1-40f9-b887-e2cfbfb7e581 div.sk-estimator:hover label.sk-toggleable__label-arrow:before {color: black;}#sk-244a8af8-fbc1-40f9-b887-e2cfbfb7e581 div.sk-toggleable__content {max-height: 0;max-width: 0;overflow: hidden;text-align: left;background-color: #f0f8ff;}#sk-244a8af8-fbc1-40f9-b887-e2cfbfb7e581 div.sk-toggleable__content pre {margin: 0.2em;color: black;border-radius: 0.25em;background-color: #f0f8ff;}#sk-244a8af8-fbc1-40f9-b887-e2cfbfb7e581 input.sk-toggleable__control:checked~div.sk-toggleable__content {max-height: 200px;max-width: 100%;overflow: auto;}#sk-244a8af8-fbc1-40f9-b887-e2cfbfb7e581 input.sk-toggleable__control:checked~label.sk-toggleable__label-arrow:before {content: \"▾\";}#sk-244a8af8-fbc1-40f9-b887-e2cfbfb7e581 div.sk-estimator input.sk-toggleable__control:checked~label.sk-toggleable__label {background-color: #d4ebff;}#sk-244a8af8-fbc1-40f9-b887-e2cfbfb7e581 div.sk-label input.sk-toggleable__control:checked~label.sk-toggleable__label {background-color: #d4ebff;}#sk-244a8af8-fbc1-40f9-b887-e2cfbfb7e581 input.sk-hidden--visually {border: 0;clip: rect(1px 1px 1px 1px);clip: rect(1px, 1px, 1px, 1px);height: 1px;margin: -1px;overflow: hidden;padding: 0;position: absolute;width: 1px;}#sk-244a8af8-fbc1-40f9-b887-e2cfbfb7e581 div.sk-estimator {font-family: monospace;background-color: #f0f8ff;border: 1px dotted black;border-radius: 0.25em;box-sizing: border-box;margin-bottom: 0.5em;}#sk-244a8af8-fbc1-40f9-b887-e2cfbfb7e581 div.sk-estimator:hover {background-color: #d4ebff;}#sk-244a8af8-fbc1-40f9-b887-e2cfbfb7e581 div.sk-parallel-item::after {content: \"\";width: 100%;border-bottom: 1px solid gray;flex-grow: 1;}#sk-244a8af8-fbc1-40f9-b887-e2cfbfb7e581 div.sk-label:hover label.sk-toggleable__label {background-color: #d4ebff;}#sk-244a8af8-fbc1-40f9-b887-e2cfbfb7e581 div.sk-serial::before {content: \"\";position: absolute;border-left: 1px solid gray;box-sizing: border-box;top: 2em;bottom: 0;left: 50%;}#sk-244a8af8-fbc1-40f9-b887-e2cfbfb7e581 div.sk-serial {display: flex;flex-direction: column;align-items: center;background-color: white;padding-right: 0.2em;padding-left: 0.2em;}#sk-244a8af8-fbc1-40f9-b887-e2cfbfb7e581 div.sk-item {z-index: 1;}#sk-244a8af8-fbc1-40f9-b887-e2cfbfb7e581 div.sk-parallel {display: flex;align-items: stretch;justify-content: center;background-color: white;}#sk-244a8af8-fbc1-40f9-b887-e2cfbfb7e581 div.sk-parallel::before {content: \"\";position: absolute;border-left: 1px solid gray;box-sizing: border-box;top: 2em;bottom: 0;left: 50%;}#sk-244a8af8-fbc1-40f9-b887-e2cfbfb7e581 div.sk-parallel-item {display: flex;flex-direction: column;position: relative;background-color: white;}#sk-244a8af8-fbc1-40f9-b887-e2cfbfb7e581 div.sk-parallel-item:first-child::after {align-self: flex-end;width: 50%;}#sk-244a8af8-fbc1-40f9-b887-e2cfbfb7e581 div.sk-parallel-item:last-child::after {align-self: flex-start;width: 50%;}#sk-244a8af8-fbc1-40f9-b887-e2cfbfb7e581 div.sk-parallel-item:only-child::after {width: 0;}#sk-244a8af8-fbc1-40f9-b887-e2cfbfb7e581 div.sk-dashed-wrapped {border: 1px dashed gray;margin: 0 0.4em 0.5em 0.4em;box-sizing: border-box;padding-bottom: 0.4em;background-color: white;position: relative;}#sk-244a8af8-fbc1-40f9-b887-e2cfbfb7e581 div.sk-label label {font-family: monospace;font-weight: bold;background-color: white;display: inline-block;line-height: 1.2em;}#sk-244a8af8-fbc1-40f9-b887-e2cfbfb7e581 div.sk-label-container {position: relative;z-index: 2;text-align: center;}#sk-244a8af8-fbc1-40f9-b887-e2cfbfb7e581 div.sk-container {/* jupyter's `normalize.less` sets `[hidden] { display: none; }` but bootstrap.min.css set `[hidden] { display: none !important; }` so we also need the `!important` here to be able to override the default hidden behavior on the sphinx rendered scikit-learn.org. See: https://github.com/scikit-learn/scikit-learn/issues/21755 */display: inline-block !important;position: relative;}#sk-244a8af8-fbc1-40f9-b887-e2cfbfb7e581 div.sk-text-repr-fallback {display: none;}</style><div id=\"sk-244a8af8-fbc1-40f9-b887-e2cfbfb7e581\" class=\"sk-top-container\"><div class=\"sk-text-repr-fallback\"><pre>Pipeline(steps=[(&#x27;sm&#x27;, SMOTE()), (&#x27;std&#x27;, StandardScaler()),\n",
       "                (&#x27;clas&#x27;, RandomForestClassifier())],\n",
       "         verbose=True)</pre><b>Please rerun this cell to show the HTML repr or trust the notebook.</b></div><div class=\"sk-container\" hidden><div class=\"sk-item sk-dashed-wrapped\"><div class=\"sk-label-container\"><div class=\"sk-label sk-toggleable\"><input class=\"sk-toggleable__control sk-hidden--visually\" id=\"c36493b5-bacf-4166-bbe4-15b231637c5d\" type=\"checkbox\" ><label for=\"c36493b5-bacf-4166-bbe4-15b231637c5d\" class=\"sk-toggleable__label sk-toggleable__label-arrow\">Pipeline</label><div class=\"sk-toggleable__content\"><pre>Pipeline(steps=[(&#x27;sm&#x27;, SMOTE()), (&#x27;std&#x27;, StandardScaler()),\n",
       "                (&#x27;clas&#x27;, RandomForestClassifier())],\n",
       "         verbose=True)</pre></div></div></div><div class=\"sk-serial\"><div class=\"sk-item\"><div class=\"sk-estimator sk-toggleable\"><input class=\"sk-toggleable__control sk-hidden--visually\" id=\"3e9f0b53-374a-44bb-854b-ef4afecaa59b\" type=\"checkbox\" ><label for=\"3e9f0b53-374a-44bb-854b-ef4afecaa59b\" class=\"sk-toggleable__label sk-toggleable__label-arrow\">SMOTE</label><div class=\"sk-toggleable__content\"><pre>SMOTE()</pre></div></div></div><div class=\"sk-item\"><div class=\"sk-estimator sk-toggleable\"><input class=\"sk-toggleable__control sk-hidden--visually\" id=\"6cdf00d9-c474-495f-8869-9cf8aafae381\" type=\"checkbox\" ><label for=\"6cdf00d9-c474-495f-8869-9cf8aafae381\" class=\"sk-toggleable__label sk-toggleable__label-arrow\">StandardScaler</label><div class=\"sk-toggleable__content\"><pre>StandardScaler()</pre></div></div></div><div class=\"sk-item\"><div class=\"sk-estimator sk-toggleable\"><input class=\"sk-toggleable__control sk-hidden--visually\" id=\"825c262e-5527-4d92-8fa0-f5766251d941\" type=\"checkbox\" ><label for=\"825c262e-5527-4d92-8fa0-f5766251d941\" class=\"sk-toggleable__label sk-toggleable__label-arrow\">RandomForestClassifier</label><div class=\"sk-toggleable__content\"><pre>RandomForestClassifier()</pre></div></div></div></div></div></div></div>"
      ],
      "text/plain": [
       "Pipeline(steps=[('sm', SMOTE()), ('std', StandardScaler()),\n",
       "                ('clas', RandomForestClassifier())],\n",
       "         verbose=True)"
      ]
     },
     "execution_count": 11,
     "metadata": {},
     "output_type": "execute_result"
    }
   ],
   "source": [
    "from sklearn.ensemble import RandomForestClassifier\n",
    "X = data.drop('TARGET', axis = 1)\n",
    "y = data['TARGET']\n",
    "\n",
    "# Le fractionnement des données\n",
    "X_train, X_test, y_train, y_test = train_test_split(X, y, test_size = 0.3)\n",
    "\n",
    "\n",
    "model = RandomForestClassifier(random_state=42)\n",
    "param_grid = {'n_estimators' :[200, 500], \n",
    "                   'max_features': ['auto', 'sqrt', 'log2'],\n",
    "                    'max_depth' : [4,5,6,7,8],\n",
    "                    'criterion' :['gini', 'entropy'] }\n",
    "\n",
    "kfold = StratifiedKFold(n_splits=5, shuffle=True, random_state=7)\n",
    "\n",
    "# les étapes du pipeline :\n",
    "pipe = Pipeline([(\"sm\", SMOTE()), (\"std\", StandardScaler()),  (\"clas\", RandomForestClassifier())], verbose = True)\n",
    "pipe.fit(X_train, y_train)"
   ]
  },
  {
   "cell_type": "code",
   "execution_count": 12,
   "id": "92fa72a4",
   "metadata": {},
   "outputs": [
    {
     "name": "stdout",
     "output_type": "stream",
     "text": [
      "Fitting 5 folds for each of 60 candidates, totalling 300 fits\n"
     ]
    }
   ],
   "source": [
    "CV_gr = GridSearchCV(model, param_grid, n_jobs=-1, refit=True, cv=kfold, verbose=1)\n",
    "result = CV_gr.fit(X_train, y_train)"
   ]
  },
  {
   "cell_type": "code",
   "execution_count": 13,
   "id": "6c833504",
   "metadata": {},
   "outputs": [
    {
     "data": {
      "text/plain": [
       "0.9149760307726987"
      ]
     },
     "execution_count": 13,
     "metadata": {},
     "output_type": "execute_result"
    }
   ],
   "source": [
    "result.best_score_"
   ]
  },
  {
   "cell_type": "code",
   "execution_count": 14,
   "id": "ef087a14",
   "metadata": {},
   "outputs": [
    {
     "data": {
      "text/plain": [
       "{'criterion': 'gini',\n",
       " 'max_depth': 4,\n",
       " 'max_features': 'auto',\n",
       " 'n_estimators': 200}"
      ]
     },
     "execution_count": 14,
     "metadata": {},
     "output_type": "execute_result"
    }
   ],
   "source": [
    "bestParam = result.best_params_\n",
    "bestParam"
   ]
  },
  {
   "cell_type": "code",
   "execution_count": 15,
   "id": "749ef4fb",
   "metadata": {},
   "outputs": [
    {
     "data": {
      "text/html": [
       "<style>#sk-60c35c98-9087-41fe-90d2-cf382a040ce1 {color: black;background-color: white;}#sk-60c35c98-9087-41fe-90d2-cf382a040ce1 pre{padding: 0;}#sk-60c35c98-9087-41fe-90d2-cf382a040ce1 div.sk-toggleable {background-color: white;}#sk-60c35c98-9087-41fe-90d2-cf382a040ce1 label.sk-toggleable__label {cursor: pointer;display: block;width: 100%;margin-bottom: 0;padding: 0.3em;box-sizing: border-box;text-align: center;}#sk-60c35c98-9087-41fe-90d2-cf382a040ce1 label.sk-toggleable__label-arrow:before {content: \"▸\";float: left;margin-right: 0.25em;color: #696969;}#sk-60c35c98-9087-41fe-90d2-cf382a040ce1 label.sk-toggleable__label-arrow:hover:before {color: black;}#sk-60c35c98-9087-41fe-90d2-cf382a040ce1 div.sk-estimator:hover label.sk-toggleable__label-arrow:before {color: black;}#sk-60c35c98-9087-41fe-90d2-cf382a040ce1 div.sk-toggleable__content {max-height: 0;max-width: 0;overflow: hidden;text-align: left;background-color: #f0f8ff;}#sk-60c35c98-9087-41fe-90d2-cf382a040ce1 div.sk-toggleable__content pre {margin: 0.2em;color: black;border-radius: 0.25em;background-color: #f0f8ff;}#sk-60c35c98-9087-41fe-90d2-cf382a040ce1 input.sk-toggleable__control:checked~div.sk-toggleable__content {max-height: 200px;max-width: 100%;overflow: auto;}#sk-60c35c98-9087-41fe-90d2-cf382a040ce1 input.sk-toggleable__control:checked~label.sk-toggleable__label-arrow:before {content: \"▾\";}#sk-60c35c98-9087-41fe-90d2-cf382a040ce1 div.sk-estimator input.sk-toggleable__control:checked~label.sk-toggleable__label {background-color: #d4ebff;}#sk-60c35c98-9087-41fe-90d2-cf382a040ce1 div.sk-label input.sk-toggleable__control:checked~label.sk-toggleable__label {background-color: #d4ebff;}#sk-60c35c98-9087-41fe-90d2-cf382a040ce1 input.sk-hidden--visually {border: 0;clip: rect(1px 1px 1px 1px);clip: rect(1px, 1px, 1px, 1px);height: 1px;margin: -1px;overflow: hidden;padding: 0;position: absolute;width: 1px;}#sk-60c35c98-9087-41fe-90d2-cf382a040ce1 div.sk-estimator {font-family: monospace;background-color: #f0f8ff;border: 1px dotted black;border-radius: 0.25em;box-sizing: border-box;margin-bottom: 0.5em;}#sk-60c35c98-9087-41fe-90d2-cf382a040ce1 div.sk-estimator:hover {background-color: #d4ebff;}#sk-60c35c98-9087-41fe-90d2-cf382a040ce1 div.sk-parallel-item::after {content: \"\";width: 100%;border-bottom: 1px solid gray;flex-grow: 1;}#sk-60c35c98-9087-41fe-90d2-cf382a040ce1 div.sk-label:hover label.sk-toggleable__label {background-color: #d4ebff;}#sk-60c35c98-9087-41fe-90d2-cf382a040ce1 div.sk-serial::before {content: \"\";position: absolute;border-left: 1px solid gray;box-sizing: border-box;top: 2em;bottom: 0;left: 50%;}#sk-60c35c98-9087-41fe-90d2-cf382a040ce1 div.sk-serial {display: flex;flex-direction: column;align-items: center;background-color: white;padding-right: 0.2em;padding-left: 0.2em;}#sk-60c35c98-9087-41fe-90d2-cf382a040ce1 div.sk-item {z-index: 1;}#sk-60c35c98-9087-41fe-90d2-cf382a040ce1 div.sk-parallel {display: flex;align-items: stretch;justify-content: center;background-color: white;}#sk-60c35c98-9087-41fe-90d2-cf382a040ce1 div.sk-parallel::before {content: \"\";position: absolute;border-left: 1px solid gray;box-sizing: border-box;top: 2em;bottom: 0;left: 50%;}#sk-60c35c98-9087-41fe-90d2-cf382a040ce1 div.sk-parallel-item {display: flex;flex-direction: column;position: relative;background-color: white;}#sk-60c35c98-9087-41fe-90d2-cf382a040ce1 div.sk-parallel-item:first-child::after {align-self: flex-end;width: 50%;}#sk-60c35c98-9087-41fe-90d2-cf382a040ce1 div.sk-parallel-item:last-child::after {align-self: flex-start;width: 50%;}#sk-60c35c98-9087-41fe-90d2-cf382a040ce1 div.sk-parallel-item:only-child::after {width: 0;}#sk-60c35c98-9087-41fe-90d2-cf382a040ce1 div.sk-dashed-wrapped {border: 1px dashed gray;margin: 0 0.4em 0.5em 0.4em;box-sizing: border-box;padding-bottom: 0.4em;background-color: white;position: relative;}#sk-60c35c98-9087-41fe-90d2-cf382a040ce1 div.sk-label label {font-family: monospace;font-weight: bold;background-color: white;display: inline-block;line-height: 1.2em;}#sk-60c35c98-9087-41fe-90d2-cf382a040ce1 div.sk-label-container {position: relative;z-index: 2;text-align: center;}#sk-60c35c98-9087-41fe-90d2-cf382a040ce1 div.sk-container {/* jupyter's `normalize.less` sets `[hidden] { display: none; }` but bootstrap.min.css set `[hidden] { display: none !important; }` so we also need the `!important` here to be able to override the default hidden behavior on the sphinx rendered scikit-learn.org. See: https://github.com/scikit-learn/scikit-learn/issues/21755 */display: inline-block !important;position: relative;}#sk-60c35c98-9087-41fe-90d2-cf382a040ce1 div.sk-text-repr-fallback {display: none;}</style><div id=\"sk-60c35c98-9087-41fe-90d2-cf382a040ce1\" class=\"sk-top-container\"><div class=\"sk-text-repr-fallback\"><pre>RandomForestClassifier(max_depth=4, n_estimators=200, random_state=42)</pre><b>Please rerun this cell to show the HTML repr or trust the notebook.</b></div><div class=\"sk-container\" hidden><div class=\"sk-item\"><div class=\"sk-estimator sk-toggleable\"><input class=\"sk-toggleable__control sk-hidden--visually\" id=\"380da7da-0862-4250-91f9-a2477040727d\" type=\"checkbox\" checked><label for=\"380da7da-0862-4250-91f9-a2477040727d\" class=\"sk-toggleable__label sk-toggleable__label-arrow\">RandomForestClassifier</label><div class=\"sk-toggleable__content\"><pre>RandomForestClassifier(max_depth=4, n_estimators=200, random_state=42)</pre></div></div></div></div></div>"
      ],
      "text/plain": [
       "RandomForestClassifier(max_depth=4, n_estimators=200, random_state=42)"
      ]
     },
     "execution_count": 15,
     "metadata": {},
     "output_type": "execute_result"
    }
   ],
   "source": [
    "result.best_estimator_"
   ]
  },
  {
   "cell_type": "markdown",
   "id": "bf1a7091",
   "metadata": {},
   "source": [
    "## Le meilleur modèle choisi est XGBoost Classifier"
   ]
  },
  {
   "cell_type": "code",
   "execution_count": 16,
   "id": "874d4186",
   "metadata": {},
   "outputs": [],
   "source": [
    "X = data.drop('TARGET', axis = 1)\n",
    "y = data['TARGET']\n",
    "X_train,X_test,y_train,y_test = train_test_split(X,y,test_size=0.25,random_state=0)"
   ]
  },
  {
   "cell_type": "markdown",
   "id": "d2b2bfcb",
   "metadata": {},
   "source": [
    "## Calcul du score metier avec fbeta_score"
   ]
  },
  {
   "cell_type": "code",
   "execution_count": 17,
   "id": "92f18c60",
   "metadata": {},
   "outputs": [],
   "source": [
    "from sklearn.metrics import fbeta_score, make_scorer\n",
    "m_score =dict(beta=make_scorer(fbeta_score, beta=2))"
   ]
  },
  {
   "cell_type": "markdown",
   "id": "7d133380",
   "metadata": {},
   "source": [
    "## Evaluation des métriques par validation croisée avec les temps d'entrainement et les scores avec cross_validate"
   ]
  },
  {
   "cell_type": "code",
   "execution_count": 19,
   "id": "cd169bbb",
   "metadata": {},
   "outputs": [],
   "source": [
    "from xgboost import XGBClassifier\n",
    "model = XGBClassifier(gamma = 2, learning_rate=0.02, max_depth= 4, n_estimators=800, objective='binary:logistic', nthread=2)"
   ]
  },
  {
   "cell_type": "code",
   "execution_count": 20,
   "id": "11c8f5a6",
   "metadata": {},
   "outputs": [],
   "source": [
    "from sklearn.model_selection import cross_validate\n",
    "model = XGBClassifier(gamma = 2, learning_rate=0.02, max_depth= 4, n_estimators=800, objective='binary:logistic', nthread=2)\n",
    "eva_mdl = cross_validate(model, X_train, y_train, cv=5, scoring=m_score, return_train_score=True,return_estimator=True)"
   ]
  },
  {
   "cell_type": "code",
   "execution_count": 21,
   "id": "c73dbb78",
   "metadata": {},
   "outputs": [
    {
     "name": "stdout",
     "output_type": "stream",
     "text": [
      "[25.82458925 26.37187862 24.97640538 28.38495278 57.96483231]\n"
     ]
    }
   ],
   "source": [
    "print(eva_mdl['fit_time'])"
   ]
  },
  {
   "cell_type": "code",
   "execution_count": 22,
   "id": "9e9f2791",
   "metadata": {},
   "outputs": [
    {
     "name": "stdout",
     "output_type": "stream",
     "text": [
      "[0.03124905 0.03124833 0.01562428 0.03125238 0.08902216]\n"
     ]
    }
   ],
   "source": [
    "print(eva_mdl['score_time'])"
   ]
  },
  {
   "cell_type": "code",
   "execution_count": 23,
   "id": "bc9d4309",
   "metadata": {},
   "outputs": [
    {
     "data": {
      "text/html": [
       "<style>#sk-caa17325-aa18-4ca3-b74c-b0251faedda0 {color: black;background-color: white;}#sk-caa17325-aa18-4ca3-b74c-b0251faedda0 pre{padding: 0;}#sk-caa17325-aa18-4ca3-b74c-b0251faedda0 div.sk-toggleable {background-color: white;}#sk-caa17325-aa18-4ca3-b74c-b0251faedda0 label.sk-toggleable__label {cursor: pointer;display: block;width: 100%;margin-bottom: 0;padding: 0.3em;box-sizing: border-box;text-align: center;}#sk-caa17325-aa18-4ca3-b74c-b0251faedda0 label.sk-toggleable__label-arrow:before {content: \"▸\";float: left;margin-right: 0.25em;color: #696969;}#sk-caa17325-aa18-4ca3-b74c-b0251faedda0 label.sk-toggleable__label-arrow:hover:before {color: black;}#sk-caa17325-aa18-4ca3-b74c-b0251faedda0 div.sk-estimator:hover label.sk-toggleable__label-arrow:before {color: black;}#sk-caa17325-aa18-4ca3-b74c-b0251faedda0 div.sk-toggleable__content {max-height: 0;max-width: 0;overflow: hidden;text-align: left;background-color: #f0f8ff;}#sk-caa17325-aa18-4ca3-b74c-b0251faedda0 div.sk-toggleable__content pre {margin: 0.2em;color: black;border-radius: 0.25em;background-color: #f0f8ff;}#sk-caa17325-aa18-4ca3-b74c-b0251faedda0 input.sk-toggleable__control:checked~div.sk-toggleable__content {max-height: 200px;max-width: 100%;overflow: auto;}#sk-caa17325-aa18-4ca3-b74c-b0251faedda0 input.sk-toggleable__control:checked~label.sk-toggleable__label-arrow:before {content: \"▾\";}#sk-caa17325-aa18-4ca3-b74c-b0251faedda0 div.sk-estimator input.sk-toggleable__control:checked~label.sk-toggleable__label {background-color: #d4ebff;}#sk-caa17325-aa18-4ca3-b74c-b0251faedda0 div.sk-label input.sk-toggleable__control:checked~label.sk-toggleable__label {background-color: #d4ebff;}#sk-caa17325-aa18-4ca3-b74c-b0251faedda0 input.sk-hidden--visually {border: 0;clip: rect(1px 1px 1px 1px);clip: rect(1px, 1px, 1px, 1px);height: 1px;margin: -1px;overflow: hidden;padding: 0;position: absolute;width: 1px;}#sk-caa17325-aa18-4ca3-b74c-b0251faedda0 div.sk-estimator {font-family: monospace;background-color: #f0f8ff;border: 1px dotted black;border-radius: 0.25em;box-sizing: border-box;margin-bottom: 0.5em;}#sk-caa17325-aa18-4ca3-b74c-b0251faedda0 div.sk-estimator:hover {background-color: #d4ebff;}#sk-caa17325-aa18-4ca3-b74c-b0251faedda0 div.sk-parallel-item::after {content: \"\";width: 100%;border-bottom: 1px solid gray;flex-grow: 1;}#sk-caa17325-aa18-4ca3-b74c-b0251faedda0 div.sk-label:hover label.sk-toggleable__label {background-color: #d4ebff;}#sk-caa17325-aa18-4ca3-b74c-b0251faedda0 div.sk-serial::before {content: \"\";position: absolute;border-left: 1px solid gray;box-sizing: border-box;top: 2em;bottom: 0;left: 50%;}#sk-caa17325-aa18-4ca3-b74c-b0251faedda0 div.sk-serial {display: flex;flex-direction: column;align-items: center;background-color: white;padding-right: 0.2em;padding-left: 0.2em;}#sk-caa17325-aa18-4ca3-b74c-b0251faedda0 div.sk-item {z-index: 1;}#sk-caa17325-aa18-4ca3-b74c-b0251faedda0 div.sk-parallel {display: flex;align-items: stretch;justify-content: center;background-color: white;}#sk-caa17325-aa18-4ca3-b74c-b0251faedda0 div.sk-parallel::before {content: \"\";position: absolute;border-left: 1px solid gray;box-sizing: border-box;top: 2em;bottom: 0;left: 50%;}#sk-caa17325-aa18-4ca3-b74c-b0251faedda0 div.sk-parallel-item {display: flex;flex-direction: column;position: relative;background-color: white;}#sk-caa17325-aa18-4ca3-b74c-b0251faedda0 div.sk-parallel-item:first-child::after {align-self: flex-end;width: 50%;}#sk-caa17325-aa18-4ca3-b74c-b0251faedda0 div.sk-parallel-item:last-child::after {align-self: flex-start;width: 50%;}#sk-caa17325-aa18-4ca3-b74c-b0251faedda0 div.sk-parallel-item:only-child::after {width: 0;}#sk-caa17325-aa18-4ca3-b74c-b0251faedda0 div.sk-dashed-wrapped {border: 1px dashed gray;margin: 0 0.4em 0.5em 0.4em;box-sizing: border-box;padding-bottom: 0.4em;background-color: white;position: relative;}#sk-caa17325-aa18-4ca3-b74c-b0251faedda0 div.sk-label label {font-family: monospace;font-weight: bold;background-color: white;display: inline-block;line-height: 1.2em;}#sk-caa17325-aa18-4ca3-b74c-b0251faedda0 div.sk-label-container {position: relative;z-index: 2;text-align: center;}#sk-caa17325-aa18-4ca3-b74c-b0251faedda0 div.sk-container {/* jupyter's `normalize.less` sets `[hidden] { display: none; }` but bootstrap.min.css set `[hidden] { display: none !important; }` so we also need the `!important` here to be able to override the default hidden behavior on the sphinx rendered scikit-learn.org. See: https://github.com/scikit-learn/scikit-learn/issues/21755 */display: inline-block !important;position: relative;}#sk-caa17325-aa18-4ca3-b74c-b0251faedda0 div.sk-text-repr-fallback {display: none;}</style><div id=\"sk-caa17325-aa18-4ca3-b74c-b0251faedda0\" class=\"sk-top-container\"><div class=\"sk-text-repr-fallback\"><pre>XGBClassifier(base_score=None, booster=None, callbacks=None,\n",
       "              colsample_bylevel=None, colsample_bynode=None,\n",
       "              colsample_bytree=None, early_stopping_rounds=None,\n",
       "              enable_categorical=False, eval_metric=None, feature_types=None,\n",
       "              gamma=2, gpu_id=None, grow_policy=None, importance_type=None,\n",
       "              interaction_constraints=None, learning_rate=0.02, max_bin=None,\n",
       "              max_cat_threshold=None, max_cat_to_onehot=None,\n",
       "              max_delta_step=None, max_depth=4, max_leaves=None,\n",
       "              min_child_weight=None, missing=nan, monotone_constraints=None,\n",
       "              n_estimators=800, n_jobs=None, nthread=2, num_parallel_tree=None,\n",
       "              predictor=None, ...)</pre><b>Please rerun this cell to show the HTML repr or trust the notebook.</b></div><div class=\"sk-container\" hidden><div class=\"sk-item\"><div class=\"sk-estimator sk-toggleable\"><input class=\"sk-toggleable__control sk-hidden--visually\" id=\"893807b1-8b9d-4373-825d-02e49ec8c126\" type=\"checkbox\" checked><label for=\"893807b1-8b9d-4373-825d-02e49ec8c126\" class=\"sk-toggleable__label sk-toggleable__label-arrow\">XGBClassifier</label><div class=\"sk-toggleable__content\"><pre>XGBClassifier(base_score=None, booster=None, callbacks=None,\n",
       "              colsample_bylevel=None, colsample_bynode=None,\n",
       "              colsample_bytree=None, early_stopping_rounds=None,\n",
       "              enable_categorical=False, eval_metric=None, feature_types=None,\n",
       "              gamma=2, gpu_id=None, grow_policy=None, importance_type=None,\n",
       "              interaction_constraints=None, learning_rate=0.02, max_bin=None,\n",
       "              max_cat_threshold=None, max_cat_to_onehot=None,\n",
       "              max_delta_step=None, max_depth=4, max_leaves=None,\n",
       "              min_child_weight=None, missing=nan, monotone_constraints=None,\n",
       "              n_estimators=800, n_jobs=None, nthread=2, num_parallel_tree=None,\n",
       "              predictor=None, ...)</pre></div></div></div></div></div>"
      ],
      "text/plain": [
       "XGBClassifier(base_score=None, booster=None, callbacks=None,\n",
       "              colsample_bylevel=None, colsample_bynode=None,\n",
       "              colsample_bytree=None, early_stopping_rounds=None,\n",
       "              enable_categorical=False, eval_metric=None, feature_types=None,\n",
       "              gamma=2, gpu_id=None, grow_policy=None, importance_type=None,\n",
       "              interaction_constraints=None, learning_rate=0.02, max_bin=None,\n",
       "              max_cat_threshold=None, max_cat_to_onehot=None,\n",
       "              max_delta_step=None, max_depth=4, max_leaves=None,\n",
       "              min_child_weight=None, missing=nan, monotone_constraints=None,\n",
       "              n_estimators=800, n_jobs=None, nthread=2, num_parallel_tree=None,\n",
       "              predictor=None, ...)"
      ]
     },
     "execution_count": 23,
     "metadata": {},
     "output_type": "execute_result"
    }
   ],
   "source": [
    "model.fit(X_train, y_train)"
   ]
  },
  {
   "cell_type": "code",
   "execution_count": 24,
   "id": "2ac9af36",
   "metadata": {},
   "outputs": [],
   "source": [
    "y_pred = model.predict(X_test)"
   ]
  },
  {
   "cell_type": "code",
   "execution_count": 25,
   "id": "ae2ea61f",
   "metadata": {},
   "outputs": [
    {
     "data": {
      "text/plain": [
       "0.9173171436831454"
      ]
     },
     "execution_count": 25,
     "metadata": {},
     "output_type": "execute_result"
    }
   ],
   "source": [
    "model.score(X_train, y_train)"
   ]
  },
  {
   "cell_type": "code",
   "execution_count": 26,
   "id": "6ba01629",
   "metadata": {},
   "outputs": [
    {
     "data": {
      "text/plain": [
       "1.0"
      ]
     },
     "execution_count": 26,
     "metadata": {},
     "output_type": "execute_result"
    }
   ],
   "source": [
    "model.score(X_test, y_pred)"
   ]
  },
  {
   "cell_type": "code",
   "execution_count": 27,
   "id": "21ec403b",
   "metadata": {},
   "outputs": [
    {
     "name": "stdout",
     "output_type": "stream",
     "text": [
      "[[0.99 0.01]\n",
      " [0.89 0.11]\n",
      " [0.99 0.01]\n",
      " ...\n",
      " [0.64 0.36]\n",
      " [0.9  0.1 ]\n",
      " [0.98 0.02]]\n"
     ]
    }
   ],
   "source": [
    "print(model.predict_proba(X_train).round(2))"
   ]
  },
  {
   "cell_type": "code",
   "execution_count": 28,
   "id": "78026688",
   "metadata": {},
   "outputs": [
    {
     "name": "stdout",
     "output_type": "stream",
     "text": [
      "[[0.94 0.06]\n",
      " [0.95 0.05]\n",
      " [0.97 0.03]\n",
      " ...\n",
      " [0.88 0.12]\n",
      " [0.98 0.02]\n",
      " [0.95 0.05]]\n"
     ]
    }
   ],
   "source": [
    "print(model.predict_proba(X_test).round(2))"
   ]
  },
  {
   "cell_type": "code",
   "execution_count": 29,
   "id": "9babb6bc",
   "metadata": {},
   "outputs": [
    {
     "name": "stdout",
     "output_type": "stream",
     "text": [
      "              precision    recall  f1-score   support\n",
      "\n",
      "           0       0.93      1.00      0.96      2133\n",
      "           1       0.40      0.01      0.02       174\n",
      "\n",
      "    accuracy                           0.92      2307\n",
      "   macro avg       0.66      0.51      0.49      2307\n",
      "weighted avg       0.89      0.92      0.89      2307\n",
      "\n"
     ]
    }
   ],
   "source": [
    "print(classification_report(y_test,y_pred));"
   ]
  },
  {
   "cell_type": "markdown",
   "id": "751ec50d",
   "metadata": {},
   "source": [
    "## La matrice de confusion"
   ]
  },
  {
   "cell_type": "code",
   "execution_count": 30,
   "id": "5c69f09f",
   "metadata": {},
   "outputs": [
    {
     "data": {
      "text/plain": [
       "array([[2130,    3],\n",
       "       [ 172,    2]], dtype=int64)"
      ]
     },
     "execution_count": 30,
     "metadata": {},
     "output_type": "execute_result"
    }
   ],
   "source": [
    "from sklearn.metrics import confusion_matrix\n",
    "confusion_matrix(y_test, y_pred)"
   ]
  },
  {
   "cell_type": "markdown",
   "id": "2fb3bbc5",
   "metadata": {},
   "source": [
    "## Calcul de l'AUC \n",
    "l’AUC PR est un indicateur de la performance globale du modèle "
   ]
  },
  {
   "cell_type": "code",
   "execution_count": 31,
   "id": "9af38cad",
   "metadata": {},
   "outputs": [
    {
     "name": "stdout",
     "output_type": "stream",
     "text": [
      "0.71\n"
     ]
    }
   ],
   "source": [
    "from sklearn import metrics\n",
    "from sklearn.metrics import roc_auc_score\n",
    "#utilisez le modèle pour prédire la probabilité que la valeur y donnée soit 1\n",
    "y_pred_proba = model.predict_proba(X_test)[::, 1]\n",
    "\n",
    "#calculer l'AUC du modèle\n",
    "auc = metrics.roc_auc_score (y_test, y_pred_proba).round(2)\n",
    "\n",
    "#print AUC score\n",
    "print(auc)"
   ]
  },
  {
   "cell_type": "markdown",
   "id": "c6cb8dbf",
   "metadata": {},
   "source": [
    "## Calcul de accuracy_score \n",
    "taux prédiction correcte à la fois les individus positifs et négatifs"
   ]
  },
  {
   "cell_type": "code",
   "execution_count": 32,
   "id": "ec20f5c3",
   "metadata": {},
   "outputs": [
    {
     "name": "stdout",
     "output_type": "stream",
     "text": [
      "0.92\n"
     ]
    }
   ],
   "source": [
    "from sklearn.metrics import accuracy_score\n",
    "print(accuracy_score(y_test, model.predict(X_test)).round(2))"
   ]
  },
  {
   "cell_type": "code",
   "execution_count": 33,
   "id": "312d50c6",
   "metadata": {},
   "outputs": [
    {
     "name": "stderr",
     "output_type": "stream",
     "text": [
      " 99%|===================| 2293/2307 [00:39<00:00]        "
     ]
    }
   ],
   "source": [
    "import shap\n",
    "explainer = shap.Explainer(model, X)\n",
    "shap_values = explainer(X_test)"
   ]
  },
  {
   "cell_type": "markdown",
   "id": "33ceba3f",
   "metadata": {},
   "source": [
    "### Les features les plus importants en moyenne "
   ]
  },
  {
   "cell_type": "code",
   "execution_count": 34,
   "id": "42da96a3",
   "metadata": {},
   "outputs": [
    {
     "data": {
      "image/png": "[encoded data removed]",
      "text/plain": [
       "<Figure size 800x650 with 1 Axes>"
      ]
     },
     "metadata": {},
     "output_type": "display_data"
    }
   ],
   "source": [
    "shap.plots.bar(shap_values)"
   ]
  },
  {
   "cell_type": "markdown",
   "id": "bacff6cc",
   "metadata": {},
   "source": [
    "## La courbe ROC Curve"
   ]
  },
  {
   "cell_type": "code",
   "execution_count": 35,
   "id": "8a6543ba",
   "metadata": {},
   "outputs": [
    {
     "data": {
      "image/png": "[encoded data removed]",
      "text/plain": [
       "<Figure size 640x480 with 1 Axes>"
      ]
     },
     "metadata": {},
     "output_type": "display_data"
    }
   ],
   "source": [
    "from sklearn.metrics import roc_curve, auc\n",
    "from sklearn import metrics\n",
    "y_train_pred = model.predict_proba(X_train)[:, 1]\n",
    "y_pred_proba = model.predict_proba(X_test)[:, 1]\n",
    "\n",
    "[fpr_in, tpr_in, thr] = metrics.roc_curve(y_train, y_train_pred)\n",
    "roc_auc_tr = auc(fpr_in, tpr_in)\n",
    "[fpr, tpr, thr] = metrics.roc_curve(y_test, y_pred_proba)\n",
    "roc_auc_test = auc(fpr, tpr)\n",
    "\n",
    "plt.plot(fpr_in, tpr_in, color='green', lw=2, label='ROC curve (train) (AUC = %0.2f)' % roc_auc_tr)\n",
    "plt.plot(fpr, tpr, color='r', lw=2, label='ROC curve (test) (AUC = %0.2f)' % roc_auc_test)\n",
    "plt.plot([0, 1], [0, 1], color='navy', lw=2, linestyle='--')\n",
    "plt.xlim([0.0, 1.0])\n",
    "plt.ylim([0.0, 1.05])\n",
    "plt.xlabel('Taux de faux positifs', fontsize=14)\n",
    "plt.ylabel('Taux de vrais positifs', fontsize=14)\n",
    "plt.title('Courbes ROC')\n",
    "plt.legend(loc=\"lower right\")\n",
    "plt.show()"
   ]
  },
  {
   "cell_type": "code",
   "execution_count": null,
   "id": "5eeb6bdd",
   "metadata": {},
   "outputs": [],
   "source": []
  }
 ],
 "metadata": {
  "kernelspec": {
   "display_name": "Python 3 (ipykernel)",
   "language": "python",
   "name": "python3"
  },
  "language_info": {
   "codemirror_mode": {
    "name": "ipython",
    "version": 3
   },
   "file_extension": ".py",
   "mimetype": "text/x-python",
   "name": "python",
   "nbconvert_exporter": "python",
   "pygments_lexer": "ipython3",
   "version": "3.9.13"
  }
 },
 "nbformat": 4,
 "nbformat_minor": 5
}
