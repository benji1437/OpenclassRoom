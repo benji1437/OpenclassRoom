{
 "cells": [
  {
   "cell_type": "code",
   "execution_count": 1,
   "id": "011cae51",
   "metadata": {},
   "outputs": [],
   "source": [
    "import numpy as np\n",
    "import pandas as pd \n",
    "import matplotlib.pyplot as plt\n",
    "import seaborn as sns\n",
    "from sklearn import model_selection\n",
    "from sklearn.model_selection import train_test_split\n",
    "from sklearn import preprocessing\n",
    "from sklearn.preprocessing import StandardScaler\n",
    "from sklearn.metrics import accuracy_score\n",
    "from imblearn.over_sampling import SMOTE\n",
    "from sklearn.metrics import classification_report\n",
    "from sklearn.model_selection import cross_val_score\n",
    "from sklearn.metrics import roc_auc_score"
   ]
  },
  {
   "cell_type": "markdown",
   "id": "b31f7a6b",
   "metadata": {},
   "source": [
    "## <a name=\"C4\">MODELISATION </a>\n",
    "### - <a href=\"#C3\"> Utilisation de l'algorithme SMOTE </a>  <a name=\"C1\"> </a>"
   ]
  },
  {
   "cell_type": "code",
   "execution_count": 2,
   "id": "4eb03b3c",
   "metadata": {},
   "outputs": [
    {
     "name": "stdout",
     "output_type": "stream",
     "text": [
      "Les dimensions du data training :  (12300, 243)\n"
     ]
    },
    {
     "data": {
      "text/html": [
       "<div>\n",
       "<style scoped>\n",
       "    .dataframe tbody tr th:only-of-type {\n",
       "        vertical-align: middle;\n",
       "    }\n",
       "\n",
       "    .dataframe tbody tr th {\n",
       "        vertical-align: top;\n",
       "    }\n",
       "\n",
       "    .dataframe thead th {\n",
       "        text-align: right;\n",
       "    }\n",
       "</style>\n",
       "<table border=\"1\" class=\"dataframe\">\n",
       "  <thead>\n",
       "    <tr style=\"text-align: right;\">\n",
       "      <th></th>\n",
       "      <th>SK_ID_CURR</th>\n",
       "      <th>CNT_CHILDREN</th>\n",
       "      <th>AMT_INCOME_TOTAL</th>\n",
       "      <th>AMT_CREDIT</th>\n",
       "      <th>AMT_ANNUITY</th>\n",
       "      <th>AMT_GOODS_PRICE</th>\n",
       "      <th>REGION_POPULATION_RELATIVE</th>\n",
       "      <th>DAYS_BIRTH</th>\n",
       "      <th>DAYS_EMPLOYED</th>\n",
       "      <th>DAYS_REGISTRATION</th>\n",
       "      <th>...</th>\n",
       "      <th>WALLSMATERIAL_MODE_Block</th>\n",
       "      <th>WALLSMATERIAL_MODE_Mixed</th>\n",
       "      <th>WALLSMATERIAL_MODE_Monolithic</th>\n",
       "      <th>WALLSMATERIAL_MODE_Others</th>\n",
       "      <th>WALLSMATERIAL_MODE_Panel</th>\n",
       "      <th>WALLSMATERIAL_MODE_Stone, brick</th>\n",
       "      <th>WALLSMATERIAL_MODE_Wooden</th>\n",
       "      <th>EMERGENCYSTATE_MODE_No</th>\n",
       "      <th>EMERGENCYSTATE_MODE_Yes</th>\n",
       "      <th>TARGET</th>\n",
       "    </tr>\n",
       "  </thead>\n",
       "  <tbody>\n",
       "    <tr>\n",
       "      <th>0</th>\n",
       "      <td>145360</td>\n",
       "      <td>0</td>\n",
       "      <td>126000.0</td>\n",
       "      <td>107820.0</td>\n",
       "      <td>5845.5</td>\n",
       "      <td>90000.0</td>\n",
       "      <td>0.016612</td>\n",
       "      <td>-8865</td>\n",
       "      <td>-595</td>\n",
       "      <td>-203.0</td>\n",
       "      <td>...</td>\n",
       "      <td>0</td>\n",
       "      <td>0</td>\n",
       "      <td>0</td>\n",
       "      <td>0</td>\n",
       "      <td>0</td>\n",
       "      <td>0</td>\n",
       "      <td>0</td>\n",
       "      <td>0</td>\n",
       "      <td>0</td>\n",
       "      <td>0</td>\n",
       "    </tr>\n",
       "    <tr>\n",
       "      <th>1</th>\n",
       "      <td>438982</td>\n",
       "      <td>1</td>\n",
       "      <td>157500.0</td>\n",
       "      <td>612000.0</td>\n",
       "      <td>23845.5</td>\n",
       "      <td>612000.0</td>\n",
       "      <td>0.009630</td>\n",
       "      <td>-11964</td>\n",
       "      <td>-822</td>\n",
       "      <td>-477.0</td>\n",
       "      <td>...</td>\n",
       "      <td>0</td>\n",
       "      <td>0</td>\n",
       "      <td>0</td>\n",
       "      <td>0</td>\n",
       "      <td>0</td>\n",
       "      <td>0</td>\n",
       "      <td>0</td>\n",
       "      <td>0</td>\n",
       "      <td>0</td>\n",
       "      <td>0</td>\n",
       "    </tr>\n",
       "    <tr>\n",
       "      <th>2</th>\n",
       "      <td>284875</td>\n",
       "      <td>0</td>\n",
       "      <td>247500.0</td>\n",
       "      <td>225000.0</td>\n",
       "      <td>11250.0</td>\n",
       "      <td>225000.0</td>\n",
       "      <td>0.010032</td>\n",
       "      <td>-11310</td>\n",
       "      <td>-3092</td>\n",
       "      <td>-5291.0</td>\n",
       "      <td>...</td>\n",
       "      <td>0</td>\n",
       "      <td>0</td>\n",
       "      <td>0</td>\n",
       "      <td>0</td>\n",
       "      <td>1</td>\n",
       "      <td>0</td>\n",
       "      <td>0</td>\n",
       "      <td>1</td>\n",
       "      <td>0</td>\n",
       "      <td>0</td>\n",
       "    </tr>\n",
       "    <tr>\n",
       "      <th>3</th>\n",
       "      <td>160582</td>\n",
       "      <td>2</td>\n",
       "      <td>121500.0</td>\n",
       "      <td>1260702.0</td>\n",
       "      <td>39712.5</td>\n",
       "      <td>1129500.0</td>\n",
       "      <td>0.025164</td>\n",
       "      <td>-13398</td>\n",
       "      <td>-4681</td>\n",
       "      <td>-2212.0</td>\n",
       "      <td>...</td>\n",
       "      <td>0</td>\n",
       "      <td>0</td>\n",
       "      <td>0</td>\n",
       "      <td>0</td>\n",
       "      <td>1</td>\n",
       "      <td>0</td>\n",
       "      <td>0</td>\n",
       "      <td>1</td>\n",
       "      <td>0</td>\n",
       "      <td>0</td>\n",
       "    </tr>\n",
       "    <tr>\n",
       "      <th>4</th>\n",
       "      <td>103634</td>\n",
       "      <td>0</td>\n",
       "      <td>292500.0</td>\n",
       "      <td>1125000.0</td>\n",
       "      <td>32895.0</td>\n",
       "      <td>1125000.0</td>\n",
       "      <td>0.035792</td>\n",
       "      <td>-17445</td>\n",
       "      <td>-3391</td>\n",
       "      <td>-8920.0</td>\n",
       "      <td>...</td>\n",
       "      <td>0</td>\n",
       "      <td>0</td>\n",
       "      <td>0</td>\n",
       "      <td>0</td>\n",
       "      <td>0</td>\n",
       "      <td>0</td>\n",
       "      <td>0</td>\n",
       "      <td>0</td>\n",
       "      <td>0</td>\n",
       "      <td>0</td>\n",
       "    </tr>\n",
       "  </tbody>\n",
       "</table>\n",
       "<p>5 rows × 243 columns</p>\n",
       "</div>"
      ],
      "text/plain": [
       "   SK_ID_CURR  CNT_CHILDREN  AMT_INCOME_TOTAL  AMT_CREDIT  AMT_ANNUITY  \\\n",
       "0      145360             0          126000.0    107820.0       5845.5   \n",
       "1      438982             1          157500.0    612000.0      23845.5   \n",
       "2      284875             0          247500.0    225000.0      11250.0   \n",
       "3      160582             2          121500.0   1260702.0      39712.5   \n",
       "4      103634             0          292500.0   1125000.0      32895.0   \n",
       "\n",
       "   AMT_GOODS_PRICE  REGION_POPULATION_RELATIVE  DAYS_BIRTH  DAYS_EMPLOYED  \\\n",
       "0          90000.0                    0.016612       -8865           -595   \n",
       "1         612000.0                    0.009630      -11964           -822   \n",
       "2         225000.0                    0.010032      -11310          -3092   \n",
       "3        1129500.0                    0.025164      -13398          -4681   \n",
       "4        1125000.0                    0.035792      -17445          -3391   \n",
       "\n",
       "   DAYS_REGISTRATION  ...  WALLSMATERIAL_MODE_Block  WALLSMATERIAL_MODE_Mixed  \\\n",
       "0             -203.0  ...                         0                         0   \n",
       "1             -477.0  ...                         0                         0   \n",
       "2            -5291.0  ...                         0                         0   \n",
       "3            -2212.0  ...                         0                         0   \n",
       "4            -8920.0  ...                         0                         0   \n",
       "\n",
       "   WALLSMATERIAL_MODE_Monolithic  WALLSMATERIAL_MODE_Others  \\\n",
       "0                              0                          0   \n",
       "1                              0                          0   \n",
       "2                              0                          0   \n",
       "3                              0                          0   \n",
       "4                              0                          0   \n",
       "\n",
       "   WALLSMATERIAL_MODE_Panel  WALLSMATERIAL_MODE_Stone, brick  \\\n",
       "0                         0                                0   \n",
       "1                         0                                0   \n",
       "2                         1                                0   \n",
       "3                         1                                0   \n",
       "4                         0                                0   \n",
       "\n",
       "   WALLSMATERIAL_MODE_Wooden  EMERGENCYSTATE_MODE_No  EMERGENCYSTATE_MODE_Yes  \\\n",
       "0                          0                       0                        0   \n",
       "1                          0                       0                        0   \n",
       "2                          0                       1                        0   \n",
       "3                          0                       1                        0   \n",
       "4                          0                       0                        0   \n",
       "\n",
       "   TARGET  \n",
       "0       0  \n",
       "1       0  \n",
       "2       0  \n",
       "3       0  \n",
       "4       0  \n",
       "\n",
       "[5 rows x 243 columns]"
      ]
     },
     "execution_count": 2,
     "metadata": {},
     "output_type": "execute_result"
    }
   ],
   "source": [
    "data = pd.read_csv('data01.csv')\n",
    "print('Les dimensions du data training : ', data.shape)\n",
    "data.head()"
   ]
  },
  {
   "cell_type": "code",
   "execution_count": 3,
   "id": "78258218",
   "metadata": {},
   "outputs": [],
   "source": [
    "data = data.replace((np.inf, -np.inf, np.nan), 0).reset_index(drop=True)"
   ]
  },
  {
   "cell_type": "code",
   "execution_count": 4,
   "id": "b8439c48",
   "metadata": {},
   "outputs": [],
   "source": [
    "#df001= data.sample(frac =0.04) \n",
    "#df001.shape"
   ]
  },
  {
   "cell_type": "code",
   "execution_count": 5,
   "id": "82f2ffd9",
   "metadata": {},
   "outputs": [],
   "source": [
    "X = data.drop('TARGET', axis = 1)\n",
    "y = data['TARGET']\n",
    "#train test split\n",
    "X_train,X_test,y_train,y_test = train_test_split(X,y,test_size=0.25,random_state=0)"
   ]
  },
  {
   "cell_type": "code",
   "execution_count": 6,
   "id": "1b574af4",
   "metadata": {},
   "outputs": [],
   "source": [
    "#scaling the data\n",
    "scaler = StandardScaler()\n",
    "X_train = scaler.fit_transform(X_train)\n",
    "X_test = scaler.transform(X_test)"
   ]
  },
  {
   "cell_type": "markdown",
   "id": "bbab6219",
   "metadata": {},
   "source": [
    "##  <a name=\"C2\"> Baseline avec Dummy regressor</a>"
   ]
  },
  {
   "cell_type": "code",
   "execution_count": 7,
   "id": "ea322443",
   "metadata": {},
   "outputs": [
    {
     "data": {
      "text/plain": [
       "array([0., 0., 0., ..., 0., 0., 0.])"
      ]
     },
     "execution_count": 7,
     "metadata": {},
     "output_type": "execute_result"
    }
   ],
   "source": [
    "from sklearn.dummy import DummyRegressor\n",
    "model = DummyRegressor(strategy=\"median\")\n",
    "model.fit(X_train, y_train)\n",
    "DummyRegressor()\n",
    "\n",
    "y_pred = model.predict(X_train)\n",
    "y_pred"
   ]
  },
  {
   "cell_type": "code",
   "execution_count": 8,
   "id": "6d3abd0e",
   "metadata": {},
   "outputs": [
    {
     "data": {
      "text/plain": [
       "-0.09184518877973735"
      ]
     },
     "execution_count": 8,
     "metadata": {},
     "output_type": "execute_result"
    }
   ],
   "source": [
    "model.score(X_train, y_train)"
   ]
  },
  {
   "cell_type": "code",
   "execution_count": 9,
   "id": "42cb8e54",
   "metadata": {},
   "outputs": [
    {
     "data": {
      "text/plain": [
       "-0.08580508474576254"
      ]
     },
     "execution_count": 9,
     "metadata": {},
     "output_type": "execute_result"
    }
   ],
   "source": [
    "model.score(X_test, y_test)"
   ]
  },
  {
   "cell_type": "code",
   "execution_count": 10,
   "id": "881abc6e",
   "metadata": {},
   "outputs": [],
   "source": [
    "y_pred = model.predict(X_test)"
   ]
  },
  {
   "cell_type": "code",
   "execution_count": 11,
   "id": "c6410b65",
   "metadata": {},
   "outputs": [
    {
     "name": "stdout",
     "output_type": "stream",
     "text": [
      "              precision    recall  f1-score   support\n",
      "\n",
      "           0       0.92      1.00      0.96      2832\n",
      "           1       0.00      0.00      0.00       243\n",
      "\n",
      "    accuracy                           0.92      3075\n",
      "   macro avg       0.46      0.50      0.48      3075\n",
      "weighted avg       0.85      0.92      0.88      3075\n",
      "\n"
     ]
    },
    {
     "name": "stderr",
     "output_type": "stream",
     "text": [
      "C:\\Users\\dell\\anaconda3\\lib\\site-packages\\sklearn\\metrics\\_classification.py:1318: UndefinedMetricWarning: Precision and F-score are ill-defined and being set to 0.0 in labels with no predicted samples. Use `zero_division` parameter to control this behavior.\n",
      "  _warn_prf(average, modifier, msg_start, len(result))\n",
      "C:\\Users\\dell\\anaconda3\\lib\\site-packages\\sklearn\\metrics\\_classification.py:1318: UndefinedMetricWarning: Precision and F-score are ill-defined and being set to 0.0 in labels with no predicted samples. Use `zero_division` parameter to control this behavior.\n",
      "  _warn_prf(average, modifier, msg_start, len(result))\n",
      "C:\\Users\\dell\\anaconda3\\lib\\site-packages\\sklearn\\metrics\\_classification.py:1318: UndefinedMetricWarning: Precision and F-score are ill-defined and being set to 0.0 in labels with no predicted samples. Use `zero_division` parameter to control this behavior.\n",
      "  _warn_prf(average, modifier, msg_start, len(result))\n"
     ]
    }
   ],
   "source": [
    "print(classification_report(y_test,y_pred));"
   ]
  },
  {
   "cell_type": "markdown",
   "id": "38a87486",
   "metadata": {},
   "source": [
    " ## Forêt aléatoire"
   ]
  },
  {
   "cell_type": "code",
   "execution_count": 12,
   "id": "a4d1c32f",
   "metadata": {},
   "outputs": [],
   "source": [
    "X = data.drop('TARGET', axis = 1)\n",
    "y = data['TARGET']\n",
    "#train test split\n",
    "X_train,X_test,y_train,y_test = train_test_split(X,y,test_size=0.25,random_state=0)"
   ]
  },
  {
   "cell_type": "code",
   "execution_count": 13,
   "id": "9771996f",
   "metadata": {},
   "outputs": [
    {
     "name": "stderr",
     "output_type": "stream",
     "text": [
      "[Parallel(n_jobs=-1)]: Using backend ThreadingBackend with 2 concurrent workers.\n",
      "[Parallel(n_jobs=-1)]: Done  46 tasks      | elapsed:    0.6s\n",
      "[Parallel(n_jobs=-1)]: Done 100 out of 100 | elapsed:    1.4s finished\n"
     ]
    }
   ],
   "source": [
    "from sklearn.ensemble import RandomForestClassifier\n",
    "#implementation de FerestClassifier\n",
    "mdl_fra = RandomForestClassifier(n_estimators = 100, random_state = 50, verbose = 1, n_jobs = -1)\n",
    "result = mdl_fra.fit(X_train, y_train)"
   ]
  },
  {
   "cell_type": "code",
   "execution_count": 14,
   "id": "c0fbb0d3",
   "metadata": {},
   "outputs": [
    {
     "name": "stderr",
     "output_type": "stream",
     "text": [
      "[Parallel(n_jobs=2)]: Using backend ThreadingBackend with 2 concurrent workers.\n",
      "[Parallel(n_jobs=2)]: Done  46 tasks      | elapsed:    0.0s\n",
      "[Parallel(n_jobs=2)]: Done 100 out of 100 | elapsed:    0.0s finished\n"
     ]
    }
   ],
   "source": [
    "y_pred = mdl_fra.predict(X_train)"
   ]
  },
  {
   "cell_type": "code",
   "execution_count": 15,
   "id": "bcaf793d",
   "metadata": {},
   "outputs": [
    {
     "data": {
      "text/plain": [
       "array([0, 0, 0, ..., 0, 0, 0], dtype=int64)"
      ]
     },
     "execution_count": 15,
     "metadata": {},
     "output_type": "execute_result"
    }
   ],
   "source": [
    "y_pred"
   ]
  },
  {
   "cell_type": "code",
   "execution_count": 16,
   "id": "48e89b3c",
   "metadata": {},
   "outputs": [
    {
     "name": "stderr",
     "output_type": "stream",
     "text": [
      "[Parallel(n_jobs=2)]: Using backend ThreadingBackend with 2 concurrent workers.\n",
      "[Parallel(n_jobs=2)]: Done  46 tasks      | elapsed:    0.0s\n",
      "[Parallel(n_jobs=2)]: Done 100 out of 100 | elapsed:    0.0s finished\n"
     ]
    },
    {
     "data": {
      "text/plain": [
       "1.0"
      ]
     },
     "execution_count": 16,
     "metadata": {},
     "output_type": "execute_result"
    }
   ],
   "source": [
    "mdl_fra.score(X_train, y_train)"
   ]
  },
  {
   "cell_type": "code",
   "execution_count": 17,
   "id": "35a6ea8c",
   "metadata": {},
   "outputs": [
    {
     "name": "stderr",
     "output_type": "stream",
     "text": [
      "[Parallel(n_jobs=2)]: Using backend ThreadingBackend with 2 concurrent workers.\n",
      "[Parallel(n_jobs=2)]: Done  46 tasks      | elapsed:    0.0s\n",
      "[Parallel(n_jobs=2)]: Done 100 out of 100 | elapsed:    0.0s finished\n"
     ]
    },
    {
     "data": {
      "text/plain": [
       "0.9209756097560976"
      ]
     },
     "execution_count": 17,
     "metadata": {},
     "output_type": "execute_result"
    }
   ],
   "source": [
    "mdl_fra.score(X_test, y_test)"
   ]
  },
  {
   "cell_type": "code",
   "execution_count": 18,
   "id": "16e23bf3",
   "metadata": {},
   "outputs": [
    {
     "name": "stderr",
     "output_type": "stream",
     "text": [
      "[Parallel(n_jobs=2)]: Using backend ThreadingBackend with 2 concurrent workers.\n",
      "[Parallel(n_jobs=2)]: Done  46 tasks      | elapsed:    0.0s\n",
      "[Parallel(n_jobs=2)]: Done 100 out of 100 | elapsed:    0.0s finished\n"
     ]
    },
    {
     "data": {
      "text/plain": [
       "array([0, 0, 0, ..., 0, 0, 0], dtype=int64)"
      ]
     },
     "execution_count": 18,
     "metadata": {},
     "output_type": "execute_result"
    }
   ],
   "source": [
    "y_pred = mdl_fra.predict(X_test)\n",
    "y_pred"
   ]
  },
  {
   "cell_type": "code",
   "execution_count": 19,
   "id": "2e46a0e9",
   "metadata": {},
   "outputs": [
    {
     "name": "stdout",
     "output_type": "stream",
     "text": [
      "              precision    recall  f1-score   support\n",
      "\n",
      "           0       0.92      1.00      0.96      2832\n",
      "           1       0.00      0.00      0.00       243\n",
      "\n",
      "    accuracy                           0.92      3075\n",
      "   macro avg       0.46      0.50      0.48      3075\n",
      "weighted avg       0.85      0.92      0.88      3075\n",
      "\n"
     ]
    },
    {
     "name": "stderr",
     "output_type": "stream",
     "text": [
      "C:\\Users\\dell\\anaconda3\\lib\\site-packages\\sklearn\\metrics\\_classification.py:1318: UndefinedMetricWarning: Precision and F-score are ill-defined and being set to 0.0 in labels with no predicted samples. Use `zero_division` parameter to control this behavior.\n",
      "  _warn_prf(average, modifier, msg_start, len(result))\n",
      "C:\\Users\\dell\\anaconda3\\lib\\site-packages\\sklearn\\metrics\\_classification.py:1318: UndefinedMetricWarning: Precision and F-score are ill-defined and being set to 0.0 in labels with no predicted samples. Use `zero_division` parameter to control this behavior.\n",
      "  _warn_prf(average, modifier, msg_start, len(result))\n",
      "C:\\Users\\dell\\anaconda3\\lib\\site-packages\\sklearn\\metrics\\_classification.py:1318: UndefinedMetricWarning: Precision and F-score are ill-defined and being set to 0.0 in labels with no predicted samples. Use `zero_division` parameter to control this behavior.\n",
      "  _warn_prf(average, modifier, msg_start, len(result))\n"
     ]
    }
   ],
   "source": [
    "print(classification_report(y_test,y_pred));"
   ]
  },
  {
   "cell_type": "code",
   "execution_count": 20,
   "id": "92764edc",
   "metadata": {},
   "outputs": [],
   "source": [
    "#cross_val_score(RandomForestClassifier)"
   ]
  },
  {
   "cell_type": "markdown",
   "id": "c161b9a5",
   "metadata": {},
   "source": [
    "## XGBoots Classifier"
   ]
  },
  {
   "cell_type": "code",
   "execution_count": 21,
   "id": "20e05e85",
   "metadata": {},
   "outputs": [
    {
     "data": {
      "text/plain": [
       "XGBClassifier(base_score=None, booster=None, callbacks=None,\n",
       "              colsample_bylevel=None, colsample_bynode=None,\n",
       "              colsample_bytree=None, early_stopping_rounds=None,\n",
       "              enable_categorical=False, eval_metric=None, feature_types=None,\n",
       "              gamma=None, gpu_id=None, grow_policy=None, importance_type=None,\n",
       "              interaction_constraints=None, learning_rate=None, max_bin=None,\n",
       "              max_cat_threshold=None, max_cat_to_onehot=None,\n",
       "              max_delta_step=None, max_depth=None, max_leaves=None,\n",
       "              min_child_weight=None, missing=nan, monotone_constraints=None,\n",
       "              n_estimators=100, n_jobs=None, num_parallel_tree=None,\n",
       "              predictor=None, random_state=None, ...)"
      ]
     },
     "execution_count": 21,
     "metadata": {},
     "output_type": "execute_result"
    }
   ],
   "source": [
    "from xgboost import XGBClassifier\n",
    "import xgboost\n",
    "model = XGBClassifier()\n",
    "model.fit(X_train, y_train)"
   ]
  },
  {
   "cell_type": "code",
   "execution_count": 22,
   "id": "a2562a5f",
   "metadata": {},
   "outputs": [],
   "source": [
    "y_pred = model.predict(X_test)"
   ]
  },
  {
   "cell_type": "code",
   "execution_count": 23,
   "id": "3c2f9c6b",
   "metadata": {},
   "outputs": [
    {
     "data": {
      "text/plain": [
       "0.9186991869918699"
      ]
     },
     "execution_count": 23,
     "metadata": {},
     "output_type": "execute_result"
    }
   ],
   "source": [
    "model.score(X_test, y_test)"
   ]
  },
  {
   "cell_type": "code",
   "execution_count": 24,
   "id": "03609434",
   "metadata": {},
   "outputs": [
    {
     "name": "stdout",
     "output_type": "stream",
     "text": [
      "              precision    recall  f1-score   support\n",
      "\n",
      "           0       0.93      0.99      0.96      2832\n",
      "           1       0.41      0.07      0.11       243\n",
      "\n",
      "    accuracy                           0.92      3075\n",
      "   macro avg       0.67      0.53      0.54      3075\n",
      "weighted avg       0.88      0.92      0.89      3075\n",
      "\n"
     ]
    }
   ],
   "source": [
    "print(classification_report(y_test,y_pred));"
   ]
  },
  {
   "cell_type": "code",
   "execution_count": 25,
   "id": "9259b442",
   "metadata": {},
   "outputs": [
    {
     "data": {
      "image/png": "[encoded data removed]",
      "text/plain": [
       "<Figure size 500x500 with 2 Axes>"
      ]
     },
     "metadata": {},
     "output_type": "display_data"
    }
   ],
   "source": [
    "from sklearn.metrics import confusion_matrix\n",
    "cm = confusion_matrix(y_test, y_pred)\n",
    "\n",
    "x_axis_labels = [\"0\", \"1\"]\n",
    "y_axis_labels = [\"0\", \"1\"]\n",
    "\n",
    "f, ax = plt.subplots(figsize =(5,5))\n",
    "sns.heatmap(cm, annot = True, linewidths=0.2, linecolor=\"black\", fmt = \".0f\",\n",
    "            ax=ax, cmap=\"Blues\", xticklabels=x_axis_labels, yticklabels=y_axis_labels)\n",
    "plt.xlabel(\"PREDICTIONS\")\n",
    "plt.ylabel(\"ACTUEL\")\n",
    "plt.title('Confusion Matrix pour XGBoost Classifier')\n",
    "plt.show()"
   ]
  },
  {
   "cell_type": "code",
   "execution_count": 26,
   "id": "a761294c",
   "metadata": {},
   "outputs": [],
   "source": [
    "df=pd.read_csv('df_svm.csv') \n",
    "df = df.replace((np.inf, -np.inf, np.nan), 0).reset_index(drop=True)"
   ]
  },
  {
   "cell_type": "code",
   "execution_count": 27,
   "id": "3771a63e",
   "metadata": {},
   "outputs": [],
   "source": [
    "X = df.drop('TARGET', axis = 1)\n",
    "y = df['TARGET']"
   ]
  },
  {
   "cell_type": "markdown",
   "id": "8ec9e99d",
   "metadata": {},
   "source": [
    "##  Support  Vecteurs Machines (SVM)"
   ]
  },
  {
   "cell_type": "code",
   "execution_count": 28,
   "id": "9294e944",
   "metadata": {},
   "outputs": [],
   "source": [
    "X_train,X_test,y_train,y_test = train_test_split(X,y,test_size=0.25,random_state=0)"
   ]
  },
  {
   "cell_type": "code",
   "execution_count": 29,
   "id": "26521809",
   "metadata": {},
   "outputs": [],
   "source": [
    "scaler = StandardScaler()\n",
    "X_train = scaler.fit_transform(X_train)\n",
    "X_test = scaler.transform(X_test)"
   ]
  },
  {
   "cell_type": "code",
   "execution_count": 30,
   "id": "7f71daa3",
   "metadata": {},
   "outputs": [],
   "source": [
    "from sklearn.svm import SVC\n",
    "mdl_svm = SVC(kernel='linear', C=1)"
   ]
  },
  {
   "cell_type": "code",
   "execution_count": 31,
   "id": "38282170",
   "metadata": {},
   "outputs": [
    {
     "data": {
      "text/plain": [
       "SVC(C=1, kernel='linear')"
      ]
     },
     "execution_count": 31,
     "metadata": {},
     "output_type": "execute_result"
    }
   ],
   "source": [
    "mdl_svm.fit(X_train, y_train)"
   ]
  },
  {
   "cell_type": "code",
   "execution_count": 32,
   "id": "141e3e65",
   "metadata": {},
   "outputs": [],
   "source": [
    "y_pred = mdl_svm.predict(X_test)"
   ]
  },
  {
   "cell_type": "code",
   "execution_count": 33,
   "id": "474ac86e",
   "metadata": {},
   "outputs": [
    {
     "data": {
      "text/plain": [
       "0.8116883116883117"
      ]
     },
     "execution_count": 33,
     "metadata": {},
     "output_type": "execute_result"
    }
   ],
   "source": [
    "mdl_svm.score(X_test, y_test)"
   ]
  },
  {
   "cell_type": "code",
   "execution_count": 34,
   "id": "b3ed024a",
   "metadata": {},
   "outputs": [
    {
     "name": "stdout",
     "output_type": "stream",
     "text": [
      "              precision    recall  f1-score   support\n",
      "\n",
      "           0       0.91      0.88      0.89       140\n",
      "           1       0.11      0.14      0.12        14\n",
      "\n",
      "    accuracy                           0.81       154\n",
      "   macro avg       0.51      0.51      0.51       154\n",
      "weighted avg       0.84      0.81      0.82       154\n",
      "\n"
     ]
    }
   ],
   "source": [
    "from sklearn.metrics import classification_report\n",
    "print(classification_report(y_test,y_pred));"
   ]
  },
  {
   "cell_type": "code",
   "execution_count": 35,
   "id": "26e6f3c1",
   "metadata": {},
   "outputs": [],
   "source": [
    "X = data.drop('TARGET', axis = 1)\n",
    "y = data['TARGET']\n",
    "#train test split\n",
    "X_train,X_test,y_train,y_test = train_test_split(X,y,test_size=0.25,random_state=0)"
   ]
  },
  {
   "cell_type": "markdown",
   "id": "e86593da",
   "metadata": {},
   "source": [
    "##  <a name=\"C3\">Utilisation de l'algorithme SMOTE</a>\n",
    "\n",
    "La methode SMOTE est utilisée pour résoudre le problème du déséquilibre des classes."
   ]
  },
  {
   "cell_type": "code",
   "execution_count": 36,
   "id": "59d3a6a2",
   "metadata": {},
   "outputs": [
    {
     "data": {
      "image/png": "[encoded data removed]",
      "text/plain": [
       "<Figure size 640x480 with 1 Axes>"
      ]
     },
     "metadata": {},
     "output_type": "display_data"
    }
   ],
   "source": [
    "tar = (data['TARGET'].value_counts())/len(data)\n",
    "plt.pie(tar,labels=tar.index,autopct='%.2f%%')# Diagramme en secteurs\n",
    "plt.show()"
   ]
  },
  {
   "cell_type": "code",
   "execution_count": 37,
   "id": "9bc4fa4c",
   "metadata": {},
   "outputs": [],
   "source": [
    "X_train = X\n",
    "y_train = y\n",
    "sm = SMOTE()\n",
    "X_smote, y_smote = sm.fit_resample(X_train, y_train)\n",
    "data_sm = pd.concat([X_smote, y_smote], axis=1)"
   ]
  },
  {
   "cell_type": "code",
   "execution_count": 38,
   "id": "06856c0d",
   "metadata": {},
   "outputs": [
    {
     "data": {
      "text/html": [
       "<div>\n",
       "<style scoped>\n",
       "    .dataframe tbody tr th:only-of-type {\n",
       "        vertical-align: middle;\n",
       "    }\n",
       "\n",
       "    .dataframe tbody tr th {\n",
       "        vertical-align: top;\n",
       "    }\n",
       "\n",
       "    .dataframe thead th {\n",
       "        text-align: right;\n",
       "    }\n",
       "</style>\n",
       "<table border=\"1\" class=\"dataframe\">\n",
       "  <thead>\n",
       "    <tr style=\"text-align: right;\">\n",
       "      <th></th>\n",
       "      <th>SK_ID_CURR</th>\n",
       "      <th>CNT_CHILDREN</th>\n",
       "      <th>AMT_INCOME_TOTAL</th>\n",
       "      <th>AMT_CREDIT</th>\n",
       "      <th>AMT_ANNUITY</th>\n",
       "      <th>AMT_GOODS_PRICE</th>\n",
       "      <th>REGION_POPULATION_RELATIVE</th>\n",
       "      <th>DAYS_BIRTH</th>\n",
       "      <th>DAYS_EMPLOYED</th>\n",
       "      <th>DAYS_REGISTRATION</th>\n",
       "      <th>...</th>\n",
       "      <th>WALLSMATERIAL_MODE_Block</th>\n",
       "      <th>WALLSMATERIAL_MODE_Mixed</th>\n",
       "      <th>WALLSMATERIAL_MODE_Monolithic</th>\n",
       "      <th>WALLSMATERIAL_MODE_Others</th>\n",
       "      <th>WALLSMATERIAL_MODE_Panel</th>\n",
       "      <th>WALLSMATERIAL_MODE_Stone, brick</th>\n",
       "      <th>WALLSMATERIAL_MODE_Wooden</th>\n",
       "      <th>EMERGENCYSTATE_MODE_No</th>\n",
       "      <th>EMERGENCYSTATE_MODE_Yes</th>\n",
       "      <th>TARGET</th>\n",
       "    </tr>\n",
       "  </thead>\n",
       "  <tbody>\n",
       "    <tr>\n",
       "      <th>0</th>\n",
       "      <td>145360</td>\n",
       "      <td>0</td>\n",
       "      <td>126000.000000</td>\n",
       "      <td>1.078200e+05</td>\n",
       "      <td>5845.500000</td>\n",
       "      <td>9.000000e+04</td>\n",
       "      <td>0.016612</td>\n",
       "      <td>-8865</td>\n",
       "      <td>-595</td>\n",
       "      <td>-203.000000</td>\n",
       "      <td>...</td>\n",
       "      <td>0</td>\n",
       "      <td>0</td>\n",
       "      <td>0</td>\n",
       "      <td>0</td>\n",
       "      <td>0</td>\n",
       "      <td>0</td>\n",
       "      <td>0</td>\n",
       "      <td>0</td>\n",
       "      <td>0</td>\n",
       "      <td>0</td>\n",
       "    </tr>\n",
       "    <tr>\n",
       "      <th>1</th>\n",
       "      <td>438982</td>\n",
       "      <td>1</td>\n",
       "      <td>157500.000000</td>\n",
       "      <td>6.120000e+05</td>\n",
       "      <td>23845.500000</td>\n",
       "      <td>6.120000e+05</td>\n",
       "      <td>0.009630</td>\n",
       "      <td>-11964</td>\n",
       "      <td>-822</td>\n",
       "      <td>-477.000000</td>\n",
       "      <td>...</td>\n",
       "      <td>0</td>\n",
       "      <td>0</td>\n",
       "      <td>0</td>\n",
       "      <td>0</td>\n",
       "      <td>0</td>\n",
       "      <td>0</td>\n",
       "      <td>0</td>\n",
       "      <td>0</td>\n",
       "      <td>0</td>\n",
       "      <td>0</td>\n",
       "    </tr>\n",
       "    <tr>\n",
       "      <th>2</th>\n",
       "      <td>284875</td>\n",
       "      <td>0</td>\n",
       "      <td>247500.000000</td>\n",
       "      <td>2.250000e+05</td>\n",
       "      <td>11250.000000</td>\n",
       "      <td>2.250000e+05</td>\n",
       "      <td>0.010032</td>\n",
       "      <td>-11310</td>\n",
       "      <td>-3092</td>\n",
       "      <td>-5291.000000</td>\n",
       "      <td>...</td>\n",
       "      <td>0</td>\n",
       "      <td>0</td>\n",
       "      <td>0</td>\n",
       "      <td>0</td>\n",
       "      <td>1</td>\n",
       "      <td>0</td>\n",
       "      <td>0</td>\n",
       "      <td>1</td>\n",
       "      <td>0</td>\n",
       "      <td>0</td>\n",
       "    </tr>\n",
       "    <tr>\n",
       "      <th>3</th>\n",
       "      <td>160582</td>\n",
       "      <td>2</td>\n",
       "      <td>121500.000000</td>\n",
       "      <td>1.260702e+06</td>\n",
       "      <td>39712.500000</td>\n",
       "      <td>1.129500e+06</td>\n",
       "      <td>0.025164</td>\n",
       "      <td>-13398</td>\n",
       "      <td>-4681</td>\n",
       "      <td>-2212.000000</td>\n",
       "      <td>...</td>\n",
       "      <td>0</td>\n",
       "      <td>0</td>\n",
       "      <td>0</td>\n",
       "      <td>0</td>\n",
       "      <td>1</td>\n",
       "      <td>0</td>\n",
       "      <td>0</td>\n",
       "      <td>1</td>\n",
       "      <td>0</td>\n",
       "      <td>0</td>\n",
       "    </tr>\n",
       "    <tr>\n",
       "      <th>4</th>\n",
       "      <td>103634</td>\n",
       "      <td>0</td>\n",
       "      <td>292500.000000</td>\n",
       "      <td>1.125000e+06</td>\n",
       "      <td>32895.000000</td>\n",
       "      <td>1.125000e+06</td>\n",
       "      <td>0.035792</td>\n",
       "      <td>-17445</td>\n",
       "      <td>-3391</td>\n",
       "      <td>-8920.000000</td>\n",
       "      <td>...</td>\n",
       "      <td>0</td>\n",
       "      <td>0</td>\n",
       "      <td>0</td>\n",
       "      <td>0</td>\n",
       "      <td>0</td>\n",
       "      <td>0</td>\n",
       "      <td>0</td>\n",
       "      <td>0</td>\n",
       "      <td>0</td>\n",
       "      <td>0</td>\n",
       "    </tr>\n",
       "    <tr>\n",
       "      <th>...</th>\n",
       "      <td>...</td>\n",
       "      <td>...</td>\n",
       "      <td>...</td>\n",
       "      <td>...</td>\n",
       "      <td>...</td>\n",
       "      <td>...</td>\n",
       "      <td>...</td>\n",
       "      <td>...</td>\n",
       "      <td>...</td>\n",
       "      <td>...</td>\n",
       "      <td>...</td>\n",
       "      <td>...</td>\n",
       "      <td>...</td>\n",
       "      <td>...</td>\n",
       "      <td>...</td>\n",
       "      <td>...</td>\n",
       "      <td>...</td>\n",
       "      <td>...</td>\n",
       "      <td>...</td>\n",
       "      <td>...</td>\n",
       "      <td>...</td>\n",
       "    </tr>\n",
       "    <tr>\n",
       "      <th>22557</th>\n",
       "      <td>237816</td>\n",
       "      <td>0</td>\n",
       "      <td>109038.614396</td>\n",
       "      <td>1.063121e+06</td>\n",
       "      <td>44202.729207</td>\n",
       "      <td>9.000000e+05</td>\n",
       "      <td>0.012390</td>\n",
       "      <td>-12755</td>\n",
       "      <td>-1469</td>\n",
       "      <td>-2318.505765</td>\n",
       "      <td>...</td>\n",
       "      <td>0</td>\n",
       "      <td>0</td>\n",
       "      <td>0</td>\n",
       "      <td>0</td>\n",
       "      <td>0</td>\n",
       "      <td>0</td>\n",
       "      <td>0</td>\n",
       "      <td>0</td>\n",
       "      <td>0</td>\n",
       "      <td>1</td>\n",
       "    </tr>\n",
       "    <tr>\n",
       "      <th>22558</th>\n",
       "      <td>284686</td>\n",
       "      <td>0</td>\n",
       "      <td>100656.314126</td>\n",
       "      <td>2.787016e+05</td>\n",
       "      <td>16701.977300</td>\n",
       "      <td>2.313938e+05</td>\n",
       "      <td>0.007899</td>\n",
       "      <td>-12643</td>\n",
       "      <td>-3869</td>\n",
       "      <td>-4168.513656</td>\n",
       "      <td>...</td>\n",
       "      <td>0</td>\n",
       "      <td>0</td>\n",
       "      <td>0</td>\n",
       "      <td>0</td>\n",
       "      <td>0</td>\n",
       "      <td>0</td>\n",
       "      <td>0</td>\n",
       "      <td>0</td>\n",
       "      <td>0</td>\n",
       "      <td>1</td>\n",
       "    </tr>\n",
       "    <tr>\n",
       "      <th>22559</th>\n",
       "      <td>333605</td>\n",
       "      <td>0</td>\n",
       "      <td>157500.000000</td>\n",
       "      <td>5.342330e+05</td>\n",
       "      <td>19275.937389</td>\n",
       "      <td>4.611827e+05</td>\n",
       "      <td>0.020593</td>\n",
       "      <td>-18431</td>\n",
       "      <td>-5418</td>\n",
       "      <td>-3760.137045</td>\n",
       "      <td>...</td>\n",
       "      <td>0</td>\n",
       "      <td>0</td>\n",
       "      <td>0</td>\n",
       "      <td>0</td>\n",
       "      <td>0</td>\n",
       "      <td>1</td>\n",
       "      <td>0</td>\n",
       "      <td>1</td>\n",
       "      <td>0</td>\n",
       "      <td>1</td>\n",
       "    </tr>\n",
       "    <tr>\n",
       "      <th>22560</th>\n",
       "      <td>128394</td>\n",
       "      <td>0</td>\n",
       "      <td>136070.478787</td>\n",
       "      <td>5.006052e+05</td>\n",
       "      <td>27896.932171</td>\n",
       "      <td>4.630718e+05</td>\n",
       "      <td>0.019150</td>\n",
       "      <td>-12980</td>\n",
       "      <td>-4092</td>\n",
       "      <td>-6300.696206</td>\n",
       "      <td>...</td>\n",
       "      <td>0</td>\n",
       "      <td>0</td>\n",
       "      <td>0</td>\n",
       "      <td>0</td>\n",
       "      <td>0</td>\n",
       "      <td>0</td>\n",
       "      <td>0</td>\n",
       "      <td>0</td>\n",
       "      <td>0</td>\n",
       "      <td>1</td>\n",
       "    </tr>\n",
       "    <tr>\n",
       "      <th>22561</th>\n",
       "      <td>369230</td>\n",
       "      <td>0</td>\n",
       "      <td>207275.419097</td>\n",
       "      <td>1.333055e+06</td>\n",
       "      <td>54609.586164</td>\n",
       "      <td>1.125000e+06</td>\n",
       "      <td>0.031316</td>\n",
       "      <td>-21899</td>\n",
       "      <td>365243</td>\n",
       "      <td>-9210.735071</td>\n",
       "      <td>...</td>\n",
       "      <td>0</td>\n",
       "      <td>0</td>\n",
       "      <td>0</td>\n",
       "      <td>0</td>\n",
       "      <td>0</td>\n",
       "      <td>0</td>\n",
       "      <td>0</td>\n",
       "      <td>0</td>\n",
       "      <td>0</td>\n",
       "      <td>1</td>\n",
       "    </tr>\n",
       "  </tbody>\n",
       "</table>\n",
       "<p>22562 rows × 243 columns</p>\n",
       "</div>"
      ],
      "text/plain": [
       "       SK_ID_CURR  CNT_CHILDREN  AMT_INCOME_TOTAL    AMT_CREDIT   AMT_ANNUITY  \\\n",
       "0          145360             0     126000.000000  1.078200e+05   5845.500000   \n",
       "1          438982             1     157500.000000  6.120000e+05  23845.500000   \n",
       "2          284875             0     247500.000000  2.250000e+05  11250.000000   \n",
       "3          160582             2     121500.000000  1.260702e+06  39712.500000   \n",
       "4          103634             0     292500.000000  1.125000e+06  32895.000000   \n",
       "...           ...           ...               ...           ...           ...   \n",
       "22557      237816             0     109038.614396  1.063121e+06  44202.729207   \n",
       "22558      284686             0     100656.314126  2.787016e+05  16701.977300   \n",
       "22559      333605             0     157500.000000  5.342330e+05  19275.937389   \n",
       "22560      128394             0     136070.478787  5.006052e+05  27896.932171   \n",
       "22561      369230             0     207275.419097  1.333055e+06  54609.586164   \n",
       "\n",
       "       AMT_GOODS_PRICE  REGION_POPULATION_RELATIVE  DAYS_BIRTH  DAYS_EMPLOYED  \\\n",
       "0         9.000000e+04                    0.016612       -8865           -595   \n",
       "1         6.120000e+05                    0.009630      -11964           -822   \n",
       "2         2.250000e+05                    0.010032      -11310          -3092   \n",
       "3         1.129500e+06                    0.025164      -13398          -4681   \n",
       "4         1.125000e+06                    0.035792      -17445          -3391   \n",
       "...                ...                         ...         ...            ...   \n",
       "22557     9.000000e+05                    0.012390      -12755          -1469   \n",
       "22558     2.313938e+05                    0.007899      -12643          -3869   \n",
       "22559     4.611827e+05                    0.020593      -18431          -5418   \n",
       "22560     4.630718e+05                    0.019150      -12980          -4092   \n",
       "22561     1.125000e+06                    0.031316      -21899         365243   \n",
       "\n",
       "       DAYS_REGISTRATION  ...  WALLSMATERIAL_MODE_Block  \\\n",
       "0            -203.000000  ...                         0   \n",
       "1            -477.000000  ...                         0   \n",
       "2           -5291.000000  ...                         0   \n",
       "3           -2212.000000  ...                         0   \n",
       "4           -8920.000000  ...                         0   \n",
       "...                  ...  ...                       ...   \n",
       "22557       -2318.505765  ...                         0   \n",
       "22558       -4168.513656  ...                         0   \n",
       "22559       -3760.137045  ...                         0   \n",
       "22560       -6300.696206  ...                         0   \n",
       "22561       -9210.735071  ...                         0   \n",
       "\n",
       "       WALLSMATERIAL_MODE_Mixed  WALLSMATERIAL_MODE_Monolithic  \\\n",
       "0                             0                              0   \n",
       "1                             0                              0   \n",
       "2                             0                              0   \n",
       "3                             0                              0   \n",
       "4                             0                              0   \n",
       "...                         ...                            ...   \n",
       "22557                         0                              0   \n",
       "22558                         0                              0   \n",
       "22559                         0                              0   \n",
       "22560                         0                              0   \n",
       "22561                         0                              0   \n",
       "\n",
       "       WALLSMATERIAL_MODE_Others  WALLSMATERIAL_MODE_Panel  \\\n",
       "0                              0                         0   \n",
       "1                              0                         0   \n",
       "2                              0                         1   \n",
       "3                              0                         1   \n",
       "4                              0                         0   \n",
       "...                          ...                       ...   \n",
       "22557                          0                         0   \n",
       "22558                          0                         0   \n",
       "22559                          0                         0   \n",
       "22560                          0                         0   \n",
       "22561                          0                         0   \n",
       "\n",
       "       WALLSMATERIAL_MODE_Stone, brick  WALLSMATERIAL_MODE_Wooden  \\\n",
       "0                                    0                          0   \n",
       "1                                    0                          0   \n",
       "2                                    0                          0   \n",
       "3                                    0                          0   \n",
       "4                                    0                          0   \n",
       "...                                ...                        ...   \n",
       "22557                                0                          0   \n",
       "22558                                0                          0   \n",
       "22559                                1                          0   \n",
       "22560                                0                          0   \n",
       "22561                                0                          0   \n",
       "\n",
       "       EMERGENCYSTATE_MODE_No  EMERGENCYSTATE_MODE_Yes  TARGET  \n",
       "0                           0                        0       0  \n",
       "1                           0                        0       0  \n",
       "2                           1                        0       0  \n",
       "3                           1                        0       0  \n",
       "4                           0                        0       0  \n",
       "...                       ...                      ...     ...  \n",
       "22557                       0                        0       1  \n",
       "22558                       0                        0       1  \n",
       "22559                       1                        0       1  \n",
       "22560                       0                        0       1  \n",
       "22561                       0                        0       1  \n",
       "\n",
       "[22562 rows x 243 columns]"
      ]
     },
     "execution_count": 38,
     "metadata": {},
     "output_type": "execute_result"
    }
   ],
   "source": [
    "data_sm"
   ]
  },
  {
   "cell_type": "code",
   "execution_count": 39,
   "id": "231ed8f1",
   "metadata": {},
   "outputs": [
    {
     "data": {
      "image/png": "[encoded data removed]",
      "text/plain": [
       "<Figure size 640x480 with 1 Axes>"
      ]
     },
     "metadata": {},
     "output_type": "display_data"
    }
   ],
   "source": [
    "tar = (data_sm['TARGET'].value_counts())/len(data)\n",
    "plt.pie(tar,labels=tar.index,autopct='%.2f%%')# Diagramme en secteurs\n",
    "plt.show()"
   ]
  },
  {
   "cell_type": "code",
   "execution_count": 48,
   "id": "2a97901d",
   "metadata": {},
   "outputs": [
    {
     "data": {
      "text/plain": [
       "(9025, 243)"
      ]
     },
     "execution_count": 48,
     "metadata": {},
     "output_type": "execute_result"
    }
   ],
   "source": [
    "df_sm = data_sm.sample(frac =0.4) \n",
    "df_sm.shape"
   ]
  },
  {
   "cell_type": "code",
   "execution_count": 49,
   "id": "0b0d3404",
   "metadata": {
    "scrolled": false
   },
   "outputs": [],
   "source": [
    "X = df_sm.drop('TARGET', axis = 1)\n",
    "y = df_sm['TARGET']\n",
    "#train test split\n",
    "X_train,X_test,y_train,y_test = train_test_split(X,y,test_size=0.25,random_state=42)\n"
   ]
  },
  {
   "cell_type": "code",
   "execution_count": 50,
   "id": "ed988bd8",
   "metadata": {},
   "outputs": [],
   "source": [
    "#scaling the data\n",
    "scaler = StandardScaler()\n",
    "X_train = scaler.fit_transform(X_train)\n",
    "X_test = scaler.transform(X_test)"
   ]
  },
  {
   "cell_type": "markdown",
   "id": "4684bb15",
   "metadata": {},
   "source": [
    "##  <a name=\"C2\"> Baseline avec Dummy regressor </a>"
   ]
  },
  {
   "cell_type": "code",
   "execution_count": 51,
   "id": "97eb7919",
   "metadata": {},
   "outputs": [
    {
     "name": "stdout",
     "output_type": "stream",
     "text": [
      "[0. 0. 0. ... 0. 0. 0.]\n"
     ]
    }
   ],
   "source": [
    "model = DummyRegressor(strategy=\"median\")\n",
    "model.fit(X_train, y_train)\n",
    "DummyRegressor()\n",
    "\n",
    "y_pred = model.predict(X_train)\n",
    "print(y_pred)"
   ]
  },
  {
   "cell_type": "code",
   "execution_count": 52,
   "id": "17cfead1",
   "metadata": {},
   "outputs": [
    {
     "data": {
      "text/plain": [
       "-0.9623079153377792"
      ]
     },
     "execution_count": 52,
     "metadata": {},
     "output_type": "execute_result"
    }
   ],
   "source": [
    "model.score(X_train, y_train)"
   ]
  },
  {
   "cell_type": "code",
   "execution_count": 53,
   "id": "1d1a8c59",
   "metadata": {},
   "outputs": [
    {
     "data": {
      "text/plain": [
       "-1.0518181818181818"
      ]
     },
     "execution_count": 53,
     "metadata": {},
     "output_type": "execute_result"
    }
   ],
   "source": [
    "model.score(X_test, y_test)"
   ]
  },
  {
   "cell_type": "code",
   "execution_count": 54,
   "id": "f34f0895",
   "metadata": {},
   "outputs": [
    {
     "name": "stdout",
     "output_type": "stream",
     "text": [
      "[0. 0. 0. ... 0. 0. 0.]\n"
     ]
    }
   ],
   "source": [
    "y_pred = model.predict(X_test)\n",
    "print(y_pred)"
   ]
  },
  {
   "cell_type": "code",
   "execution_count": 55,
   "id": "0d58849e",
   "metadata": {},
   "outputs": [
    {
     "name": "stdout",
     "output_type": "stream",
     "text": [
      "              precision    recall  f1-score   support\n",
      "\n",
      "           0       0.49      1.00      0.66      1100\n",
      "           1       0.00      0.00      0.00      1157\n",
      "\n",
      "    accuracy                           0.49      2257\n",
      "   macro avg       0.24      0.50      0.33      2257\n",
      "weighted avg       0.24      0.49      0.32      2257\n",
      "\n"
     ]
    },
    {
     "name": "stderr",
     "output_type": "stream",
     "text": [
      "C:\\Users\\dell\\anaconda3\\lib\\site-packages\\sklearn\\metrics\\_classification.py:1318: UndefinedMetricWarning: Precision and F-score are ill-defined and being set to 0.0 in labels with no predicted samples. Use `zero_division` parameter to control this behavior.\n",
      "  _warn_prf(average, modifier, msg_start, len(result))\n",
      "C:\\Users\\dell\\anaconda3\\lib\\site-packages\\sklearn\\metrics\\_classification.py:1318: UndefinedMetricWarning: Precision and F-score are ill-defined and being set to 0.0 in labels with no predicted samples. Use `zero_division` parameter to control this behavior.\n",
      "  _warn_prf(average, modifier, msg_start, len(result))\n",
      "C:\\Users\\dell\\anaconda3\\lib\\site-packages\\sklearn\\metrics\\_classification.py:1318: UndefinedMetricWarning: Precision and F-score are ill-defined and being set to 0.0 in labels with no predicted samples. Use `zero_division` parameter to control this behavior.\n",
      "  _warn_prf(average, modifier, msg_start, len(result))\n"
     ]
    }
   ],
   "source": [
    "print(classification_report(y_test,y_pred));"
   ]
  },
  {
   "cell_type": "markdown",
   "id": "d9b31b33",
   "metadata": {},
   "source": [
    "## Forêt aléatoire"
   ]
  },
  {
   "cell_type": "code",
   "execution_count": 56,
   "id": "07a6e8b1",
   "metadata": {},
   "outputs": [
    {
     "name": "stderr",
     "output_type": "stream",
     "text": [
      "[Parallel(n_jobs=-1)]: Using backend ThreadingBackend with 2 concurrent workers.\n",
      "[Parallel(n_jobs=-1)]: Done  46 tasks      | elapsed:    0.3s\n",
      "[Parallel(n_jobs=-1)]: Done 100 out of 100 | elapsed:    0.9s finished\n"
     ]
    },
    {
     "data": {
      "text/plain": [
       "RandomForestClassifier(n_jobs=-1, random_state=50, verbose=1)"
      ]
     },
     "execution_count": 56,
     "metadata": {},
     "output_type": "execute_result"
    }
   ],
   "source": [
    "#implementation de FerestClassifier\n",
    "model = RandomForestClassifier(n_estimators = 100, random_state = 50, verbose = 1, n_jobs = -1)\n",
    "model.fit(X_train, y_train)"
   ]
  },
  {
   "cell_type": "code",
   "execution_count": 57,
   "id": "6e0c45d5",
   "metadata": {},
   "outputs": [
    {
     "name": "stderr",
     "output_type": "stream",
     "text": [
      "[Parallel(n_jobs=2)]: Using backend ThreadingBackend with 2 concurrent workers.\n",
      "[Parallel(n_jobs=2)]: Done  46 tasks      | elapsed:    0.0s\n",
      "[Parallel(n_jobs=2)]: Done 100 out of 100 | elapsed:    0.0s finished\n"
     ]
    },
    {
     "data": {
      "text/plain": [
       "0.9517058041648205"
      ]
     },
     "execution_count": 57,
     "metadata": {},
     "output_type": "execute_result"
    }
   ],
   "source": [
    "model.score(X_test, y_test)"
   ]
  },
  {
   "cell_type": "code",
   "execution_count": 58,
   "id": "edf197de",
   "metadata": {},
   "outputs": [
    {
     "name": "stderr",
     "output_type": "stream",
     "text": [
      "[Parallel(n_jobs=2)]: Using backend ThreadingBackend with 2 concurrent workers.\n",
      "[Parallel(n_jobs=2)]: Done  46 tasks      | elapsed:    0.0s\n",
      "[Parallel(n_jobs=2)]: Done 100 out of 100 | elapsed:    0.0s finished\n"
     ]
    }
   ],
   "source": [
    "y_pred = model.predict(X_test)"
   ]
  },
  {
   "cell_type": "code",
   "execution_count": 59,
   "id": "6077acf8",
   "metadata": {},
   "outputs": [
    {
     "name": "stdout",
     "output_type": "stream",
     "text": [
      "              precision    recall  f1-score   support\n",
      "\n",
      "           0       0.91      1.00      0.95      1100\n",
      "           1       1.00      0.91      0.95      1157\n",
      "\n",
      "    accuracy                           0.95      2257\n",
      "   macro avg       0.95      0.95      0.95      2257\n",
      "weighted avg       0.96      0.95      0.95      2257\n",
      "\n"
     ]
    }
   ],
   "source": [
    "print(classification_report(y_test,y_pred));"
   ]
  },
  {
   "cell_type": "markdown",
   "id": "b7819857",
   "metadata": {},
   "source": [
    "## XGBoots Classifier"
   ]
  },
  {
   "cell_type": "code",
   "execution_count": 60,
   "id": "59bfb514",
   "metadata": {},
   "outputs": [
    {
     "data": {
      "text/plain": [
       "XGBClassifier(base_score=None, booster=None, callbacks=None,\n",
       "              colsample_bylevel=None, colsample_bynode=None,\n",
       "              colsample_bytree=None, early_stopping_rounds=None,\n",
       "              enable_categorical=False, eval_metric=None, feature_types=None,\n",
       "              gamma=None, gpu_id=None, grow_policy=None, importance_type=None,\n",
       "              interaction_constraints=None, learning_rate=None, max_bin=None,\n",
       "              max_cat_threshold=None, max_cat_to_onehot=None,\n",
       "              max_delta_step=None, max_depth=None, max_leaves=None,\n",
       "              min_child_weight=None, missing=nan, monotone_constraints=None,\n",
       "              n_estimators=100, n_jobs=None, num_parallel_tree=None,\n",
       "              predictor=None, random_state=None, ...)"
      ]
     },
     "execution_count": 60,
     "metadata": {},
     "output_type": "execute_result"
    }
   ],
   "source": [
    "model = XGBClassifier()\n",
    "model.fit(X_train, y_train)"
   ]
  },
  {
   "cell_type": "code",
   "execution_count": 61,
   "id": "63289827",
   "metadata": {},
   "outputs": [],
   "source": [
    "y_pred = model.predict(X_test)"
   ]
  },
  {
   "cell_type": "code",
   "execution_count": 62,
   "id": "89ede3f6",
   "metadata": {},
   "outputs": [
    {
     "data": {
      "text/plain": [
       "1.0"
      ]
     },
     "execution_count": 62,
     "metadata": {},
     "output_type": "execute_result"
    }
   ],
   "source": [
    "model.score(X_train, y_train)"
   ]
  },
  {
   "cell_type": "code",
   "execution_count": 63,
   "id": "cbd6ae23",
   "metadata": {},
   "outputs": [
    {
     "data": {
      "text/plain": [
       "1.0"
      ]
     },
     "execution_count": 63,
     "metadata": {},
     "output_type": "execute_result"
    }
   ],
   "source": [
    "model.score(X_test, y_pred)"
   ]
  },
  {
   "cell_type": "code",
   "execution_count": 64,
   "id": "09e5667a",
   "metadata": {},
   "outputs": [
    {
     "name": "stdout",
     "output_type": "stream",
     "text": [
      "              precision    recall  f1-score   support\n",
      "\n",
      "           0       0.92      0.99      0.96      1100\n",
      "           1       0.99      0.92      0.96      1157\n",
      "\n",
      "    accuracy                           0.96      2257\n",
      "   macro avg       0.96      0.96      0.96      2257\n",
      "weighted avg       0.96      0.96      0.96      2257\n",
      "\n"
     ]
    }
   ],
   "source": [
    "print(classification_report(y_test,y_pred));"
   ]
  },
  {
   "cell_type": "code",
   "execution_count": 65,
   "id": "4adbbb0d",
   "metadata": {},
   "outputs": [
    {
     "data": {
      "text/plain": [
       "array([[1092,    8],\n",
       "       [  92, 1065]], dtype=int64)"
      ]
     },
     "execution_count": 65,
     "metadata": {},
     "output_type": "execute_result"
    }
   ],
   "source": [
    "confusion_matrix(y_test, y_pred)"
   ]
  },
  {
   "cell_type": "code",
   "execution_count": 66,
   "id": "1a688d6c",
   "metadata": {},
   "outputs": [
    {
     "data": {
      "image/png": "[encoded data removed]",
      "text/plain": [
       "<Figure size 500x500 with 2 Axes>"
      ]
     },
     "metadata": {},
     "output_type": "display_data"
    }
   ],
   "source": [
    "cm = confusion_matrix(y_test, y_pred)\n",
    "\n",
    "x_axis_labels = [\"0\", \"1\"]\n",
    "y_axis_labels = [\"0\", \"1\"]\n",
    "\n",
    "f, ax = plt.subplots(figsize =(5,5))\n",
    "sns.heatmap(cm, annot = True, linewidths=0.2, linecolor=\"black\", fmt = \".0f\",\n",
    "            ax=ax, cmap=\"Greens\", xticklabels=x_axis_labels, yticklabels=y_axis_labels)\n",
    "plt.xlabel(\"PREDICTIONS\")\n",
    "plt.ylabel(\"ACTUEL\")\n",
    "plt.title('Confusion Matrix pour XGBoost Classifier')\n",
    "plt.show()"
   ]
  },
  {
   "cell_type": "code",
   "execution_count": 67,
   "id": "c4d31e7c",
   "metadata": {},
   "outputs": [
    {
     "data": {
      "text/plain": [
       "(9025,)"
      ]
     },
     "execution_count": 67,
     "metadata": {},
     "output_type": "execute_result"
    }
   ],
   "source": [
    "X = df_sm.drop('TARGET', axis = 1)\n",
    "y = df_sm['TARGET']\n",
    "y.shape"
   ]
  },
  {
   "cell_type": "markdown",
   "id": "eaf9c4a4",
   "metadata": {},
   "source": [
    "##  Support  Vecteurs Machines (SVM)"
   ]
  },
  {
   "cell_type": "code",
   "execution_count": 68,
   "id": "06d2e6f9",
   "metadata": {},
   "outputs": [],
   "source": [
    "X_train,X_test,y_train,y_test = train_test_split(X,y,test_size=0.25,random_state=0)"
   ]
  },
  {
   "cell_type": "code",
   "execution_count": 69,
   "id": "12febe53",
   "metadata": {},
   "outputs": [],
   "source": [
    "scaler = StandardScaler()\n",
    "X_train = scaler.fit_transform(X_train)\n",
    "X_test = scaler.transform(X_test)"
   ]
  },
  {
   "cell_type": "code",
   "execution_count": 70,
   "id": "23172ab5",
   "metadata": {},
   "outputs": [],
   "source": [
    "model = SVC(kernel='linear', C=1)"
   ]
  },
  {
   "cell_type": "code",
   "execution_count": 71,
   "id": "4d93d252",
   "metadata": {},
   "outputs": [
    {
     "data": {
      "text/plain": [
       "SVC(C=1, kernel='linear')"
      ]
     },
     "execution_count": 71,
     "metadata": {},
     "output_type": "execute_result"
    }
   ],
   "source": [
    "model.fit(X_train, y_train)"
   ]
  },
  {
   "cell_type": "code",
   "execution_count": 72,
   "id": "9d493fdb",
   "metadata": {},
   "outputs": [],
   "source": [
    "y_pred = model.predict(X_test)"
   ]
  },
  {
   "cell_type": "code",
   "execution_count": 73,
   "id": "db3416c2",
   "metadata": {},
   "outputs": [
    {
     "data": {
      "text/plain": [
       "0.9543642002658396"
      ]
     },
     "execution_count": 73,
     "metadata": {},
     "output_type": "execute_result"
    }
   ],
   "source": [
    "model.score(X_test, y_test)"
   ]
  },
  {
   "cell_type": "code",
   "execution_count": 74,
   "id": "95754d02",
   "metadata": {},
   "outputs": [
    {
     "name": "stdout",
     "output_type": "stream",
     "text": [
      "              precision    recall  f1-score   support\n",
      "\n",
      "           0       0.92      1.00      0.96      1157\n",
      "           1       1.00      0.91      0.95      1100\n",
      "\n",
      "    accuracy                           0.95      2257\n",
      "   macro avg       0.96      0.95      0.95      2257\n",
      "weighted avg       0.96      0.95      0.95      2257\n",
      "\n"
     ]
    }
   ],
   "source": [
    "print(classification_report(y_test,y_pred));"
   ]
  },
  {
   "cell_type": "markdown",
   "id": "cc984e1b",
   "metadata": {},
   "source": [
    "### Utilisation de GridSearchCV avec XGBoost Classifier"
   ]
  },
  {
   "cell_type": "code",
   "execution_count": 91,
   "id": "4559df27",
   "metadata": {},
   "outputs": [],
   "source": [
    "from sklearn.model_selection import GridSearchCV"
   ]
  },
  {
   "cell_type": "code",
   "execution_count": 76,
   "id": "c664ad9b",
   "metadata": {},
   "outputs": [],
   "source": [
    "X = data.drop('TARGET', axis = 1)\n",
    "y = data['TARGET']\n",
    "#train test split\n",
    "X_train,X_test,y_train,y_test = train_test_split(X,y,test_size=0.25,random_state=0)\n",
    "\n",
    "#scaling the data\n",
    "scaler = StandardScaler()\n",
    "X_train = scaler.fit_transform(X_train)\n",
    "X_test = scaler.transform(X_test)"
   ]
  },
  {
   "cell_type": "code",
   "execution_count": 77,
   "id": "e1a49574",
   "metadata": {},
   "outputs": [],
   "source": [
    "from sklearn.model_selection import StratifiedKFold\n",
    "model = XGBClassifier()\n",
    "n_estimators = [50, 100, 150, 200]\n",
    "max_depth = [2, 4, 6, 8]"
   ]
  },
  {
   "cell_type": "code",
   "execution_count": 78,
   "id": "69f0b85a",
   "metadata": {},
   "outputs": [
    {
     "name": "stdout",
     "output_type": "stream",
     "text": [
      "[2, 4, 6, 8]\n",
      "Fitting 10 folds for each of 16 candidates, totalling 160 fits\n"
     ]
    }
   ],
   "source": [
    "print(max_depth)\n",
    "param_grid = dict(max_depth=max_depth, n_estimators=n_estimators)\n",
    "kfold = StratifiedKFold(n_splits=10, shuffle=True, random_state=7)\n",
    "grid_search = GridSearchCV(model, param_grid, scoring=\"neg_log_loss\", n_jobs=-1, cv=kfold, verbose=1)\n",
    "grid_result = grid_search.fit(X_train, y_train)"
   ]
  },
  {
   "cell_type": "code",
   "execution_count": 93,
   "id": "5c5c819f",
   "metadata": {},
   "outputs": [
    {
     "ename": "NameError",
     "evalue": "name 'grid_resul' is not defined",
     "output_type": "error",
     "traceback": [
      "\u001b[1;31m---------------------------------------------------------------------------\u001b[0m",
      "\u001b[1;31mNameError\u001b[0m                                 Traceback (most recent call last)",
      "\u001b[1;32m~\\AppData\\Local\\Temp\\ipykernel_15480\\1629244243.py\u001b[0m in \u001b[0;36m<module>\u001b[1;34m\u001b[0m\n\u001b[1;32m----> 1\u001b[1;33m \u001b[0mbest_param\u001b[0m \u001b[1;33m=\u001b[0m \u001b[0mgrid_resul\u001b[0m\u001b[1;33m.\u001b[0m\u001b[0mbest_param_\u001b[0m\u001b[1;33m\u001b[0m\u001b[1;33m\u001b[0m\u001b[0m\n\u001b[0m\u001b[0;32m      2\u001b[0m \u001b[0mbest_param\u001b[0m\u001b[1;33m\u001b[0m\u001b[1;33m\u001b[0m\u001b[0m\n",
      "\u001b[1;31mNameError\u001b[0m: name 'grid_resul' is not defined"
     ]
    }
   ],
   "source": [
    "best_param = grid_resul.best_param_\n",
    "best_param"
   ]
  },
  {
   "cell_type": "code",
   "execution_count": 92,
   "id": "415f027c",
   "metadata": {},
   "outputs": [
    {
     "ename": "NameError",
     "evalue": "name 'grid' is not defined",
     "output_type": "error",
     "traceback": [
      "\u001b[1;31m---------------------------------------------------------------------------\u001b[0m",
      "\u001b[1;31mNameError\u001b[0m                                 Traceback (most recent call last)",
      "\u001b[1;32m~\\AppData\\Local\\Temp\\ipykernel_15480\\1816292680.py\u001b[0m in \u001b[0;36m<module>\u001b[1;34m\u001b[0m\n\u001b[1;32m----> 1\u001b[1;33m \u001b[0mresult\u001b[0m \u001b[1;33m=\u001b[0m \u001b[0mgrid\u001b[0m\u001b[1;33m.\u001b[0m\u001b[0mcv_results_\u001b[0m\u001b[1;33m\u001b[0m\u001b[1;33m\u001b[0m\u001b[0m\n\u001b[0m\u001b[0;32m      2\u001b[0m \u001b[0mresult\u001b[0m \u001b[1;33m=\u001b[0m \u001b[0mpd\u001b[0m\u001b[1;33m.\u001b[0m\u001b[0mDataframe\u001b[0m\u001b[1;33m(\u001b[0m\u001b[0mresult\u001b[0m\u001b[1;33m)\u001b[0m\u001b[1;33m\u001b[0m\u001b[1;33m\u001b[0m\u001b[0m\n",
      "\u001b[1;31mNameError\u001b[0m: name 'grid' is not defined"
     ]
    }
   ],
   "source": [
    "result = grid.cv_results_\n",
    "result = pd.Dataframe(result)"
   ]
  },
  {
   "cell_type": "code",
   "execution_count": 79,
   "id": "f30be112",
   "metadata": {},
   "outputs": [
    {
     "name": "stdout",
     "output_type": "stream",
     "text": [
      "Best: -0.261771 using {'max_depth': 2, 'n_estimators': 50}\n",
      "-0.261771 (0.008969) with: {'max_depth': 2, 'n_estimators': 50}\n",
      "-0.263457 (0.010915) with: {'max_depth': 2, 'n_estimators': 100}\n",
      "-0.267488 (0.011851) with: {'max_depth': 2, 'n_estimators': 150}\n",
      "-0.269873 (0.013826) with: {'max_depth': 2, 'n_estimators': 200}\n",
      "-0.268613 (0.010083) with: {'max_depth': 4, 'n_estimators': 50}\n",
      "-0.279978 (0.012696) with: {'max_depth': 4, 'n_estimators': 100}\n",
      "-0.292109 (0.014828) with: {'max_depth': 4, 'n_estimators': 150}\n",
      "-0.303443 (0.016632) with: {'max_depth': 4, 'n_estimators': 200}\n",
      "-0.284213 (0.017025) with: {'max_depth': 6, 'n_estimators': 50}\n",
      "-0.313638 (0.023334) with: {'max_depth': 6, 'n_estimators': 100}\n",
      "-0.343721 (0.029586) with: {'max_depth': 6, 'n_estimators': 150}\n",
      "-0.372561 (0.034865) with: {'max_depth': 6, 'n_estimators': 200}\n",
      "-0.304668 (0.017578) with: {'max_depth': 8, 'n_estimators': 50}\n",
      "-0.355215 (0.025898) with: {'max_depth': 8, 'n_estimators': 100}\n",
      "-0.392251 (0.030699) with: {'max_depth': 8, 'n_estimators': 150}\n",
      "-0.418931 (0.035529) with: {'max_depth': 8, 'n_estimators': 200}\n"
     ]
    }
   ],
   "source": [
    "\n",
    "print(\"Best: %f using %s\" % (grid_result.best_score_, grid_result.best_params_))\n",
    "means = grid_result.cv_results_['mean_test_score']\n",
    "stds = grid_result.cv_results_['std_test_score']\n",
    "params = grid_result.cv_results_['params']\n",
    "for mean, stdev, param in zip(means, stds, params):\n",
    " print(\"%f (%f) with: %r\" % (mean, stdev, param))"
   ]
  },
  {
   "cell_type": "code",
   "execution_count": 80,
   "id": "f565375a",
   "metadata": {
    "scrolled": false
   },
   "outputs": [
    {
     "data": {
      "image/png": "[encoded data removed]",
      "text/plain": [
       "<Figure size 640x480 with 1 Axes>"
      ]
     },
     "metadata": {},
     "output_type": "display_data"
    }
   ],
   "source": [
    "# plot results\n",
    "scores = np.array(means).reshape(len(max_depth), len(n_estimators))\n",
    "for i, value in enumerate(max_depth):\n",
    "   plt.plot(n_estimators, scores[i], label='depth: ' + str(value))\n",
    "plt.legend()\n",
    "plt.xlabel('n_estimators')\n",
    "plt.ylabel('Log Loss')\n",
    "plt.savefig('n_estimators_vs_max_depth.png')"
   ]
  },
  {
   "cell_type": "markdown",
   "id": "19dfcfb2",
   "metadata": {},
   "source": [
    "### Le meilleur estimateur"
   ]
  },
  {
   "cell_type": "code",
   "execution_count": 81,
   "id": "0ec84d62",
   "metadata": {},
   "outputs": [
    {
     "data": {
      "text/plain": [
       "XGBClassifier(base_score=None, booster=None, callbacks=None,\n",
       "              colsample_bylevel=None, colsample_bynode=None,\n",
       "              colsample_bytree=None, early_stopping_rounds=None,\n",
       "              enable_categorical=False, eval_metric=None, feature_types=None,\n",
       "              gamma=None, gpu_id=None, grow_policy=None, importance_type=None,\n",
       "              interaction_constraints=None, learning_rate=None, max_bin=None,\n",
       "              max_cat_threshold=None, max_cat_to_onehot=None,\n",
       "              max_delta_step=None, max_depth=2, max_leaves=None,\n",
       "              min_child_weight=None, missing=nan, monotone_constraints=None,\n",
       "              n_estimators=50, n_jobs=None, num_parallel_tree=None,\n",
       "              predictor=None, random_state=None, ...)"
      ]
     },
     "execution_count": 81,
     "metadata": {},
     "output_type": "execute_result"
    }
   ],
   "source": [
    "model = XGBClassifier(n_estimators = 50, max_depth = 2)\n",
    "model.fit(X_train, y_train)\n",
    "\n",
    "               "
   ]
  },
  {
   "cell_type": "code",
   "execution_count": 82,
   "id": "1ab263aa",
   "metadata": {},
   "outputs": [
    {
     "name": "stdout",
     "output_type": "stream",
     "text": [
      "[[0.921706   0.07829396]\n",
      " [0.9156625  0.08433749]\n",
      " [0.97877026 0.02122974]\n",
      " ...\n",
      " [0.98489416 0.01510583]\n",
      " [0.8782997  0.12170029]\n",
      " [0.9412735  0.05872651]]\n"
     ]
    }
   ],
   "source": [
    "print(model.predict_proba(X_train))"
   ]
  },
  {
   "cell_type": "code",
   "execution_count": 83,
   "id": "63e00cc3",
   "metadata": {},
   "outputs": [],
   "source": [
    "y_pred = model.predict(X_test)"
   ]
  },
  {
   "cell_type": "code",
   "execution_count": 84,
   "id": "078ce453",
   "metadata": {},
   "outputs": [
    {
     "name": "stdout",
     "output_type": "stream",
     "text": [
      "[[0.96885717 0.03114282]\n",
      " [0.7433122  0.25668782]\n",
      " [0.83216274 0.16783723]\n",
      " ...\n",
      " [0.93991894 0.06008109]\n",
      " [0.9367478  0.06325223]\n",
      " [0.9707788  0.02922117]]\n"
     ]
    }
   ],
   "source": [
    "print(model.predict_proba(X_test))"
   ]
  },
  {
   "cell_type": "code",
   "execution_count": 23,
   "id": "57500c4d",
   "metadata": {},
   "outputs": [
    {
     "data": {
      "text/plain": [
       "0.9176151761517615"
      ]
     },
     "execution_count": 23,
     "metadata": {},
     "output_type": "execute_result"
    }
   ],
   "source": [
    "model.score(X_train, y_train)"
   ]
  },
  {
   "cell_type": "code",
   "execution_count": 56,
   "id": "d9a54e1f",
   "metadata": {},
   "outputs": [
    {
     "data": {
      "text/plain": [
       "1.0"
      ]
     },
     "execution_count": 56,
     "metadata": {},
     "output_type": "execute_result"
    }
   ],
   "source": [
    "model.score(X_test, y_pred)"
   ]
  },
  {
   "cell_type": "code",
   "execution_count": 57,
   "id": "6481a653",
   "metadata": {},
   "outputs": [
    {
     "data": {
      "text/plain": [
       "array([[2827,    5],\n",
       "       [ 240,    3]], dtype=int64)"
      ]
     },
     "execution_count": 57,
     "metadata": {},
     "output_type": "execute_result"
    }
   ],
   "source": [
    "from sklearn.metrics import confusion_matrix\n",
    "confusion_matrix(y_test, y_pred)"
   ]
  },
  {
   "cell_type": "code",
   "execution_count": 61,
   "id": "b649a451",
   "metadata": {},
   "outputs": [
    {
     "data": {
      "image/png": "[encoded data removed]",
      "text/plain": [
       "<Figure size 500x500 with 2 Axes>"
      ]
     },
     "metadata": {},
     "output_type": "display_data"
    }
   ],
   "source": [
    "cm = confusion_matrix(y_test, y_pred)\n",
    "\n",
    "x_axis_labels = [\"0\", \"1\"]\n",
    "y_axis_labels = [\"0\", \"1\"]\n",
    "\n",
    "f, ax = plt.subplots(figsize =(5,5))\n",
    "sns.heatmap(cm, annot = True, linewidths=0.2, linecolor=\"black\", fmt = \".0f\",\n",
    "            ax=ax, cmap=\"YlGnBu\", xticklabels=x_axis_labels, yticklabels=y_axis_labels)\n",
    "plt.xlabel(\"PREDICTIONS\")\n",
    "plt.ylabel(\"ACTUEL\")\n",
    "plt.title('Confusion Matrix pour XGBoost Classifier')\n",
    "plt.show()"
   ]
  },
  {
   "cell_type": "code",
   "execution_count": 62,
   "id": "2c648cde",
   "metadata": {},
   "outputs": [
    {
     "name": "stdout",
     "output_type": "stream",
     "text": [
      "              precision    recall  f1-score   support\n",
      "\n",
      "           0       0.92      1.00      0.96      2832\n",
      "           1       0.38      0.01      0.02       243\n",
      "\n",
      "    accuracy                           0.92      3075\n",
      "   macro avg       0.65      0.51      0.49      3075\n",
      "weighted avg       0.88      0.92      0.88      3075\n",
      "\n"
     ]
    }
   ],
   "source": [
    "print(classification_report(y_test,y_pred));"
   ]
  },
  {
   "cell_type": "code",
   "execution_count": 112,
   "id": "54fce465",
   "metadata": {},
   "outputs": [],
   "source": [
    "import shap\n",
    "explainer = shap.Explainer(model, X)\n",
    "shap_values = explainer(X_test)"
   ]
  },
  {
   "cell_type": "markdown",
   "id": "fcc2cffa",
   "metadata": {},
   "source": [
    "Les features les plus importants en moyenne pour ce modèle (F7, F29, F30)"
   ]
  },
  {
   "cell_type": "code",
   "execution_count": 114,
   "id": "daafb624",
   "metadata": {},
   "outputs": [
    {
     "data": {
      "image/png": "[encoded data removed]",
      "text/plain": [
       "<Figure size 800x650 with 1 Axes>"
      ]
     },
     "metadata": {},
     "output_type": "display_data"
    }
   ],
   "source": [
    "shap.plots.bar(shap_values)"
   ]
  },
  {
   "cell_type": "markdown",
   "id": "ab9ff9cf",
   "metadata": {},
   "source": [
    "### La courbe ROC Curve"
   ]
  },
  {
   "cell_type": "code",
   "execution_count": 70,
   "id": "401066a5",
   "metadata": {},
   "outputs": [
    {
     "data": {
      "image/png": "[encoded data removed]",
      "text/plain": [
       "<Figure size 640x480 with 1 Axes>"
      ]
     },
     "metadata": {},
     "output_type": "display_data"
    }
   ],
   "source": [
    "from sklearn.metrics import roc_curve, auc\n",
    "from sklearn import metrics\n",
    "y_train_pred = model.predict_proba(X_train)[:, 1]\n",
    "y_pred_proba = model.predict_proba(X_test)[:, 1]\n",
    "\n",
    "[fpr_in, tpr_in, thr] = metrics.roc_curve(y_train, y_train_pred)\n",
    "roc_auc_tr = auc(fpr_in, tpr_in)\n",
    "[fpr, tpr, thr] = metrics.roc_curve(y_test, y_pred_proba)\n",
    "roc_auc_test = auc(fpr, tpr)\n",
    "\n",
    "plt.plot(fpr_in, tpr_in, color='green', lw=2, label='ROC curve (train) (AUC = %0.2f)' % roc_auc_tr)\n",
    "plt.plot(fpr, tpr, color='r', lw=2, label='ROC curve (test) (AUC = %0.2f)' % roc_auc_test)\n",
    "plt.plot([0, 1], [0, 1], color='navy', lw=2, linestyle='--')\n",
    "plt.xlim([0.0, 1.0])\n",
    "plt.ylim([0.0, 1.05])\n",
    "plt.xlabel('Taux de faux positifs', fontsize=14)\n",
    "plt.ylabel('Taux de vrais positifs', fontsize=14)\n",
    "plt.title('Courbes ROC')\n",
    "plt.legend(loc=\"lower right\")\n",
    "plt.show()\n"
   ]
  },
  {
   "cell_type": "code",
   "execution_count": null,
   "id": "0a43ce2a",
   "metadata": {},
   "outputs": [],
   "source": []
  }
 ],
 "metadata": {
  "kernelspec": {
   "display_name": "Python 3 (ipykernel)",
   "language": "python",
   "name": "python3"
  },
  "language_info": {
   "codemirror_mode": {
    "name": "ipython",
    "version": 3
   },
   "file_extension": ".py",
   "mimetype": "text/x-python",
   "name": "python",
   "nbconvert_exporter": "python",
   "pygments_lexer": "ipython3",
   "version": "3.9.13"
  }
 },
 "nbformat": 4,
 "nbformat_minor": 5
}
