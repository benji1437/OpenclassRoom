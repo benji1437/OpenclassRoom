{
 "cells": [
  {
   "cell_type": "code",
   "execution_count": 1,
   "id": "8aaa572c",
   "metadata": {},
   "outputs": [],
   "source": [
    "import numpy as np\n",
    "import pandas as pd \n",
    "import matplotlib.pyplot as plt\n",
    "import seaborn as sns\n",
    "from sklearn import model_selection\n",
    "import warnings\n",
    "from warnings import filterwarnings\n",
    "filterwarnings('ignore')\n",
    "from sklearn.exceptions import ConvergenceWarning\n",
    "ConvergenceWarning('ignore')\n",
    "from sklearn.model_selection import train_test_split\n",
    "from sklearn import preprocessing\n",
    "from sklearn.preprocessing import StandardScaler\n",
    "from sklearn import metrics\n",
    "from sklearn.metrics import precision_score,roc_auc_score\n",
    "from imblearn.over_sampling import SMOTE\n",
    "from sklearn.metrics import classification_report,f1_score,recall_score,confusion_matrix\n",
    "from sklearn.model_selection import cross_val_score\n",
    "from imblearn.pipeline import Pipeline\n",
    "from sklearn import set_config"
   ]
  },
  {
   "cell_type": "markdown",
   "id": "8479e188",
   "metadata": {},
   "source": [
    "# Modelisation\n",
    "## Importation des données"
   ]
  },
  {
   "cell_type": "code",
   "execution_count": 2,
   "id": "eca31517",
   "metadata": {},
   "outputs": [
    {
     "data": {
      "text/html": [
       "<div>\n",
       "<style scoped>\n",
       "    .dataframe tbody tr th:only-of-type {\n",
       "        vertical-align: middle;\n",
       "    }\n",
       "\n",
       "    .dataframe tbody tr th {\n",
       "        vertical-align: top;\n",
       "    }\n",
       "\n",
       "    .dataframe thead th {\n",
       "        text-align: right;\n",
       "    }\n",
       "</style>\n",
       "<table border=\"1\" class=\"dataframe\">\n",
       "  <thead>\n",
       "    <tr style=\"text-align: right;\">\n",
       "      <th></th>\n",
       "      <th>SK_ID_CURR</th>\n",
       "      <th>CNT_CHILDREN</th>\n",
       "      <th>AMT_INCOME_TOTAL</th>\n",
       "      <th>AMT_CREDIT</th>\n",
       "      <th>AMT_ANNUITY</th>\n",
       "      <th>AMT_GOODS_PRICE</th>\n",
       "      <th>REGION_POPULATION_RELATIVE</th>\n",
       "      <th>DAYS_BIRTH</th>\n",
       "      <th>DAYS_EMPLOYED</th>\n",
       "      <th>DAYS_REGISTRATION</th>\n",
       "      <th>...</th>\n",
       "      <th>WALLSMATERIAL_MODE_Block</th>\n",
       "      <th>WALLSMATERIAL_MODE_Mixed</th>\n",
       "      <th>WALLSMATERIAL_MODE_Monolithic</th>\n",
       "      <th>WALLSMATERIAL_MODE_Others</th>\n",
       "      <th>WALLSMATERIAL_MODE_Panel</th>\n",
       "      <th>WALLSMATERIAL_MODE_Stone, brick</th>\n",
       "      <th>WALLSMATERIAL_MODE_Wooden</th>\n",
       "      <th>EMERGENCYSTATE_MODE_No</th>\n",
       "      <th>EMERGENCYSTATE_MODE_Yes</th>\n",
       "      <th>TARGET</th>\n",
       "    </tr>\n",
       "  </thead>\n",
       "  <tbody>\n",
       "    <tr>\n",
       "      <th>0</th>\n",
       "      <td>367823</td>\n",
       "      <td>0</td>\n",
       "      <td>54000.0</td>\n",
       "      <td>334152.0</td>\n",
       "      <td>18256.5</td>\n",
       "      <td>270000.0</td>\n",
       "      <td>0.004960</td>\n",
       "      <td>-18496</td>\n",
       "      <td>-523</td>\n",
       "      <td>-3640.0</td>\n",
       "      <td>...</td>\n",
       "      <td>0</td>\n",
       "      <td>0</td>\n",
       "      <td>0</td>\n",
       "      <td>0</td>\n",
       "      <td>0</td>\n",
       "      <td>0</td>\n",
       "      <td>0</td>\n",
       "      <td>0</td>\n",
       "      <td>0</td>\n",
       "      <td>0</td>\n",
       "    </tr>\n",
       "    <tr>\n",
       "      <th>1</th>\n",
       "      <td>364348</td>\n",
       "      <td>0</td>\n",
       "      <td>211500.0</td>\n",
       "      <td>378117.0</td>\n",
       "      <td>30001.5</td>\n",
       "      <td>342000.0</td>\n",
       "      <td>0.002042</td>\n",
       "      <td>-20084</td>\n",
       "      <td>365243</td>\n",
       "      <td>-11313.0</td>\n",
       "      <td>...</td>\n",
       "      <td>0</td>\n",
       "      <td>0</td>\n",
       "      <td>0</td>\n",
       "      <td>0</td>\n",
       "      <td>1</td>\n",
       "      <td>0</td>\n",
       "      <td>0</td>\n",
       "      <td>1</td>\n",
       "      <td>0</td>\n",
       "      <td>0</td>\n",
       "    </tr>\n",
       "    <tr>\n",
       "      <th>2</th>\n",
       "      <td>405788</td>\n",
       "      <td>1</td>\n",
       "      <td>135000.0</td>\n",
       "      <td>152820.0</td>\n",
       "      <td>16177.5</td>\n",
       "      <td>135000.0</td>\n",
       "      <td>0.018029</td>\n",
       "      <td>-17747</td>\n",
       "      <td>-1824</td>\n",
       "      <td>-3264.0</td>\n",
       "      <td>...</td>\n",
       "      <td>0</td>\n",
       "      <td>0</td>\n",
       "      <td>0</td>\n",
       "      <td>0</td>\n",
       "      <td>0</td>\n",
       "      <td>1</td>\n",
       "      <td>0</td>\n",
       "      <td>1</td>\n",
       "      <td>0</td>\n",
       "      <td>0</td>\n",
       "    </tr>\n",
       "    <tr>\n",
       "      <th>3</th>\n",
       "      <td>389677</td>\n",
       "      <td>0</td>\n",
       "      <td>202500.0</td>\n",
       "      <td>707287.5</td>\n",
       "      <td>38497.5</td>\n",
       "      <td>562500.0</td>\n",
       "      <td>0.007274</td>\n",
       "      <td>-9937</td>\n",
       "      <td>-452</td>\n",
       "      <td>-2112.0</td>\n",
       "      <td>...</td>\n",
       "      <td>0</td>\n",
       "      <td>0</td>\n",
       "      <td>0</td>\n",
       "      <td>0</td>\n",
       "      <td>0</td>\n",
       "      <td>1</td>\n",
       "      <td>0</td>\n",
       "      <td>1</td>\n",
       "      <td>0</td>\n",
       "      <td>0</td>\n",
       "    </tr>\n",
       "    <tr>\n",
       "      <th>4</th>\n",
       "      <td>233092</td>\n",
       "      <td>0</td>\n",
       "      <td>135000.0</td>\n",
       "      <td>1292013.0</td>\n",
       "      <td>42700.5</td>\n",
       "      <td>1057500.0</td>\n",
       "      <td>0.035792</td>\n",
       "      <td>-21914</td>\n",
       "      <td>365243</td>\n",
       "      <td>-5265.0</td>\n",
       "      <td>...</td>\n",
       "      <td>0</td>\n",
       "      <td>0</td>\n",
       "      <td>0</td>\n",
       "      <td>0</td>\n",
       "      <td>0</td>\n",
       "      <td>0</td>\n",
       "      <td>0</td>\n",
       "      <td>1</td>\n",
       "      <td>0</td>\n",
       "      <td>0</td>\n",
       "    </tr>\n",
       "  </tbody>\n",
       "</table>\n",
       "<p>5 rows × 243 columns</p>\n",
       "</div>"
      ],
      "text/plain": [
       "   SK_ID_CURR  CNT_CHILDREN  AMT_INCOME_TOTAL  AMT_CREDIT  AMT_ANNUITY  \\\n",
       "0      367823             0           54000.0    334152.0      18256.5   \n",
       "1      364348             0          211500.0    378117.0      30001.5   \n",
       "2      405788             1          135000.0    152820.0      16177.5   \n",
       "3      389677             0          202500.0    707287.5      38497.5   \n",
       "4      233092             0          135000.0   1292013.0      42700.5   \n",
       "\n",
       "   AMT_GOODS_PRICE  REGION_POPULATION_RELATIVE  DAYS_BIRTH  DAYS_EMPLOYED  \\\n",
       "0         270000.0                    0.004960      -18496           -523   \n",
       "1         342000.0                    0.002042      -20084         365243   \n",
       "2         135000.0                    0.018029      -17747          -1824   \n",
       "3         562500.0                    0.007274       -9937           -452   \n",
       "4        1057500.0                    0.035792      -21914         365243   \n",
       "\n",
       "   DAYS_REGISTRATION  ...  WALLSMATERIAL_MODE_Block  WALLSMATERIAL_MODE_Mixed  \\\n",
       "0            -3640.0  ...                         0                         0   \n",
       "1           -11313.0  ...                         0                         0   \n",
       "2            -3264.0  ...                         0                         0   \n",
       "3            -2112.0  ...                         0                         0   \n",
       "4            -5265.0  ...                         0                         0   \n",
       "\n",
       "   WALLSMATERIAL_MODE_Monolithic  WALLSMATERIAL_MODE_Others  \\\n",
       "0                              0                          0   \n",
       "1                              0                          0   \n",
       "2                              0                          0   \n",
       "3                              0                          0   \n",
       "4                              0                          0   \n",
       "\n",
       "   WALLSMATERIAL_MODE_Panel  WALLSMATERIAL_MODE_Stone, brick  \\\n",
       "0                         0                                0   \n",
       "1                         1                                0   \n",
       "2                         0                                1   \n",
       "3                         0                                1   \n",
       "4                         0                                0   \n",
       "\n",
       "   WALLSMATERIAL_MODE_Wooden  EMERGENCYSTATE_MODE_No  EMERGENCYSTATE_MODE_Yes  \\\n",
       "0                          0                       0                        0   \n",
       "1                          0                       1                        0   \n",
       "2                          0                       1                        0   \n",
       "3                          0                       1                        0   \n",
       "4                          0                       1                        0   \n",
       "\n",
       "   TARGET  \n",
       "0       0  \n",
       "1       0  \n",
       "2       0  \n",
       "3       0  \n",
       "4       0  \n",
       "\n",
       "[5 rows x 243 columns]"
      ]
     },
     "execution_count": 2,
     "metadata": {},
     "output_type": "execute_result"
    }
   ],
   "source": [
    "data = pd.read_csv('df1.csv')\n",
    "data.head()"
   ]
  },
  {
   "cell_type": "code",
   "execution_count": 3,
   "id": "f2ea6923",
   "metadata": {},
   "outputs": [],
   "source": [
    "data = data.replace((np.inf, -np.inf, np.nan), 0).reset_index(drop=True)\n",
    "X = data.drop('TARGET', axis = 1)\n",
    "y = data['TARGET'] "
   ]
  },
  {
   "cell_type": "markdown",
   "id": "7a64267e",
   "metadata": {},
   "source": [
    "## 1- DummyRegressor"
   ]
  },
  {
   "cell_type": "code",
   "execution_count": 4,
   "id": "ba3030eb",
   "metadata": {},
   "outputs": [
    {
     "name": "stdout",
     "output_type": "stream",
     "text": [
      "[Pipeline] ................ (step 1 of 3) Processing sm, total=   0.4s\n",
      "[Pipeline] ............... (step 2 of 3) Processing std, total=   0.1s\n",
      "[Pipeline] ............... (step 3 of 3) Processing dum, total=   0.0s\n"
     ]
    }
   ],
   "source": [
    "from sklearn.dummy import DummyRegressor\n",
    "from sklearn.model_selection import GridSearchCV, StratifiedKFold, cross_validate\n",
    "set_config(display=\"diagram\")  \n",
    "# Le fractionnement des données\n",
    "X_train, X_test, y_train, y_test = train_test_split(X, y, test_size = 0.2)\n",
    "\n",
    "model = DummyRegressor()\n",
    "param_grid = {'strategy' : ['mean', 'median']}\n",
    "\n",
    "kfold = StratifiedKFold(n_splits=10, shuffle=True, random_state=42)\n",
    "\n",
    "# les étapes du pipeline :\n",
    "pipe = Pipeline([(\"sm\", SMOTE()), (\"std\", StandardScaler()),  (\"dum\", DummyRegressor())], verbose = True)\n",
    "pipe.fit(X_train, y_train)\n",
    "CV_gr = GridSearchCV(model, param_grid, n_jobs=-1, cv=kfold)\n",
    "result = CV_gr.fit(X_train, y_train)"
   ]
  },
  {
   "cell_type": "code",
   "execution_count": 5,
   "id": "26c062e1",
   "metadata": {},
   "outputs": [
    {
     "data": {
      "text/plain": [
       "-2.8579127280936588e-06"
      ]
     },
     "execution_count": 5,
     "metadata": {},
     "output_type": "execute_result"
    }
   ],
   "source": [
    "result.best_score_"
   ]
  },
  {
   "cell_type": "code",
   "execution_count": 6,
   "id": "cd28f8df",
   "metadata": {},
   "outputs": [
    {
     "data": {
      "text/plain": [
       "{'strategy': 'mean'}"
      ]
     },
     "execution_count": 6,
     "metadata": {},
     "output_type": "execute_result"
    }
   ],
   "source": [
    "bestParam = result.best_params_\n",
    "bestParam"
   ]
  },
  {
   "cell_type": "markdown",
   "id": "6b45fb03",
   "metadata": {},
   "source": [
    "## 2- Regression Logistique"
   ]
  },
  {
   "cell_type": "code",
   "execution_count": 8,
   "id": "5fdaee62",
   "metadata": {},
   "outputs": [
    {
     "data": {
      "text/html": [
       "<style>#sk-43fb5114-92a4-45ed-b457-55c8820c38e1 {color: black;background-color: white;}#sk-43fb5114-92a4-45ed-b457-55c8820c38e1 pre{padding: 0;}#sk-43fb5114-92a4-45ed-b457-55c8820c38e1 div.sk-toggleable {background-color: white;}#sk-43fb5114-92a4-45ed-b457-55c8820c38e1 label.sk-toggleable__label {cursor: pointer;display: block;width: 100%;margin-bottom: 0;padding: 0.3em;box-sizing: border-box;text-align: center;}#sk-43fb5114-92a4-45ed-b457-55c8820c38e1 label.sk-toggleable__label-arrow:before {content: \"▸\";float: left;margin-right: 0.25em;color: #696969;}#sk-43fb5114-92a4-45ed-b457-55c8820c38e1 label.sk-toggleable__label-arrow:hover:before {color: black;}#sk-43fb5114-92a4-45ed-b457-55c8820c38e1 div.sk-estimator:hover label.sk-toggleable__label-arrow:before {color: black;}#sk-43fb5114-92a4-45ed-b457-55c8820c38e1 div.sk-toggleable__content {max-height: 0;max-width: 0;overflow: hidden;text-align: left;background-color: #f0f8ff;}#sk-43fb5114-92a4-45ed-b457-55c8820c38e1 div.sk-toggleable__content pre {margin: 0.2em;color: black;border-radius: 0.25em;background-color: #f0f8ff;}#sk-43fb5114-92a4-45ed-b457-55c8820c38e1 input.sk-toggleable__control:checked~div.sk-toggleable__content {max-height: 200px;max-width: 100%;overflow: auto;}#sk-43fb5114-92a4-45ed-b457-55c8820c38e1 input.sk-toggleable__control:checked~label.sk-toggleable__label-arrow:before {content: \"▾\";}#sk-43fb5114-92a4-45ed-b457-55c8820c38e1 div.sk-estimator input.sk-toggleable__control:checked~label.sk-toggleable__label {background-color: #d4ebff;}#sk-43fb5114-92a4-45ed-b457-55c8820c38e1 div.sk-label input.sk-toggleable__control:checked~label.sk-toggleable__label {background-color: #d4ebff;}#sk-43fb5114-92a4-45ed-b457-55c8820c38e1 input.sk-hidden--visually {border: 0;clip: rect(1px 1px 1px 1px);clip: rect(1px, 1px, 1px, 1px);height: 1px;margin: -1px;overflow: hidden;padding: 0;position: absolute;width: 1px;}#sk-43fb5114-92a4-45ed-b457-55c8820c38e1 div.sk-estimator {font-family: monospace;background-color: #f0f8ff;border: 1px dotted black;border-radius: 0.25em;box-sizing: border-box;margin-bottom: 0.5em;}#sk-43fb5114-92a4-45ed-b457-55c8820c38e1 div.sk-estimator:hover {background-color: #d4ebff;}#sk-43fb5114-92a4-45ed-b457-55c8820c38e1 div.sk-parallel-item::after {content: \"\";width: 100%;border-bottom: 1px solid gray;flex-grow: 1;}#sk-43fb5114-92a4-45ed-b457-55c8820c38e1 div.sk-label:hover label.sk-toggleable__label {background-color: #d4ebff;}#sk-43fb5114-92a4-45ed-b457-55c8820c38e1 div.sk-serial::before {content: \"\";position: absolute;border-left: 1px solid gray;box-sizing: border-box;top: 2em;bottom: 0;left: 50%;}#sk-43fb5114-92a4-45ed-b457-55c8820c38e1 div.sk-serial {display: flex;flex-direction: column;align-items: center;background-color: white;padding-right: 0.2em;padding-left: 0.2em;}#sk-43fb5114-92a4-45ed-b457-55c8820c38e1 div.sk-item {z-index: 1;}#sk-43fb5114-92a4-45ed-b457-55c8820c38e1 div.sk-parallel {display: flex;align-items: stretch;justify-content: center;background-color: white;}#sk-43fb5114-92a4-45ed-b457-55c8820c38e1 div.sk-parallel::before {content: \"\";position: absolute;border-left: 1px solid gray;box-sizing: border-box;top: 2em;bottom: 0;left: 50%;}#sk-43fb5114-92a4-45ed-b457-55c8820c38e1 div.sk-parallel-item {display: flex;flex-direction: column;position: relative;background-color: white;}#sk-43fb5114-92a4-45ed-b457-55c8820c38e1 div.sk-parallel-item:first-child::after {align-self: flex-end;width: 50%;}#sk-43fb5114-92a4-45ed-b457-55c8820c38e1 div.sk-parallel-item:last-child::after {align-self: flex-start;width: 50%;}#sk-43fb5114-92a4-45ed-b457-55c8820c38e1 div.sk-parallel-item:only-child::after {width: 0;}#sk-43fb5114-92a4-45ed-b457-55c8820c38e1 div.sk-dashed-wrapped {border: 1px dashed gray;margin: 0 0.4em 0.5em 0.4em;box-sizing: border-box;padding-bottom: 0.4em;background-color: white;position: relative;}#sk-43fb5114-92a4-45ed-b457-55c8820c38e1 div.sk-label label {font-family: monospace;font-weight: bold;background-color: white;display: inline-block;line-height: 1.2em;}#sk-43fb5114-92a4-45ed-b457-55c8820c38e1 div.sk-label-container {position: relative;z-index: 2;text-align: center;}#sk-43fb5114-92a4-45ed-b457-55c8820c38e1 div.sk-container {/* jupyter's `normalize.less` sets `[hidden] { display: none; }` but bootstrap.min.css set `[hidden] { display: none !important; }` so we also need the `!important` here to be able to override the default hidden behavior on the sphinx rendered scikit-learn.org. See: https://github.com/scikit-learn/scikit-learn/issues/21755 */display: inline-block !important;position: relative;}#sk-43fb5114-92a4-45ed-b457-55c8820c38e1 div.sk-text-repr-fallback {display: none;}</style><div id=\"sk-43fb5114-92a4-45ed-b457-55c8820c38e1\" class=\"sk-top-container\"><div class=\"sk-text-repr-fallback\"><pre>Pipeline(steps=[(&#x27;sm&#x27;, SMOTE()), (&#x27;std&#x27;, StandardScaler()),\n",
       "                (&#x27;rgl&#x27;, LogisticRegression())])</pre><b>Please rerun this cell to show the HTML repr or trust the notebook.</b></div><div class=\"sk-container\" hidden><div class=\"sk-item sk-dashed-wrapped\"><div class=\"sk-label-container\"><div class=\"sk-label sk-toggleable\"><input class=\"sk-toggleable__control sk-hidden--visually\" id=\"c3a23ed8-ba75-4ca0-97b6-b031a6805905\" type=\"checkbox\" ><label for=\"c3a23ed8-ba75-4ca0-97b6-b031a6805905\" class=\"sk-toggleable__label sk-toggleable__label-arrow\">Pipeline</label><div class=\"sk-toggleable__content\"><pre>Pipeline(steps=[(&#x27;sm&#x27;, SMOTE()), (&#x27;std&#x27;, StandardScaler()),\n",
       "                (&#x27;rgl&#x27;, LogisticRegression())])</pre></div></div></div><div class=\"sk-serial\"><div class=\"sk-item\"><div class=\"sk-estimator sk-toggleable\"><input class=\"sk-toggleable__control sk-hidden--visually\" id=\"00bd4e9d-ecba-4001-b1e5-b52b2a8439b6\" type=\"checkbox\" ><label for=\"00bd4e9d-ecba-4001-b1e5-b52b2a8439b6\" class=\"sk-toggleable__label sk-toggleable__label-arrow\">SMOTE</label><div class=\"sk-toggleable__content\"><pre>SMOTE()</pre></div></div></div><div class=\"sk-item\"><div class=\"sk-estimator sk-toggleable\"><input class=\"sk-toggleable__control sk-hidden--visually\" id=\"49c825a5-97f1-44d6-8b9b-8049ae6b59f3\" type=\"checkbox\" ><label for=\"49c825a5-97f1-44d6-8b9b-8049ae6b59f3\" class=\"sk-toggleable__label sk-toggleable__label-arrow\">StandardScaler</label><div class=\"sk-toggleable__content\"><pre>StandardScaler()</pre></div></div></div><div class=\"sk-item\"><div class=\"sk-estimator sk-toggleable\"><input class=\"sk-toggleable__control sk-hidden--visually\" id=\"ecc81305-36fb-4c74-9bfa-8471d257c1eb\" type=\"checkbox\" ><label for=\"ecc81305-36fb-4c74-9bfa-8471d257c1eb\" class=\"sk-toggleable__label sk-toggleable__label-arrow\">LogisticRegression</label><div class=\"sk-toggleable__content\"><pre>LogisticRegression()</pre></div></div></div></div></div></div></div>"
      ],
      "text/plain": [
       "Pipeline(steps=[('sm', SMOTE()), ('std', StandardScaler()),\n",
       "                ('rgl', LogisticRegression())])"
      ]
     },
     "execution_count": 8,
     "metadata": {},
     "output_type": "execute_result"
    }
   ],
   "source": [
    "from sklearn.linear_model import LogisticRegression\n",
    "\n",
    "X = data.drop('TARGET', axis = 1)\n",
    "y = data['TARGET']\n",
    "\n",
    "\n",
    "X_train, X_test, y_train, y_test = train_test_split(X, y, test_size = 0.3)\n",
    "\n",
    "model = LogisticRegression(dual=False)\n",
    "param_grid = { \"penalty\":[\"l2\"], \"C\":[ 0.01, 0.1, 1, 10 ], \"max_iter\":[20000] }\n",
    "\n",
    "kfold = StratifiedKFold(n_splits=10, shuffle=True, random_state=42)\n",
    "\n",
    "# les étapes du pipeline \n",
    "pipe = Pipeline([(\"sm\", SMOTE()), ('std', StandardScaler()),  (\"rgl\", LogisticRegression())], verbose = False)\n",
    "pipe.fit(X_train, y_train)"
   ]
  },
  {
   "cell_type": "code",
   "execution_count": 9,
   "id": "d5af4082",
   "metadata": {},
   "outputs": [],
   "source": [
    "CV_gr = GridSearchCV(model, param_grid, n_jobs=-1, cv=kfold, refit=True, return_train_score=False)\n",
    "result = CV_gr.fit(X_train, y_train)"
   ]
  },
  {
   "cell_type": "code",
   "execution_count": 10,
   "id": "2c0c60f3",
   "metadata": {},
   "outputs": [
    {
     "data": {
      "text/plain": [
       "0.9159053927568579"
      ]
     },
     "execution_count": 10,
     "metadata": {},
     "output_type": "execute_result"
    }
   ],
   "source": [
    "result.best_score_"
   ]
  },
  {
   "cell_type": "code",
   "execution_count": 11,
   "id": "b452d67e",
   "metadata": {},
   "outputs": [
    {
     "data": {
      "text/plain": [
       "{'C': 0.01, 'max_iter': 20000, 'penalty': 'l2'}"
      ]
     },
     "execution_count": 11,
     "metadata": {},
     "output_type": "execute_result"
    }
   ],
   "source": [
    "bestParam = result.best_params_\n",
    "bestParam "
   ]
  },
  {
   "cell_type": "markdown",
   "id": "55cdb78b",
   "metadata": {},
   "source": [
    "## 3- KNeighborsClassifier"
   ]
  },
  {
   "cell_type": "code",
   "execution_count": 12,
   "id": "b465ca08",
   "metadata": {},
   "outputs": [
    {
     "name": "stdout",
     "output_type": "stream",
     "text": [
      "[Pipeline] ................ (step 1 of 3) Processing sm, total=   0.2s\n",
      "[Pipeline] ............... (step 2 of 3) Processing std, total=   0.1s\n",
      "[Pipeline] ............... (step 3 of 3) Processing knb, total=   0.0s\n"
     ]
    },
    {
     "data": {
      "text/html": [
       "<style>#sk-2fe03f19-909f-479b-9d25-ec0af5b6cda5 {color: black;background-color: white;}#sk-2fe03f19-909f-479b-9d25-ec0af5b6cda5 pre{padding: 0;}#sk-2fe03f19-909f-479b-9d25-ec0af5b6cda5 div.sk-toggleable {background-color: white;}#sk-2fe03f19-909f-479b-9d25-ec0af5b6cda5 label.sk-toggleable__label {cursor: pointer;display: block;width: 100%;margin-bottom: 0;padding: 0.3em;box-sizing: border-box;text-align: center;}#sk-2fe03f19-909f-479b-9d25-ec0af5b6cda5 label.sk-toggleable__label-arrow:before {content: \"▸\";float: left;margin-right: 0.25em;color: #696969;}#sk-2fe03f19-909f-479b-9d25-ec0af5b6cda5 label.sk-toggleable__label-arrow:hover:before {color: black;}#sk-2fe03f19-909f-479b-9d25-ec0af5b6cda5 div.sk-estimator:hover label.sk-toggleable__label-arrow:before {color: black;}#sk-2fe03f19-909f-479b-9d25-ec0af5b6cda5 div.sk-toggleable__content {max-height: 0;max-width: 0;overflow: hidden;text-align: left;background-color: #f0f8ff;}#sk-2fe03f19-909f-479b-9d25-ec0af5b6cda5 div.sk-toggleable__content pre {margin: 0.2em;color: black;border-radius: 0.25em;background-color: #f0f8ff;}#sk-2fe03f19-909f-479b-9d25-ec0af5b6cda5 input.sk-toggleable__control:checked~div.sk-toggleable__content {max-height: 200px;max-width: 100%;overflow: auto;}#sk-2fe03f19-909f-479b-9d25-ec0af5b6cda5 input.sk-toggleable__control:checked~label.sk-toggleable__label-arrow:before {content: \"▾\";}#sk-2fe03f19-909f-479b-9d25-ec0af5b6cda5 div.sk-estimator input.sk-toggleable__control:checked~label.sk-toggleable__label {background-color: #d4ebff;}#sk-2fe03f19-909f-479b-9d25-ec0af5b6cda5 div.sk-label input.sk-toggleable__control:checked~label.sk-toggleable__label {background-color: #d4ebff;}#sk-2fe03f19-909f-479b-9d25-ec0af5b6cda5 input.sk-hidden--visually {border: 0;clip: rect(1px 1px 1px 1px);clip: rect(1px, 1px, 1px, 1px);height: 1px;margin: -1px;overflow: hidden;padding: 0;position: absolute;width: 1px;}#sk-2fe03f19-909f-479b-9d25-ec0af5b6cda5 div.sk-estimator {font-family: monospace;background-color: #f0f8ff;border: 1px dotted black;border-radius: 0.25em;box-sizing: border-box;margin-bottom: 0.5em;}#sk-2fe03f19-909f-479b-9d25-ec0af5b6cda5 div.sk-estimator:hover {background-color: #d4ebff;}#sk-2fe03f19-909f-479b-9d25-ec0af5b6cda5 div.sk-parallel-item::after {content: \"\";width: 100%;border-bottom: 1px solid gray;flex-grow: 1;}#sk-2fe03f19-909f-479b-9d25-ec0af5b6cda5 div.sk-label:hover label.sk-toggleable__label {background-color: #d4ebff;}#sk-2fe03f19-909f-479b-9d25-ec0af5b6cda5 div.sk-serial::before {content: \"\";position: absolute;border-left: 1px solid gray;box-sizing: border-box;top: 2em;bottom: 0;left: 50%;}#sk-2fe03f19-909f-479b-9d25-ec0af5b6cda5 div.sk-serial {display: flex;flex-direction: column;align-items: center;background-color: white;padding-right: 0.2em;padding-left: 0.2em;}#sk-2fe03f19-909f-479b-9d25-ec0af5b6cda5 div.sk-item {z-index: 1;}#sk-2fe03f19-909f-479b-9d25-ec0af5b6cda5 div.sk-parallel {display: flex;align-items: stretch;justify-content: center;background-color: white;}#sk-2fe03f19-909f-479b-9d25-ec0af5b6cda5 div.sk-parallel::before {content: \"\";position: absolute;border-left: 1px solid gray;box-sizing: border-box;top: 2em;bottom: 0;left: 50%;}#sk-2fe03f19-909f-479b-9d25-ec0af5b6cda5 div.sk-parallel-item {display: flex;flex-direction: column;position: relative;background-color: white;}#sk-2fe03f19-909f-479b-9d25-ec0af5b6cda5 div.sk-parallel-item:first-child::after {align-self: flex-end;width: 50%;}#sk-2fe03f19-909f-479b-9d25-ec0af5b6cda5 div.sk-parallel-item:last-child::after {align-self: flex-start;width: 50%;}#sk-2fe03f19-909f-479b-9d25-ec0af5b6cda5 div.sk-parallel-item:only-child::after {width: 0;}#sk-2fe03f19-909f-479b-9d25-ec0af5b6cda5 div.sk-dashed-wrapped {border: 1px dashed gray;margin: 0 0.4em 0.5em 0.4em;box-sizing: border-box;padding-bottom: 0.4em;background-color: white;position: relative;}#sk-2fe03f19-909f-479b-9d25-ec0af5b6cda5 div.sk-label label {font-family: monospace;font-weight: bold;background-color: white;display: inline-block;line-height: 1.2em;}#sk-2fe03f19-909f-479b-9d25-ec0af5b6cda5 div.sk-label-container {position: relative;z-index: 2;text-align: center;}#sk-2fe03f19-909f-479b-9d25-ec0af5b6cda5 div.sk-container {/* jupyter's `normalize.less` sets `[hidden] { display: none; }` but bootstrap.min.css set `[hidden] { display: none !important; }` so we also need the `!important` here to be able to override the default hidden behavior on the sphinx rendered scikit-learn.org. See: https://github.com/scikit-learn/scikit-learn/issues/21755 */display: inline-block !important;position: relative;}#sk-2fe03f19-909f-479b-9d25-ec0af5b6cda5 div.sk-text-repr-fallback {display: none;}</style><div id=\"sk-2fe03f19-909f-479b-9d25-ec0af5b6cda5\" class=\"sk-top-container\"><div class=\"sk-text-repr-fallback\"><pre>Pipeline(steps=[(&#x27;sm&#x27;, SMOTE()), (&#x27;std&#x27;, StandardScaler()),\n",
       "                (&#x27;knb&#x27;, KNeighborsClassifier())],\n",
       "         verbose=True)</pre><b>Please rerun this cell to show the HTML repr or trust the notebook.</b></div><div class=\"sk-container\" hidden><div class=\"sk-item sk-dashed-wrapped\"><div class=\"sk-label-container\"><div class=\"sk-label sk-toggleable\"><input class=\"sk-toggleable__control sk-hidden--visually\" id=\"61487254-912c-47b1-9f84-a506ed56e403\" type=\"checkbox\" ><label for=\"61487254-912c-47b1-9f84-a506ed56e403\" class=\"sk-toggleable__label sk-toggleable__label-arrow\">Pipeline</label><div class=\"sk-toggleable__content\"><pre>Pipeline(steps=[(&#x27;sm&#x27;, SMOTE()), (&#x27;std&#x27;, StandardScaler()),\n",
       "                (&#x27;knb&#x27;, KNeighborsClassifier())],\n",
       "         verbose=True)</pre></div></div></div><div class=\"sk-serial\"><div class=\"sk-item\"><div class=\"sk-estimator sk-toggleable\"><input class=\"sk-toggleable__control sk-hidden--visually\" id=\"5ff28fb5-05ac-4996-a6f3-fc3068b7402d\" type=\"checkbox\" ><label for=\"5ff28fb5-05ac-4996-a6f3-fc3068b7402d\" class=\"sk-toggleable__label sk-toggleable__label-arrow\">SMOTE</label><div class=\"sk-toggleable__content\"><pre>SMOTE()</pre></div></div></div><div class=\"sk-item\"><div class=\"sk-estimator sk-toggleable\"><input class=\"sk-toggleable__control sk-hidden--visually\" id=\"8d33acec-acfa-4f72-a234-401bb20a5820\" type=\"checkbox\" ><label for=\"8d33acec-acfa-4f72-a234-401bb20a5820\" class=\"sk-toggleable__label sk-toggleable__label-arrow\">StandardScaler</label><div class=\"sk-toggleable__content\"><pre>StandardScaler()</pre></div></div></div><div class=\"sk-item\"><div class=\"sk-estimator sk-toggleable\"><input class=\"sk-toggleable__control sk-hidden--visually\" id=\"7765d4bb-5d17-4271-bc9a-4d601d7c808e\" type=\"checkbox\" ><label for=\"7765d4bb-5d17-4271-bc9a-4d601d7c808e\" class=\"sk-toggleable__label sk-toggleable__label-arrow\">KNeighborsClassifier</label><div class=\"sk-toggleable__content\"><pre>KNeighborsClassifier()</pre></div></div></div></div></div></div></div>"
      ],
      "text/plain": [
       "Pipeline(steps=[('sm', SMOTE()), ('std', StandardScaler()),\n",
       "                ('knb', KNeighborsClassifier())],\n",
       "         verbose=True)"
      ]
     },
     "execution_count": 12,
     "metadata": {},
     "output_type": "execute_result"
    }
   ],
   "source": [
    "from sklearn.neighbors import KNeighborsClassifier\n",
    "\n",
    "X = data.drop('TARGET', axis = 1)\n",
    "y = data['TARGET']\n",
    "\n",
    "X_train, X_test, y_train, y_test = train_test_split(X, y, test_size = 0.3)\n",
    "\n",
    "model = KNeighborsClassifier()\n",
    "param_grid = {'n_neighbors': range(1,35),\n",
    "             'weights': ['uniform', 'distance']} \n",
    "\n",
    "kfold = StratifiedKFold(n_splits=10, shuffle=True, random_state=42)\n",
    "\n",
    "# les étapes du pipeline :\n",
    "pipe = Pipeline([(\"sm\", SMOTE()), ('std', StandardScaler()),  (\"knb\", KNeighborsClassifier())], verbose = True)\n",
    "pipe.fit(X_train, y_train)\n"
   ]
  },
  {
   "cell_type": "code",
   "execution_count": 13,
   "id": "b8237ed6",
   "metadata": {},
   "outputs": [],
   "source": [
    "CV_gr = GridSearchCV(model, param_grid, n_jobs=-1, cv=kfold, refit=True, return_train_score=False)"
   ]
  },
  {
   "cell_type": "code",
   "execution_count": 14,
   "id": "ed824a57",
   "metadata": {},
   "outputs": [],
   "source": [
    "result = CV_gr.fit(X_train, y_train)"
   ]
  },
  {
   "cell_type": "code",
   "execution_count": 15,
   "id": "06885d8d",
   "metadata": {},
   "outputs": [
    {
     "data": {
      "text/plain": [
       "0.9157505939952479"
      ]
     },
     "execution_count": 15,
     "metadata": {},
     "output_type": "execute_result"
    }
   ],
   "source": [
    "result.best_score_"
   ]
  },
  {
   "cell_type": "code",
   "execution_count": 16,
   "id": "3cd387b4",
   "metadata": {},
   "outputs": [
    {
     "data": {
      "text/plain": [
       "{'n_neighbors': 8, 'weights': 'uniform'}"
      ]
     },
     "execution_count": 16,
     "metadata": {},
     "output_type": "execute_result"
    }
   ],
   "source": [
    "bestParam = result.best_params_\n",
    "bestParam"
   ]
  },
  {
   "cell_type": "markdown",
   "id": "35fa7aa4",
   "metadata": {},
   "source": [
    " ## 4- Forêt aléatoire"
   ]
  },
  {
   "cell_type": "code",
   "execution_count": 17,
   "id": "a8c3f688",
   "metadata": {},
   "outputs": [
    {
     "name": "stdout",
     "output_type": "stream",
     "text": [
      "[Pipeline] ................ (step 1 of 3) Processing sm, total=   0.3s\n",
      "[Pipeline] ............... (step 2 of 3) Processing std, total=   0.1s\n",
      "[Pipeline] .............. (step 3 of 3) Processing clas, total=   4.8s\n"
     ]
    },
    {
     "data": {
      "text/html": [
       "<style>#sk-fa30922a-874d-42f3-92af-66ce36b80683 {color: black;background-color: white;}#sk-fa30922a-874d-42f3-92af-66ce36b80683 pre{padding: 0;}#sk-fa30922a-874d-42f3-92af-66ce36b80683 div.sk-toggleable {background-color: white;}#sk-fa30922a-874d-42f3-92af-66ce36b80683 label.sk-toggleable__label {cursor: pointer;display: block;width: 100%;margin-bottom: 0;padding: 0.3em;box-sizing: border-box;text-align: center;}#sk-fa30922a-874d-42f3-92af-66ce36b80683 label.sk-toggleable__label-arrow:before {content: \"▸\";float: left;margin-right: 0.25em;color: #696969;}#sk-fa30922a-874d-42f3-92af-66ce36b80683 label.sk-toggleable__label-arrow:hover:before {color: black;}#sk-fa30922a-874d-42f3-92af-66ce36b80683 div.sk-estimator:hover label.sk-toggleable__label-arrow:before {color: black;}#sk-fa30922a-874d-42f3-92af-66ce36b80683 div.sk-toggleable__content {max-height: 0;max-width: 0;overflow: hidden;text-align: left;background-color: #f0f8ff;}#sk-fa30922a-874d-42f3-92af-66ce36b80683 div.sk-toggleable__content pre {margin: 0.2em;color: black;border-radius: 0.25em;background-color: #f0f8ff;}#sk-fa30922a-874d-42f3-92af-66ce36b80683 input.sk-toggleable__control:checked~div.sk-toggleable__content {max-height: 200px;max-width: 100%;overflow: auto;}#sk-fa30922a-874d-42f3-92af-66ce36b80683 input.sk-toggleable__control:checked~label.sk-toggleable__label-arrow:before {content: \"▾\";}#sk-fa30922a-874d-42f3-92af-66ce36b80683 div.sk-estimator input.sk-toggleable__control:checked~label.sk-toggleable__label {background-color: #d4ebff;}#sk-fa30922a-874d-42f3-92af-66ce36b80683 div.sk-label input.sk-toggleable__control:checked~label.sk-toggleable__label {background-color: #d4ebff;}#sk-fa30922a-874d-42f3-92af-66ce36b80683 input.sk-hidden--visually {border: 0;clip: rect(1px 1px 1px 1px);clip: rect(1px, 1px, 1px, 1px);height: 1px;margin: -1px;overflow: hidden;padding: 0;position: absolute;width: 1px;}#sk-fa30922a-874d-42f3-92af-66ce36b80683 div.sk-estimator {font-family: monospace;background-color: #f0f8ff;border: 1px dotted black;border-radius: 0.25em;box-sizing: border-box;margin-bottom: 0.5em;}#sk-fa30922a-874d-42f3-92af-66ce36b80683 div.sk-estimator:hover {background-color: #d4ebff;}#sk-fa30922a-874d-42f3-92af-66ce36b80683 div.sk-parallel-item::after {content: \"\";width: 100%;border-bottom: 1px solid gray;flex-grow: 1;}#sk-fa30922a-874d-42f3-92af-66ce36b80683 div.sk-label:hover label.sk-toggleable__label {background-color: #d4ebff;}#sk-fa30922a-874d-42f3-92af-66ce36b80683 div.sk-serial::before {content: \"\";position: absolute;border-left: 1px solid gray;box-sizing: border-box;top: 2em;bottom: 0;left: 50%;}#sk-fa30922a-874d-42f3-92af-66ce36b80683 div.sk-serial {display: flex;flex-direction: column;align-items: center;background-color: white;padding-right: 0.2em;padding-left: 0.2em;}#sk-fa30922a-874d-42f3-92af-66ce36b80683 div.sk-item {z-index: 1;}#sk-fa30922a-874d-42f3-92af-66ce36b80683 div.sk-parallel {display: flex;align-items: stretch;justify-content: center;background-color: white;}#sk-fa30922a-874d-42f3-92af-66ce36b80683 div.sk-parallel::before {content: \"\";position: absolute;border-left: 1px solid gray;box-sizing: border-box;top: 2em;bottom: 0;left: 50%;}#sk-fa30922a-874d-42f3-92af-66ce36b80683 div.sk-parallel-item {display: flex;flex-direction: column;position: relative;background-color: white;}#sk-fa30922a-874d-42f3-92af-66ce36b80683 div.sk-parallel-item:first-child::after {align-self: flex-end;width: 50%;}#sk-fa30922a-874d-42f3-92af-66ce36b80683 div.sk-parallel-item:last-child::after {align-self: flex-start;width: 50%;}#sk-fa30922a-874d-42f3-92af-66ce36b80683 div.sk-parallel-item:only-child::after {width: 0;}#sk-fa30922a-874d-42f3-92af-66ce36b80683 div.sk-dashed-wrapped {border: 1px dashed gray;margin: 0 0.4em 0.5em 0.4em;box-sizing: border-box;padding-bottom: 0.4em;background-color: white;position: relative;}#sk-fa30922a-874d-42f3-92af-66ce36b80683 div.sk-label label {font-family: monospace;font-weight: bold;background-color: white;display: inline-block;line-height: 1.2em;}#sk-fa30922a-874d-42f3-92af-66ce36b80683 div.sk-label-container {position: relative;z-index: 2;text-align: center;}#sk-fa30922a-874d-42f3-92af-66ce36b80683 div.sk-container {/* jupyter's `normalize.less` sets `[hidden] { display: none; }` but bootstrap.min.css set `[hidden] { display: none !important; }` so we also need the `!important` here to be able to override the default hidden behavior on the sphinx rendered scikit-learn.org. See: https://github.com/scikit-learn/scikit-learn/issues/21755 */display: inline-block !important;position: relative;}#sk-fa30922a-874d-42f3-92af-66ce36b80683 div.sk-text-repr-fallback {display: none;}</style><div id=\"sk-fa30922a-874d-42f3-92af-66ce36b80683\" class=\"sk-top-container\"><div class=\"sk-text-repr-fallback\"><pre>Pipeline(steps=[(&#x27;sm&#x27;, SMOTE()), (&#x27;std&#x27;, StandardScaler()),\n",
       "                (&#x27;clas&#x27;, RandomForestClassifier())],\n",
       "         verbose=True)</pre><b>Please rerun this cell to show the HTML repr or trust the notebook.</b></div><div class=\"sk-container\" hidden><div class=\"sk-item sk-dashed-wrapped\"><div class=\"sk-label-container\"><div class=\"sk-label sk-toggleable\"><input class=\"sk-toggleable__control sk-hidden--visually\" id=\"9e3f6491-bba8-4f92-b63b-ce22cecc8784\" type=\"checkbox\" ><label for=\"9e3f6491-bba8-4f92-b63b-ce22cecc8784\" class=\"sk-toggleable__label sk-toggleable__label-arrow\">Pipeline</label><div class=\"sk-toggleable__content\"><pre>Pipeline(steps=[(&#x27;sm&#x27;, SMOTE()), (&#x27;std&#x27;, StandardScaler()),\n",
       "                (&#x27;clas&#x27;, RandomForestClassifier())],\n",
       "         verbose=True)</pre></div></div></div><div class=\"sk-serial\"><div class=\"sk-item\"><div class=\"sk-estimator sk-toggleable\"><input class=\"sk-toggleable__control sk-hidden--visually\" id=\"e2631395-db02-4f38-8d55-54dc82811b60\" type=\"checkbox\" ><label for=\"e2631395-db02-4f38-8d55-54dc82811b60\" class=\"sk-toggleable__label sk-toggleable__label-arrow\">SMOTE</label><div class=\"sk-toggleable__content\"><pre>SMOTE()</pre></div></div></div><div class=\"sk-item\"><div class=\"sk-estimator sk-toggleable\"><input class=\"sk-toggleable__control sk-hidden--visually\" id=\"8fa3be43-4532-4d48-9dd4-a3dabef36594\" type=\"checkbox\" ><label for=\"8fa3be43-4532-4d48-9dd4-a3dabef36594\" class=\"sk-toggleable__label sk-toggleable__label-arrow\">StandardScaler</label><div class=\"sk-toggleable__content\"><pre>StandardScaler()</pre></div></div></div><div class=\"sk-item\"><div class=\"sk-estimator sk-toggleable\"><input class=\"sk-toggleable__control sk-hidden--visually\" id=\"a65c751e-b772-4e14-997f-9f41d7b5e493\" type=\"checkbox\" ><label for=\"a65c751e-b772-4e14-997f-9f41d7b5e493\" class=\"sk-toggleable__label sk-toggleable__label-arrow\">RandomForestClassifier</label><div class=\"sk-toggleable__content\"><pre>RandomForestClassifier()</pre></div></div></div></div></div></div></div>"
      ],
      "text/plain": [
       "Pipeline(steps=[('sm', SMOTE()), ('std', StandardScaler()),\n",
       "                ('clas', RandomForestClassifier())],\n",
       "         verbose=True)"
      ]
     },
     "execution_count": 17,
     "metadata": {},
     "output_type": "execute_result"
    }
   ],
   "source": [
    "from sklearn.ensemble import RandomForestClassifier\n",
    "X = data.drop('TARGET', axis = 1)\n",
    "y = data['TARGET']\n",
    "\n",
    "# Le fractionnement des données\n",
    "X_train, X_test, y_train, y_test = train_test_split(X, y, test_size = 0.3)\n",
    "\n",
    "model = RandomForestClassifier(random_state=42)\n",
    "param_grid = {'n_estimators' :[200, 500], \n",
    "                   'max_features': ['auto', 'sqrt', 'log2'],\n",
    "                    'max_depth' : [4,5,6,7,8],\n",
    "                    'criterion' :['gini', 'entropy'] }\n",
    "\n",
    "kfold = StratifiedKFold(n_splits=5, shuffle=True, random_state=7)\n",
    "# les étapes du pipeline :\n",
    "pipe = Pipeline([(\"sm\", SMOTE()), (\"std\", StandardScaler()),  (\"clas\", RandomForestClassifier())], verbose = True)\n",
    "pipe.fit(X_train, y_train)"
   ]
  },
  {
   "cell_type": "code",
   "execution_count": 18,
   "id": "92fa72a4",
   "metadata": {},
   "outputs": [
    {
     "name": "stdout",
     "output_type": "stream",
     "text": [
      "Fitting 5 folds for each of 60 candidates, totalling 300 fits\n"
     ]
    }
   ],
   "source": [
    "CV_gr = GridSearchCV(model, param_grid, n_jobs=-1, refit=True, cv=kfold, verbose=1)\n",
    "result = CV_gr.fit(X_train, y_train)"
   ]
  },
  {
   "cell_type": "code",
   "execution_count": 19,
   "id": "6c833504",
   "metadata": {},
   "outputs": [
    {
     "data": {
      "text/plain": [
       "0.9149760307726987"
      ]
     },
     "execution_count": 19,
     "metadata": {},
     "output_type": "execute_result"
    }
   ],
   "source": [
    "result.best_score_"
   ]
  },
  {
   "cell_type": "code",
   "execution_count": 20,
   "id": "ef087a14",
   "metadata": {},
   "outputs": [
    {
     "data": {
      "text/plain": [
       "{'criterion': 'gini',\n",
       " 'max_depth': 4,\n",
       " 'max_features': 'auto',\n",
       " 'n_estimators': 200}"
      ]
     },
     "execution_count": 20,
     "metadata": {},
     "output_type": "execute_result"
    }
   ],
   "source": [
    "bestParam = result.best_params_\n",
    "bestParam"
   ]
  },
  {
   "cell_type": "markdown",
   "id": "f3ea7a77",
   "metadata": {},
   "source": [
    "## 5- Support  Vecteurs Machines (SVM)"
   ]
  },
  {
   "cell_type": "code",
   "execution_count": 21,
   "id": "10c0d894",
   "metadata": {},
   "outputs": [],
   "source": [
    "from sklearn.svm import SVC\n",
    "data = pd.read_csv('dat_svm.csv')\n",
    "data = data.replace((np.inf, -np.inf, np.nan), 0).reset_index(drop=True)\n",
    "X = data.drop('TARGET', axis = 1)\n",
    "y = data['TARGET'] "
   ]
  },
  {
   "cell_type": "code",
   "execution_count": 30,
   "id": "9803e0de",
   "metadata": {},
   "outputs": [
    {
     "name": "stdout",
     "output_type": "stream",
     "text": [
      "[Pipeline] ................ (step 1 of 3) Processing sm, total=   0.1s\n",
      "[Pipeline] ............... (step 2 of 3) Processing std, total=   0.0s\n",
      "[Pipeline] ............... (step 3 of 3) Processing svm, total=   0.0s\n"
     ]
    },
    {
     "data": {
      "text/html": [
       "<style>#sk-fbc1ea15-2967-45ea-98a7-b2b4b6cd669a {color: black;background-color: white;}#sk-fbc1ea15-2967-45ea-98a7-b2b4b6cd669a pre{padding: 0;}#sk-fbc1ea15-2967-45ea-98a7-b2b4b6cd669a div.sk-toggleable {background-color: white;}#sk-fbc1ea15-2967-45ea-98a7-b2b4b6cd669a label.sk-toggleable__label {cursor: pointer;display: block;width: 100%;margin-bottom: 0;padding: 0.3em;box-sizing: border-box;text-align: center;}#sk-fbc1ea15-2967-45ea-98a7-b2b4b6cd669a label.sk-toggleable__label-arrow:before {content: \"▸\";float: left;margin-right: 0.25em;color: #696969;}#sk-fbc1ea15-2967-45ea-98a7-b2b4b6cd669a label.sk-toggleable__label-arrow:hover:before {color: black;}#sk-fbc1ea15-2967-45ea-98a7-b2b4b6cd669a div.sk-estimator:hover label.sk-toggleable__label-arrow:before {color: black;}#sk-fbc1ea15-2967-45ea-98a7-b2b4b6cd669a div.sk-toggleable__content {max-height: 0;max-width: 0;overflow: hidden;text-align: left;background-color: #f0f8ff;}#sk-fbc1ea15-2967-45ea-98a7-b2b4b6cd669a div.sk-toggleable__content pre {margin: 0.2em;color: black;border-radius: 0.25em;background-color: #f0f8ff;}#sk-fbc1ea15-2967-45ea-98a7-b2b4b6cd669a input.sk-toggleable__control:checked~div.sk-toggleable__content {max-height: 200px;max-width: 100%;overflow: auto;}#sk-fbc1ea15-2967-45ea-98a7-b2b4b6cd669a input.sk-toggleable__control:checked~label.sk-toggleable__label-arrow:before {content: \"▾\";}#sk-fbc1ea15-2967-45ea-98a7-b2b4b6cd669a div.sk-estimator input.sk-toggleable__control:checked~label.sk-toggleable__label {background-color: #d4ebff;}#sk-fbc1ea15-2967-45ea-98a7-b2b4b6cd669a div.sk-label input.sk-toggleable__control:checked~label.sk-toggleable__label {background-color: #d4ebff;}#sk-fbc1ea15-2967-45ea-98a7-b2b4b6cd669a input.sk-hidden--visually {border: 0;clip: rect(1px 1px 1px 1px);clip: rect(1px, 1px, 1px, 1px);height: 1px;margin: -1px;overflow: hidden;padding: 0;position: absolute;width: 1px;}#sk-fbc1ea15-2967-45ea-98a7-b2b4b6cd669a div.sk-estimator {font-family: monospace;background-color: #f0f8ff;border: 1px dotted black;border-radius: 0.25em;box-sizing: border-box;margin-bottom: 0.5em;}#sk-fbc1ea15-2967-45ea-98a7-b2b4b6cd669a div.sk-estimator:hover {background-color: #d4ebff;}#sk-fbc1ea15-2967-45ea-98a7-b2b4b6cd669a div.sk-parallel-item::after {content: \"\";width: 100%;border-bottom: 1px solid gray;flex-grow: 1;}#sk-fbc1ea15-2967-45ea-98a7-b2b4b6cd669a div.sk-label:hover label.sk-toggleable__label {background-color: #d4ebff;}#sk-fbc1ea15-2967-45ea-98a7-b2b4b6cd669a div.sk-serial::before {content: \"\";position: absolute;border-left: 1px solid gray;box-sizing: border-box;top: 2em;bottom: 0;left: 50%;}#sk-fbc1ea15-2967-45ea-98a7-b2b4b6cd669a div.sk-serial {display: flex;flex-direction: column;align-items: center;background-color: white;padding-right: 0.2em;padding-left: 0.2em;}#sk-fbc1ea15-2967-45ea-98a7-b2b4b6cd669a div.sk-item {z-index: 1;}#sk-fbc1ea15-2967-45ea-98a7-b2b4b6cd669a div.sk-parallel {display: flex;align-items: stretch;justify-content: center;background-color: white;}#sk-fbc1ea15-2967-45ea-98a7-b2b4b6cd669a div.sk-parallel::before {content: \"\";position: absolute;border-left: 1px solid gray;box-sizing: border-box;top: 2em;bottom: 0;left: 50%;}#sk-fbc1ea15-2967-45ea-98a7-b2b4b6cd669a div.sk-parallel-item {display: flex;flex-direction: column;position: relative;background-color: white;}#sk-fbc1ea15-2967-45ea-98a7-b2b4b6cd669a div.sk-parallel-item:first-child::after {align-self: flex-end;width: 50%;}#sk-fbc1ea15-2967-45ea-98a7-b2b4b6cd669a div.sk-parallel-item:last-child::after {align-self: flex-start;width: 50%;}#sk-fbc1ea15-2967-45ea-98a7-b2b4b6cd669a div.sk-parallel-item:only-child::after {width: 0;}#sk-fbc1ea15-2967-45ea-98a7-b2b4b6cd669a div.sk-dashed-wrapped {border: 1px dashed gray;margin: 0 0.4em 0.5em 0.4em;box-sizing: border-box;padding-bottom: 0.4em;background-color: white;position: relative;}#sk-fbc1ea15-2967-45ea-98a7-b2b4b6cd669a div.sk-label label {font-family: monospace;font-weight: bold;background-color: white;display: inline-block;line-height: 1.2em;}#sk-fbc1ea15-2967-45ea-98a7-b2b4b6cd669a div.sk-label-container {position: relative;z-index: 2;text-align: center;}#sk-fbc1ea15-2967-45ea-98a7-b2b4b6cd669a div.sk-container {/* jupyter's `normalize.less` sets `[hidden] { display: none; }` but bootstrap.min.css set `[hidden] { display: none !important; }` so we also need the `!important` here to be able to override the default hidden behavior on the sphinx rendered scikit-learn.org. See: https://github.com/scikit-learn/scikit-learn/issues/21755 */display: inline-block !important;position: relative;}#sk-fbc1ea15-2967-45ea-98a7-b2b4b6cd669a div.sk-text-repr-fallback {display: none;}</style><div id=\"sk-fbc1ea15-2967-45ea-98a7-b2b4b6cd669a\" class=\"sk-top-container\"><div class=\"sk-text-repr-fallback\"><pre>Pipeline(steps=[(&#x27;sm&#x27;, SMOTE()), (&#x27;std&#x27;, StandardScaler()), (&#x27;svm&#x27;, SVC())],\n",
       "         verbose=True)</pre><b>Please rerun this cell to show the HTML repr or trust the notebook.</b></div><div class=\"sk-container\" hidden><div class=\"sk-item sk-dashed-wrapped\"><div class=\"sk-label-container\"><div class=\"sk-label sk-toggleable\"><input class=\"sk-toggleable__control sk-hidden--visually\" id=\"399228c9-c923-4ef2-84bd-8dd725e13b90\" type=\"checkbox\" ><label for=\"399228c9-c923-4ef2-84bd-8dd725e13b90\" class=\"sk-toggleable__label sk-toggleable__label-arrow\">Pipeline</label><div class=\"sk-toggleable__content\"><pre>Pipeline(steps=[(&#x27;sm&#x27;, SMOTE()), (&#x27;std&#x27;, StandardScaler()), (&#x27;svm&#x27;, SVC())],\n",
       "         verbose=True)</pre></div></div></div><div class=\"sk-serial\"><div class=\"sk-item\"><div class=\"sk-estimator sk-toggleable\"><input class=\"sk-toggleable__control sk-hidden--visually\" id=\"2975e91b-56ea-436b-9f0f-08a9cddb4816\" type=\"checkbox\" ><label for=\"2975e91b-56ea-436b-9f0f-08a9cddb4816\" class=\"sk-toggleable__label sk-toggleable__label-arrow\">SMOTE</label><div class=\"sk-toggleable__content\"><pre>SMOTE()</pre></div></div></div><div class=\"sk-item\"><div class=\"sk-estimator sk-toggleable\"><input class=\"sk-toggleable__control sk-hidden--visually\" id=\"c2e8c74a-6371-488a-893b-62ebe9aabdcc\" type=\"checkbox\" ><label for=\"c2e8c74a-6371-488a-893b-62ebe9aabdcc\" class=\"sk-toggleable__label sk-toggleable__label-arrow\">StandardScaler</label><div class=\"sk-toggleable__content\"><pre>StandardScaler()</pre></div></div></div><div class=\"sk-item\"><div class=\"sk-estimator sk-toggleable\"><input class=\"sk-toggleable__control sk-hidden--visually\" id=\"c973676f-88cd-437b-a5a6-20211654901e\" type=\"checkbox\" ><label for=\"c973676f-88cd-437b-a5a6-20211654901e\" class=\"sk-toggleable__label sk-toggleable__label-arrow\">SVC</label><div class=\"sk-toggleable__content\"><pre>SVC()</pre></div></div></div></div></div></div></div>"
      ],
      "text/plain": [
       "Pipeline(steps=[('sm', SMOTE()), ('std', StandardScaler()), ('svm', SVC())],\n",
       "         verbose=True)"
      ]
     },
     "execution_count": 30,
     "metadata": {},
     "output_type": "execute_result"
    }
   ],
   "source": [
    "X_train, X_test, y_train, y_test = train_test_split(X, y, test_size = 0.25)\n",
    "\n",
    "\n",
    "model = SVC()\n",
    "param_grid = {'C': [0.1],  \n",
    "              'gamma': [0.01 ], \n",
    "              'kernel': ['linear','rbf']}\n",
    "\n",
    "kfold = StratifiedKFold(n_splits=5, shuffle=True, random_state=7)\n",
    "\n",
    "# les étapes du pipeline :\n",
    "pipe = Pipeline([(\"sm\", SMOTE()), (\"std\", StandardScaler()),  (\"svm\", SVC())], verbose = True)\n",
    "pipe.fit(X_train, y_train)"
   ]
  },
  {
   "cell_type": "code",
   "execution_count": 31,
   "id": "eb672143",
   "metadata": {},
   "outputs": [
    {
     "name": "stdout",
     "output_type": "stream",
     "text": [
      "Fitting 5 folds for each of 2 candidates, totalling 10 fits\n"
     ]
    }
   ],
   "source": [
    "CV_gr = GridSearchCV(model, param_grid, n_jobs=-1, cv=kfold, verbose=1)\n",
    "result = CV_gr.fit(X_train, y_train)"
   ]
  },
  {
   "cell_type": "code",
   "execution_count": 32,
   "id": "15e4a66a",
   "metadata": {},
   "outputs": [
    {
     "data": {
      "text/plain": [
       "0.9325301204819277"
      ]
     },
     "execution_count": 32,
     "metadata": {},
     "output_type": "execute_result"
    }
   ],
   "source": [
    "result.best_score_"
   ]
  },
  {
   "cell_type": "code",
   "execution_count": 33,
   "id": "247f4dc7",
   "metadata": {},
   "outputs": [
    {
     "data": {
      "text/plain": [
       "{'C': 0.1, 'gamma': 0.01, 'kernel': 'rbf'}"
      ]
     },
     "execution_count": 33,
     "metadata": {},
     "output_type": "execute_result"
    }
   ],
   "source": [
    "bestParam = result.best_params_\n",
    "bestParam"
   ]
  },
  {
   "cell_type": "markdown",
   "id": "2cef8351",
   "metadata": {},
   "source": [
    "## 6- XGBoots Classifier"
   ]
  },
  {
   "cell_type": "code",
   "execution_count": 22,
   "id": "c4872ff5",
   "metadata": {},
   "outputs": [
    {
     "name": "stdout",
     "output_type": "stream",
     "text": [
      "[Pipeline] ................ (step 1 of 3) Processing sm, total=   0.3s\n",
      "[Pipeline] ............... (step 2 of 3) Processing std, total=   0.1s\n",
      "[Pipeline] ............... (step 3 of 3) Processing xgb, total=  13.2s\n"
     ]
    },
    {
     "data": {
      "text/html": [
       "<style>#sk-dd5d1380-60ac-41ed-8e38-2d614b6dbf70 {color: black;background-color: white;}#sk-dd5d1380-60ac-41ed-8e38-2d614b6dbf70 pre{padding: 0;}#sk-dd5d1380-60ac-41ed-8e38-2d614b6dbf70 div.sk-toggleable {background-color: white;}#sk-dd5d1380-60ac-41ed-8e38-2d614b6dbf70 label.sk-toggleable__label {cursor: pointer;display: block;width: 100%;margin-bottom: 0;padding: 0.3em;box-sizing: border-box;text-align: center;}#sk-dd5d1380-60ac-41ed-8e38-2d614b6dbf70 label.sk-toggleable__label-arrow:before {content: \"▸\";float: left;margin-right: 0.25em;color: #696969;}#sk-dd5d1380-60ac-41ed-8e38-2d614b6dbf70 label.sk-toggleable__label-arrow:hover:before {color: black;}#sk-dd5d1380-60ac-41ed-8e38-2d614b6dbf70 div.sk-estimator:hover label.sk-toggleable__label-arrow:before {color: black;}#sk-dd5d1380-60ac-41ed-8e38-2d614b6dbf70 div.sk-toggleable__content {max-height: 0;max-width: 0;overflow: hidden;text-align: left;background-color: #f0f8ff;}#sk-dd5d1380-60ac-41ed-8e38-2d614b6dbf70 div.sk-toggleable__content pre {margin: 0.2em;color: black;border-radius: 0.25em;background-color: #f0f8ff;}#sk-dd5d1380-60ac-41ed-8e38-2d614b6dbf70 input.sk-toggleable__control:checked~div.sk-toggleable__content {max-height: 200px;max-width: 100%;overflow: auto;}#sk-dd5d1380-60ac-41ed-8e38-2d614b6dbf70 input.sk-toggleable__control:checked~label.sk-toggleable__label-arrow:before {content: \"▾\";}#sk-dd5d1380-60ac-41ed-8e38-2d614b6dbf70 div.sk-estimator input.sk-toggleable__control:checked~label.sk-toggleable__label {background-color: #d4ebff;}#sk-dd5d1380-60ac-41ed-8e38-2d614b6dbf70 div.sk-label input.sk-toggleable__control:checked~label.sk-toggleable__label {background-color: #d4ebff;}#sk-dd5d1380-60ac-41ed-8e38-2d614b6dbf70 input.sk-hidden--visually {border: 0;clip: rect(1px 1px 1px 1px);clip: rect(1px, 1px, 1px, 1px);height: 1px;margin: -1px;overflow: hidden;padding: 0;position: absolute;width: 1px;}#sk-dd5d1380-60ac-41ed-8e38-2d614b6dbf70 div.sk-estimator {font-family: monospace;background-color: #f0f8ff;border: 1px dotted black;border-radius: 0.25em;box-sizing: border-box;margin-bottom: 0.5em;}#sk-dd5d1380-60ac-41ed-8e38-2d614b6dbf70 div.sk-estimator:hover {background-color: #d4ebff;}#sk-dd5d1380-60ac-41ed-8e38-2d614b6dbf70 div.sk-parallel-item::after {content: \"\";width: 100%;border-bottom: 1px solid gray;flex-grow: 1;}#sk-dd5d1380-60ac-41ed-8e38-2d614b6dbf70 div.sk-label:hover label.sk-toggleable__label {background-color: #d4ebff;}#sk-dd5d1380-60ac-41ed-8e38-2d614b6dbf70 div.sk-serial::before {content: \"\";position: absolute;border-left: 1px solid gray;box-sizing: border-box;top: 2em;bottom: 0;left: 50%;}#sk-dd5d1380-60ac-41ed-8e38-2d614b6dbf70 div.sk-serial {display: flex;flex-direction: column;align-items: center;background-color: white;padding-right: 0.2em;padding-left: 0.2em;}#sk-dd5d1380-60ac-41ed-8e38-2d614b6dbf70 div.sk-item {z-index: 1;}#sk-dd5d1380-60ac-41ed-8e38-2d614b6dbf70 div.sk-parallel {display: flex;align-items: stretch;justify-content: center;background-color: white;}#sk-dd5d1380-60ac-41ed-8e38-2d614b6dbf70 div.sk-parallel::before {content: \"\";position: absolute;border-left: 1px solid gray;box-sizing: border-box;top: 2em;bottom: 0;left: 50%;}#sk-dd5d1380-60ac-41ed-8e38-2d614b6dbf70 div.sk-parallel-item {display: flex;flex-direction: column;position: relative;background-color: white;}#sk-dd5d1380-60ac-41ed-8e38-2d614b6dbf70 div.sk-parallel-item:first-child::after {align-self: flex-end;width: 50%;}#sk-dd5d1380-60ac-41ed-8e38-2d614b6dbf70 div.sk-parallel-item:last-child::after {align-self: flex-start;width: 50%;}#sk-dd5d1380-60ac-41ed-8e38-2d614b6dbf70 div.sk-parallel-item:only-child::after {width: 0;}#sk-dd5d1380-60ac-41ed-8e38-2d614b6dbf70 div.sk-dashed-wrapped {border: 1px dashed gray;margin: 0 0.4em 0.5em 0.4em;box-sizing: border-box;padding-bottom: 0.4em;background-color: white;position: relative;}#sk-dd5d1380-60ac-41ed-8e38-2d614b6dbf70 div.sk-label label {font-family: monospace;font-weight: bold;background-color: white;display: inline-block;line-height: 1.2em;}#sk-dd5d1380-60ac-41ed-8e38-2d614b6dbf70 div.sk-label-container {position: relative;z-index: 2;text-align: center;}#sk-dd5d1380-60ac-41ed-8e38-2d614b6dbf70 div.sk-container {/* jupyter's `normalize.less` sets `[hidden] { display: none; }` but bootstrap.min.css set `[hidden] { display: none !important; }` so we also need the `!important` here to be able to override the default hidden behavior on the sphinx rendered scikit-learn.org. See: https://github.com/scikit-learn/scikit-learn/issues/21755 */display: inline-block !important;position: relative;}#sk-dd5d1380-60ac-41ed-8e38-2d614b6dbf70 div.sk-text-repr-fallback {display: none;}</style><div id=\"sk-dd5d1380-60ac-41ed-8e38-2d614b6dbf70\" class=\"sk-top-container\"><div class=\"sk-text-repr-fallback\"><pre>Pipeline(steps=[(&#x27;sm&#x27;, SMOTE()), (&#x27;std&#x27;, StandardScaler()),\n",
       "                (&#x27;xgb&#x27;,\n",
       "                 XGBClassifier(base_score=None, booster=None, callbacks=None,\n",
       "                               colsample_bylevel=None, colsample_bynode=None,\n",
       "                               colsample_bytree=None,\n",
       "                               early_stopping_rounds=None,\n",
       "                               enable_categorical=False, eval_metric=None,\n",
       "                               feature_types=None, gamma=None, gpu_id=None,\n",
       "                               grow_policy=None, importance_type=None,\n",
       "                               interaction_constraints=None, learning_rate=None,\n",
       "                               max_bin=None, max_cat_threshold=None,\n",
       "                               max_cat_to_onehot=None, max_delta_step=None,\n",
       "                               max_depth=None, max_leaves=None,\n",
       "                               min_child_weight=None, missing=nan,\n",
       "                               monotone_constraints=None, n_estimators=100,\n",
       "                               n_jobs=None, num_parallel_tree=None,\n",
       "                               predictor=None, random_state=None, ...))],\n",
       "         verbose=True)</pre><b>Please rerun this cell to show the HTML repr or trust the notebook.</b></div><div class=\"sk-container\" hidden><div class=\"sk-item sk-dashed-wrapped\"><div class=\"sk-label-container\"><div class=\"sk-label sk-toggleable\"><input class=\"sk-toggleable__control sk-hidden--visually\" id=\"abb384ac-652c-44b4-baf7-ce75f32a46bf\" type=\"checkbox\" ><label for=\"abb384ac-652c-44b4-baf7-ce75f32a46bf\" class=\"sk-toggleable__label sk-toggleable__label-arrow\">Pipeline</label><div class=\"sk-toggleable__content\"><pre>Pipeline(steps=[(&#x27;sm&#x27;, SMOTE()), (&#x27;std&#x27;, StandardScaler()),\n",
       "                (&#x27;xgb&#x27;,\n",
       "                 XGBClassifier(base_score=None, booster=None, callbacks=None,\n",
       "                               colsample_bylevel=None, colsample_bynode=None,\n",
       "                               colsample_bytree=None,\n",
       "                               early_stopping_rounds=None,\n",
       "                               enable_categorical=False, eval_metric=None,\n",
       "                               feature_types=None, gamma=None, gpu_id=None,\n",
       "                               grow_policy=None, importance_type=None,\n",
       "                               interaction_constraints=None, learning_rate=None,\n",
       "                               max_bin=None, max_cat_threshold=None,\n",
       "                               max_cat_to_onehot=None, max_delta_step=None,\n",
       "                               max_depth=None, max_leaves=None,\n",
       "                               min_child_weight=None, missing=nan,\n",
       "                               monotone_constraints=None, n_estimators=100,\n",
       "                               n_jobs=None, num_parallel_tree=None,\n",
       "                               predictor=None, random_state=None, ...))],\n",
       "         verbose=True)</pre></div></div></div><div class=\"sk-serial\"><div class=\"sk-item\"><div class=\"sk-estimator sk-toggleable\"><input class=\"sk-toggleable__control sk-hidden--visually\" id=\"671d938c-6a55-413c-9c5a-3db9eb5b6ef8\" type=\"checkbox\" ><label for=\"671d938c-6a55-413c-9c5a-3db9eb5b6ef8\" class=\"sk-toggleable__label sk-toggleable__label-arrow\">SMOTE</label><div class=\"sk-toggleable__content\"><pre>SMOTE()</pre></div></div></div><div class=\"sk-item\"><div class=\"sk-estimator sk-toggleable\"><input class=\"sk-toggleable__control sk-hidden--visually\" id=\"938882a7-218b-4529-82e1-fe7c22410fcb\" type=\"checkbox\" ><label for=\"938882a7-218b-4529-82e1-fe7c22410fcb\" class=\"sk-toggleable__label sk-toggleable__label-arrow\">StandardScaler</label><div class=\"sk-toggleable__content\"><pre>StandardScaler()</pre></div></div></div><div class=\"sk-item\"><div class=\"sk-estimator sk-toggleable\"><input class=\"sk-toggleable__control sk-hidden--visually\" id=\"84cfd7ae-d72b-4ebb-9a8f-e4618f0a0a44\" type=\"checkbox\" ><label for=\"84cfd7ae-d72b-4ebb-9a8f-e4618f0a0a44\" class=\"sk-toggleable__label sk-toggleable__label-arrow\">XGBClassifier</label><div class=\"sk-toggleable__content\"><pre>XGBClassifier(base_score=None, booster=None, callbacks=None,\n",
       "              colsample_bylevel=None, colsample_bynode=None,\n",
       "              colsample_bytree=None, early_stopping_rounds=None,\n",
       "              enable_categorical=False, eval_metric=None, feature_types=None,\n",
       "              gamma=None, gpu_id=None, grow_policy=None, importance_type=None,\n",
       "              interaction_constraints=None, learning_rate=None, max_bin=None,\n",
       "              max_cat_threshold=None, max_cat_to_onehot=None,\n",
       "              max_delta_step=None, max_depth=None, max_leaves=None,\n",
       "              min_child_weight=None, missing=nan, monotone_constraints=None,\n",
       "              n_estimators=100, n_jobs=None, num_parallel_tree=None,\n",
       "              predictor=None, random_state=None, ...)</pre></div></div></div></div></div></div></div>"
      ],
      "text/plain": [
       "Pipeline(steps=[('sm', SMOTE()), ('std', StandardScaler()),\n",
       "                ('xgb',\n",
       "                 XGBClassifier(base_score=None, booster=None, callbacks=None,\n",
       "                               colsample_bylevel=None, colsample_bynode=None,\n",
       "                               colsample_bytree=None,\n",
       "                               early_stopping_rounds=None,\n",
       "                               enable_categorical=False, eval_metric=None,\n",
       "                               feature_types=None, gamma=None, gpu_id=None,\n",
       "                               grow_policy=None, importance_type=None,\n",
       "                               interaction_constraints=None, learning_rate=None,\n",
       "                               max_bin=None, max_cat_threshold=None,\n",
       "                               max_cat_to_onehot=None, max_delta_step=None,\n",
       "                               max_depth=None, max_leaves=None,\n",
       "                               min_child_weight=None, missing=nan,\n",
       "                               monotone_constraints=None, n_estimators=100,\n",
       "                               n_jobs=None, num_parallel_tree=None,\n",
       "                               predictor=None, random_state=None, ...))],\n",
       "         verbose=True)"
      ]
     },
     "execution_count": 22,
     "metadata": {},
     "output_type": "execute_result"
    }
   ],
   "source": [
    "from sklearn.metrics import fbeta_score, make_scorer\n",
    "from xgboost import XGBClassifier\n",
    "import xgboost\n",
    "data = pd.read_csv('df1.csv')\n",
    "data = data.replace((np.inf, -np.inf, np.nan), 0).reset_index(drop=True)\n",
    "X = data.drop('TARGET', axis = 1)\n",
    "y = data['TARGET']\n",
    "\n",
    "X_train, X_test, y_train, y_test = train_test_split(X, y, test_size = 0.25)\n",
    "\n",
    "model = XGBClassifier()\n",
    "param_grid = {'nthread':[2],\n",
    "              'objective':['binary:logistic'],\n",
    "              'n_estimators': [ 800],\n",
    "              'learning_rate': [0.01, 0.02],\n",
    "              'gamma': [2 ],             \n",
    "              'max_depth': [ 4] }\n",
    "\n",
    "kfold = StratifiedKFold(n_splits=5, shuffle=True, random_state=42)\n",
    "\n",
    "# les étapes du pipeline :\n",
    "pipe = Pipeline([(\"sm\", SMOTE()), (\"std\", StandardScaler()),  (\"xgb\", XGBClassifier())], verbose = True)\n",
    "pipe.fit(X_train, y_train)"
   ]
  },
  {
   "cell_type": "code",
   "execution_count": 23,
   "id": "beaa3c9b",
   "metadata": {},
   "outputs": [
    {
     "name": "stdout",
     "output_type": "stream",
     "text": [
      "Fitting 5 folds for each of 2 candidates, totalling 10 fits\n"
     ]
    }
   ],
   "source": [
    "CV_gr = GridSearchCV(model, param_grid, n_jobs=-1, refit=True, cv=kfold,  verbose=1)\n",
    "result = CV_gr.fit(X_train, y_train)"
   ]
  },
  {
   "cell_type": "code",
   "execution_count": 24,
   "id": "fb01ffa8",
   "metadata": {},
   "outputs": [
    {
     "data": {
      "text/plain": [
       "0.918473704228472"
      ]
     },
     "execution_count": 24,
     "metadata": {},
     "output_type": "execute_result"
    }
   ],
   "source": [
    "result.best_score_"
   ]
  },
  {
   "cell_type": "code",
   "execution_count": 25,
   "id": "966deaca",
   "metadata": {},
   "outputs": [
    {
     "data": {
      "text/plain": [
       "{'gamma': 2,\n",
       " 'learning_rate': 0.02,\n",
       " 'max_depth': 4,\n",
       " 'n_estimators': 800,\n",
       " 'nthread': 2,\n",
       " 'objective': 'binary:logistic'}"
      ]
     },
     "execution_count": 25,
     "metadata": {},
     "output_type": "execute_result"
    }
   ],
   "source": [
    "bestParam = result.best_params_\n",
    "bestParam "
   ]
  },
  {
   "cell_type": "code",
   "execution_count": 28,
   "id": "087dd999",
   "metadata": {},
   "outputs": [],
   "source": [
    "def modelis(data=[], verbose=False):\n",
    "    #Liste des modèles à entrainer\n",
    "    models=[LogisticRegression(C = 0.01, max_iter = 20000, penalty = 'l2', dual=False),\n",
    "            KNeighborsClassifier(n_neighbors = 8, weights ='uniform'),\n",
    "            SVC(C= 0.1, gamma = 0.01, kernel ='rbf', probability=True),\n",
    "            RandomForestClassifier(criterion = 'gini', max_depth=4, n_estimators=200, random_state=42, oob_score=True),\n",
    "            XGBClassifier(gamma= 2,learning_rate = 0.01, max_depth = 4, n_estimators = 800, nthread = 2,\n",
    "                          objective= 'binary:logistic')]\n",
    "    f1 = []\n",
    "    auc = []\n",
    "    recall = []\n",
    "    precision = []\n",
    "    #Entrainement des modèles pour obtenir leurs mesures de performances\n",
    "    for model in models:\n",
    "        clf = model\n",
    "        clf.fit(X_train, y_train)\n",
    "        test_preds = clf.predict(X_test)\n",
    "        f1.append(f1_score(y_test, test_preds))\n",
    "        auc.append(roc_auc_score(y_test, test_preds))\n",
    "        recall.append(recall_score(y_test, test_preds))\n",
    "        precision.append(precision_score(y_test, test_preds))\n",
    "        #Impression de modèle et du rapport\n",
    "        if verbose:\n",
    "            print('Classification Model: ',model,'\\n')\n",
    "            print(classification_report(y_test, test_preds),'\\n')\n",
    "            y_pred_proba = clf.predict_proba(X_test)[::, 1]\n",
    "            tauc = metrics.roc_auc_score (y_test, y_pred_proba).round(2)\n",
    "            print('Le Score AUC est: ',tauc,'\\n')\n",
    "    #Enregistrer les resultats dans un dataframe\n",
    "    results = pd.DataFrame([f1,auc, precision,recall],\n",
    "                      index= ['f1','roc_auc','precision','recall',],\n",
    "                           columns=['LogisticRegression','KNeighborsClassifier','SVC','RandomForestClassifier','XGBClassifier'])\n",
    "    return results.transpose()"
   ]
  },
  {
   "cell_type": "markdown",
   "id": "b19584f2",
   "metadata": {},
   "source": [
    "## Comparaison  des scores des differents modèles : Precison, recall, f1-score et l'AUC "
   ]
  },
  {
   "cell_type": "code",
   "execution_count": 30,
   "id": "6e50a4bd",
   "metadata": {},
   "outputs": [
    {
     "name": "stdout",
     "output_type": "stream",
     "text": [
      "Classification Model:  LogisticRegression(C=0.01, max_iter=20000) \n",
      "\n",
      "              precision    recall  f1-score   support\n",
      "\n",
      "           0       0.91      1.00      0.95      2107\n",
      "           1       0.00      0.00      0.00       200\n",
      "\n",
      "    accuracy                           0.91      2307\n",
      "   macro avg       0.46      0.50      0.48      2307\n",
      "weighted avg       0.83      0.91      0.87      2307\n",
      " \n",
      "\n",
      "Le Score AUC est:  0.62 \n",
      "\n",
      "Classification Model:  KNeighborsClassifier(n_neighbors=8) \n",
      "\n",
      "              precision    recall  f1-score   support\n",
      "\n",
      "           0       0.91      1.00      0.95      2107\n",
      "           1       0.00      0.00      0.00       200\n",
      "\n",
      "    accuracy                           0.91      2307\n",
      "   macro avg       0.46      0.50      0.48      2307\n",
      "weighted avg       0.83      0.91      0.87      2307\n",
      " \n",
      "\n",
      "Le Score AUC est:  0.49 \n",
      "\n",
      "Classification Model:  SVC(C=0.1, gamma=0.01, probability=True) \n",
      "\n",
      "              precision    recall  f1-score   support\n",
      "\n",
      "           0       0.91      1.00      0.95      2107\n",
      "           1       0.00      0.00      0.00       200\n",
      "\n",
      "    accuracy                           0.91      2307\n",
      "   macro avg       0.46      0.50      0.48      2307\n",
      "weighted avg       0.83      0.91      0.87      2307\n",
      " \n",
      "\n",
      "Le Score AUC est:  0.5 \n",
      "\n",
      "Classification Model:  RandomForestClassifier(max_depth=4, n_estimators=200, oob_score=True,\n",
      "                       random_state=42) \n",
      "\n",
      "              precision    recall  f1-score   support\n",
      "\n",
      "           0       0.91      1.00      0.95      2107\n",
      "           1       0.00      0.00      0.00       200\n",
      "\n",
      "    accuracy                           0.91      2307\n",
      "   macro avg       0.46      0.50      0.48      2307\n",
      "weighted avg       0.83      0.91      0.87      2307\n",
      " \n",
      "\n",
      "Le Score AUC est:  0.7 \n",
      "\n",
      "Classification Model:  XGBClassifier(base_score=None, booster=None, callbacks=None,\n",
      "              colsample_bylevel=None, colsample_bynode=None,\n",
      "              colsample_bytree=None, early_stopping_rounds=None,\n",
      "              enable_categorical=False, eval_metric=None, feature_types=None,\n",
      "              gamma=2, gpu_id=None, grow_policy=None, importance_type=None,\n",
      "              interaction_constraints=None, learning_rate=0.01, max_bin=None,\n",
      "              max_cat_threshold=None, max_cat_to_onehot=None,\n",
      "              max_delta_step=None, max_depth=4, max_leaves=None,\n",
      "              min_child_weight=None, missing=nan, monotone_constraints=None,\n",
      "              n_estimators=800, n_jobs=None, nthread=2, num_parallel_tree=None,\n",
      "              predictor=None, ...) \n",
      "\n",
      "              precision    recall  f1-score   support\n",
      "\n",
      "           0       0.91      1.00      0.95      2107\n",
      "           1       0.30      0.01      0.03       200\n",
      "\n",
      "    accuracy                           0.91      2307\n",
      "   macro avg       0.61      0.51      0.49      2307\n",
      "weighted avg       0.86      0.91      0.87      2307\n",
      " \n",
      "\n",
      "Le Score AUC est:  0.72 \n",
      "\n"
     ]
    }
   ],
   "source": [
    "compar = modelis(data=[X_test,y_test], verbose=True)"
   ]
  },
  {
   "cell_type": "markdown",
   "id": "841b4f43",
   "metadata": {},
   "source": [
    "## Le meilleur modèle par metric"
   ]
  },
  {
   "cell_type": "code",
   "execution_count": 50,
   "id": "30657c69",
   "metadata": {},
   "outputs": [
    {
     "name": "stdout",
     "output_type": "stream",
     "text": [
      "Les Meilleurs modèles en fonction du metrique sont :  \n",
      "\n",
      "F1: XGBClassifier\n",
      "Roc_auc: XGBClassifier\n",
      "Precision: XGBClassifier\n",
      "Recall: XGBClassifier\n"
     ]
    }
   ],
   "source": [
    "print('Les Meilleurs modèles en fonction du metrique sont : ','\\n')\n",
    "for metric in compar.columns:\n",
    "    print(f'{metric.capitalize()}:',compar.sort_values(metric,ascending=False).index[0])"
   ]
  },
  {
   "cell_type": "code",
   "execution_count": 38,
   "id": "bb627579",
   "metadata": {},
   "outputs": [
    {
     "data": {
      "text/html": [
       "<style>#sk-7335f8e2-000b-4ccd-881e-9403a7373c7f {color: black;background-color: white;}#sk-7335f8e2-000b-4ccd-881e-9403a7373c7f pre{padding: 0;}#sk-7335f8e2-000b-4ccd-881e-9403a7373c7f div.sk-toggleable {background-color: white;}#sk-7335f8e2-000b-4ccd-881e-9403a7373c7f label.sk-toggleable__label {cursor: pointer;display: block;width: 100%;margin-bottom: 0;padding: 0.3em;box-sizing: border-box;text-align: center;}#sk-7335f8e2-000b-4ccd-881e-9403a7373c7f label.sk-toggleable__label-arrow:before {content: \"▸\";float: left;margin-right: 0.25em;color: #696969;}#sk-7335f8e2-000b-4ccd-881e-9403a7373c7f label.sk-toggleable__label-arrow:hover:before {color: black;}#sk-7335f8e2-000b-4ccd-881e-9403a7373c7f div.sk-estimator:hover label.sk-toggleable__label-arrow:before {color: black;}#sk-7335f8e2-000b-4ccd-881e-9403a7373c7f div.sk-toggleable__content {max-height: 0;max-width: 0;overflow: hidden;text-align: left;background-color: #f0f8ff;}#sk-7335f8e2-000b-4ccd-881e-9403a7373c7f div.sk-toggleable__content pre {margin: 0.2em;color: black;border-radius: 0.25em;background-color: #f0f8ff;}#sk-7335f8e2-000b-4ccd-881e-9403a7373c7f input.sk-toggleable__control:checked~div.sk-toggleable__content {max-height: 200px;max-width: 100%;overflow: auto;}#sk-7335f8e2-000b-4ccd-881e-9403a7373c7f input.sk-toggleable__control:checked~label.sk-toggleable__label-arrow:before {content: \"▾\";}#sk-7335f8e2-000b-4ccd-881e-9403a7373c7f div.sk-estimator input.sk-toggleable__control:checked~label.sk-toggleable__label {background-color: #d4ebff;}#sk-7335f8e2-000b-4ccd-881e-9403a7373c7f div.sk-label input.sk-toggleable__control:checked~label.sk-toggleable__label {background-color: #d4ebff;}#sk-7335f8e2-000b-4ccd-881e-9403a7373c7f input.sk-hidden--visually {border: 0;clip: rect(1px 1px 1px 1px);clip: rect(1px, 1px, 1px, 1px);height: 1px;margin: -1px;overflow: hidden;padding: 0;position: absolute;width: 1px;}#sk-7335f8e2-000b-4ccd-881e-9403a7373c7f div.sk-estimator {font-family: monospace;background-color: #f0f8ff;border: 1px dotted black;border-radius: 0.25em;box-sizing: border-box;margin-bottom: 0.5em;}#sk-7335f8e2-000b-4ccd-881e-9403a7373c7f div.sk-estimator:hover {background-color: #d4ebff;}#sk-7335f8e2-000b-4ccd-881e-9403a7373c7f div.sk-parallel-item::after {content: \"\";width: 100%;border-bottom: 1px solid gray;flex-grow: 1;}#sk-7335f8e2-000b-4ccd-881e-9403a7373c7f div.sk-label:hover label.sk-toggleable__label {background-color: #d4ebff;}#sk-7335f8e2-000b-4ccd-881e-9403a7373c7f div.sk-serial::before {content: \"\";position: absolute;border-left: 1px solid gray;box-sizing: border-box;top: 2em;bottom: 0;left: 50%;}#sk-7335f8e2-000b-4ccd-881e-9403a7373c7f div.sk-serial {display: flex;flex-direction: column;align-items: center;background-color: white;padding-right: 0.2em;padding-left: 0.2em;}#sk-7335f8e2-000b-4ccd-881e-9403a7373c7f div.sk-item {z-index: 1;}#sk-7335f8e2-000b-4ccd-881e-9403a7373c7f div.sk-parallel {display: flex;align-items: stretch;justify-content: center;background-color: white;}#sk-7335f8e2-000b-4ccd-881e-9403a7373c7f div.sk-parallel::before {content: \"\";position: absolute;border-left: 1px solid gray;box-sizing: border-box;top: 2em;bottom: 0;left: 50%;}#sk-7335f8e2-000b-4ccd-881e-9403a7373c7f div.sk-parallel-item {display: flex;flex-direction: column;position: relative;background-color: white;}#sk-7335f8e2-000b-4ccd-881e-9403a7373c7f div.sk-parallel-item:first-child::after {align-self: flex-end;width: 50%;}#sk-7335f8e2-000b-4ccd-881e-9403a7373c7f div.sk-parallel-item:last-child::after {align-self: flex-start;width: 50%;}#sk-7335f8e2-000b-4ccd-881e-9403a7373c7f div.sk-parallel-item:only-child::after {width: 0;}#sk-7335f8e2-000b-4ccd-881e-9403a7373c7f div.sk-dashed-wrapped {border: 1px dashed gray;margin: 0 0.4em 0.5em 0.4em;box-sizing: border-box;padding-bottom: 0.4em;background-color: white;position: relative;}#sk-7335f8e2-000b-4ccd-881e-9403a7373c7f div.sk-label label {font-family: monospace;font-weight: bold;background-color: white;display: inline-block;line-height: 1.2em;}#sk-7335f8e2-000b-4ccd-881e-9403a7373c7f div.sk-label-container {position: relative;z-index: 2;text-align: center;}#sk-7335f8e2-000b-4ccd-881e-9403a7373c7f div.sk-container {/* jupyter's `normalize.less` sets `[hidden] { display: none; }` but bootstrap.min.css set `[hidden] { display: none !important; }` so we also need the `!important` here to be able to override the default hidden behavior on the sphinx rendered scikit-learn.org. See: https://github.com/scikit-learn/scikit-learn/issues/21755 */display: inline-block !important;position: relative;}#sk-7335f8e2-000b-4ccd-881e-9403a7373c7f div.sk-text-repr-fallback {display: none;}</style><div id=\"sk-7335f8e2-000b-4ccd-881e-9403a7373c7f\" class=\"sk-top-container\"><div class=\"sk-text-repr-fallback\"><pre>XGBClassifier(base_score=None, booster=None, callbacks=None,\n",
       "              colsample_bylevel=None, colsample_bynode=None,\n",
       "              colsample_bytree=None, early_stopping_rounds=None,\n",
       "              enable_categorical=False, eval_metric=None, feature_types=None,\n",
       "              gamma=2, gpu_id=None, grow_policy=None, importance_type=None,\n",
       "              interaction_constraints=None, learning_rate=0.01, max_bin=None,\n",
       "              max_cat_threshold=None, max_cat_to_onehot=None,\n",
       "              max_delta_step=None, max_depth=4, max_leaves=None,\n",
       "              min_child_weight=None, missing=nan, monotone_constraints=None,\n",
       "              n_estimators=800, n_jobs=None, nthread=2, num_parallel_tree=None,\n",
       "              predictor=None, ...)</pre><b>Please rerun this cell to show the HTML repr or trust the notebook.</b></div><div class=\"sk-container\" hidden><div class=\"sk-item\"><div class=\"sk-estimator sk-toggleable\"><input class=\"sk-toggleable__control sk-hidden--visually\" id=\"87b847c6-f289-4aff-a15d-41f45dc1ffbf\" type=\"checkbox\" checked><label for=\"87b847c6-f289-4aff-a15d-41f45dc1ffbf\" class=\"sk-toggleable__label sk-toggleable__label-arrow\">XGBClassifier</label><div class=\"sk-toggleable__content\"><pre>XGBClassifier(base_score=None, booster=None, callbacks=None,\n",
       "              colsample_bylevel=None, colsample_bynode=None,\n",
       "              colsample_bytree=None, early_stopping_rounds=None,\n",
       "              enable_categorical=False, eval_metric=None, feature_types=None,\n",
       "              gamma=2, gpu_id=None, grow_policy=None, importance_type=None,\n",
       "              interaction_constraints=None, learning_rate=0.01, max_bin=None,\n",
       "              max_cat_threshold=None, max_cat_to_onehot=None,\n",
       "              max_delta_step=None, max_depth=4, max_leaves=None,\n",
       "              min_child_weight=None, missing=nan, monotone_constraints=None,\n",
       "              n_estimators=800, n_jobs=None, nthread=2, num_parallel_tree=None,\n",
       "              predictor=None, ...)</pre></div></div></div></div></div>"
      ],
      "text/plain": [
       "XGBClassifier(base_score=None, booster=None, callbacks=None,\n",
       "              colsample_bylevel=None, colsample_bynode=None,\n",
       "              colsample_bytree=None, early_stopping_rounds=None,\n",
       "              enable_categorical=False, eval_metric=None, feature_types=None,\n",
       "              gamma=2, gpu_id=None, grow_policy=None, importance_type=None,\n",
       "              interaction_constraints=None, learning_rate=0.01, max_bin=None,\n",
       "              max_cat_threshold=None, max_cat_to_onehot=None,\n",
       "              max_delta_step=None, max_depth=4, max_leaves=None,\n",
       "              min_child_weight=None, missing=nan, monotone_constraints=None,\n",
       "              n_estimators=800, n_jobs=None, nthread=2, num_parallel_tree=None,\n",
       "              predictor=None, ...)"
      ]
     },
     "execution_count": 38,
     "metadata": {},
     "output_type": "execute_result"
    }
   ],
   "source": [
    "b_mdl=XGBClassifier(gamma= 2,learning_rate = 0.01, max_depth = 4, n_estimators = 800, nthread = 2,objective= 'binary:logistic')\n",
    "b_mdl.fit(X_train, y_train)"
   ]
  },
  {
   "cell_type": "code",
   "execution_count": 41,
   "id": "d90556bb",
   "metadata": {},
   "outputs": [
    {
     "data": {
      "text/plain": [
       "0.9115734720416124"
      ]
     },
     "execution_count": 41,
     "metadata": {},
     "output_type": "execute_result"
    }
   ],
   "source": [
    "y_pred = b_mdl.predict(X_test)\n",
    "b_mdl.score(X_test, y_test)"
   ]
  },
  {
   "cell_type": "code",
   "execution_count": 42,
   "id": "71be51ed",
   "metadata": {},
   "outputs": [
    {
     "data": {
      "text/plain": [
       "array([[2100,    7],\n",
       "       [ 197,    3]], dtype=int64)"
      ]
     },
     "execution_count": 42,
     "metadata": {},
     "output_type": "execute_result"
    }
   ],
   "source": [
    "from sklearn.metrics import confusion_matrix\n",
    "confusion_matrix(y_test, y_pred)"
   ]
  },
  {
   "cell_type": "markdown",
   "id": "60ca83a0",
   "metadata": {},
   "source": [
    "## Calcul de fbeta_score"
   ]
  },
  {
   "cell_type": "code",
   "execution_count": 43,
   "id": "a56ef382",
   "metadata": {},
   "outputs": [
    {
     "data": {
      "text/plain": [
       "0.01851851851851852"
      ]
     },
     "execution_count": 43,
     "metadata": {},
     "output_type": "execute_result"
    }
   ],
   "source": [
    "from sklearn.metrics import fbeta_score, make_scorer\n",
    "mon_score = fbeta_score(y_test, y_pred, beta=2)\n",
    "mon_score"
   ]
  },
  {
   "cell_type": "markdown",
   "id": "7d133380",
   "metadata": {},
   "source": [
    "## Evaluation des métriques par validation croisée avec les temps d'entrainement et les scores avec cross_validate"
   ]
  },
  {
   "cell_type": "code",
   "execution_count": 44,
   "id": "b209dfd9",
   "metadata": {},
   "outputs": [],
   "source": [
    "m_score =dict(beta=make_scorer(fbeta_score, beta=2))"
   ]
  },
  {
   "cell_type": "code",
   "execution_count": 45,
   "id": "11c8f5a6",
   "metadata": {},
   "outputs": [],
   "source": [
    "from sklearn.model_selection import cross_validate\n",
    "model_cros = XGBClassifier(gamma = 2, learning_rate=0.02, max_depth= 4, n_estimators=800, objective='binary:logistic', nthread=2)\n",
    "eva_mdl = cross_validate(model_cros, X_train, y_train, cv=5, scoring=m_score, return_train_score=True,return_estimator=True)"
   ]
  },
  {
   "cell_type": "code",
   "execution_count": 46,
   "id": "c73dbb78",
   "metadata": {},
   "outputs": [
    {
     "name": "stdout",
     "output_type": "stream",
     "text": [
      "[31.43503141 27.01211596 28.40523005 27.06533527 26.90205741]\n"
     ]
    }
   ],
   "source": [
    "print(eva_mdl['fit_time'])"
   ]
  },
  {
   "cell_type": "code",
   "execution_count": 47,
   "id": "9e9f2791",
   "metadata": {},
   "outputs": [
    {
     "name": "stdout",
     "output_type": "stream",
     "text": [
      "[0.05173302 0.03315902 0.03010869 0.06527352 0.03381014]\n"
     ]
    }
   ],
   "source": [
    "print(eva_mdl['score_time'])"
   ]
  },
  {
   "cell_type": "code",
   "execution_count": 24,
   "id": "312d50c6",
   "metadata": {},
   "outputs": [
    {
     "name": "stderr",
     "output_type": "stream",
     "text": [
      " 99%|===================| 2281/2307 [01:11<00:00]        "
     ]
    }
   ],
   "source": [
    "import shap\n",
    "explainer = shap.Explainer(model, X)\n",
    "shap_values = explainer(X_test)"
   ]
  },
  {
   "cell_type": "markdown",
   "id": "33ceba3f",
   "metadata": {},
   "source": [
    "### Les features les plus importants en moyenne "
   ]
  },
  {
   "cell_type": "code",
   "execution_count": 25,
   "id": "42da96a3",
   "metadata": {},
   "outputs": [
    {
     "data": {
      "image/png": "[encoded data removed]",
      "text/plain": [
       "<Figure size 800x650 with 1 Axes>"
      ]
     },
     "metadata": {},
     "output_type": "display_data"
    }
   ],
   "source": [
    "shap.plots.bar(shap_values)"
   ]
  },
  {
   "cell_type": "markdown",
   "id": "bacff6cc",
   "metadata": {},
   "source": [
    "## La courbe ROC Curve"
   ]
  },
  {
   "cell_type": "code",
   "execution_count": 48,
   "id": "8a6543ba",
   "metadata": {},
   "outputs": [
    {
     "data": {
      "image/png": "[encoded data removed]",
      "text/plain": [
       "<Figure size 640x480 with 1 Axes>"
      ]
     },
     "metadata": {},
     "output_type": "display_data"
    }
   ],
   "source": [
    "from sklearn.metrics import roc_curve, auc\n",
    "from sklearn import metrics\n",
    "y_train_pred = b_mdl.predict_proba(X_train)[:, 1]\n",
    "y_pred_proba = b_mdl.predict_proba(X_test)[:, 1]\n",
    "\n",
    "[fpr_in, tpr_in, thr] = metrics.roc_curve(y_train, y_train_pred)\n",
    "roc_auc_tr = auc(fpr_in, tpr_in)\n",
    "[fpr, tpr, thr] = metrics.roc_curve(y_test, y_pred_proba)\n",
    "roc_auc_test = auc(fpr, tpr)\n",
    "\n",
    "plt.plot(fpr_in, tpr_in, color='green', lw=2, label='ROC curve (train) (AUC = %0.2f)' % roc_auc_tr)\n",
    "plt.plot(fpr, tpr, color='r', lw=2, label='ROC curve (test) (AUC = %0.2f)' % roc_auc_test)\n",
    "plt.plot([0, 1], [0, 1], color='navy', lw=2, linestyle='--')\n",
    "plt.xlim([0.0, 1.0])\n",
    "plt.ylim([0.0, 1.05])\n",
    "plt.xlabel('Taux de faux positifs', fontsize=14)\n",
    "plt.ylabel('Taux de vrais positifs', fontsize=14)\n",
    "plt.title('Courbes ROC')\n",
    "plt.legend(loc=\"lower right\")\n",
    "plt.show()"
   ]
  },
  {
   "cell_type": "code",
   "execution_count": null,
   "id": "5eeb6bdd",
   "metadata": {},
   "outputs": [],
   "source": []
  }
 ],
 "metadata": {
  "kernelspec": {
   "display_name": "Python 3 (ipykernel)",
   "language": "python",
   "name": "python3"
  },
  "language_info": {
   "codemirror_mode": {
    "name": "ipython",
    "version": 3
   },
   "file_extension": ".py",
   "mimetype": "text/x-python",
   "name": "python",
   "nbconvert_exporter": "python",
   "pygments_lexer": "ipython3",
   "version": "3.9.13"
  }
 },
 "nbformat": 4,
 "nbformat_minor": 5
}
