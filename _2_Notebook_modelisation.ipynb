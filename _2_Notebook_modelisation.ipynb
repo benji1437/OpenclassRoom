{
 "cells": [
  {
   "cell_type": "code",
   "execution_count": 1,
   "id": "70efad42",
   "metadata": {},
   "outputs": [],
   "source": [
    "import numpy as np\n",
    "import pandas as pd \n",
    "import matplotlib.pyplot as plt\n",
    "import seaborn as sns\n",
    "from sklearn.model_selection import train_test_split\n",
    "from sklearn.preprocessing import StandardScaler\n",
    "from sklearn.metrics import accuracy_score\n",
    "from imblearn.over_sampling import SMOTE\n",
    "from sklearn.metrics import classification_report\n",
    "from sklearn.model_selection import cross_val_score\n",
    "from sklearn.metrics import roc_auc_score\n",
    "from sklearn.model_selection import StratifiedKFold\n",
    "from sklearn.neighbors import KNeighborsClassifier\n",
    "from sklearn.ensemble import RandomForestClassifier"
   ]
  },
  {
   "cell_type": "markdown",
   "id": "54192da4",
   "metadata": {},
   "source": [
    "## Importation des données"
   ]
  },
  {
   "cell_type": "code",
   "execution_count": 2,
   "id": "dafa59dc",
   "metadata": {},
   "outputs": [],
   "source": [
    "data = pd.read_csv('data01.csv')\n",
    "X = data.drop('TARGET', axis = 1)\n",
    "y = data['TARGET']\n",
    " "
   ]
  },
  {
   "cell_type": "code",
   "execution_count": 3,
   "id": "d7f2faba",
   "metadata": {},
   "outputs": [],
   "source": [
    "from sklearn.model_selection import train_test_split\n",
    "from sklearn.model_selection import GridSearchCV\n",
    "from imblearn.pipeline import Pipeline"
   ]
  },
  {
   "cell_type": "markdown",
   "id": "99dee5b3",
   "metadata": {},
   "source": [
    "## 1- DummyRegressor"
   ]
  },
  {
   "cell_type": "code",
   "execution_count": 4,
   "id": "723eb12c",
   "metadata": {},
   "outputs": [
    {
     "name": "stdout",
     "output_type": "stream",
     "text": [
      "[Pipeline] ......... (step 1 of 3) Processing equilib  , total=   0.2s\n",
      "[Pipeline] ............... (step 2 of 3) Processing std, total=   0.1s\n",
      "[Pipeline] ............... (step 3 of 3) Processing dum, total=   0.0s\n"
     ]
    }
   ],
   "source": [
    "from sklearn.dummy import DummyRegressor\n",
    " \n",
    "# Le fractionnement des données\n",
    "X_train, X_test, y_train, y_test = train_test_split(X, y, test_size = 0.2)\n",
    "\n",
    "model = DummyRegressor()\n",
    "param_grid = {'strategy' : ['mean', 'median']}\n",
    "\n",
    "kfold = StratifiedKFold(n_splits=6, shuffle=True, random_state=42)\n",
    "\n",
    "# les étapes du pipeline :\n",
    "pipe = Pipeline([(\"equilib  \", SMOTE()), ('std', StandardScaler()),  (\"dum\", DummyRegressor())], verbose = True)\n",
    "pipe.fit(X_train, y_train)\n",
    "CV_gr = GridSearchCV(model, param_grid, n_jobs=-1, cv=kfold)\n",
    "result = CV_gr.fit(X_train, y_train)"
   ]
  },
  {
   "cell_type": "code",
   "execution_count": 5,
   "id": "7dde3a90",
   "metadata": {},
   "outputs": [
    {
     "data": {
      "text/plain": [
       "-9.767028460820153e-07"
      ]
     },
     "execution_count": 5,
     "metadata": {},
     "output_type": "execute_result"
    }
   ],
   "source": [
    "result.best_score_"
   ]
  },
  {
   "cell_type": "code",
   "execution_count": 6,
   "id": "533a7537",
   "metadata": {},
   "outputs": [
    {
     "data": {
      "text/plain": [
       "{'strategy': 'mean'}"
      ]
     },
     "execution_count": 6,
     "metadata": {},
     "output_type": "execute_result"
    }
   ],
   "source": [
    "bestParam = result.best_params_\n",
    "bestParam"
   ]
  },
  {
   "cell_type": "markdown",
   "id": "0b2938b9",
   "metadata": {},
   "source": [
    "## 2- KNeighborsClassifier"
   ]
  },
  {
   "cell_type": "code",
   "execution_count": 8,
   "id": "3d540ce1",
   "metadata": {},
   "outputs": [
    {
     "name": "stdout",
     "output_type": "stream",
     "text": [
      "[Pipeline] ......... (step 1 of 3) Processing equilib  , total=   0.2s\n",
      "[Pipeline] ............... (step 2 of 3) Processing std, total=   0.1s\n",
      "[Pipeline] ............... (step 3 of 3) Processing knb, total=   0.0s\n"
     ]
    }
   ],
   "source": [
    "from sklearn.neighbors import KNeighborsClassifier\n",
    "\n",
    "data = pd.read_csv('data01.csv')\n",
    "X = data.drop('TARGET', axis = 1)\n",
    "y = data['TARGET']\n",
    "\n",
    "X_train, X_test, y_train, y_test = train_test_split(X, y, test_size = 0.3)\n",
    "\n",
    "model = KNeighborsClassifier()\n",
    "param_grid = {'n_neighbors': [10,18,19,20],\n",
    "             'weights': ['uniform', 'distance']} \n",
    "\n",
    "kfold = StratifiedKFold(n_splits=10, shuffle=True, random_state=7)\n",
    "\n",
    "# les étapes du pipeline :\n",
    "pipe = Pipeline([(\"equilib  \", SMOTE()), ('std', StandardScaler()),  (\"knb\", KNeighborsClassifier())], verbose = True)\n",
    "pipe.fit(X_train, y_train)\n",
    "CV_gr = GridSearchCV(model, param_grid, n_jobs=-1, cv=kfold, scoring='roc_auc', return_train_score=False)\n",
    "result = CV_gr.fit(X_train, y_train)"
   ]
  },
  {
   "cell_type": "code",
   "execution_count": 9,
   "id": "0d58174e",
   "metadata": {},
   "outputs": [
    {
     "data": {
      "text/plain": [
       "0.9216027874564461"
      ]
     },
     "execution_count": 9,
     "metadata": {},
     "output_type": "execute_result"
    }
   ],
   "source": [
    "result.best_score_"
   ]
  },
  {
   "cell_type": "code",
   "execution_count": 16,
   "id": "a8da9ded",
   "metadata": {},
   "outputs": [
    {
     "data": {
      "text/plain": [
       "{'n_neighbors': 18, 'weights': 'distance'}"
      ]
     },
     "execution_count": 16,
     "metadata": {},
     "output_type": "execute_result"
    }
   ],
   "source": [
    "bestParam = result.best_params_\n",
    "bestParam"
   ]
  },
  {
   "cell_type": "markdown",
   "id": "b4ece5e1",
   "metadata": {},
   "source": [
    "## 3- XGBoots Classifier"
   ]
  },
  {
   "cell_type": "code",
   "execution_count": 34,
   "id": "b729406b",
   "metadata": {},
   "outputs": [
    {
     "name": "stdout",
     "output_type": "stream",
     "text": [
      "[Pipeline] ......... (step 1 of 3) Processing equilib  , total=   0.4s\n",
      "[Pipeline] ............... (step 2 of 3) Processing std, total=   0.2s\n",
      "[Pipeline] ............... (step 3 of 3) Processing xgb, total=  14.6s\n",
      "Fitting 5 folds for each of 8 candidates, totalling 40 fits\n"
     ]
    }
   ],
   "source": [
    "from xgboost import XGBClassifier\n",
    "import xgboost\n",
    "\n",
    "data = pd.read_csv('data01.csv')\n",
    "X = data.drop('TARGET', axis = 1)\n",
    "y = data['TARGET']\n",
    "\n",
    "X_train, X_test, y_train, y_test = train_test_split(X, y, test_size = 0.3)\n",
    "scoring='roc_auc'\n",
    "model = XGBClassifier()\n",
    "param_grid = {'nthread':[2], # lors de l'utilisation de l'hyperthread, xgboost peut devenir plus lent\n",
    "              'objective':['binary:logistic'],\n",
    "              'n_estimators': [600,800],\n",
    "              'learning_rate': [0.01, 0.02],\n",
    "              'gamma': [2, 5],             \n",
    "              'max_depth': [ 4] }\n",
    "\n",
    "kfold = StratifiedKFold(n_splits=5, shuffle=True, random_state=7)\n",
    "\n",
    "# les étapes du pipeline :\n",
    "pipe = Pipeline([(\"equilib  \", SMOTE()), ('std', StandardScaler()),  (\"xgb\", XGBClassifier())], verbose = True)\n",
    "pipe.fit(X_train, y_train)\n",
    "CV_gr = GridSearchCV(model, param_grid, n_jobs=-1, cv=kfold, verbose=1)\n",
    "result = CV_gr.fit(X_train, y_train)\n"
   ]
  },
  {
   "cell_type": "code",
   "execution_count": 35,
   "id": "1358cb20",
   "metadata": {},
   "outputs": [
    {
     "data": {
      "text/plain": [
       "0.9164924506387921"
      ]
     },
     "execution_count": 35,
     "metadata": {},
     "output_type": "execute_result"
    }
   ],
   "source": [
    "result.best_score_"
   ]
  },
  {
   "cell_type": "code",
   "execution_count": 36,
   "id": "aa88e1b6",
   "metadata": {},
   "outputs": [
    {
     "data": {
      "text/plain": [
       "{'gamma': 2,\n",
       " 'learning_rate': 0.01,\n",
       " 'max_depth': 4,\n",
       " 'n_estimators': 600,\n",
       " 'nthread': 2,\n",
       " 'objective': 'binary:logistic'}"
      ]
     },
     "execution_count": 36,
     "metadata": {},
     "output_type": "execute_result"
    }
   ],
   "source": [
    "bestParam = result.best_params_\n",
    "bestParam"
   ]
  },
  {
   "cell_type": "markdown",
   "id": "15eee776",
   "metadata": {},
   "source": [
    " ## 4- Forêt aléatoire"
   ]
  },
  {
   "cell_type": "code",
   "execution_count": 16,
   "id": "6cf639c7",
   "metadata": {},
   "outputs": [
    {
     "name": "stdout",
     "output_type": "stream",
     "text": [
      "[Pipeline] ......... (step 1 of 3) Processing equilib  , total=   0.2s\n",
      "[Pipeline] ............... (step 2 of 3) Processing std, total=   0.1s\n",
      "[Pipeline] .............. (step 3 of 3) Processing clas, total=   5.2s\n",
      "Fitting 5 folds for each of 60 candidates, totalling 300 fits\n"
     ]
    }
   ],
   "source": [
    "from sklearn.ensemble import RandomForestClassifier\n",
    "\n",
    "data = pd.read_csv('data01.csv')\n",
    "X = data.drop('TARGET', axis = 1)\n",
    "y = data['TARGET']\n",
    "\n",
    "# Le fractionnement des données\n",
    "X_train, X_test, y_train, y_test = train_test_split(X, y, test_size = 0.3)\n",
    "\n",
    "\n",
    "model = RandomForestClassifier(random_state=42)\n",
    "param_grid = {'n_estimators' :[200, 500], \n",
    "                   'max_features': ['auto', 'sqrt', 'log2'],\n",
    "                    'max_depth' : [4,5,6,7,8],\n",
    "                    'criterion' :['gini', 'entropy'] }\n",
    "\n",
    "kfold = StratifiedKFold(n_splits=5, shuffle=True, random_state=7)\n",
    "\n",
    "# les étapes du pipeline :\n",
    "pipe = Pipeline([(\"equilib  \", SMOTE()), ('std', StandardScaler()),  (\"clas\", RandomForestClassifier())], verbose = True)\n",
    "pipe.fit(X_train, y_train)\n",
    "CV_gr = GridSearchCV(model, param_grid, n_jobs=-1, cv=kfold, verbose=1)\n",
    "result = CV_gr.fit(X_train, y_train)"
   ]
  },
  {
   "cell_type": "code",
   "execution_count": 17,
   "id": "a6fecd3e",
   "metadata": {},
   "outputs": [
    {
     "data": {
      "text/plain": [
       "0.9182346109175377"
      ]
     },
     "execution_count": 17,
     "metadata": {},
     "output_type": "execute_result"
    }
   ],
   "source": [
    "result.best_score_"
   ]
  },
  {
   "cell_type": "code",
   "execution_count": 18,
   "id": "9052c40b",
   "metadata": {},
   "outputs": [
    {
     "data": {
      "text/plain": [
       "{'criterion': 'gini',\n",
       " 'max_depth': 4,\n",
       " 'max_features': 'auto',\n",
       " 'n_estimators': 200}"
      ]
     },
     "execution_count": 18,
     "metadata": {},
     "output_type": "execute_result"
    }
   ],
   "source": [
    "bestParam = result.best_params_\n",
    "bestParam"
   ]
  },
  {
   "cell_type": "markdown",
   "id": "9b7b4bc9",
   "metadata": {},
   "source": [
    "## Le meilleur modèle choisi est XGBoost Classifier"
   ]
  },
  {
   "cell_type": "code",
   "execution_count": 7,
   "id": "c3d0ef90",
   "metadata": {},
   "outputs": [],
   "source": [
    "X = data.drop('TARGET', axis = 1)\n",
    "y = data['TARGET']\n",
    "#train test split\n",
    "X_train,X_test,y_train,y_test = train_test_split(X,y,test_size=0.25,random_state=0)"
   ]
  },
  {
   "cell_type": "code",
   "execution_count": 10,
   "id": "9daded11",
   "metadata": {},
   "outputs": [],
   "source": [
    "from xgboost import XGBClassifier\n",
    "import xgboost\n",
    "model = XGBClassifier(learning_rate=0.02, n_estimators=600, objective='binary:logistic', nthread=1)\n"
   ]
  },
  {
   "cell_type": "code",
   "execution_count": 11,
   "id": "a1be1fa8",
   "metadata": {},
   "outputs": [
    {
     "data": {
      "text/plain": [
       "XGBClassifier(base_score=None, booster=None, callbacks=None,\n",
       "              colsample_bylevel=None, colsample_bynode=None,\n",
       "              colsample_bytree=None, early_stopping_rounds=None,\n",
       "              enable_categorical=False, eval_metric=None, feature_types=None,\n",
       "              gamma=None, gpu_id=None, grow_policy=None, importance_type=None,\n",
       "              interaction_constraints=None, learning_rate=0.02, max_bin=None,\n",
       "              max_cat_threshold=None, max_cat_to_onehot=None,\n",
       "              max_delta_step=None, max_depth=None, max_leaves=None,\n",
       "              min_child_weight=None, missing=nan, monotone_constraints=None,\n",
       "              n_estimators=600, n_jobs=None, nthread=1, num_parallel_tree=None,\n",
       "              predictor=None, ...)"
      ]
     },
     "execution_count": 11,
     "metadata": {},
     "output_type": "execute_result"
    }
   ],
   "source": [
    "model.fit(X_train, y_train)"
   ]
  },
  {
   "cell_type": "code",
   "execution_count": 12,
   "id": "20cfd1fc",
   "metadata": {},
   "outputs": [],
   "source": [
    "y_pred = model.predict(X_test)"
   ]
  },
  {
   "cell_type": "code",
   "execution_count": 13,
   "id": "f8ec2d3c",
   "metadata": {},
   "outputs": [
    {
     "data": {
      "text/plain": [
       "0.9394037940379404"
      ]
     },
     "execution_count": 13,
     "metadata": {},
     "output_type": "execute_result"
    }
   ],
   "source": [
    "model.score(X_train, y_train)"
   ]
  },
  {
   "cell_type": "code",
   "execution_count": 14,
   "id": "4d9ca3e2",
   "metadata": {},
   "outputs": [
    {
     "data": {
      "text/plain": [
       "1.0"
      ]
     },
     "execution_count": 14,
     "metadata": {},
     "output_type": "execute_result"
    }
   ],
   "source": [
    "model.score(X_test, y_pred)"
   ]
  },
  {
   "cell_type": "code",
   "execution_count": 15,
   "id": "94b177ca",
   "metadata": {},
   "outputs": [
    {
     "name": "stdout",
     "output_type": "stream",
     "text": [
      "[[0.94865537 0.05134465]\n",
      " [0.93647516 0.06352486]\n",
      " [0.9822308  0.01776919]\n",
      " ...\n",
      " [0.99326265 0.00673736]\n",
      " [0.932479   0.06752098]\n",
      " [0.9578828  0.04211719]]\n"
     ]
    }
   ],
   "source": [
    "print(model.predict_proba(X_train))\n"
   ]
  },
  {
   "cell_type": "code",
   "execution_count": 16,
   "id": "beba2d21",
   "metadata": {},
   "outputs": [
    {
     "name": "stdout",
     "output_type": "stream",
     "text": [
      "[[0.9765547  0.02344531]\n",
      " [0.63020754 0.36979243]\n",
      " [0.86460143 0.13539855]\n",
      " ...\n",
      " [0.9470915  0.05290849]\n",
      " [0.9688505  0.03114949]\n",
      " [0.9830432  0.01695679]]\n"
     ]
    }
   ],
   "source": [
    "print(model.predict_proba(X_test))"
   ]
  },
  {
   "cell_type": "code",
   "execution_count": 17,
   "id": "28f40325",
   "metadata": {},
   "outputs": [
    {
     "name": "stdout",
     "output_type": "stream",
     "text": [
      "              precision    recall  f1-score   support\n",
      "\n",
      "           0       0.92      1.00      0.96      2832\n",
      "           1       0.44      0.03      0.05       243\n",
      "\n",
      "    accuracy                           0.92      3075\n",
      "   macro avg       0.68      0.51      0.51      3075\n",
      "weighted avg       0.88      0.92      0.89      3075\n",
      "\n"
     ]
    }
   ],
   "source": [
    "print(classification_report(y_test,y_pred));"
   ]
  },
  {
   "cell_type": "code",
   "execution_count": 18,
   "id": "61066c25",
   "metadata": {},
   "outputs": [
    {
     "data": {
      "text/plain": [
       "array([[2823,    9],\n",
       "       [ 236,    7]], dtype=int64)"
      ]
     },
     "execution_count": 18,
     "metadata": {},
     "output_type": "execute_result"
    }
   ],
   "source": [
    "from sklearn.metrics import confusion_matrix\n",
    "confusion_matrix(y_test, y_pred)"
   ]
  },
  {
   "cell_type": "code",
   "execution_count": 19,
   "id": "b36ce9d6",
   "metadata": {},
   "outputs": [
    {
     "name": "stderr",
     "output_type": "stream",
     "text": [
      " 99%|===================| 3034/3075 [01:24<00:01]        "
     ]
    }
   ],
   "source": [
    "import shap\n",
    "explainer = shap.Explainer(model, X)\n",
    "shap_values = explainer(X_test)"
   ]
  },
  {
   "cell_type": "markdown",
   "id": "d49b282d",
   "metadata": {},
   "source": [
    "### Les features les plus importants en moyenne EXT_SOURCE_3, EXT_SOURCE_2 et EXT_SOURCE_1"
   ]
  },
  {
   "cell_type": "code",
   "execution_count": 20,
   "id": "9296df03",
   "metadata": {},
   "outputs": [
    {
     "data": {
      "image/png": "[encoded data removed]",
      "text/plain": [
       "<Figure size 800x650 with 1 Axes>"
      ]
     },
     "metadata": {},
     "output_type": "display_data"
    }
   ],
   "source": [
    "shap.plots.bar(shap_values)"
   ]
  },
  {
   "cell_type": "markdown",
   "id": "3789c714",
   "metadata": {},
   "source": [
    "### La courbe ROC Curve"
   ]
  },
  {
   "cell_type": "code",
   "execution_count": 21,
   "id": "c5bda8a3",
   "metadata": {},
   "outputs": [
    {
     "data": {
      "image/png": "[encoded data removed]",
      "text/plain": [
       "<Figure size 640x480 with 1 Axes>"
      ]
     },
     "metadata": {},
     "output_type": "display_data"
    }
   ],
   "source": [
    "from sklearn.metrics import roc_curve, auc\n",
    "from sklearn import metrics\n",
    "y_train_pred = model.predict_proba(X_train)[:, 1]\n",
    "y_pred_proba = model.predict_proba(X_test)[:, 1]\n",
    "\n",
    "[fpr_in, tpr_in, thr] = metrics.roc_curve(y_train, y_train_pred)\n",
    "roc_auc_tr = auc(fpr_in, tpr_in)\n",
    "[fpr, tpr, thr] = metrics.roc_curve(y_test, y_pred_proba)\n",
    "roc_auc_test = auc(fpr, tpr)\n",
    "\n",
    "plt.plot(fpr_in, tpr_in, color='green', lw=2, label='ROC curve (train) (AUC = %0.2f)' % roc_auc_tr)\n",
    "plt.plot(fpr, tpr, color='r', lw=2, label='ROC curve (test) (AUC = %0.2f)' % roc_auc_test)\n",
    "plt.plot([0, 1], [0, 1], color='navy', lw=2, linestyle='--')\n",
    "plt.xlim([0.0, 1.0])\n",
    "plt.ylim([0.0, 1.05])\n",
    "plt.xlabel('Taux de faux positifs', fontsize=14)\n",
    "plt.ylabel('Taux de vrais positifs', fontsize=14)\n",
    "plt.title('Courbes ROC')\n",
    "plt.legend(loc=\"lower right\")\n",
    "plt.show()"
   ]
  },
  {
   "cell_type": "code",
   "execution_count": null,
   "id": "36f8e622",
   "metadata": {},
   "outputs": [],
   "source": []
  }
 ],
 "metadata": {
  "kernelspec": {
   "display_name": "Python 3 (ipykernel)",
   "language": "python",
   "name": "python3"
  },
  "language_info": {
   "codemirror_mode": {
    "name": "ipython",
    "version": 3
   },
   "file_extension": ".py",
   "mimetype": "text/x-python",
   "name": "python",
   "nbconvert_exporter": "python",
   "pygments_lexer": "ipython3",
   "version": "3.9.13"
  }
 },
 "nbformat": 4,
 "nbformat_minor": 5
}
